{
  "nbformat": 4,
  "nbformat_minor": 0,
  "metadata": {
    "colab": {
      "name": "Day4Codefile.ipynb",
      "provenance": [],
      "collapsed_sections": []
    },
    "kernelspec": {
      "name": "python3",
      "display_name": "Python 3"
    },
    "language_info": {
      "name": "python"
    }
  },
  "cells": [
    {
      "cell_type": "markdown",
      "metadata": {
        "id": "HKYoBanv4C5m"
      },
      "source": [
        "creating class\n"
      ]
    },
    {
      "cell_type": "code",
      "metadata": {
        "colab": {
          "base_uri": "https://localhost:8080/"
        },
        "id": "hqTvXoAR0ej1",
        "outputId": "5021a228-a02e-4183-de93-dcc56ea74aa7"
      },
      "source": [
        "class Person:\n",
        "  pass\n",
        "\n",
        "john_doe=Person()\n",
        "john_doe.name='karthik'\n",
        "john_doe.surname='ravi'\n",
        "john_doe.year_of_birth=1997\n",
        "print(john_doe)\n",
        "print(\"%s%s was born in %d.\"%(john_doe.name,john_doe.surname,john_doe.year_of_birth))"
      ],
      "execution_count": null,
      "outputs": [
        {
          "output_type": "stream",
          "text": [
            "<__main__.Person object at 0x7f96ec7be3d0>\n",
            "karthikravi was born in 1997.\n"
          ],
          "name": "stdout"
        }
      ]
    },
    {
      "cell_type": "code",
      "metadata": {
        "id": "9wG83hAT4oRz"
      },
      "source": [
        "class Car:\n",
        "  pass\n"
      ],
      "execution_count": null,
      "outputs": []
    },
    {
      "cell_type": "code",
      "metadata": {
        "id": "w7syui8hLrge"
      },
      "source": [
        "obj1=Car()"
      ],
      "execution_count": null,
      "outputs": []
    },
    {
      "cell_type": "code",
      "metadata": {
        "colab": {
          "base_uri": "https://localhost:8080/"
        },
        "id": "SqTYMSjfLtLB",
        "outputId": "5d2bbb21-737e-4f2d-8887-9a2d5a1d53b7"
      },
      "source": [
        "print(obj1)"
      ],
      "execution_count": null,
      "outputs": [
        {
          "output_type": "stream",
          "text": [
            "<__main__.Car object at 0x7f96ec7bef50>\n"
          ],
          "name": "stdout"
        }
      ]
    },
    {
      "cell_type": "code",
      "metadata": {
        "id": "n73UZm83L3Ck"
      },
      "source": [
        "class Person:\n",
        "    def __init__(self, name, surname, year_of_birth):\n",
        "        self.name = name\n",
        "        self.surname = surname\n",
        "        self.year_of_birth = year_of_birth"
      ],
      "execution_count": null,
      "outputs": []
    },
    {
      "cell_type": "code",
      "metadata": {
        "id": "fb3vdWTYNp2V"
      },
      "source": [
        "class Car:\n",
        "  def __init__(self,name,color):\n",
        "    self.name=name\n",
        "    self.color=color"
      ],
      "execution_count": null,
      "outputs": []
    },
    {
      "cell_type": "code",
      "metadata": {
        "id": "T1aL4NrkN-I9"
      },
      "source": [
        "class Car:\n",
        "  car_type='sedan'\n",
        "  def __init__(self,name,color):\n",
        "    self.name=name\n",
        "    self.color=color"
      ],
      "execution_count": null,
      "outputs": []
    },
    {
      "cell_type": "code",
      "metadata": {
        "colab": {
          "base_uri": "https://localhost:8080/"
        },
        "id": "tuUm9QSBOUpS",
        "outputId": "f2ba880e-ea05-4eda-ada2-69b128ee9942"
      },
      "source": [
        "alec = Person(\"Alec\", \"Baldwin\", 1958)\n",
        "print(alec)\n",
        "print(\"%s %s was born in %d\"% (alec.name,alec.surname,alec.year_of_birth))"
      ],
      "execution_count": null,
      "outputs": [
        {
          "output_type": "stream",
          "text": [
            "<__main__.Person object at 0x7f96ec7bea10>\n",
            "Alec Baldwin was born in 1958\n"
          ],
          "name": "stdout"
        }
      ]
    },
    {
      "cell_type": "code",
      "metadata": {
        "colab": {
          "base_uri": "https://localhost:8080/"
        },
        "id": "giAGaj_HOc7-",
        "outputId": "026bbe82-fb41-4292-e8d3-2ba49ecd1eaf"
      },
      "source": [
        "class Person:\n",
        "    def __init__(self, name, surname, year_of_birth):\n",
        "        self.name = name\n",
        "        self.surname = surname\n",
        "        self.year_of_birth = year_of_birth\n",
        "    \n",
        "    def age(self, current_year):\n",
        "        return current_year - self.year_of_birth\n",
        "    \n",
        "    def __str__(self):\n",
        "        return \"%s %s was born in %d .\" % (self.name, self.surname, self.year_of_birth)\n",
        "    \n",
        "alec = Person(\"Alec\", \"Baldwin\", 1958)\n",
        "print(alec)\n",
        "print(alec.age(2019))"
      ],
      "execution_count": null,
      "outputs": [
        {
          "output_type": "stream",
          "text": [
            "Alec Baldwin was born in 1958 .\n",
            "61\n"
          ],
          "name": "stdout"
        }
      ]
    },
    {
      "cell_type": "code",
      "metadata": {
        "id": "FU6gLwR1OqPx"
      },
      "source": [
        "class Car:   \n",
        "    car_type = \"Sedan\" \n",
        "\n",
        "    def __init__(self, name, mileage):\n",
        "        self.name = name \n",
        "        self.mileage = mileage \n",
        "\n",
        "    def description(self):                 \n",
        "        return f\"The {self.name} car gives the mileage of {self.mileage}km/l\"\n",
        "\n",
        "    def max_speed(self, speed):\n",
        "        return f\"The {self.name} runs at the maximum speed of {speed}km/hr\"\n"
      ],
      "execution_count": null,
      "outputs": []
    },
    {
      "cell_type": "code",
      "metadata": {
        "colab": {
          "base_uri": "https://localhost:8080/"
        },
        "id": "XschH4FUPGrj",
        "outputId": "84ecdb76-2ff5-400f-b7ee-2a3ccdd7c9f8"
      },
      "source": [
        "obj2 = Car(\"Honda City\",24.1)\n",
        "print(obj2.description())\n",
        "print(obj2.max_speed(150))"
      ],
      "execution_count": null,
      "outputs": [
        {
          "output_type": "stream",
          "text": [
            "The Honda City car gives the mileage of 24.1km/l\n",
            "The Honda City runs at the maximum speed of 150km/hr\n"
          ],
          "name": "stdout"
        }
      ]
    },
    {
      "cell_type": "markdown",
      "metadata": {
        "id": "O2mRQ1K_sZSc"
      },
      "source": [
        "#creating more than one object\n"
      ]
    },
    {
      "cell_type": "code",
      "metadata": {
        "id": "9kpYtakFsY0X"
      },
      "source": [
        "class Car:\n",
        "    def __init__(self, name, mileage):\n",
        "        self.name = name \n",
        "        self.mileage = mileage \n",
        "\n",
        "    def max_speed(self, speed):\n",
        "        return f\"The {self.name} runs at the maximum speed of {speed}km/hr\""
      ],
      "execution_count": null,
      "outputs": []
    },
    {
      "cell_type": "code",
      "metadata": {
        "id": "_hh4zsBKRIBU",
        "colab": {
          "base_uri": "https://localhost:8080/"
        },
        "outputId": "47bdad8b-7312-4461-f8ef-43d0cb37abb9"
      },
      "source": [
        "Honda = Car(\"Honda City\",21.4)\n",
        "print(Honda.max_speed(150))\n",
        "\n",
        "Skoda = Car(\"Skoda Octavia\",13)\n",
        "print(Skoda.max_speed(210))"
      ],
      "execution_count": null,
      "outputs": [
        {
          "output_type": "stream",
          "text": [
            "The Honda City runs at the maximum speed of 150km/hr\n",
            "The Skoda Octavia runs at the maximum speed of 210km/hr\n"
          ],
          "name": "stdout"
        }
      ]
    },
    {
      "cell_type": "markdown",
      "metadata": {
        "id": "PpRw6NmuwYRC"
      },
      "source": [
        "inheritance\n",
        "\n"
      ]
    },
    {
      "cell_type": "code",
      "metadata": {
        "colab": {
          "base_uri": "https://localhost:8080/"
        },
        "id": "M2KMJsB0uLg_",
        "outputId": "92eb6c52-f837-45c5-b29f-0b1656ce8b50"
      },
      "source": [
        "class Student(Person):\n",
        "    def __init__(self, student_id, *args, **kwargs):\n",
        "        super(Student, self).__init__(*args, **kwargs)\n",
        "        self._student_id = student_id\n",
        "        \n",
        "charlie = Student(1, 'Charlie', 'Brown', 2006)\n",
        "print(charlie)\n",
        "print(type(charlie))\n",
        "print(isinstance(charlie, Person))\n",
        "print(isinstance(charlie, object))\n"
      ],
      "execution_count": null,
      "outputs": [
        {
          "output_type": "stream",
          "text": [
            "Charlie Brown was born in 2006 .\n",
            "<class '__main__.Student'>\n",
            "True\n",
            "True\n"
          ],
          "name": "stdout"
        }
      ]
    },
    {
      "cell_type": "markdown",
      "metadata": {
        "id": "BmzPzbGkwjBR"
      },
      "source": [
        "over riding"
      ]
    },
    {
      "cell_type": "code",
      "metadata": {
        "colab": {
          "base_uri": "https://localhost:8080/"
        },
        "id": "ss-0T5vOwfgH",
        "outputId": "597160da-6136-4d02-9e9e-9522bd55c703"
      },
      "source": [
        "class Student(Person):\n",
        "    def __init__(self, student_id, *args, **kwargs):\n",
        "        super(Student, self).__init__(*args, **kwargs)\n",
        "        self._student_id = student_id\n",
        "        \n",
        "    def __str__(self):\n",
        "        return super(Student, self).__str__() + \" And has ID: %d\" % self._student_id\n",
        "        \n",
        "charlie = Student(1, 'Charlie', 'Brown', 2006)\n",
        "print(charlie)"
      ],
      "execution_count": null,
      "outputs": [
        {
          "output_type": "stream",
          "text": [
            "Charlie Brown was born in 2006 . And has ID: 1\n"
          ],
          "name": "stdout"
        }
      ]
    },
    {
      "cell_type": "markdown",
      "metadata": {
        "id": "l90w70mIKC0k"
      },
      "source": [
        "Polymorphism and DuckTyping"
      ]
    },
    {
      "cell_type": "code",
      "metadata": {
        "id": "l545lLz8wnK0",
        "colab": {
          "base_uri": "https://localhost:8080/"
        },
        "outputId": "f6b67e14-ae0e-4830-9be2-9749b85b1d8e"
      },
      "source": [
        "def summer(a,b):\n",
        "  return a+b\n",
        "\n",
        "print(summer(5,5))\n",
        "print(summer(['a','b','c'],['d','e','f']))\n",
        "print(summer('abcdef','ghijk'))"
      ],
      "execution_count": 1,
      "outputs": [
        {
          "output_type": "stream",
          "text": [
            "10\n",
            "['a', 'b', 'c', 'd', 'e', 'f']\n",
            "abcdefghijk\n"
          ],
          "name": "stdout"
        }
      ]
    },
    {
      "cell_type": "markdown",
      "metadata": {
        "id": "Z6Os3xCtM0Ao"
      },
      "source": [
        "File"
      ]
    },
    {
      "cell_type": "code",
      "metadata": {
        "colab": {
          "base_uri": "https://localhost:8080/"
        },
        "id": "D8kFewUOKZL0",
        "outputId": "580c4423-ed58-439a-add2-3ca210a13068"
      },
      "source": [
        "%%writefile superman.txt\n",
        "Hello, this is a quick superman text files "
      ],
      "execution_count": 8,
      "outputs": [
        {
          "output_type": "stream",
          "text": [
            "Overwriting superman.txt\n"
          ],
          "name": "stdout"
        }
      ]
    },
    {
      "cell_type": "markdown",
      "metadata": {
        "id": "jNmYXp1ONx4_"
      },
      "source": [
        "opening a file"
      ]
    },
    {
      "cell_type": "code",
      "metadata": {
        "id": "ldnni06KNGfs"
      },
      "source": [
        "my_file = open('superman.txt')"
      ],
      "execution_count": 12,
      "outputs": []
    },
    {
      "cell_type": "code",
      "metadata": {
        "colab": {
          "base_uri": "https://localhost:8080/",
          "height": 35
        },
        "id": "hJ2K0DNON4NN",
        "outputId": "7c703e90-f563-47e3-fe4e-8e0e6f2b267b"
      },
      "source": [
        "my_file.read()"
      ],
      "execution_count": 13,
      "outputs": [
        {
          "output_type": "execute_result",
          "data": {
            "application/vnd.google.colaboratory.intrinsic+json": {
              "type": "string"
            },
            "text/plain": [
              "'Hello, this is a quick superman text files '"
            ]
          },
          "metadata": {
            "tags": []
          },
          "execution_count": 13
        }
      ]
    },
    {
      "cell_type": "code",
      "metadata": {
        "colab": {
          "base_uri": "https://localhost:8080/",
          "height": 35
        },
        "id": "Gs36qDv-OE-k",
        "outputId": "4dc59bbe-03a8-4122-d049-ac1274cf41d1"
      },
      "source": [
        "my_file.read()"
      ],
      "execution_count": 14,
      "outputs": [
        {
          "output_type": "execute_result",
          "data": {
            "application/vnd.google.colaboratory.intrinsic+json": {
              "type": "string"
            },
            "text/plain": [
              "''"
            ]
          },
          "metadata": {
            "tags": []
          },
          "execution_count": 14
        }
      ]
    },
    {
      "cell_type": "code",
      "metadata": {
        "colab": {
          "base_uri": "https://localhost:8080/"
        },
        "id": "_ZTWXSa_OWUJ",
        "outputId": "fd38f4e0-611b-4183-dd2a-daa7965ee67f"
      },
      "source": [
        "my_file.seek(0)"
      ],
      "execution_count": 15,
      "outputs": [
        {
          "output_type": "execute_result",
          "data": {
            "text/plain": [
              "0"
            ]
          },
          "metadata": {
            "tags": []
          },
          "execution_count": 15
        }
      ]
    },
    {
      "cell_type": "code",
      "metadata": {
        "colab": {
          "base_uri": "https://localhost:8080/",
          "height": 35
        },
        "id": "MUsW_781PQUz",
        "outputId": "88d682a6-8bfb-449d-cf3e-5a23b2669b55"
      },
      "source": [
        "my_file.read()"
      ],
      "execution_count": 16,
      "outputs": [
        {
          "output_type": "execute_result",
          "data": {
            "application/vnd.google.colaboratory.intrinsic+json": {
              "type": "string"
            },
            "text/plain": [
              "'Hello, this is a quick superman text files '"
            ]
          },
          "metadata": {
            "tags": []
          },
          "execution_count": 16
        }
      ]
    },
    {
      "cell_type": "code",
      "metadata": {
        "colab": {
          "base_uri": "https://localhost:8080/",
          "height": 35
        },
        "id": "MeaDUQW_PUcY",
        "outputId": "e18a4c73-455b-48d2-ec33-693f349f9d8a"
      },
      "source": [
        "my_file.read()"
      ],
      "execution_count": 17,
      "outputs": [
        {
          "output_type": "execute_result",
          "data": {
            "application/vnd.google.colaboratory.intrinsic+json": {
              "type": "string"
            },
            "text/plain": [
              "''"
            ]
          },
          "metadata": {
            "tags": []
          },
          "execution_count": 17
        }
      ]
    },
    {
      "cell_type": "code",
      "metadata": {
        "colab": {
          "base_uri": "https://localhost:8080/"
        },
        "id": "TG8G2VXIPVWf",
        "outputId": "e986b0fa-57fb-41a6-a823-5a05e5627b1f"
      },
      "source": [
        "my_file.seek(0)"
      ],
      "execution_count": 18,
      "outputs": [
        {
          "output_type": "execute_result",
          "data": {
            "text/plain": [
              "0"
            ]
          },
          "metadata": {
            "tags": []
          },
          "execution_count": 18
        }
      ]
    },
    {
      "cell_type": "code",
      "metadata": {
        "colab": {
          "base_uri": "https://localhost:8080/",
          "height": 35
        },
        "id": "Ld6ingBdPYkx",
        "outputId": "f6837dc5-5dea-425f-996d-9f0e76d1e61f"
      },
      "source": [
        "my_file.read()"
      ],
      "execution_count": 19,
      "outputs": [
        {
          "output_type": "execute_result",
          "data": {
            "application/vnd.google.colaboratory.intrinsic+json": {
              "type": "string"
            },
            "text/plain": [
              "'Hello, this is a quick superman text files '"
            ]
          },
          "metadata": {
            "tags": []
          },
          "execution_count": 19
        }
      ]
    },
    {
      "cell_type": "code",
      "metadata": {
        "colab": {
          "base_uri": "https://localhost:8080/",
          "height": 35
        },
        "id": "aCfjJ7gCPajT",
        "outputId": "2f89a244-c941-41e1-c777-d7d6e19641b8"
      },
      "source": [
        "my_file.read()"
      ],
      "execution_count": 20,
      "outputs": [
        {
          "output_type": "execute_result",
          "data": {
            "application/vnd.google.colaboratory.intrinsic+json": {
              "type": "string"
            },
            "text/plain": [
              "''"
            ]
          },
          "metadata": {
            "tags": []
          },
          "execution_count": 20
        }
      ]
    },
    {
      "cell_type": "code",
      "metadata": {
        "colab": {
          "base_uri": "https://localhost:8080/"
        },
        "id": "JNKRO0MPPdQa",
        "outputId": "bf28c6eb-d499-4912-90eb-6202b847d4b8"
      },
      "source": [
        "my_file.seek(0)"
      ],
      "execution_count": 21,
      "outputs": [
        {
          "output_type": "execute_result",
          "data": {
            "text/plain": [
              "0"
            ]
          },
          "metadata": {
            "tags": []
          },
          "execution_count": 21
        }
      ]
    },
    {
      "cell_type": "code",
      "metadata": {
        "colab": {
          "base_uri": "https://localhost:8080/"
        },
        "id": "FWa5eAQhPj4Y",
        "outputId": "5af22f27-8350-4086-a638-4a2b8de0aaec"
      },
      "source": [
        "my_file.readlines()"
      ],
      "execution_count": 22,
      "outputs": [
        {
          "output_type": "execute_result",
          "data": {
            "text/plain": [
              "['Hello, this is a quick superman text files ']"
            ]
          },
          "metadata": {
            "tags": []
          },
          "execution_count": 22
        }
      ]
    },
    {
      "cell_type": "code",
      "metadata": {
        "colab": {
          "base_uri": "https://localhost:8080/"
        },
        "id": "5rjnCjcFPlqx",
        "outputId": "c1747729-6bac-4418-d674-c81615d2d390"
      },
      "source": [
        "my_file.readlines()"
      ],
      "execution_count": 23,
      "outputs": [
        {
          "output_type": "execute_result",
          "data": {
            "text/plain": [
              "[]"
            ]
          },
          "metadata": {
            "tags": []
          },
          "execution_count": 23
        }
      ]
    },
    {
      "cell_type": "markdown",
      "metadata": {
        "id": "9Y5TvOobQE3j"
      },
      "source": [
        "writing to a file"
      ]
    },
    {
      "cell_type": "code",
      "metadata": {
        "id": "K-dWRSXQPnaX"
      },
      "source": [
        "my_file = open('superman.txt','w+')"
      ],
      "execution_count": 24,
      "outputs": []
    },
    {
      "cell_type": "code",
      "metadata": {
        "colab": {
          "base_uri": "https://localhost:8080/"
        },
        "id": "dvRJryzIQOXA",
        "outputId": "b7ee3738-ff39-486b-94bc-b873d267534a"
      },
      "source": [
        "my_file.write('This is a new line')"
      ],
      "execution_count": 25,
      "outputs": [
        {
          "output_type": "execute_result",
          "data": {
            "text/plain": [
              "18"
            ]
          },
          "metadata": {
            "tags": []
          },
          "execution_count": 25
        }
      ]
    },
    {
      "cell_type": "code",
      "metadata": {
        "colab": {
          "base_uri": "https://localhost:8080/"
        },
        "id": "FFrVRTUgQRHL",
        "outputId": "df677e3d-6aef-4a80-a205-b65827460c99"
      },
      "source": [
        "my_file.seek(0)"
      ],
      "execution_count": 26,
      "outputs": [
        {
          "output_type": "execute_result",
          "data": {
            "text/plain": [
              "0"
            ]
          },
          "metadata": {
            "tags": []
          },
          "execution_count": 26
        }
      ]
    },
    {
      "cell_type": "code",
      "metadata": {
        "colab": {
          "base_uri": "https://localhost:8080/",
          "height": 35
        },
        "id": "7nK_SPVrQaC-",
        "outputId": "f3460b5b-f2dd-49e5-d355-408f2d2923a8"
      },
      "source": [
        "my_file.read()"
      ],
      "execution_count": 27,
      "outputs": [
        {
          "output_type": "execute_result",
          "data": {
            "application/vnd.google.colaboratory.intrinsic+json": {
              "type": "string"
            },
            "text/plain": [
              "'This is a new line'"
            ]
          },
          "metadata": {
            "tags": []
          },
          "execution_count": 27
        }
      ]
    },
    {
      "cell_type": "markdown",
      "metadata": {
        "id": "CnQ3v5HxQlcr"
      },
      "source": [
        "iteration through file"
      ]
    },
    {
      "cell_type": "code",
      "metadata": {
        "colab": {
          "base_uri": "https://localhost:8080/"
        },
        "id": "P2k0FASIQcWr",
        "outputId": "ed823b40-ebfc-4eee-89e0-b4f396855b43"
      },
      "source": [
        "%%writefile test.txt\n",
        "first line\n",
        "second line"
      ],
      "execution_count": 28,
      "outputs": [
        {
          "output_type": "stream",
          "text": [
            "Writing test.txt\n"
          ],
          "name": "stdout"
        }
      ]
    },
    {
      "cell_type": "code",
      "metadata": {
        "colab": {
          "base_uri": "https://localhost:8080/"
        },
        "id": "ewCrsOyjRP8k",
        "outputId": "349e7946-fd73-43fa-af9e-497a841bea88"
      },
      "source": [
        "for line in open('test.txt'):\n",
        "  print(line)"
      ],
      "execution_count": 29,
      "outputs": [
        {
          "output_type": "stream",
          "text": [
            "first line\n",
            "\n",
            "second line\n"
          ],
          "name": "stdout"
        }
      ]
    },
    {
      "cell_type": "code",
      "metadata": {
        "colab": {
          "base_uri": "https://localhost:8080/"
        },
        "id": "9SHh3LwXR0HR",
        "outputId": "af7eb730-4b9c-414b-f164-8730c0dca8a5"
      },
      "source": [
        "for i in open('test.txt'):\n",
        "  print(i)"
      ],
      "execution_count": 30,
      "outputs": [
        {
          "output_type": "stream",
          "text": [
            "first line\n",
            "\n",
            "second line\n"
          ],
          "name": "stdout"
        }
      ]
    },
    {
      "cell_type": "markdown",
      "metadata": {
        "id": "XTqv8s2QSCbF"
      },
      "source": [
        "stringIO"
      ]
    },
    {
      "cell_type": "code",
      "metadata": {
        "id": "45xE4RixR_2g"
      },
      "source": [
        "from io import StringIO"
      ],
      "execution_count": 51,
      "outputs": []
    },
    {
      "cell_type": "code",
      "metadata": {
        "id": "xRyaAk2NSTAF"
      },
      "source": [
        "message='this is a string '"
      ],
      "execution_count": 52,
      "outputs": []
    },
    {
      "cell_type": "code",
      "metadata": {
        "id": "TJONR5D7Sanc"
      },
      "source": [
        "f=StringIO(message)"
      ],
      "execution_count": 53,
      "outputs": []
    },
    {
      "cell_type": "code",
      "metadata": {
        "colab": {
          "base_uri": "https://localhost:8080/",
          "height": 35
        },
        "id": "1de_w1jySluW",
        "outputId": "109c3b95-01b8-4d62-f041-2ebe68d68e6f"
      },
      "source": [
        "f.read()"
      ],
      "execution_count": 54,
      "outputs": [
        {
          "output_type": "execute_result",
          "data": {
            "application/vnd.google.colaboratory.intrinsic+json": {
              "type": "string"
            },
            "text/plain": [
              "'this is a string '"
            ]
          },
          "metadata": {
            "tags": []
          },
          "execution_count": 54
        }
      ]
    },
    {
      "cell_type": "code",
      "metadata": {
        "colab": {
          "base_uri": "https://localhost:8080/"
        },
        "id": "-At43Uo7SpsS",
        "outputId": "88e83210-035f-4076-b413-ac836e4e4692"
      },
      "source": [
        "f.write(\"second line \")"
      ],
      "execution_count": 55,
      "outputs": [
        {
          "output_type": "execute_result",
          "data": {
            "text/plain": [
              "12"
            ]
          },
          "metadata": {
            "tags": []
          },
          "execution_count": 55
        }
      ]
    },
    {
      "cell_type": "code",
      "metadata": {
        "colab": {
          "base_uri": "https://localhost:8080/"
        },
        "id": "AIbZtDTOTBiv",
        "outputId": "01c0edf0-6f6a-4b18-bf37-ad8aa05a4adf"
      },
      "source": [
        "f.seek(0)"
      ],
      "execution_count": 56,
      "outputs": [
        {
          "output_type": "execute_result",
          "data": {
            "text/plain": [
              "0"
            ]
          },
          "metadata": {
            "tags": []
          },
          "execution_count": 56
        }
      ]
    },
    {
      "cell_type": "code",
      "metadata": {
        "colab": {
          "base_uri": "https://localhost:8080/",
          "height": 35
        },
        "id": "n5f2z1lVTHu2",
        "outputId": "988c11cf-e075-4df3-b01b-795b974066ce"
      },
      "source": [
        "f.read()"
      ],
      "execution_count": 57,
      "outputs": [
        {
          "output_type": "execute_result",
          "data": {
            "application/vnd.google.colaboratory.intrinsic+json": {
              "type": "string"
            },
            "text/plain": [
              "'this is a string second line '"
            ]
          },
          "metadata": {
            "tags": []
          },
          "execution_count": 57
        }
      ]
    },
    {
      "cell_type": "code",
      "metadata": {
        "colab": {
          "base_uri": "https://localhost:8080/",
          "height": 35
        },
        "id": "ebiUYnXyTKSh",
        "outputId": "95b6eeca-aa90-48b3-b5a6-3dda4284d459"
      },
      "source": [
        "f.read()"
      ],
      "execution_count": 58,
      "outputs": [
        {
          "output_type": "execute_result",
          "data": {
            "application/vnd.google.colaboratory.intrinsic+json": {
              "type": "string"
            },
            "text/plain": [
              "''"
            ]
          },
          "metadata": {
            "tags": []
          },
          "execution_count": 58
        }
      ]
    },
    {
      "cell_type": "code",
      "metadata": {
        "id": "qyf-CfpzTMvv"
      },
      "source": [
        ""
      ],
      "execution_count": null,
      "outputs": []
    }
  ]
}