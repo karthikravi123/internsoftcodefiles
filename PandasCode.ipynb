{
  "nbformat": 4,
  "nbformat_minor": 0,
  "metadata": {
    "colab": {
      "name": "PandasCode.ipynb",
      "provenance": [],
      "collapsed_sections": []
    },
    "kernelspec": {
      "name": "python3",
      "display_name": "Python 3"
    },
    "language_info": {
      "name": "python"
    }
  },
  "cells": [
    {
      "cell_type": "code",
      "metadata": {
        "id": "UvVE4BkZ4j7Y"
      },
      "source": [
        "import pandas as pd\n",
        "import numpy as np"
      ],
      "execution_count": 1,
      "outputs": []
    },
    {
      "cell_type": "markdown",
      "metadata": {
        "id": "QJ-HvB4T1Ark"
      },
      "source": [
        "series"
      ]
    },
    {
      "cell_type": "code",
      "metadata": {
        "id": "lBOG7DSCvtwm",
        "colab": {
          "base_uri": "https://localhost:8080/"
        },
        "outputId": "3c199630-6687-4d69-f160-c9f9371b3790"
      },
      "source": [
        "counts=pd.Series([50,60,70,80])\n",
        "counts"
      ],
      "execution_count": 2,
      "outputs": [
        {
          "output_type": "execute_result",
          "data": {
            "text/plain": [
              "0    50\n",
              "1    60\n",
              "2    70\n",
              "3    80\n",
              "dtype: int64"
            ]
          },
          "metadata": {
            "tags": []
          },
          "execution_count": 2
        }
      ]
    },
    {
      "cell_type": "code",
      "metadata": {
        "colab": {
          "base_uri": "https://localhost:8080/"
        },
        "id": "4-G06SUx1JSr",
        "outputId": "537bba9c-d888-43e8-b68f-67970b5576dc"
      },
      "source": [
        "counts.values"
      ],
      "execution_count": 3,
      "outputs": [
        {
          "output_type": "execute_result",
          "data": {
            "text/plain": [
              "array([50, 60, 70, 80])"
            ]
          },
          "metadata": {
            "tags": []
          },
          "execution_count": 3
        }
      ]
    },
    {
      "cell_type": "code",
      "metadata": {
        "colab": {
          "base_uri": "https://localhost:8080/"
        },
        "id": "AnDZIDhE1UF0",
        "outputId": "b5f58046-3820-447b-af6b-1e990e8cdfbc"
      },
      "source": [
        "counts.index"
      ],
      "execution_count": 4,
      "outputs": [
        {
          "output_type": "execute_result",
          "data": {
            "text/plain": [
              "RangeIndex(start=0, stop=4, step=1)"
            ]
          },
          "metadata": {
            "tags": []
          },
          "execution_count": 4
        }
      ]
    },
    {
      "cell_type": "code",
      "metadata": {
        "colab": {
          "base_uri": "https://localhost:8080/"
        },
        "id": "Jdw7ajJa1dWw",
        "outputId": "2cab6012-3672-4998-cf62-e9fd57a99663"
      },
      "source": [
        "cars=pd.Series([50,60,70] ,index=['audi','benz','bmw'])\n",
        "cars"
      ],
      "execution_count": 5,
      "outputs": [
        {
          "output_type": "execute_result",
          "data": {
            "text/plain": [
              "audi    50\n",
              "benz    60\n",
              "bmw     70\n",
              "dtype: int64"
            ]
          },
          "metadata": {
            "tags": []
          },
          "execution_count": 5
        }
      ]
    },
    {
      "cell_type": "code",
      "metadata": {
        "colab": {
          "base_uri": "https://localhost:8080/"
        },
        "id": "eJefAgzs1vUe",
        "outputId": "351a7d8a-baf7-4920-a01a-259c788a5cfd"
      },
      "source": [
        "cars['bmw']"
      ],
      "execution_count": 6,
      "outputs": [
        {
          "output_type": "execute_result",
          "data": {
            "text/plain": [
              "70"
            ]
          },
          "metadata": {
            "tags": []
          },
          "execution_count": 6
        }
      ]
    },
    {
      "cell_type": "code",
      "metadata": {
        "colab": {
          "base_uri": "https://localhost:8080/"
        },
        "id": "m2_woa_52XY0",
        "outputId": "ee3809ee-6f33-40dd-f90d-fc8c5e439d51"
      },
      "source": [
        "cars[2]"
      ],
      "execution_count": 7,
      "outputs": [
        {
          "output_type": "execute_result",
          "data": {
            "text/plain": [
              "70"
            ]
          },
          "metadata": {
            "tags": []
          },
          "execution_count": 7
        }
      ]
    },
    {
      "cell_type": "code",
      "metadata": {
        "colab": {
          "base_uri": "https://localhost:8080/"
        },
        "id": "qh_O7Uq82ZTA",
        "outputId": "12fb70ec-6b69-42ca-e8bb-7682aab2663e"
      },
      "source": [
        "cars.name='counts'\n",
        "cars.index.name='model'\n",
        "cars"
      ],
      "execution_count": 8,
      "outputs": [
        {
          "output_type": "execute_result",
          "data": {
            "text/plain": [
              "model\n",
              "audi    50\n",
              "benz    60\n",
              "bmw     70\n",
              "Name: counts, dtype: int64"
            ]
          },
          "metadata": {
            "tags": []
          },
          "execution_count": 8
        }
      ]
    },
    {
      "cell_type": "code",
      "metadata": {
        "colab": {
          "base_uri": "https://localhost:8080/"
        },
        "id": "hLopx3SW26Y1",
        "outputId": "b255b249-fd31-4e8d-ce5c-b3ca8897b1d3"
      },
      "source": [
        " np.log(cars)"
      ],
      "execution_count": 9,
      "outputs": [
        {
          "output_type": "execute_result",
          "data": {
            "text/plain": [
              "model\n",
              "audi    3.912023\n",
              "benz    4.094345\n",
              "bmw     4.248495\n",
              "Name: counts, dtype: float64"
            ]
          },
          "metadata": {
            "tags": []
          },
          "execution_count": 9
        }
      ]
    },
    {
      "cell_type": "code",
      "metadata": {
        "colab": {
          "base_uri": "https://localhost:8080/"
        },
        "id": "rOebM4ME5eyH",
        "outputId": "dd74a067-d3a4-440e-c547-dfa4273a7d24"
      },
      "source": [
        "cars[cars > 60]"
      ],
      "execution_count": 10,
      "outputs": [
        {
          "output_type": "execute_result",
          "data": {
            "text/plain": [
              "model\n",
              "bmw    70\n",
              "Name: counts, dtype: int64"
            ]
          },
          "metadata": {
            "tags": []
          },
          "execution_count": 10
        }
      ]
    },
    {
      "cell_type": "code",
      "metadata": {
        "colab": {
          "base_uri": "https://localhost:8080/"
        },
        "id": "De3D1RaY5tP_",
        "outputId": "de39f534-7b3b-4f12-8bf4-1cb147f55e13"
      },
      "source": [
        "cars_dict={'bmw':800,'audi':900,'benz':100}\n",
        "print(cars_dict)\n",
        "pd.Series(cars_dict)"
      ],
      "execution_count": 11,
      "outputs": [
        {
          "output_type": "stream",
          "text": [
            "{'bmw': 800, 'audi': 900, 'benz': 100}\n"
          ],
          "name": "stdout"
        },
        {
          "output_type": "execute_result",
          "data": {
            "text/plain": [
              "bmw     800\n",
              "audi    900\n",
              "benz    100\n",
              "dtype: int64"
            ]
          },
          "metadata": {
            "tags": []
          },
          "execution_count": 11
        }
      ]
    },
    {
      "cell_type": "code",
      "metadata": {
        "colab": {
          "base_uri": "https://localhost:8080/",
          "height": 190
        },
        "id": "wxYDquy86a4t",
        "outputId": "fb555d85-8959-4ae6-f4fd-8139c83fc805"
      },
      "source": [
        "car={\"model\":['bmw','audi','benz','sokda'],\"built_year\":[2012,2013,2014,2012],\"mileage\":[15,12,10,20]}\n",
        "print(car)\n",
        "car=pd.DataFrame(car)\n",
        "car"
      ],
      "execution_count": 12,
      "outputs": [
        {
          "output_type": "stream",
          "text": [
            "{'model': ['bmw', 'audi', 'benz', 'sokda'], 'built_year': [2012, 2013, 2014, 2012], 'mileage': [15, 12, 10, 20]}\n"
          ],
          "name": "stdout"
        },
        {
          "output_type": "execute_result",
          "data": {
            "text/html": [
              "<div>\n",
              "<style scoped>\n",
              "    .dataframe tbody tr th:only-of-type {\n",
              "        vertical-align: middle;\n",
              "    }\n",
              "\n",
              "    .dataframe tbody tr th {\n",
              "        vertical-align: top;\n",
              "    }\n",
              "\n",
              "    .dataframe thead th {\n",
              "        text-align: right;\n",
              "    }\n",
              "</style>\n",
              "<table border=\"1\" class=\"dataframe\">\n",
              "  <thead>\n",
              "    <tr style=\"text-align: right;\">\n",
              "      <th></th>\n",
              "      <th>model</th>\n",
              "      <th>built_year</th>\n",
              "      <th>mileage</th>\n",
              "    </tr>\n",
              "  </thead>\n",
              "  <tbody>\n",
              "    <tr>\n",
              "      <th>0</th>\n",
              "      <td>bmw</td>\n",
              "      <td>2012</td>\n",
              "      <td>15</td>\n",
              "    </tr>\n",
              "    <tr>\n",
              "      <th>1</th>\n",
              "      <td>audi</td>\n",
              "      <td>2013</td>\n",
              "      <td>12</td>\n",
              "    </tr>\n",
              "    <tr>\n",
              "      <th>2</th>\n",
              "      <td>benz</td>\n",
              "      <td>2014</td>\n",
              "      <td>10</td>\n",
              "    </tr>\n",
              "    <tr>\n",
              "      <th>3</th>\n",
              "      <td>sokda</td>\n",
              "      <td>2012</td>\n",
              "      <td>20</td>\n",
              "    </tr>\n",
              "  </tbody>\n",
              "</table>\n",
              "</div>"
            ],
            "text/plain": [
              "   model  built_year  mileage\n",
              "0    bmw        2012       15\n",
              "1   audi        2013       12\n",
              "2   benz        2014       10\n",
              "3  sokda        2012       20"
            ]
          },
          "metadata": {
            "tags": []
          },
          "execution_count": 12
        }
      ]
    },
    {
      "cell_type": "code",
      "metadata": {
        "colab": {
          "base_uri": "https://localhost:8080/",
          "height": 173
        },
        "id": "Bj1WBcpF8Vsu",
        "outputId": "3ee18dfe-0896-4bf7-cb39-0c71654bf7fb"
      },
      "source": [
        "pd.DataFrame(car)\n"
      ],
      "execution_count": 13,
      "outputs": [
        {
          "output_type": "execute_result",
          "data": {
            "text/html": [
              "<div>\n",
              "<style scoped>\n",
              "    .dataframe tbody tr th:only-of-type {\n",
              "        vertical-align: middle;\n",
              "    }\n",
              "\n",
              "    .dataframe tbody tr th {\n",
              "        vertical-align: top;\n",
              "    }\n",
              "\n",
              "    .dataframe thead th {\n",
              "        text-align: right;\n",
              "    }\n",
              "</style>\n",
              "<table border=\"1\" class=\"dataframe\">\n",
              "  <thead>\n",
              "    <tr style=\"text-align: right;\">\n",
              "      <th></th>\n",
              "      <th>model</th>\n",
              "      <th>built_year</th>\n",
              "      <th>mileage</th>\n",
              "    </tr>\n",
              "  </thead>\n",
              "  <tbody>\n",
              "    <tr>\n",
              "      <th>0</th>\n",
              "      <td>bmw</td>\n",
              "      <td>2012</td>\n",
              "      <td>15</td>\n",
              "    </tr>\n",
              "    <tr>\n",
              "      <th>1</th>\n",
              "      <td>audi</td>\n",
              "      <td>2013</td>\n",
              "      <td>12</td>\n",
              "    </tr>\n",
              "    <tr>\n",
              "      <th>2</th>\n",
              "      <td>benz</td>\n",
              "      <td>2014</td>\n",
              "      <td>10</td>\n",
              "    </tr>\n",
              "    <tr>\n",
              "      <th>3</th>\n",
              "      <td>sokda</td>\n",
              "      <td>2012</td>\n",
              "      <td>20</td>\n",
              "    </tr>\n",
              "  </tbody>\n",
              "</table>\n",
              "</div>"
            ],
            "text/plain": [
              "   model  built_year  mileage\n",
              "0    bmw        2012       15\n",
              "1   audi        2013       12\n",
              "2   benz        2014       10\n",
              "3  sokda        2012       20"
            ]
          },
          "metadata": {
            "tags": []
          },
          "execution_count": 13
        }
      ]
    },
    {
      "cell_type": "code",
      "metadata": {
        "colab": {
          "base_uri": "https://localhost:8080/",
          "height": 173
        },
        "id": "UzhaozOw8gnp",
        "outputId": "995bc2c1-6eec-4681-ca1c-bb86dc41305d"
      },
      "source": [
        "df=pd.DataFrame(car,columns=['built_year','mileage','model'])\n",
        "df"
      ],
      "execution_count": 14,
      "outputs": [
        {
          "output_type": "execute_result",
          "data": {
            "text/html": [
              "<div>\n",
              "<style scoped>\n",
              "    .dataframe tbody tr th:only-of-type {\n",
              "        vertical-align: middle;\n",
              "    }\n",
              "\n",
              "    .dataframe tbody tr th {\n",
              "        vertical-align: top;\n",
              "    }\n",
              "\n",
              "    .dataframe thead th {\n",
              "        text-align: right;\n",
              "    }\n",
              "</style>\n",
              "<table border=\"1\" class=\"dataframe\">\n",
              "  <thead>\n",
              "    <tr style=\"text-align: right;\">\n",
              "      <th></th>\n",
              "      <th>built_year</th>\n",
              "      <th>mileage</th>\n",
              "      <th>model</th>\n",
              "    </tr>\n",
              "  </thead>\n",
              "  <tbody>\n",
              "    <tr>\n",
              "      <th>0</th>\n",
              "      <td>2012</td>\n",
              "      <td>15</td>\n",
              "      <td>bmw</td>\n",
              "    </tr>\n",
              "    <tr>\n",
              "      <th>1</th>\n",
              "      <td>2013</td>\n",
              "      <td>12</td>\n",
              "      <td>audi</td>\n",
              "    </tr>\n",
              "    <tr>\n",
              "      <th>2</th>\n",
              "      <td>2014</td>\n",
              "      <td>10</td>\n",
              "      <td>benz</td>\n",
              "    </tr>\n",
              "    <tr>\n",
              "      <th>3</th>\n",
              "      <td>2012</td>\n",
              "      <td>20</td>\n",
              "      <td>sokda</td>\n",
              "    </tr>\n",
              "  </tbody>\n",
              "</table>\n",
              "</div>"
            ],
            "text/plain": [
              "   built_year  mileage  model\n",
              "0        2012       15    bmw\n",
              "1        2013       12   audi\n",
              "2        2014       10   benz\n",
              "3        2012       20  sokda"
            ]
          },
          "metadata": {
            "tags": []
          },
          "execution_count": 14
        }
      ]
    },
    {
      "cell_type": "code",
      "metadata": {
        "colab": {
          "base_uri": "https://localhost:8080/",
          "height": 173
        },
        "id": "t_o8lDtcShFE",
        "outputId": "877bf109-971a-41f1-89b3-3fa7ec511f9c"
      },
      "source": [
        "df['non']=df.built_year/df.mileage\n",
        "df"
      ],
      "execution_count": 15,
      "outputs": [
        {
          "output_type": "execute_result",
          "data": {
            "text/html": [
              "<div>\n",
              "<style scoped>\n",
              "    .dataframe tbody tr th:only-of-type {\n",
              "        vertical-align: middle;\n",
              "    }\n",
              "\n",
              "    .dataframe tbody tr th {\n",
              "        vertical-align: top;\n",
              "    }\n",
              "\n",
              "    .dataframe thead th {\n",
              "        text-align: right;\n",
              "    }\n",
              "</style>\n",
              "<table border=\"1\" class=\"dataframe\">\n",
              "  <thead>\n",
              "    <tr style=\"text-align: right;\">\n",
              "      <th></th>\n",
              "      <th>built_year</th>\n",
              "      <th>mileage</th>\n",
              "      <th>model</th>\n",
              "      <th>non</th>\n",
              "    </tr>\n",
              "  </thead>\n",
              "  <tbody>\n",
              "    <tr>\n",
              "      <th>0</th>\n",
              "      <td>2012</td>\n",
              "      <td>15</td>\n",
              "      <td>bmw</td>\n",
              "      <td>134.133333</td>\n",
              "    </tr>\n",
              "    <tr>\n",
              "      <th>1</th>\n",
              "      <td>2013</td>\n",
              "      <td>12</td>\n",
              "      <td>audi</td>\n",
              "      <td>167.750000</td>\n",
              "    </tr>\n",
              "    <tr>\n",
              "      <th>2</th>\n",
              "      <td>2014</td>\n",
              "      <td>10</td>\n",
              "      <td>benz</td>\n",
              "      <td>201.400000</td>\n",
              "    </tr>\n",
              "    <tr>\n",
              "      <th>3</th>\n",
              "      <td>2012</td>\n",
              "      <td>20</td>\n",
              "      <td>sokda</td>\n",
              "      <td>100.600000</td>\n",
              "    </tr>\n",
              "  </tbody>\n",
              "</table>\n",
              "</div>"
            ],
            "text/plain": [
              "   built_year  mileage  model         non\n",
              "0        2012       15    bmw  134.133333\n",
              "1        2013       12   audi  167.750000\n",
              "2        2014       10   benz  201.400000\n",
              "3        2012       20  sokda  100.600000"
            ]
          },
          "metadata": {
            "tags": []
          },
          "execution_count": 15
        }
      ]
    },
    {
      "cell_type": "code",
      "metadata": {
        "colab": {
          "base_uri": "https://localhost:8080/",
          "height": 173
        },
        "id": "8yGdhfnIS2fZ",
        "outputId": "94ba8bf4-2cec-4439-cf21-0eeed9832a73"
      },
      "source": [
        "df['series_aligned']=pd.Series(range(5),index=[0,1,2,3,4])\n",
        "df"
      ],
      "execution_count": 16,
      "outputs": [
        {
          "output_type": "execute_result",
          "data": {
            "text/html": [
              "<div>\n",
              "<style scoped>\n",
              "    .dataframe tbody tr th:only-of-type {\n",
              "        vertical-align: middle;\n",
              "    }\n",
              "\n",
              "    .dataframe tbody tr th {\n",
              "        vertical-align: top;\n",
              "    }\n",
              "\n",
              "    .dataframe thead th {\n",
              "        text-align: right;\n",
              "    }\n",
              "</style>\n",
              "<table border=\"1\" class=\"dataframe\">\n",
              "  <thead>\n",
              "    <tr style=\"text-align: right;\">\n",
              "      <th></th>\n",
              "      <th>built_year</th>\n",
              "      <th>mileage</th>\n",
              "      <th>model</th>\n",
              "      <th>non</th>\n",
              "      <th>series_aligned</th>\n",
              "    </tr>\n",
              "  </thead>\n",
              "  <tbody>\n",
              "    <tr>\n",
              "      <th>0</th>\n",
              "      <td>2012</td>\n",
              "      <td>15</td>\n",
              "      <td>bmw</td>\n",
              "      <td>134.133333</td>\n",
              "      <td>0</td>\n",
              "    </tr>\n",
              "    <tr>\n",
              "      <th>1</th>\n",
              "      <td>2013</td>\n",
              "      <td>12</td>\n",
              "      <td>audi</td>\n",
              "      <td>167.750000</td>\n",
              "      <td>1</td>\n",
              "    </tr>\n",
              "    <tr>\n",
              "      <th>2</th>\n",
              "      <td>2014</td>\n",
              "      <td>10</td>\n",
              "      <td>benz</td>\n",
              "      <td>201.400000</td>\n",
              "      <td>2</td>\n",
              "    </tr>\n",
              "    <tr>\n",
              "      <th>3</th>\n",
              "      <td>2012</td>\n",
              "      <td>20</td>\n",
              "      <td>sokda</td>\n",
              "      <td>100.600000</td>\n",
              "      <td>3</td>\n",
              "    </tr>\n",
              "  </tbody>\n",
              "</table>\n",
              "</div>"
            ],
            "text/plain": [
              "   built_year  mileage  model         non  series_aligned\n",
              "0        2012       15    bmw  134.133333               0\n",
              "1        2013       12   audi  167.750000               1\n",
              "2        2014       10   benz  201.400000               2\n",
              "3        2012       20  sokda  100.600000               3"
            ]
          },
          "metadata": {
            "tags": []
          },
          "execution_count": 16
        }
      ]
    },
    {
      "cell_type": "code",
      "metadata": {
        "colab": {
          "base_uri": "https://localhost:8080/"
        },
        "id": "VZ1ym2zmTKuQ",
        "outputId": "61669585-18be-4073-f19f-536c45cb95eb"
      },
      "source": [
        "df.to_dict()"
      ],
      "execution_count": 17,
      "outputs": [
        {
          "output_type": "execute_result",
          "data": {
            "text/plain": [
              "{'built_year': {0: 2012, 1: 2013, 2: 2014, 3: 2012},\n",
              " 'mileage': {0: 15, 1: 12, 2: 10, 3: 20},\n",
              " 'model': {0: 'bmw', 1: 'audi', 2: 'benz', 3: 'sokda'},\n",
              " 'non': {0: 134.13333333333333, 1: 167.75, 2: 201.4, 3: 100.6},\n",
              " 'series_aligned': {0: 0, 1: 1, 2: 2, 3: 3}}"
            ]
          },
          "metadata": {
            "tags": []
          },
          "execution_count": 17
        }
      ]
    },
    {
      "cell_type": "code",
      "metadata": {
        "colab": {
          "base_uri": "https://localhost:8080/",
          "height": 173
        },
        "id": "0CUTT1zWUK3A",
        "outputId": "adad2331-28e7-4489-84af-7650c08aa9d5"
      },
      "source": [
        "pd.DataFrame(df.to_dict())"
      ],
      "execution_count": 18,
      "outputs": [
        {
          "output_type": "execute_result",
          "data": {
            "text/html": [
              "<div>\n",
              "<style scoped>\n",
              "    .dataframe tbody tr th:only-of-type {\n",
              "        vertical-align: middle;\n",
              "    }\n",
              "\n",
              "    .dataframe tbody tr th {\n",
              "        vertical-align: top;\n",
              "    }\n",
              "\n",
              "    .dataframe thead th {\n",
              "        text-align: right;\n",
              "    }\n",
              "</style>\n",
              "<table border=\"1\" class=\"dataframe\">\n",
              "  <thead>\n",
              "    <tr style=\"text-align: right;\">\n",
              "      <th></th>\n",
              "      <th>built_year</th>\n",
              "      <th>mileage</th>\n",
              "      <th>model</th>\n",
              "      <th>non</th>\n",
              "      <th>series_aligned</th>\n",
              "    </tr>\n",
              "  </thead>\n",
              "  <tbody>\n",
              "    <tr>\n",
              "      <th>0</th>\n",
              "      <td>2012</td>\n",
              "      <td>15</td>\n",
              "      <td>bmw</td>\n",
              "      <td>134.133333</td>\n",
              "      <td>0</td>\n",
              "    </tr>\n",
              "    <tr>\n",
              "      <th>1</th>\n",
              "      <td>2013</td>\n",
              "      <td>12</td>\n",
              "      <td>audi</td>\n",
              "      <td>167.750000</td>\n",
              "      <td>1</td>\n",
              "    </tr>\n",
              "    <tr>\n",
              "      <th>2</th>\n",
              "      <td>2014</td>\n",
              "      <td>10</td>\n",
              "      <td>benz</td>\n",
              "      <td>201.400000</td>\n",
              "      <td>2</td>\n",
              "    </tr>\n",
              "    <tr>\n",
              "      <th>3</th>\n",
              "      <td>2012</td>\n",
              "      <td>20</td>\n",
              "      <td>sokda</td>\n",
              "      <td>100.600000</td>\n",
              "      <td>3</td>\n",
              "    </tr>\n",
              "  </tbody>\n",
              "</table>\n",
              "</div>"
            ],
            "text/plain": [
              "   built_year  mileage  model         non  series_aligned\n",
              "0        2012       15    bmw  134.133333               0\n",
              "1        2013       12   audi  167.750000               1\n",
              "2        2014       10   benz  201.400000               2\n",
              "3        2012       20  sokda  100.600000               3"
            ]
          },
          "metadata": {
            "tags": []
          },
          "execution_count": 18
        }
      ]
    },
    {
      "cell_type": "code",
      "metadata": {
        "colab": {
          "base_uri": "https://localhost:8080/",
          "height": 252
        },
        "id": "Flrr7TFEUUXs",
        "outputId": "934c8ecf-2b57-4135-b675-52ac441713a2"
      },
      "source": [
        "data = [{'a': i, 'b':10* i}for i in range(6)]\n",
        "print(data)\n",
        "pd.DataFrame(data)"
      ],
      "execution_count": 19,
      "outputs": [
        {
          "output_type": "stream",
          "text": [
            "[{'a': 0, 'b': 0}, {'a': 1, 'b': 10}, {'a': 2, 'b': 20}, {'a': 3, 'b': 30}, {'a': 4, 'b': 40}, {'a': 5, 'b': 50}]\n"
          ],
          "name": "stdout"
        },
        {
          "output_type": "execute_result",
          "data": {
            "text/html": [
              "<div>\n",
              "<style scoped>\n",
              "    .dataframe tbody tr th:only-of-type {\n",
              "        vertical-align: middle;\n",
              "    }\n",
              "\n",
              "    .dataframe tbody tr th {\n",
              "        vertical-align: top;\n",
              "    }\n",
              "\n",
              "    .dataframe thead th {\n",
              "        text-align: right;\n",
              "    }\n",
              "</style>\n",
              "<table border=\"1\" class=\"dataframe\">\n",
              "  <thead>\n",
              "    <tr style=\"text-align: right;\">\n",
              "      <th></th>\n",
              "      <th>a</th>\n",
              "      <th>b</th>\n",
              "    </tr>\n",
              "  </thead>\n",
              "  <tbody>\n",
              "    <tr>\n",
              "      <th>0</th>\n",
              "      <td>0</td>\n",
              "      <td>0</td>\n",
              "    </tr>\n",
              "    <tr>\n",
              "      <th>1</th>\n",
              "      <td>1</td>\n",
              "      <td>10</td>\n",
              "    </tr>\n",
              "    <tr>\n",
              "      <th>2</th>\n",
              "      <td>2</td>\n",
              "      <td>20</td>\n",
              "    </tr>\n",
              "    <tr>\n",
              "      <th>3</th>\n",
              "      <td>3</td>\n",
              "      <td>30</td>\n",
              "    </tr>\n",
              "    <tr>\n",
              "      <th>4</th>\n",
              "      <td>4</td>\n",
              "      <td>40</td>\n",
              "    </tr>\n",
              "    <tr>\n",
              "      <th>5</th>\n",
              "      <td>5</td>\n",
              "      <td>50</td>\n",
              "    </tr>\n",
              "  </tbody>\n",
              "</table>\n",
              "</div>"
            ],
            "text/plain": [
              "   a   b\n",
              "0  0   0\n",
              "1  1  10\n",
              "2  2  20\n",
              "3  3  30\n",
              "4  4  40\n",
              "5  5  50"
            ]
          },
          "metadata": {
            "tags": []
          },
          "execution_count": 19
        }
      ]
    },
    {
      "cell_type": "code",
      "metadata": {
        "colab": {
          "base_uri": "https://localhost:8080/",
          "height": 111
        },
        "id": "Imw4X4bhVSG1",
        "outputId": "9e23b6cc-40c8-40ca-8204-ba39d225b537"
      },
      "source": [
        "pd.DataFrame([{'aa': 1, 'bb': 2}, {'bb': 3, 'cc': 6}])"
      ],
      "execution_count": 20,
      "outputs": [
        {
          "output_type": "execute_result",
          "data": {
            "text/html": [
              "<div>\n",
              "<style scoped>\n",
              "    .dataframe tbody tr th:only-of-type {\n",
              "        vertical-align: middle;\n",
              "    }\n",
              "\n",
              "    .dataframe tbody tr th {\n",
              "        vertical-align: top;\n",
              "    }\n",
              "\n",
              "    .dataframe thead th {\n",
              "        text-align: right;\n",
              "    }\n",
              "</style>\n",
              "<table border=\"1\" class=\"dataframe\">\n",
              "  <thead>\n",
              "    <tr style=\"text-align: right;\">\n",
              "      <th></th>\n",
              "      <th>aa</th>\n",
              "      <th>bb</th>\n",
              "      <th>cc</th>\n",
              "    </tr>\n",
              "  </thead>\n",
              "  <tbody>\n",
              "    <tr>\n",
              "      <th>0</th>\n",
              "      <td>1.0</td>\n",
              "      <td>2</td>\n",
              "      <td>NaN</td>\n",
              "    </tr>\n",
              "    <tr>\n",
              "      <th>1</th>\n",
              "      <td>NaN</td>\n",
              "      <td>3</td>\n",
              "      <td>6.0</td>\n",
              "    </tr>\n",
              "  </tbody>\n",
              "</table>\n",
              "</div>"
            ],
            "text/plain": [
              "    aa  bb   cc\n",
              "0  1.0   2  NaN\n",
              "1  NaN   3  6.0"
            ]
          },
          "metadata": {
            "tags": []
          },
          "execution_count": 20
        }
      ]
    },
    {
      "cell_type": "code",
      "metadata": {
        "colab": {
          "base_uri": "https://localhost:8080/",
          "height": 142
        },
        "id": "gRIULhzHBcNI",
        "outputId": "2d3ee7c9-63be-46b9-8b42-ab5ab7847e92"
      },
      "source": [
        "pd.DataFrame(np.random.randint(2,12),columns=['foo','bar'],index=['a','b','c'])"
      ],
      "execution_count": 21,
      "outputs": [
        {
          "output_type": "execute_result",
          "data": {
            "text/html": [
              "<div>\n",
              "<style scoped>\n",
              "    .dataframe tbody tr th:only-of-type {\n",
              "        vertical-align: middle;\n",
              "    }\n",
              "\n",
              "    .dataframe tbody tr th {\n",
              "        vertical-align: top;\n",
              "    }\n",
              "\n",
              "    .dataframe thead th {\n",
              "        text-align: right;\n",
              "    }\n",
              "</style>\n",
              "<table border=\"1\" class=\"dataframe\">\n",
              "  <thead>\n",
              "    <tr style=\"text-align: right;\">\n",
              "      <th></th>\n",
              "      <th>foo</th>\n",
              "      <th>bar</th>\n",
              "    </tr>\n",
              "  </thead>\n",
              "  <tbody>\n",
              "    <tr>\n",
              "      <th>a</th>\n",
              "      <td>6</td>\n",
              "      <td>6</td>\n",
              "    </tr>\n",
              "    <tr>\n",
              "      <th>b</th>\n",
              "      <td>6</td>\n",
              "      <td>6</td>\n",
              "    </tr>\n",
              "    <tr>\n",
              "      <th>c</th>\n",
              "      <td>6</td>\n",
              "      <td>6</td>\n",
              "    </tr>\n",
              "  </tbody>\n",
              "</table>\n",
              "</div>"
            ],
            "text/plain": [
              "   foo  bar\n",
              "a    6    6\n",
              "b    6    6\n",
              "c    6    6"
            ]
          },
          "metadata": {
            "tags": []
          },
          "execution_count": 21
        }
      ]
    },
    {
      "cell_type": "code",
      "metadata": {
        "colab": {
          "base_uri": "https://localhost:8080/",
          "height": 142
        },
        "id": "qZMJk011BHIm",
        "outputId": "6a7544d4-9348-445d-cb23-702858548cc2"
      },
      "source": [
        "pd.DataFrame(np.random.randint(12),columns=['foo','bar'],index=['a','b','c'])"
      ],
      "execution_count": 22,
      "outputs": [
        {
          "output_type": "execute_result",
          "data": {
            "text/html": [
              "<div>\n",
              "<style scoped>\n",
              "    .dataframe tbody tr th:only-of-type {\n",
              "        vertical-align: middle;\n",
              "    }\n",
              "\n",
              "    .dataframe tbody tr th {\n",
              "        vertical-align: top;\n",
              "    }\n",
              "\n",
              "    .dataframe thead th {\n",
              "        text-align: right;\n",
              "    }\n",
              "</style>\n",
              "<table border=\"1\" class=\"dataframe\">\n",
              "  <thead>\n",
              "    <tr style=\"text-align: right;\">\n",
              "      <th></th>\n",
              "      <th>foo</th>\n",
              "      <th>bar</th>\n",
              "    </tr>\n",
              "  </thead>\n",
              "  <tbody>\n",
              "    <tr>\n",
              "      <th>a</th>\n",
              "      <td>0</td>\n",
              "      <td>0</td>\n",
              "    </tr>\n",
              "    <tr>\n",
              "      <th>b</th>\n",
              "      <td>0</td>\n",
              "      <td>0</td>\n",
              "    </tr>\n",
              "    <tr>\n",
              "      <th>c</th>\n",
              "      <td>0</td>\n",
              "      <td>0</td>\n",
              "    </tr>\n",
              "  </tbody>\n",
              "</table>\n",
              "</div>"
            ],
            "text/plain": [
              "   foo  bar\n",
              "a    0    0\n",
              "b    0    0\n",
              "c    0    0"
            ]
          },
          "metadata": {
            "tags": []
          },
          "execution_count": 22
        }
      ]
    },
    {
      "cell_type": "code",
      "metadata": {
        "colab": {
          "base_uri": "https://localhost:8080/",
          "height": 80
        },
        "id": "D0dCFfeZDoN-",
        "outputId": "e8d55aae-d059-44c3-ae58-a63210c36eee"
      },
      "source": [
        "pd.DataFrame(np.random.randint(12),columns=['foo','bar'],index=['a'])"
      ],
      "execution_count": 23,
      "outputs": [
        {
          "output_type": "execute_result",
          "data": {
            "text/html": [
              "<div>\n",
              "<style scoped>\n",
              "    .dataframe tbody tr th:only-of-type {\n",
              "        vertical-align: middle;\n",
              "    }\n",
              "\n",
              "    .dataframe tbody tr th {\n",
              "        vertical-align: top;\n",
              "    }\n",
              "\n",
              "    .dataframe thead th {\n",
              "        text-align: right;\n",
              "    }\n",
              "</style>\n",
              "<table border=\"1\" class=\"dataframe\">\n",
              "  <thead>\n",
              "    <tr style=\"text-align: right;\">\n",
              "      <th></th>\n",
              "      <th>foo</th>\n",
              "      <th>bar</th>\n",
              "    </tr>\n",
              "  </thead>\n",
              "  <tbody>\n",
              "    <tr>\n",
              "      <th>a</th>\n",
              "      <td>0</td>\n",
              "      <td>0</td>\n",
              "    </tr>\n",
              "  </tbody>\n",
              "</table>\n",
              "</div>"
            ],
            "text/plain": [
              "   foo  bar\n",
              "a    0    0"
            ]
          },
          "metadata": {
            "tags": []
          },
          "execution_count": 23
        }
      ]
    },
    {
      "cell_type": "code",
      "metadata": {
        "colab": {
          "base_uri": "https://localhost:8080/"
        },
        "id": "L-Ild-GdDr0s",
        "outputId": "b2980f39-99e0-4c31-c2dd-59fe1e53c501"
      },
      "source": [
        "a = pd.Index([32,5,46,64,76])\n",
        "a"
      ],
      "execution_count": 24,
      "outputs": [
        {
          "output_type": "execute_result",
          "data": {
            "text/plain": [
              "Int64Index([32, 5, 46, 64, 76], dtype='int64')"
            ]
          },
          "metadata": {
            "tags": []
          },
          "execution_count": 24
        }
      ]
    },
    {
      "cell_type": "code",
      "metadata": {
        "colab": {
          "base_uri": "https://localhost:8080/"
        },
        "id": "SpKndm65Em3M",
        "outputId": "d24d55c9-2e89-48ea-cc10-543b1632bbc4"
      },
      "source": [
        "a[1]"
      ],
      "execution_count": 25,
      "outputs": [
        {
          "output_type": "execute_result",
          "data": {
            "text/plain": [
              "5"
            ]
          },
          "metadata": {
            "tags": []
          },
          "execution_count": 25
        }
      ]
    },
    {
      "cell_type": "code",
      "metadata": {
        "colab": {
          "base_uri": "https://localhost:8080/"
        },
        "id": "6E_irYKfFH0F",
        "outputId": "045e08e5-6c91-464d-fb99-838c3033a424"
      },
      "source": [
        "a[3]"
      ],
      "execution_count": 26,
      "outputs": [
        {
          "output_type": "execute_result",
          "data": {
            "text/plain": [
              "64"
            ]
          },
          "metadata": {
            "tags": []
          },
          "execution_count": 26
        }
      ]
    },
    {
      "cell_type": "code",
      "metadata": {
        "colab": {
          "base_uri": "https://localhost:8080/"
        },
        "id": "_alDDkQJFIVB",
        "outputId": "1c487ec2-1cfa-4b23-f6f5-9b1bdcfe5946"
      },
      "source": [
        "a[::]"
      ],
      "execution_count": 27,
      "outputs": [
        {
          "output_type": "execute_result",
          "data": {
            "text/plain": [
              "Int64Index([32, 5, 46, 64, 76], dtype='int64')"
            ]
          },
          "metadata": {
            "tags": []
          },
          "execution_count": 27
        }
      ]
    },
    {
      "cell_type": "code",
      "metadata": {
        "colab": {
          "base_uri": "https://localhost:8080/"
        },
        "id": "2edreb7RTpTN",
        "outputId": "ad39c1e8-9004-403f-ca23-6237705ff76c"
      },
      "source": [
        "a[2:4:1]"
      ],
      "execution_count": 28,
      "outputs": [
        {
          "output_type": "execute_result",
          "data": {
            "text/plain": [
              "Int64Index([46, 64], dtype='int64')"
            ]
          },
          "metadata": {
            "tags": []
          },
          "execution_count": 28
        }
      ]
    },
    {
      "cell_type": "code",
      "metadata": {
        "colab": {
          "base_uri": "https://localhost:8080/"
        },
        "id": "T-CBytJAFMSu",
        "outputId": "522c625a-109d-4c2e-a37b-a6b9f4bf76a4"
      },
      "source": [
        "a[:]"
      ],
      "execution_count": 29,
      "outputs": [
        {
          "output_type": "execute_result",
          "data": {
            "text/plain": [
              "Int64Index([32, 5, 46, 64, 76], dtype='int64')"
            ]
          },
          "metadata": {
            "tags": []
          },
          "execution_count": 29
        }
      ]
    },
    {
      "cell_type": "code",
      "metadata": {
        "colab": {
          "base_uri": "https://localhost:8080/"
        },
        "id": "pWrSnB7OFN3R",
        "outputId": "9cc37503-d4d1-4c55-881a-c58e880bf7db"
      },
      "source": [
        "print(a.size,a.shape,a.ndim,a.dtype)"
      ],
      "execution_count": 30,
      "outputs": [
        {
          "output_type": "stream",
          "text": [
            "5 (5,) 1 int64\n"
          ],
          "name": "stdout"
        }
      ]
    },
    {
      "cell_type": "code",
      "metadata": {
        "colab": {
          "base_uri": "https://localhost:8080/"
        },
        "id": "scU8CIakHex1",
        "outputId": "3de4fbc5-2eaa-4551-c769-d165da7d096e"
      },
      "source": [
        "a=np.random.RandomState(10)\n",
        "b=pd.Series(a.randint(0,10,20))\n",
        "b"
      ],
      "execution_count": 31,
      "outputs": [
        {
          "output_type": "execute_result",
          "data": {
            "text/plain": [
              "0     9\n",
              "1     4\n",
              "2     0\n",
              "3     1\n",
              "4     9\n",
              "5     0\n",
              "6     1\n",
              "7     8\n",
              "8     9\n",
              "9     0\n",
              "10    8\n",
              "11    6\n",
              "12    4\n",
              "13    3\n",
              "14    0\n",
              "15    4\n",
              "16    6\n",
              "17    8\n",
              "18    1\n",
              "19    8\n",
              "dtype: int64"
            ]
          },
          "metadata": {
            "tags": []
          },
          "execution_count": 31
        }
      ]
    },
    {
      "cell_type": "code",
      "metadata": {
        "colab": {
          "base_uri": "https://localhost:8080/",
          "height": 204
        },
        "id": "khMGzfZ8Ktjw",
        "outputId": "6a277020-08d7-4a11-96c9-f6ac1018e4e1"
      },
      "source": [
        "df=pd.DataFrame(a.randint(0,10,(5,4)),columns=['a','b','c','d'])\n",
        "df"
      ],
      "execution_count": 32,
      "outputs": [
        {
          "output_type": "execute_result",
          "data": {
            "text/html": [
              "<div>\n",
              "<style scoped>\n",
              "    .dataframe tbody tr th:only-of-type {\n",
              "        vertical-align: middle;\n",
              "    }\n",
              "\n",
              "    .dataframe tbody tr th {\n",
              "        vertical-align: top;\n",
              "    }\n",
              "\n",
              "    .dataframe thead th {\n",
              "        text-align: right;\n",
              "    }\n",
              "</style>\n",
              "<table border=\"1\" class=\"dataframe\">\n",
              "  <thead>\n",
              "    <tr style=\"text-align: right;\">\n",
              "      <th></th>\n",
              "      <th>a</th>\n",
              "      <th>b</th>\n",
              "      <th>c</th>\n",
              "      <th>d</th>\n",
              "    </tr>\n",
              "  </thead>\n",
              "  <tbody>\n",
              "    <tr>\n",
              "      <th>0</th>\n",
              "      <td>4</td>\n",
              "      <td>1</td>\n",
              "      <td>3</td>\n",
              "      <td>6</td>\n",
              "    </tr>\n",
              "    <tr>\n",
              "      <th>1</th>\n",
              "      <td>5</td>\n",
              "      <td>3</td>\n",
              "      <td>9</td>\n",
              "      <td>6</td>\n",
              "    </tr>\n",
              "    <tr>\n",
              "      <th>2</th>\n",
              "      <td>9</td>\n",
              "      <td>1</td>\n",
              "      <td>9</td>\n",
              "      <td>4</td>\n",
              "    </tr>\n",
              "    <tr>\n",
              "      <th>3</th>\n",
              "      <td>2</td>\n",
              "      <td>6</td>\n",
              "      <td>7</td>\n",
              "      <td>8</td>\n",
              "    </tr>\n",
              "    <tr>\n",
              "      <th>4</th>\n",
              "      <td>8</td>\n",
              "      <td>9</td>\n",
              "      <td>2</td>\n",
              "      <td>0</td>\n",
              "    </tr>\n",
              "  </tbody>\n",
              "</table>\n",
              "</div>"
            ],
            "text/plain": [
              "   a  b  c  d\n",
              "0  4  1  3  6\n",
              "1  5  3  9  6\n",
              "2  9  1  9  4\n",
              "3  2  6  7  8\n",
              "4  8  9  2  0"
            ]
          },
          "metadata": {
            "tags": []
          },
          "execution_count": 32
        }
      ]
    },
    {
      "cell_type": "code",
      "metadata": {
        "colab": {
          "base_uri": "https://localhost:8080/"
        },
        "id": "_yLg3Kd5XihA",
        "outputId": "606ce7cd-c32f-45d2-8c9f-7bf950b7e1b6"
      },
      "source": [
        "np.exp(b)"
      ],
      "execution_count": 33,
      "outputs": [
        {
          "output_type": "execute_result",
          "data": {
            "text/plain": [
              "0     8103.083928\n",
              "1       54.598150\n",
              "2        1.000000\n",
              "3        2.718282\n",
              "4     8103.083928\n",
              "5        1.000000\n",
              "6        2.718282\n",
              "7     2980.957987\n",
              "8     8103.083928\n",
              "9        1.000000\n",
              "10    2980.957987\n",
              "11     403.428793\n",
              "12      54.598150\n",
              "13      20.085537\n",
              "14       1.000000\n",
              "15      54.598150\n",
              "16     403.428793\n",
              "17    2980.957987\n",
              "18       2.718282\n",
              "19    2980.957987\n",
              "dtype: float64"
            ]
          },
          "metadata": {
            "tags": []
          },
          "execution_count": 33
        }
      ]
    },
    {
      "cell_type": "code",
      "metadata": {
        "colab": {
          "base_uri": "https://localhost:8080/",
          "height": 204
        },
        "id": "RPRW6j0DYD2g",
        "outputId": "b9c14521-14c8-4390-8bd7-de1ed70eeb70"
      },
      "source": [
        "np.sin(df*np.pi/4)"
      ],
      "execution_count": 34,
      "outputs": [
        {
          "output_type": "execute_result",
          "data": {
            "text/html": [
              "<div>\n",
              "<style scoped>\n",
              "    .dataframe tbody tr th:only-of-type {\n",
              "        vertical-align: middle;\n",
              "    }\n",
              "\n",
              "    .dataframe tbody tr th {\n",
              "        vertical-align: top;\n",
              "    }\n",
              "\n",
              "    .dataframe thead th {\n",
              "        text-align: right;\n",
              "    }\n",
              "</style>\n",
              "<table border=\"1\" class=\"dataframe\">\n",
              "  <thead>\n",
              "    <tr style=\"text-align: right;\">\n",
              "      <th></th>\n",
              "      <th>a</th>\n",
              "      <th>b</th>\n",
              "      <th>c</th>\n",
              "      <th>d</th>\n",
              "    </tr>\n",
              "  </thead>\n",
              "  <tbody>\n",
              "    <tr>\n",
              "      <th>0</th>\n",
              "      <td>1.224647e-16</td>\n",
              "      <td>0.707107</td>\n",
              "      <td>0.707107</td>\n",
              "      <td>-1.000000e+00</td>\n",
              "    </tr>\n",
              "    <tr>\n",
              "      <th>1</th>\n",
              "      <td>-7.071068e-01</td>\n",
              "      <td>0.707107</td>\n",
              "      <td>0.707107</td>\n",
              "      <td>-1.000000e+00</td>\n",
              "    </tr>\n",
              "    <tr>\n",
              "      <th>2</th>\n",
              "      <td>7.071068e-01</td>\n",
              "      <td>0.707107</td>\n",
              "      <td>0.707107</td>\n",
              "      <td>1.224647e-16</td>\n",
              "    </tr>\n",
              "    <tr>\n",
              "      <th>3</th>\n",
              "      <td>1.000000e+00</td>\n",
              "      <td>-1.000000</td>\n",
              "      <td>-0.707107</td>\n",
              "      <td>-2.449294e-16</td>\n",
              "    </tr>\n",
              "    <tr>\n",
              "      <th>4</th>\n",
              "      <td>-2.449294e-16</td>\n",
              "      <td>0.707107</td>\n",
              "      <td>1.000000</td>\n",
              "      <td>0.000000e+00</td>\n",
              "    </tr>\n",
              "  </tbody>\n",
              "</table>\n",
              "</div>"
            ],
            "text/plain": [
              "              a         b         c             d\n",
              "0  1.224647e-16  0.707107  0.707107 -1.000000e+00\n",
              "1 -7.071068e-01  0.707107  0.707107 -1.000000e+00\n",
              "2  7.071068e-01  0.707107  0.707107  1.224647e-16\n",
              "3  1.000000e+00 -1.000000 -0.707107 -2.449294e-16\n",
              "4 -2.449294e-16  0.707107  1.000000  0.000000e+00"
            ]
          },
          "metadata": {
            "tags": []
          },
          "execution_count": 34
        }
      ]
    },
    {
      "cell_type": "markdown",
      "metadata": {
        "id": "8HkmjO91Ytp4"
      },
      "source": [
        " Universal function"
      ]
    },
    {
      "cell_type": "code",
      "metadata": {
        "colab": {
          "base_uri": "https://localhost:8080/"
        },
        "id": "hmY7OepLYOjb",
        "outputId": "f1308f23-b3e0-4a0c-f9d8-c353cfb63739"
      },
      "source": [
        "area = pd.Series({'Alaska': 1723337, 'Texas': 695662,'California': 423967}, name='area')\n",
        "population = pd.Series({'California': 38332521, 'Texas': 26448193,'New York': 19651127}, name='population')\n",
        "print(area)\n",
        "\n",
        "population\n"
      ],
      "execution_count": 35,
      "outputs": [
        {
          "output_type": "stream",
          "text": [
            "Alaska        1723337\n",
            "Texas          695662\n",
            "California     423967\n",
            "Name: area, dtype: int64\n"
          ],
          "name": "stdout"
        },
        {
          "output_type": "execute_result",
          "data": {
            "text/plain": [
              "California    38332521\n",
              "Texas         26448193\n",
              "New York      19651127\n",
              "Name: population, dtype: int64"
            ]
          },
          "metadata": {
            "tags": []
          },
          "execution_count": 35
        }
      ]
    },
    {
      "cell_type": "code",
      "metadata": {
        "colab": {
          "base_uri": "https://localhost:8080/"
        },
        "id": "HI2mc_hObqKo",
        "outputId": "f3e9b3df-d25f-4647-9f60-1ef7e2fe028b"
      },
      "source": [
        "population/area"
      ],
      "execution_count": 36,
      "outputs": [
        {
          "output_type": "execute_result",
          "data": {
            "text/plain": [
              "Alaska              NaN\n",
              "California    90.413926\n",
              "New York            NaN\n",
              "Texas         38.018740\n",
              "dtype: float64"
            ]
          },
          "metadata": {
            "tags": []
          },
          "execution_count": 36
        }
      ]
    },
    {
      "cell_type": "code",
      "metadata": {
        "colab": {
          "base_uri": "https://localhost:8080/"
        },
        "id": "6JT-rSaLb2H4",
        "outputId": "a04318e4-b2a7-4f8f-c2aa-264a088505a5"
      },
      "source": [
        "area = pd.Series({'karnataka': 1723337, 'Delhi': 695662,'UP': 423967}, name='state')\n",
        "population = pd.Series({'Karnataka': 38332521, 'maharstha': 26448193,'Delhi': 19651127}, name='population')\n",
        "print(area)\n"
      ],
      "execution_count": 37,
      "outputs": [
        {
          "output_type": "stream",
          "text": [
            "karnataka    1723337\n",
            "Delhi         695662\n",
            "UP            423967\n",
            "Name: state, dtype: int64\n"
          ],
          "name": "stdout"
        }
      ]
    },
    {
      "cell_type": "code",
      "metadata": {
        "colab": {
          "base_uri": "https://localhost:8080/"
        },
        "id": "gZHjXaqvdu-l",
        "outputId": "3c42c652-0162-4b73-fc87-a6d87924e2c0"
      },
      "source": [
        "population/area"
      ],
      "execution_count": 38,
      "outputs": [
        {
          "output_type": "execute_result",
          "data": {
            "text/plain": [
              "Delhi        28.248096\n",
              "Karnataka          NaN\n",
              "UP                 NaN\n",
              "karnataka          NaN\n",
              "maharstha          NaN\n",
              "dtype: float64"
            ]
          },
          "metadata": {
            "tags": []
          },
          "execution_count": 38
        }
      ]
    },
    {
      "cell_type": "code",
      "metadata": {
        "colab": {
          "base_uri": "https://localhost:8080/"
        },
        "id": "wlxhgcBsdy2x",
        "outputId": "31115e80-5015-41ca-a40e-bd1bf4791081"
      },
      "source": [
        "area.index|population.index"
      ],
      "execution_count": 39,
      "outputs": [
        {
          "output_type": "execute_result",
          "data": {
            "text/plain": [
              "Index(['Delhi', 'Karnataka', 'UP', 'karnataka', 'maharstha'], dtype='object')"
            ]
          },
          "metadata": {
            "tags": []
          },
          "execution_count": 39
        }
      ]
    },
    {
      "cell_type": "code",
      "metadata": {
        "id": "mi7ZrrwZf_KP",
        "colab": {
          "base_uri": "https://localhost:8080/"
        },
        "outputId": "e02e7b06-a735-4c3e-8ed2-d7cffee9f824"
      },
      "source": [
        "a=pd.Series([32,43,53,54],index=[0,1,2,3])\n",
        "b=pd.Series([21,34,56,75],index=[1,2,3,4])\n",
        "print(a)\n",
        "print(b)\n",
        "a+b"
      ],
      "execution_count": 40,
      "outputs": [
        {
          "output_type": "stream",
          "text": [
            "0    32\n",
            "1    43\n",
            "2    53\n",
            "3    54\n",
            "dtype: int64\n",
            "1    21\n",
            "2    34\n",
            "3    56\n",
            "4    75\n",
            "dtype: int64\n"
          ],
          "name": "stdout"
        },
        {
          "output_type": "execute_result",
          "data": {
            "text/plain": [
              "0      NaN\n",
              "1     64.0\n",
              "2     87.0\n",
              "3    110.0\n",
              "4      NaN\n",
              "dtype: float64"
            ]
          },
          "metadata": {
            "tags": []
          },
          "execution_count": 40
        }
      ]
    },
    {
      "cell_type": "code",
      "metadata": {
        "colab": {
          "base_uri": "https://localhost:8080/"
        },
        "id": "XvbsYWyE_lzY",
        "outputId": "dd1a309f-13bf-4a27-bb2c-0b47a7b41de0"
      },
      "source": [
        "a.add(b,fill_value=0) "
      ],
      "execution_count": 41,
      "outputs": [
        {
          "output_type": "execute_result",
          "data": {
            "text/plain": [
              "0     32.0\n",
              "1     64.0\n",
              "2     87.0\n",
              "3    110.0\n",
              "4     75.0\n",
              "dtype: float64"
            ]
          },
          "metadata": {
            "tags": []
          },
          "execution_count": 41
        }
      ]
    },
    {
      "cell_type": "code",
      "metadata": {
        "colab": {
          "base_uri": "https://localhost:8080/",
          "height": 204
        },
        "id": "v7jhj_tNBphW",
        "outputId": "0a5e31c8-97f6-4695-893c-6a40fb90b778"
      },
      "source": [
        "df"
      ],
      "execution_count": 42,
      "outputs": [
        {
          "output_type": "execute_result",
          "data": {
            "text/html": [
              "<div>\n",
              "<style scoped>\n",
              "    .dataframe tbody tr th:only-of-type {\n",
              "        vertical-align: middle;\n",
              "    }\n",
              "\n",
              "    .dataframe tbody tr th {\n",
              "        vertical-align: top;\n",
              "    }\n",
              "\n",
              "    .dataframe thead th {\n",
              "        text-align: right;\n",
              "    }\n",
              "</style>\n",
              "<table border=\"1\" class=\"dataframe\">\n",
              "  <thead>\n",
              "    <tr style=\"text-align: right;\">\n",
              "      <th></th>\n",
              "      <th>a</th>\n",
              "      <th>b</th>\n",
              "      <th>c</th>\n",
              "      <th>d</th>\n",
              "    </tr>\n",
              "  </thead>\n",
              "  <tbody>\n",
              "    <tr>\n",
              "      <th>0</th>\n",
              "      <td>4</td>\n",
              "      <td>1</td>\n",
              "      <td>3</td>\n",
              "      <td>6</td>\n",
              "    </tr>\n",
              "    <tr>\n",
              "      <th>1</th>\n",
              "      <td>5</td>\n",
              "      <td>3</td>\n",
              "      <td>9</td>\n",
              "      <td>6</td>\n",
              "    </tr>\n",
              "    <tr>\n",
              "      <th>2</th>\n",
              "      <td>9</td>\n",
              "      <td>1</td>\n",
              "      <td>9</td>\n",
              "      <td>4</td>\n",
              "    </tr>\n",
              "    <tr>\n",
              "      <th>3</th>\n",
              "      <td>2</td>\n",
              "      <td>6</td>\n",
              "      <td>7</td>\n",
              "      <td>8</td>\n",
              "    </tr>\n",
              "    <tr>\n",
              "      <th>4</th>\n",
              "      <td>8</td>\n",
              "      <td>9</td>\n",
              "      <td>2</td>\n",
              "      <td>0</td>\n",
              "    </tr>\n",
              "  </tbody>\n",
              "</table>\n",
              "</div>"
            ],
            "text/plain": [
              "   a  b  c  d\n",
              "0  4  1  3  6\n",
              "1  5  3  9  6\n",
              "2  9  1  9  4\n",
              "3  2  6  7  8\n",
              "4  8  9  2  0"
            ]
          },
          "metadata": {
            "tags": []
          },
          "execution_count": 42
        }
      ]
    },
    {
      "cell_type": "code",
      "metadata": {
        "colab": {
          "base_uri": "https://localhost:8080/",
          "height": 142
        },
        "id": "KLVLlP7yCCXE",
        "outputId": "03d02ecb-7ebf-4ecf-cb76-5abb92296764"
      },
      "source": [
        "df2=pd.DataFrame({'area':['Karnataka','UP','Delhi'],'population':[700000,60000,50000]})\n",
        "df2"
      ],
      "execution_count": 43,
      "outputs": [
        {
          "output_type": "execute_result",
          "data": {
            "text/html": [
              "<div>\n",
              "<style scoped>\n",
              "    .dataframe tbody tr th:only-of-type {\n",
              "        vertical-align: middle;\n",
              "    }\n",
              "\n",
              "    .dataframe tbody tr th {\n",
              "        vertical-align: top;\n",
              "    }\n",
              "\n",
              "    .dataframe thead th {\n",
              "        text-align: right;\n",
              "    }\n",
              "</style>\n",
              "<table border=\"1\" class=\"dataframe\">\n",
              "  <thead>\n",
              "    <tr style=\"text-align: right;\">\n",
              "      <th></th>\n",
              "      <th>area</th>\n",
              "      <th>population</th>\n",
              "    </tr>\n",
              "  </thead>\n",
              "  <tbody>\n",
              "    <tr>\n",
              "      <th>0</th>\n",
              "      <td>Karnataka</td>\n",
              "      <td>700000</td>\n",
              "    </tr>\n",
              "    <tr>\n",
              "      <th>1</th>\n",
              "      <td>UP</td>\n",
              "      <td>60000</td>\n",
              "    </tr>\n",
              "    <tr>\n",
              "      <th>2</th>\n",
              "      <td>Delhi</td>\n",
              "      <td>50000</td>\n",
              "    </tr>\n",
              "  </tbody>\n",
              "</table>\n",
              "</div>"
            ],
            "text/plain": [
              "        area  population\n",
              "0  Karnataka      700000\n",
              "1         UP       60000\n",
              "2      Delhi       50000"
            ]
          },
          "metadata": {
            "tags": []
          },
          "execution_count": 43
        }
      ]
    },
    {
      "cell_type": "code",
      "metadata": {
        "colab": {
          "base_uri": "https://localhost:8080/",
          "height": 221
        },
        "id": "eK9DYt3eCo18",
        "outputId": "0312f0d2-375a-42bb-9eb5-61d2a7d238f0"
      },
      "source": [
        "data = {\"Province\": [\"KA\", \"DL\", \"AP\", \"MP\", \"UP\"],\"Year\": [2013, 2014, 2013, 2014, 2014],\"Literacy\": [0.2, 0.1, 0.5, 0.3, 0.5]}\n",
        "print(data)\n",
        "data = pd.DataFrame(data)\n",
        "data"
      ],
      "execution_count": 44,
      "outputs": [
        {
          "output_type": "stream",
          "text": [
            "{'Province': ['KA', 'DL', 'AP', 'MP', 'UP'], 'Year': [2013, 2014, 2013, 2014, 2014], 'Literacy': [0.2, 0.1, 0.5, 0.3, 0.5]}\n"
          ],
          "name": "stdout"
        },
        {
          "output_type": "execute_result",
          "data": {
            "text/html": [
              "<div>\n",
              "<style scoped>\n",
              "    .dataframe tbody tr th:only-of-type {\n",
              "        vertical-align: middle;\n",
              "    }\n",
              "\n",
              "    .dataframe tbody tr th {\n",
              "        vertical-align: top;\n",
              "    }\n",
              "\n",
              "    .dataframe thead th {\n",
              "        text-align: right;\n",
              "    }\n",
              "</style>\n",
              "<table border=\"1\" class=\"dataframe\">\n",
              "  <thead>\n",
              "    <tr style=\"text-align: right;\">\n",
              "      <th></th>\n",
              "      <th>Province</th>\n",
              "      <th>Year</th>\n",
              "      <th>Literacy</th>\n",
              "    </tr>\n",
              "  </thead>\n",
              "  <tbody>\n",
              "    <tr>\n",
              "      <th>0</th>\n",
              "      <td>KA</td>\n",
              "      <td>2013</td>\n",
              "      <td>0.2</td>\n",
              "    </tr>\n",
              "    <tr>\n",
              "      <th>1</th>\n",
              "      <td>DL</td>\n",
              "      <td>2014</td>\n",
              "      <td>0.1</td>\n",
              "    </tr>\n",
              "    <tr>\n",
              "      <th>2</th>\n",
              "      <td>AP</td>\n",
              "      <td>2013</td>\n",
              "      <td>0.5</td>\n",
              "    </tr>\n",
              "    <tr>\n",
              "      <th>3</th>\n",
              "      <td>MP</td>\n",
              "      <td>2014</td>\n",
              "      <td>0.3</td>\n",
              "    </tr>\n",
              "    <tr>\n",
              "      <th>4</th>\n",
              "      <td>UP</td>\n",
              "      <td>2014</td>\n",
              "      <td>0.5</td>\n",
              "    </tr>\n",
              "  </tbody>\n",
              "</table>\n",
              "</div>"
            ],
            "text/plain": [
              "  Province  Year  Literacy\n",
              "0       KA  2013       0.2\n",
              "1       DL  2014       0.1\n",
              "2       AP  2013       0.5\n",
              "3       MP  2014       0.3\n",
              "4       UP  2014       0.5"
            ]
          },
          "metadata": {
            "tags": []
          },
          "execution_count": 44
        }
      ]
    },
    {
      "cell_type": "code",
      "metadata": {
        "colab": {
          "base_uri": "https://localhost:8080/",
          "height": 204
        },
        "id": "ymEJHcblDcB5",
        "outputId": "756796d8-e109-4a90-a6e3-ba5d3d7284fa"
      },
      "source": [
        "df = pd.DataFrame(data, columns=[\"Year\", \"Province\" ,\"Literacy\"])\n",
        "df"
      ],
      "execution_count": 45,
      "outputs": [
        {
          "output_type": "execute_result",
          "data": {
            "text/html": [
              "<div>\n",
              "<style scoped>\n",
              "    .dataframe tbody tr th:only-of-type {\n",
              "        vertical-align: middle;\n",
              "    }\n",
              "\n",
              "    .dataframe tbody tr th {\n",
              "        vertical-align: top;\n",
              "    }\n",
              "\n",
              "    .dataframe thead th {\n",
              "        text-align: right;\n",
              "    }\n",
              "</style>\n",
              "<table border=\"1\" class=\"dataframe\">\n",
              "  <thead>\n",
              "    <tr style=\"text-align: right;\">\n",
              "      <th></th>\n",
              "      <th>Year</th>\n",
              "      <th>Province</th>\n",
              "      <th>Literacy</th>\n",
              "    </tr>\n",
              "  </thead>\n",
              "  <tbody>\n",
              "    <tr>\n",
              "      <th>0</th>\n",
              "      <td>2013</td>\n",
              "      <td>KA</td>\n",
              "      <td>0.2</td>\n",
              "    </tr>\n",
              "    <tr>\n",
              "      <th>1</th>\n",
              "      <td>2014</td>\n",
              "      <td>DL</td>\n",
              "      <td>0.1</td>\n",
              "    </tr>\n",
              "    <tr>\n",
              "      <th>2</th>\n",
              "      <td>2013</td>\n",
              "      <td>AP</td>\n",
              "      <td>0.5</td>\n",
              "    </tr>\n",
              "    <tr>\n",
              "      <th>3</th>\n",
              "      <td>2014</td>\n",
              "      <td>MP</td>\n",
              "      <td>0.3</td>\n",
              "    </tr>\n",
              "    <tr>\n",
              "      <th>4</th>\n",
              "      <td>2014</td>\n",
              "      <td>UP</td>\n",
              "      <td>0.5</td>\n",
              "    </tr>\n",
              "  </tbody>\n",
              "</table>\n",
              "</div>"
            ],
            "text/plain": [
              "   Year Province  Literacy\n",
              "0  2013       KA       0.2\n",
              "1  2014       DL       0.1\n",
              "2  2013       AP       0.5\n",
              "3  2014       MP       0.3\n",
              "4  2014       UP       0.5"
            ]
          },
          "metadata": {
            "tags": []
          },
          "execution_count": 45
        }
      ]
    },
    {
      "cell_type": "code",
      "metadata": {
        "colab": {
          "base_uri": "https://localhost:8080/",
          "height": 204
        },
        "id": "-gD7INsiFNJH",
        "outputId": "d7e71e67-9511-4706-af6c-913c96fe25d3"
      },
      "source": [
        "df['nonsense'] = df.Year / df.Literacy\n",
        "df"
      ],
      "execution_count": 46,
      "outputs": [
        {
          "output_type": "execute_result",
          "data": {
            "text/html": [
              "<div>\n",
              "<style scoped>\n",
              "    .dataframe tbody tr th:only-of-type {\n",
              "        vertical-align: middle;\n",
              "    }\n",
              "\n",
              "    .dataframe tbody tr th {\n",
              "        vertical-align: top;\n",
              "    }\n",
              "\n",
              "    .dataframe thead th {\n",
              "        text-align: right;\n",
              "    }\n",
              "</style>\n",
              "<table border=\"1\" class=\"dataframe\">\n",
              "  <thead>\n",
              "    <tr style=\"text-align: right;\">\n",
              "      <th></th>\n",
              "      <th>Year</th>\n",
              "      <th>Province</th>\n",
              "      <th>Literacy</th>\n",
              "      <th>nonsense</th>\n",
              "    </tr>\n",
              "  </thead>\n",
              "  <tbody>\n",
              "    <tr>\n",
              "      <th>0</th>\n",
              "      <td>2013</td>\n",
              "      <td>KA</td>\n",
              "      <td>0.2</td>\n",
              "      <td>10065.000000</td>\n",
              "    </tr>\n",
              "    <tr>\n",
              "      <th>1</th>\n",
              "      <td>2014</td>\n",
              "      <td>DL</td>\n",
              "      <td>0.1</td>\n",
              "      <td>20140.000000</td>\n",
              "    </tr>\n",
              "    <tr>\n",
              "      <th>2</th>\n",
              "      <td>2013</td>\n",
              "      <td>AP</td>\n",
              "      <td>0.5</td>\n",
              "      <td>4026.000000</td>\n",
              "    </tr>\n",
              "    <tr>\n",
              "      <th>3</th>\n",
              "      <td>2014</td>\n",
              "      <td>MP</td>\n",
              "      <td>0.3</td>\n",
              "      <td>6713.333333</td>\n",
              "    </tr>\n",
              "    <tr>\n",
              "      <th>4</th>\n",
              "      <td>2014</td>\n",
              "      <td>UP</td>\n",
              "      <td>0.5</td>\n",
              "      <td>4028.000000</td>\n",
              "    </tr>\n",
              "  </tbody>\n",
              "</table>\n",
              "</div>"
            ],
            "text/plain": [
              "   Year Province  Literacy      nonsense\n",
              "0  2013       KA       0.2  10065.000000\n",
              "1  2014       DL       0.1  20140.000000\n",
              "2  2013       AP       0.5   4026.000000\n",
              "3  2014       MP       0.3   6713.333333\n",
              "4  2014       UP       0.5   4028.000000"
            ]
          },
          "metadata": {
            "tags": []
          },
          "execution_count": 46
        }
      ]
    },
    {
      "cell_type": "code",
      "metadata": {
        "colab": {
          "base_uri": "https://localhost:8080/",
          "height": 204
        },
        "id": "-oqvRncBFRyp",
        "outputId": "fab6caba-abf1-46ff-d49a-371a38554ff8"
      },
      "source": [
        "df['Serie_aligned'] = pd.Series(range(5), index=[0,1,2, 3, 4])\n",
        "df"
      ],
      "execution_count": 47,
      "outputs": [
        {
          "output_type": "execute_result",
          "data": {
            "text/html": [
              "<div>\n",
              "<style scoped>\n",
              "    .dataframe tbody tr th:only-of-type {\n",
              "        vertical-align: middle;\n",
              "    }\n",
              "\n",
              "    .dataframe tbody tr th {\n",
              "        vertical-align: top;\n",
              "    }\n",
              "\n",
              "    .dataframe thead th {\n",
              "        text-align: right;\n",
              "    }\n",
              "</style>\n",
              "<table border=\"1\" class=\"dataframe\">\n",
              "  <thead>\n",
              "    <tr style=\"text-align: right;\">\n",
              "      <th></th>\n",
              "      <th>Year</th>\n",
              "      <th>Province</th>\n",
              "      <th>Literacy</th>\n",
              "      <th>nonsense</th>\n",
              "      <th>Serie_aligned</th>\n",
              "    </tr>\n",
              "  </thead>\n",
              "  <tbody>\n",
              "    <tr>\n",
              "      <th>0</th>\n",
              "      <td>2013</td>\n",
              "      <td>KA</td>\n",
              "      <td>0.2</td>\n",
              "      <td>10065.000000</td>\n",
              "      <td>0</td>\n",
              "    </tr>\n",
              "    <tr>\n",
              "      <th>1</th>\n",
              "      <td>2014</td>\n",
              "      <td>DL</td>\n",
              "      <td>0.1</td>\n",
              "      <td>20140.000000</td>\n",
              "      <td>1</td>\n",
              "    </tr>\n",
              "    <tr>\n",
              "      <th>2</th>\n",
              "      <td>2013</td>\n",
              "      <td>AP</td>\n",
              "      <td>0.5</td>\n",
              "      <td>4026.000000</td>\n",
              "      <td>2</td>\n",
              "    </tr>\n",
              "    <tr>\n",
              "      <th>3</th>\n",
              "      <td>2014</td>\n",
              "      <td>MP</td>\n",
              "      <td>0.3</td>\n",
              "      <td>6713.333333</td>\n",
              "      <td>3</td>\n",
              "    </tr>\n",
              "    <tr>\n",
              "      <th>4</th>\n",
              "      <td>2014</td>\n",
              "      <td>UP</td>\n",
              "      <td>0.5</td>\n",
              "      <td>4028.000000</td>\n",
              "      <td>4</td>\n",
              "    </tr>\n",
              "  </tbody>\n",
              "</table>\n",
              "</div>"
            ],
            "text/plain": [
              "   Year Province  Literacy      nonsense  Serie_aligned\n",
              "0  2013       KA       0.2  10065.000000              0\n",
              "1  2014       DL       0.1  20140.000000              1\n",
              "2  2013       AP       0.5   4026.000000              2\n",
              "3  2014       MP       0.3   6713.333333              3\n",
              "4  2014       UP       0.5   4028.000000              4"
            ]
          },
          "metadata": {
            "tags": []
          },
          "execution_count": 47
        }
      ]
    },
    {
      "cell_type": "code",
      "metadata": {
        "colab": {
          "base_uri": "https://localhost:8080/",
          "height": 142
        },
        "id": "UE6oVFd-FWjR",
        "outputId": "e701b3e2-20fe-4f8a-ab7b-d9cc8b517537"
      },
      "source": [
        "df2 = pd.DataFrame({\"Province\": [\"KA\", \"MP\", \"AP\"], \"Population\": [\"100000\", \"200000\", \"300000\"]})\n",
        "df2"
      ],
      "execution_count": 48,
      "outputs": [
        {
          "output_type": "execute_result",
          "data": {
            "text/html": [
              "<div>\n",
              "<style scoped>\n",
              "    .dataframe tbody tr th:only-of-type {\n",
              "        vertical-align: middle;\n",
              "    }\n",
              "\n",
              "    .dataframe tbody tr th {\n",
              "        vertical-align: top;\n",
              "    }\n",
              "\n",
              "    .dataframe thead th {\n",
              "        text-align: right;\n",
              "    }\n",
              "</style>\n",
              "<table border=\"1\" class=\"dataframe\">\n",
              "  <thead>\n",
              "    <tr style=\"text-align: right;\">\n",
              "      <th></th>\n",
              "      <th>Province</th>\n",
              "      <th>Population</th>\n",
              "    </tr>\n",
              "  </thead>\n",
              "  <tbody>\n",
              "    <tr>\n",
              "      <th>0</th>\n",
              "      <td>KA</td>\n",
              "      <td>100000</td>\n",
              "    </tr>\n",
              "    <tr>\n",
              "      <th>1</th>\n",
              "      <td>MP</td>\n",
              "      <td>200000</td>\n",
              "    </tr>\n",
              "    <tr>\n",
              "      <th>2</th>\n",
              "      <td>AP</td>\n",
              "      <td>300000</td>\n",
              "    </tr>\n",
              "  </tbody>\n",
              "</table>\n",
              "</div>"
            ],
            "text/plain": [
              "  Province Population\n",
              "0       KA     100000\n",
              "1       MP     200000\n",
              "2       AP     300000"
            ]
          },
          "metadata": {
            "tags": []
          },
          "execution_count": 48
        }
      ]
    },
    {
      "cell_type": "code",
      "metadata": {
        "colab": {
          "base_uri": "https://localhost:8080/",
          "height": 142
        },
        "id": "mtuZv1CWFdEI",
        "outputId": "2c9e31e4-0490-4580-dae8-3c99bf1989f2"
      },
      "source": [
        "df.merge(df2) "
      ],
      "execution_count": 49,
      "outputs": [
        {
          "output_type": "execute_result",
          "data": {
            "text/html": [
              "<div>\n",
              "<style scoped>\n",
              "    .dataframe tbody tr th:only-of-type {\n",
              "        vertical-align: middle;\n",
              "    }\n",
              "\n",
              "    .dataframe tbody tr th {\n",
              "        vertical-align: top;\n",
              "    }\n",
              "\n",
              "    .dataframe thead th {\n",
              "        text-align: right;\n",
              "    }\n",
              "</style>\n",
              "<table border=\"1\" class=\"dataframe\">\n",
              "  <thead>\n",
              "    <tr style=\"text-align: right;\">\n",
              "      <th></th>\n",
              "      <th>Year</th>\n",
              "      <th>Province</th>\n",
              "      <th>Literacy</th>\n",
              "      <th>nonsense</th>\n",
              "      <th>Serie_aligned</th>\n",
              "      <th>Population</th>\n",
              "    </tr>\n",
              "  </thead>\n",
              "  <tbody>\n",
              "    <tr>\n",
              "      <th>0</th>\n",
              "      <td>2013</td>\n",
              "      <td>KA</td>\n",
              "      <td>0.2</td>\n",
              "      <td>10065.000000</td>\n",
              "      <td>0</td>\n",
              "      <td>100000</td>\n",
              "    </tr>\n",
              "    <tr>\n",
              "      <th>1</th>\n",
              "      <td>2013</td>\n",
              "      <td>AP</td>\n",
              "      <td>0.5</td>\n",
              "      <td>4026.000000</td>\n",
              "      <td>2</td>\n",
              "      <td>300000</td>\n",
              "    </tr>\n",
              "    <tr>\n",
              "      <th>2</th>\n",
              "      <td>2014</td>\n",
              "      <td>MP</td>\n",
              "      <td>0.3</td>\n",
              "      <td>6713.333333</td>\n",
              "      <td>3</td>\n",
              "      <td>200000</td>\n",
              "    </tr>\n",
              "  </tbody>\n",
              "</table>\n",
              "</div>"
            ],
            "text/plain": [
              "   Year Province  Literacy      nonsense  Serie_aligned Population\n",
              "0  2013       KA       0.2  10065.000000              0     100000\n",
              "1  2013       AP       0.5   4026.000000              2     300000\n",
              "2  2014       MP       0.3   6713.333333              3     200000"
            ]
          },
          "metadata": {
            "tags": []
          },
          "execution_count": 49
        }
      ]
    },
    {
      "cell_type": "code",
      "metadata": {
        "colab": {
          "base_uri": "https://localhost:8080/",
          "height": 111
        },
        "id": "5M8Nb3ejFfkk",
        "outputId": "49d32902-370e-4ba4-8019-1f1ddf42e4c2"
      },
      "source": [
        "df3 = pd.DataFrame({\"province\": [\"KA\", \"AP\"], \"Population\": [\"100000\", \"200000\"]})\n",
        "df3\n",
        "df.merge(df3, right_on='province', left_on='Province')"
      ],
      "execution_count": 50,
      "outputs": [
        {
          "output_type": "execute_result",
          "data": {
            "text/html": [
              "<div>\n",
              "<style scoped>\n",
              "    .dataframe tbody tr th:only-of-type {\n",
              "        vertical-align: middle;\n",
              "    }\n",
              "\n",
              "    .dataframe tbody tr th {\n",
              "        vertical-align: top;\n",
              "    }\n",
              "\n",
              "    .dataframe thead th {\n",
              "        text-align: right;\n",
              "    }\n",
              "</style>\n",
              "<table border=\"1\" class=\"dataframe\">\n",
              "  <thead>\n",
              "    <tr style=\"text-align: right;\">\n",
              "      <th></th>\n",
              "      <th>Year</th>\n",
              "      <th>Province</th>\n",
              "      <th>Literacy</th>\n",
              "      <th>nonsense</th>\n",
              "      <th>Serie_aligned</th>\n",
              "      <th>province</th>\n",
              "      <th>Population</th>\n",
              "    </tr>\n",
              "  </thead>\n",
              "  <tbody>\n",
              "    <tr>\n",
              "      <th>0</th>\n",
              "      <td>2013</td>\n",
              "      <td>KA</td>\n",
              "      <td>0.2</td>\n",
              "      <td>10065.0</td>\n",
              "      <td>0</td>\n",
              "      <td>KA</td>\n",
              "      <td>100000</td>\n",
              "    </tr>\n",
              "    <tr>\n",
              "      <th>1</th>\n",
              "      <td>2013</td>\n",
              "      <td>AP</td>\n",
              "      <td>0.5</td>\n",
              "      <td>4026.0</td>\n",
              "      <td>2</td>\n",
              "      <td>AP</td>\n",
              "      <td>200000</td>\n",
              "    </tr>\n",
              "  </tbody>\n",
              "</table>\n",
              "</div>"
            ],
            "text/plain": [
              "   Year Province  Literacy  nonsense  Serie_aligned province Population\n",
              "0  2013       KA       0.2   10065.0              0       KA     100000\n",
              "1  2013       AP       0.5    4026.0              2       AP     200000"
            ]
          },
          "metadata": {
            "tags": []
          },
          "execution_count": 50
        }
      ]
    },
    {
      "cell_type": "code",
      "metadata": {
        "colab": {
          "base_uri": "https://localhost:8080/",
          "height": 235
        },
        "id": "ZwasjAdRFy_W",
        "outputId": "ba45be3b-6b4d-4b39-d8e9-08f8729d8bd1"
      },
      "source": [
        "df4 = pd.DataFrame({\"Province\": [\"KA\", \"DL\",\"UP\", \"KL\"], \"Population\": [\"100000\", \"200000\",\"300000\", \"50000\"]})\n",
        "df.merge(df4, how='outer')"
      ],
      "execution_count": 51,
      "outputs": [
        {
          "output_type": "execute_result",
          "data": {
            "text/html": [
              "<div>\n",
              "<style scoped>\n",
              "    .dataframe tbody tr th:only-of-type {\n",
              "        vertical-align: middle;\n",
              "    }\n",
              "\n",
              "    .dataframe tbody tr th {\n",
              "        vertical-align: top;\n",
              "    }\n",
              "\n",
              "    .dataframe thead th {\n",
              "        text-align: right;\n",
              "    }\n",
              "</style>\n",
              "<table border=\"1\" class=\"dataframe\">\n",
              "  <thead>\n",
              "    <tr style=\"text-align: right;\">\n",
              "      <th></th>\n",
              "      <th>Year</th>\n",
              "      <th>Province</th>\n",
              "      <th>Literacy</th>\n",
              "      <th>nonsense</th>\n",
              "      <th>Serie_aligned</th>\n",
              "      <th>Population</th>\n",
              "    </tr>\n",
              "  </thead>\n",
              "  <tbody>\n",
              "    <tr>\n",
              "      <th>0</th>\n",
              "      <td>2013.0</td>\n",
              "      <td>KA</td>\n",
              "      <td>0.2</td>\n",
              "      <td>10065.000000</td>\n",
              "      <td>0.0</td>\n",
              "      <td>100000</td>\n",
              "    </tr>\n",
              "    <tr>\n",
              "      <th>1</th>\n",
              "      <td>2014.0</td>\n",
              "      <td>DL</td>\n",
              "      <td>0.1</td>\n",
              "      <td>20140.000000</td>\n",
              "      <td>1.0</td>\n",
              "      <td>200000</td>\n",
              "    </tr>\n",
              "    <tr>\n",
              "      <th>2</th>\n",
              "      <td>2013.0</td>\n",
              "      <td>AP</td>\n",
              "      <td>0.5</td>\n",
              "      <td>4026.000000</td>\n",
              "      <td>2.0</td>\n",
              "      <td>NaN</td>\n",
              "    </tr>\n",
              "    <tr>\n",
              "      <th>3</th>\n",
              "      <td>2014.0</td>\n",
              "      <td>MP</td>\n",
              "      <td>0.3</td>\n",
              "      <td>6713.333333</td>\n",
              "      <td>3.0</td>\n",
              "      <td>NaN</td>\n",
              "    </tr>\n",
              "    <tr>\n",
              "      <th>4</th>\n",
              "      <td>2014.0</td>\n",
              "      <td>UP</td>\n",
              "      <td>0.5</td>\n",
              "      <td>4028.000000</td>\n",
              "      <td>4.0</td>\n",
              "      <td>300000</td>\n",
              "    </tr>\n",
              "    <tr>\n",
              "      <th>5</th>\n",
              "      <td>NaN</td>\n",
              "      <td>KL</td>\n",
              "      <td>NaN</td>\n",
              "      <td>NaN</td>\n",
              "      <td>NaN</td>\n",
              "      <td>50000</td>\n",
              "    </tr>\n",
              "  </tbody>\n",
              "</table>\n",
              "</div>"
            ],
            "text/plain": [
              "     Year Province  Literacy      nonsense  Serie_aligned Population\n",
              "0  2013.0       KA       0.2  10065.000000            0.0     100000\n",
              "1  2014.0       DL       0.1  20140.000000            1.0     200000\n",
              "2  2013.0       AP       0.5   4026.000000            2.0        NaN\n",
              "3  2014.0       MP       0.3   6713.333333            3.0        NaN\n",
              "4  2014.0       UP       0.5   4028.000000            4.0     300000\n",
              "5     NaN       KL       NaN           NaN            NaN      50000"
            ]
          },
          "metadata": {
            "tags": []
          },
          "execution_count": 51
        }
      ]
    },
    {
      "cell_type": "code",
      "metadata": {
        "colab": {
          "base_uri": "https://localhost:8080/",
          "height": 337
        },
        "id": "HY3fMMMrH3SR",
        "outputId": "e33f27eb-aea5-440c-d6d6-4a495def4119"
      },
      "source": [
        "df5 = pd.DataFrame({\"Province\": [\"KA\", \"UP\", \"KL\"], \"Population\": [\"100000\", \"200000\", \"50000\"]})\n",
        "print(df)\n",
        "df.merge(df5, how='outer')"
      ],
      "execution_count": 52,
      "outputs": [
        {
          "output_type": "stream",
          "text": [
            "   Year Province  Literacy      nonsense  Serie_aligned\n",
            "0  2013       KA       0.2  10065.000000              0\n",
            "1  2014       DL       0.1  20140.000000              1\n",
            "2  2013       AP       0.5   4026.000000              2\n",
            "3  2014       MP       0.3   6713.333333              3\n",
            "4  2014       UP       0.5   4028.000000              4\n"
          ],
          "name": "stdout"
        },
        {
          "output_type": "execute_result",
          "data": {
            "text/html": [
              "<div>\n",
              "<style scoped>\n",
              "    .dataframe tbody tr th:only-of-type {\n",
              "        vertical-align: middle;\n",
              "    }\n",
              "\n",
              "    .dataframe tbody tr th {\n",
              "        vertical-align: top;\n",
              "    }\n",
              "\n",
              "    .dataframe thead th {\n",
              "        text-align: right;\n",
              "    }\n",
              "</style>\n",
              "<table border=\"1\" class=\"dataframe\">\n",
              "  <thead>\n",
              "    <tr style=\"text-align: right;\">\n",
              "      <th></th>\n",
              "      <th>Year</th>\n",
              "      <th>Province</th>\n",
              "      <th>Literacy</th>\n",
              "      <th>nonsense</th>\n",
              "      <th>Serie_aligned</th>\n",
              "      <th>Population</th>\n",
              "    </tr>\n",
              "  </thead>\n",
              "  <tbody>\n",
              "    <tr>\n",
              "      <th>0</th>\n",
              "      <td>2013.0</td>\n",
              "      <td>KA</td>\n",
              "      <td>0.2</td>\n",
              "      <td>10065.000000</td>\n",
              "      <td>0.0</td>\n",
              "      <td>100000</td>\n",
              "    </tr>\n",
              "    <tr>\n",
              "      <th>1</th>\n",
              "      <td>2014.0</td>\n",
              "      <td>DL</td>\n",
              "      <td>0.1</td>\n",
              "      <td>20140.000000</td>\n",
              "      <td>1.0</td>\n",
              "      <td>NaN</td>\n",
              "    </tr>\n",
              "    <tr>\n",
              "      <th>2</th>\n",
              "      <td>2013.0</td>\n",
              "      <td>AP</td>\n",
              "      <td>0.5</td>\n",
              "      <td>4026.000000</td>\n",
              "      <td>2.0</td>\n",
              "      <td>NaN</td>\n",
              "    </tr>\n",
              "    <tr>\n",
              "      <th>3</th>\n",
              "      <td>2014.0</td>\n",
              "      <td>MP</td>\n",
              "      <td>0.3</td>\n",
              "      <td>6713.333333</td>\n",
              "      <td>3.0</td>\n",
              "      <td>NaN</td>\n",
              "    </tr>\n",
              "    <tr>\n",
              "      <th>4</th>\n",
              "      <td>2014.0</td>\n",
              "      <td>UP</td>\n",
              "      <td>0.5</td>\n",
              "      <td>4028.000000</td>\n",
              "      <td>4.0</td>\n",
              "      <td>200000</td>\n",
              "    </tr>\n",
              "    <tr>\n",
              "      <th>5</th>\n",
              "      <td>NaN</td>\n",
              "      <td>KL</td>\n",
              "      <td>NaN</td>\n",
              "      <td>NaN</td>\n",
              "      <td>NaN</td>\n",
              "      <td>50000</td>\n",
              "    </tr>\n",
              "  </tbody>\n",
              "</table>\n",
              "</div>"
            ],
            "text/plain": [
              "     Year Province  Literacy      nonsense  Serie_aligned Population\n",
              "0  2013.0       KA       0.2  10065.000000            0.0     100000\n",
              "1  2014.0       DL       0.1  20140.000000            1.0        NaN\n",
              "2  2013.0       AP       0.5   4026.000000            2.0        NaN\n",
              "3  2014.0       MP       0.3   6713.333333            3.0        NaN\n",
              "4  2014.0       UP       0.5   4028.000000            4.0     200000\n",
              "5     NaN       KL       NaN           NaN            NaN      50000"
            ]
          },
          "metadata": {
            "tags": []
          },
          "execution_count": 52
        }
      ]
    },
    {
      "cell_type": "code",
      "metadata": {
        "colab": {
          "base_uri": "https://localhost:8080/",
          "height": 221
        },
        "id": "MC0fbf4MIPfl",
        "outputId": "62749f7d-e2a0-49b6-8fab-a4659c0708e5"
      },
      "source": [
        "data = {\"Province\": [\"FL\", \"FL\", \"NH\", \"NH\", \"ZH\"],\n",
        "        \"Year\": [2013, 2014, 2013, 2014, 2014],\n",
        "        \"Literacy\": [0.2, 0.1, 0.5, 0.3, 0.5]}\n",
        "print(data)\n",
        "data = pd.DataFrame(data)\n",
        "data"
      ],
      "execution_count": 53,
      "outputs": [
        {
          "output_type": "stream",
          "text": [
            "{'Province': ['FL', 'FL', 'NH', 'NH', 'ZH'], 'Year': [2013, 2014, 2013, 2014, 2014], 'Literacy': [0.2, 0.1, 0.5, 0.3, 0.5]}\n"
          ],
          "name": "stdout"
        },
        {
          "output_type": "execute_result",
          "data": {
            "text/html": [
              "<div>\n",
              "<style scoped>\n",
              "    .dataframe tbody tr th:only-of-type {\n",
              "        vertical-align: middle;\n",
              "    }\n",
              "\n",
              "    .dataframe tbody tr th {\n",
              "        vertical-align: top;\n",
              "    }\n",
              "\n",
              "    .dataframe thead th {\n",
              "        text-align: right;\n",
              "    }\n",
              "</style>\n",
              "<table border=\"1\" class=\"dataframe\">\n",
              "  <thead>\n",
              "    <tr style=\"text-align: right;\">\n",
              "      <th></th>\n",
              "      <th>Province</th>\n",
              "      <th>Year</th>\n",
              "      <th>Literacy</th>\n",
              "    </tr>\n",
              "  </thead>\n",
              "  <tbody>\n",
              "    <tr>\n",
              "      <th>0</th>\n",
              "      <td>FL</td>\n",
              "      <td>2013</td>\n",
              "      <td>0.2</td>\n",
              "    </tr>\n",
              "    <tr>\n",
              "      <th>1</th>\n",
              "      <td>FL</td>\n",
              "      <td>2014</td>\n",
              "      <td>0.1</td>\n",
              "    </tr>\n",
              "    <tr>\n",
              "      <th>2</th>\n",
              "      <td>NH</td>\n",
              "      <td>2013</td>\n",
              "      <td>0.5</td>\n",
              "    </tr>\n",
              "    <tr>\n",
              "      <th>3</th>\n",
              "      <td>NH</td>\n",
              "      <td>2014</td>\n",
              "      <td>0.3</td>\n",
              "    </tr>\n",
              "    <tr>\n",
              "      <th>4</th>\n",
              "      <td>ZH</td>\n",
              "      <td>2014</td>\n",
              "      <td>0.5</td>\n",
              "    </tr>\n",
              "  </tbody>\n",
              "</table>\n",
              "</div>"
            ],
            "text/plain": [
              "  Province  Year  Literacy\n",
              "0       FL  2013       0.2\n",
              "1       FL  2014       0.1\n",
              "2       NH  2013       0.5\n",
              "3       NH  2014       0.3\n",
              "4       ZH  2014       0.5"
            ]
          },
          "metadata": {
            "tags": []
          },
          "execution_count": 53
        }
      ]
    },
    {
      "cell_type": "code",
      "metadata": {
        "colab": {
          "base_uri": "https://localhost:8080/",
          "height": 204
        },
        "id": "0Zp0acxwIZ4w",
        "outputId": "e119c838-f7d2-41bd-d418-75389bc4b861"
      },
      "source": [
        "df = pd.DataFrame(data, columns=[\"Year\", \"Province\" ,\"Literacy\"])\n",
        "df"
      ],
      "execution_count": 54,
      "outputs": [
        {
          "output_type": "execute_result",
          "data": {
            "text/html": [
              "<div>\n",
              "<style scoped>\n",
              "    .dataframe tbody tr th:only-of-type {\n",
              "        vertical-align: middle;\n",
              "    }\n",
              "\n",
              "    .dataframe tbody tr th {\n",
              "        vertical-align: top;\n",
              "    }\n",
              "\n",
              "    .dataframe thead th {\n",
              "        text-align: right;\n",
              "    }\n",
              "</style>\n",
              "<table border=\"1\" class=\"dataframe\">\n",
              "  <thead>\n",
              "    <tr style=\"text-align: right;\">\n",
              "      <th></th>\n",
              "      <th>Year</th>\n",
              "      <th>Province</th>\n",
              "      <th>Literacy</th>\n",
              "    </tr>\n",
              "  </thead>\n",
              "  <tbody>\n",
              "    <tr>\n",
              "      <th>0</th>\n",
              "      <td>2013</td>\n",
              "      <td>FL</td>\n",
              "      <td>0.2</td>\n",
              "    </tr>\n",
              "    <tr>\n",
              "      <th>1</th>\n",
              "      <td>2014</td>\n",
              "      <td>FL</td>\n",
              "      <td>0.1</td>\n",
              "    </tr>\n",
              "    <tr>\n",
              "      <th>2</th>\n",
              "      <td>2013</td>\n",
              "      <td>NH</td>\n",
              "      <td>0.5</td>\n",
              "    </tr>\n",
              "    <tr>\n",
              "      <th>3</th>\n",
              "      <td>2014</td>\n",
              "      <td>NH</td>\n",
              "      <td>0.3</td>\n",
              "    </tr>\n",
              "    <tr>\n",
              "      <th>4</th>\n",
              "      <td>2014</td>\n",
              "      <td>ZH</td>\n",
              "      <td>0.5</td>\n",
              "    </tr>\n",
              "  </tbody>\n",
              "</table>\n",
              "</div>"
            ],
            "text/plain": [
              "   Year Province  Literacy\n",
              "0  2013       FL       0.2\n",
              "1  2014       FL       0.1\n",
              "2  2013       NH       0.5\n",
              "3  2014       NH       0.3\n",
              "4  2014       ZH       0.5"
            ]
          },
          "metadata": {
            "tags": []
          },
          "execution_count": 54
        }
      ]
    },
    {
      "cell_type": "code",
      "metadata": {
        "colab": {
          "base_uri": "https://localhost:8080/",
          "height": 204
        },
        "id": "4y-7ZL1wIcUw",
        "outputId": "1ab9e9a4-0b94-4ec5-8ec8-599f43ab2eae"
      },
      "source": [
        "df['nonsense'] = df.Year / df.Literacy\n",
        "df"
      ],
      "execution_count": 55,
      "outputs": [
        {
          "output_type": "execute_result",
          "data": {
            "text/html": [
              "<div>\n",
              "<style scoped>\n",
              "    .dataframe tbody tr th:only-of-type {\n",
              "        vertical-align: middle;\n",
              "    }\n",
              "\n",
              "    .dataframe tbody tr th {\n",
              "        vertical-align: top;\n",
              "    }\n",
              "\n",
              "    .dataframe thead th {\n",
              "        text-align: right;\n",
              "    }\n",
              "</style>\n",
              "<table border=\"1\" class=\"dataframe\">\n",
              "  <thead>\n",
              "    <tr style=\"text-align: right;\">\n",
              "      <th></th>\n",
              "      <th>Year</th>\n",
              "      <th>Province</th>\n",
              "      <th>Literacy</th>\n",
              "      <th>nonsense</th>\n",
              "    </tr>\n",
              "  </thead>\n",
              "  <tbody>\n",
              "    <tr>\n",
              "      <th>0</th>\n",
              "      <td>2013</td>\n",
              "      <td>FL</td>\n",
              "      <td>0.2</td>\n",
              "      <td>10065.000000</td>\n",
              "    </tr>\n",
              "    <tr>\n",
              "      <th>1</th>\n",
              "      <td>2014</td>\n",
              "      <td>FL</td>\n",
              "      <td>0.1</td>\n",
              "      <td>20140.000000</td>\n",
              "    </tr>\n",
              "    <tr>\n",
              "      <th>2</th>\n",
              "      <td>2013</td>\n",
              "      <td>NH</td>\n",
              "      <td>0.5</td>\n",
              "      <td>4026.000000</td>\n",
              "    </tr>\n",
              "    <tr>\n",
              "      <th>3</th>\n",
              "      <td>2014</td>\n",
              "      <td>NH</td>\n",
              "      <td>0.3</td>\n",
              "      <td>6713.333333</td>\n",
              "    </tr>\n",
              "    <tr>\n",
              "      <th>4</th>\n",
              "      <td>2014</td>\n",
              "      <td>ZH</td>\n",
              "      <td>0.5</td>\n",
              "      <td>4028.000000</td>\n",
              "    </tr>\n",
              "  </tbody>\n",
              "</table>\n",
              "</div>"
            ],
            "text/plain": [
              "   Year Province  Literacy      nonsense\n",
              "0  2013       FL       0.2  10065.000000\n",
              "1  2014       FL       0.1  20140.000000\n",
              "2  2013       NH       0.5   4026.000000\n",
              "3  2014       NH       0.3   6713.333333\n",
              "4  2014       ZH       0.5   4028.000000"
            ]
          },
          "metadata": {
            "tags": []
          },
          "execution_count": 55
        }
      ]
    },
    {
      "cell_type": "code",
      "metadata": {
        "colab": {
          "base_uri": "https://localhost:8080/",
          "height": 204
        },
        "id": "c1Svz-CRIeqK",
        "outputId": "7a05bab3-e529-4678-d990-bbb8f2935a00"
      },
      "source": [
        "df['Serie_aligned'] = pd.Series(range(5), index=[0,1,2, 3, 4])\n",
        "df"
      ],
      "execution_count": 56,
      "outputs": [
        {
          "output_type": "execute_result",
          "data": {
            "text/html": [
              "<div>\n",
              "<style scoped>\n",
              "    .dataframe tbody tr th:only-of-type {\n",
              "        vertical-align: middle;\n",
              "    }\n",
              "\n",
              "    .dataframe tbody tr th {\n",
              "        vertical-align: top;\n",
              "    }\n",
              "\n",
              "    .dataframe thead th {\n",
              "        text-align: right;\n",
              "    }\n",
              "</style>\n",
              "<table border=\"1\" class=\"dataframe\">\n",
              "  <thead>\n",
              "    <tr style=\"text-align: right;\">\n",
              "      <th></th>\n",
              "      <th>Year</th>\n",
              "      <th>Province</th>\n",
              "      <th>Literacy</th>\n",
              "      <th>nonsense</th>\n",
              "      <th>Serie_aligned</th>\n",
              "    </tr>\n",
              "  </thead>\n",
              "  <tbody>\n",
              "    <tr>\n",
              "      <th>0</th>\n",
              "      <td>2013</td>\n",
              "      <td>FL</td>\n",
              "      <td>0.2</td>\n",
              "      <td>10065.000000</td>\n",
              "      <td>0</td>\n",
              "    </tr>\n",
              "    <tr>\n",
              "      <th>1</th>\n",
              "      <td>2014</td>\n",
              "      <td>FL</td>\n",
              "      <td>0.1</td>\n",
              "      <td>20140.000000</td>\n",
              "      <td>1</td>\n",
              "    </tr>\n",
              "    <tr>\n",
              "      <th>2</th>\n",
              "      <td>2013</td>\n",
              "      <td>NH</td>\n",
              "      <td>0.5</td>\n",
              "      <td>4026.000000</td>\n",
              "      <td>2</td>\n",
              "    </tr>\n",
              "    <tr>\n",
              "      <th>3</th>\n",
              "      <td>2014</td>\n",
              "      <td>NH</td>\n",
              "      <td>0.3</td>\n",
              "      <td>6713.333333</td>\n",
              "      <td>3</td>\n",
              "    </tr>\n",
              "    <tr>\n",
              "      <th>4</th>\n",
              "      <td>2014</td>\n",
              "      <td>ZH</td>\n",
              "      <td>0.5</td>\n",
              "      <td>4028.000000</td>\n",
              "      <td>4</td>\n",
              "    </tr>\n",
              "  </tbody>\n",
              "</table>\n",
              "</div>"
            ],
            "text/plain": [
              "   Year Province  Literacy      nonsense  Serie_aligned\n",
              "0  2013       FL       0.2  10065.000000              0\n",
              "1  2014       FL       0.1  20140.000000              1\n",
              "2  2013       NH       0.5   4026.000000              2\n",
              "3  2014       NH       0.3   6713.333333              3\n",
              "4  2014       ZH       0.5   4028.000000              4"
            ]
          },
          "metadata": {
            "tags": []
          },
          "execution_count": 56
        }
      ]
    },
    {
      "cell_type": "code",
      "metadata": {
        "colab": {
          "base_uri": "https://localhost:8080/",
          "height": 142
        },
        "id": "ufr9lDnsIhME",
        "outputId": "23d73a54-0882-4ad1-8718-3d5c2eede3e2"
      },
      "source": [
        "df2 = pd.DataFrame({\"Province\": [\"FL\", \"NH\", \"ZH\"], \"Population\": [\"100000\", \"200000\", \"300000\"]})\n",
        "df2"
      ],
      "execution_count": 57,
      "outputs": [
        {
          "output_type": "execute_result",
          "data": {
            "text/html": [
              "<div>\n",
              "<style scoped>\n",
              "    .dataframe tbody tr th:only-of-type {\n",
              "        vertical-align: middle;\n",
              "    }\n",
              "\n",
              "    .dataframe tbody tr th {\n",
              "        vertical-align: top;\n",
              "    }\n",
              "\n",
              "    .dataframe thead th {\n",
              "        text-align: right;\n",
              "    }\n",
              "</style>\n",
              "<table border=\"1\" class=\"dataframe\">\n",
              "  <thead>\n",
              "    <tr style=\"text-align: right;\">\n",
              "      <th></th>\n",
              "      <th>Province</th>\n",
              "      <th>Population</th>\n",
              "    </tr>\n",
              "  </thead>\n",
              "  <tbody>\n",
              "    <tr>\n",
              "      <th>0</th>\n",
              "      <td>FL</td>\n",
              "      <td>100000</td>\n",
              "    </tr>\n",
              "    <tr>\n",
              "      <th>1</th>\n",
              "      <td>NH</td>\n",
              "      <td>200000</td>\n",
              "    </tr>\n",
              "    <tr>\n",
              "      <th>2</th>\n",
              "      <td>ZH</td>\n",
              "      <td>300000</td>\n",
              "    </tr>\n",
              "  </tbody>\n",
              "</table>\n",
              "</div>"
            ],
            "text/plain": [
              "  Province Population\n",
              "0       FL     100000\n",
              "1       NH     200000\n",
              "2       ZH     300000"
            ]
          },
          "metadata": {
            "tags": []
          },
          "execution_count": 57
        }
      ]
    },
    {
      "cell_type": "code",
      "metadata": {
        "colab": {
          "base_uri": "https://localhost:8080/",
          "height": 173
        },
        "id": "JgFlr79WIley",
        "outputId": "ed331227-0a8c-4b9b-8042-28f7d40caf5b"
      },
      "source": [
        "df3 = pd.DataFrame({\"province\": [\"FL\", \"NH\"], \"Population\": [\"100000\", \"200000\"]})\n",
        "df3\n",
        "df.merge(df3, right_on='province', left_on='Province')"
      ],
      "execution_count": 58,
      "outputs": [
        {
          "output_type": "execute_result",
          "data": {
            "text/html": [
              "<div>\n",
              "<style scoped>\n",
              "    .dataframe tbody tr th:only-of-type {\n",
              "        vertical-align: middle;\n",
              "    }\n",
              "\n",
              "    .dataframe tbody tr th {\n",
              "        vertical-align: top;\n",
              "    }\n",
              "\n",
              "    .dataframe thead th {\n",
              "        text-align: right;\n",
              "    }\n",
              "</style>\n",
              "<table border=\"1\" class=\"dataframe\">\n",
              "  <thead>\n",
              "    <tr style=\"text-align: right;\">\n",
              "      <th></th>\n",
              "      <th>Year</th>\n",
              "      <th>Province</th>\n",
              "      <th>Literacy</th>\n",
              "      <th>nonsense</th>\n",
              "      <th>Serie_aligned</th>\n",
              "      <th>province</th>\n",
              "      <th>Population</th>\n",
              "    </tr>\n",
              "  </thead>\n",
              "  <tbody>\n",
              "    <tr>\n",
              "      <th>0</th>\n",
              "      <td>2013</td>\n",
              "      <td>FL</td>\n",
              "      <td>0.2</td>\n",
              "      <td>10065.000000</td>\n",
              "      <td>0</td>\n",
              "      <td>FL</td>\n",
              "      <td>100000</td>\n",
              "    </tr>\n",
              "    <tr>\n",
              "      <th>1</th>\n",
              "      <td>2014</td>\n",
              "      <td>FL</td>\n",
              "      <td>0.1</td>\n",
              "      <td>20140.000000</td>\n",
              "      <td>1</td>\n",
              "      <td>FL</td>\n",
              "      <td>100000</td>\n",
              "    </tr>\n",
              "    <tr>\n",
              "      <th>2</th>\n",
              "      <td>2013</td>\n",
              "      <td>NH</td>\n",
              "      <td>0.5</td>\n",
              "      <td>4026.000000</td>\n",
              "      <td>2</td>\n",
              "      <td>NH</td>\n",
              "      <td>200000</td>\n",
              "    </tr>\n",
              "    <tr>\n",
              "      <th>3</th>\n",
              "      <td>2014</td>\n",
              "      <td>NH</td>\n",
              "      <td>0.3</td>\n",
              "      <td>6713.333333</td>\n",
              "      <td>3</td>\n",
              "      <td>NH</td>\n",
              "      <td>200000</td>\n",
              "    </tr>\n",
              "  </tbody>\n",
              "</table>\n",
              "</div>"
            ],
            "text/plain": [
              "   Year Province  Literacy      nonsense  Serie_aligned province Population\n",
              "0  2013       FL       0.2  10065.000000              0       FL     100000\n",
              "1  2014       FL       0.1  20140.000000              1       FL     100000\n",
              "2  2013       NH       0.5   4026.000000              2       NH     200000\n",
              "3  2014       NH       0.3   6713.333333              3       NH     200000"
            ]
          },
          "metadata": {
            "tags": []
          },
          "execution_count": 58
        }
      ]
    },
    {
      "cell_type": "code",
      "metadata": {
        "colab": {
          "base_uri": "https://localhost:8080/",
          "height": 235
        },
        "id": "_0jVYLhUInuY",
        "outputId": "673eaa24-7ff9-4f50-ba51-b1d7a6aaf895"
      },
      "source": [
        "df4 = pd.DataFrame({\"Province\": [\"FL\", \"NH\", \"UT\"], \"Population\": [\"100000\", \"200000\", \"50000\"]})\n",
        "df.merge(df4, how='outer')"
      ],
      "execution_count": 59,
      "outputs": [
        {
          "output_type": "execute_result",
          "data": {
            "text/html": [
              "<div>\n",
              "<style scoped>\n",
              "    .dataframe tbody tr th:only-of-type {\n",
              "        vertical-align: middle;\n",
              "    }\n",
              "\n",
              "    .dataframe tbody tr th {\n",
              "        vertical-align: top;\n",
              "    }\n",
              "\n",
              "    .dataframe thead th {\n",
              "        text-align: right;\n",
              "    }\n",
              "</style>\n",
              "<table border=\"1\" class=\"dataframe\">\n",
              "  <thead>\n",
              "    <tr style=\"text-align: right;\">\n",
              "      <th></th>\n",
              "      <th>Year</th>\n",
              "      <th>Province</th>\n",
              "      <th>Literacy</th>\n",
              "      <th>nonsense</th>\n",
              "      <th>Serie_aligned</th>\n",
              "      <th>Population</th>\n",
              "    </tr>\n",
              "  </thead>\n",
              "  <tbody>\n",
              "    <tr>\n",
              "      <th>0</th>\n",
              "      <td>2013.0</td>\n",
              "      <td>FL</td>\n",
              "      <td>0.2</td>\n",
              "      <td>10065.000000</td>\n",
              "      <td>0.0</td>\n",
              "      <td>100000</td>\n",
              "    </tr>\n",
              "    <tr>\n",
              "      <th>1</th>\n",
              "      <td>2014.0</td>\n",
              "      <td>FL</td>\n",
              "      <td>0.1</td>\n",
              "      <td>20140.000000</td>\n",
              "      <td>1.0</td>\n",
              "      <td>100000</td>\n",
              "    </tr>\n",
              "    <tr>\n",
              "      <th>2</th>\n",
              "      <td>2013.0</td>\n",
              "      <td>NH</td>\n",
              "      <td>0.5</td>\n",
              "      <td>4026.000000</td>\n",
              "      <td>2.0</td>\n",
              "      <td>200000</td>\n",
              "    </tr>\n",
              "    <tr>\n",
              "      <th>3</th>\n",
              "      <td>2014.0</td>\n",
              "      <td>NH</td>\n",
              "      <td>0.3</td>\n",
              "      <td>6713.333333</td>\n",
              "      <td>3.0</td>\n",
              "      <td>200000</td>\n",
              "    </tr>\n",
              "    <tr>\n",
              "      <th>4</th>\n",
              "      <td>2014.0</td>\n",
              "      <td>ZH</td>\n",
              "      <td>0.5</td>\n",
              "      <td>4028.000000</td>\n",
              "      <td>4.0</td>\n",
              "      <td>NaN</td>\n",
              "    </tr>\n",
              "    <tr>\n",
              "      <th>5</th>\n",
              "      <td>NaN</td>\n",
              "      <td>UT</td>\n",
              "      <td>NaN</td>\n",
              "      <td>NaN</td>\n",
              "      <td>NaN</td>\n",
              "      <td>50000</td>\n",
              "    </tr>\n",
              "  </tbody>\n",
              "</table>\n",
              "</div>"
            ],
            "text/plain": [
              "     Year Province  Literacy      nonsense  Serie_aligned Population\n",
              "0  2013.0       FL       0.2  10065.000000            0.0     100000\n",
              "1  2014.0       FL       0.1  20140.000000            1.0     100000\n",
              "2  2013.0       NH       0.5   4026.000000            2.0     200000\n",
              "3  2014.0       NH       0.3   6713.333333            3.0     200000\n",
              "4  2014.0       ZH       0.5   4028.000000            4.0        NaN\n",
              "5     NaN       UT       NaN           NaN            NaN      50000"
            ]
          },
          "metadata": {
            "tags": []
          },
          "execution_count": 59
        }
      ]
    },
    {
      "cell_type": "code",
      "metadata": {
        "colab": {
          "base_uri": "https://localhost:8080/",
          "height": 368
        },
        "id": "SWe1Yk5JIqPD",
        "outputId": "69ccc7f3-e8dc-4f4a-a422-3bd41d6addc3"
      },
      "source": [
        "df5 = pd.DataFrame({\"Province\": [\"FL\", \"NH\", \"FL\"], \"Population\": [\"100000\", \"200000\", \"50000\"]})\n",
        "print(df)\n",
        "df.merge(df5, how='outer')"
      ],
      "execution_count": 60,
      "outputs": [
        {
          "output_type": "stream",
          "text": [
            "   Year Province  Literacy      nonsense  Serie_aligned\n",
            "0  2013       FL       0.2  10065.000000              0\n",
            "1  2014       FL       0.1  20140.000000              1\n",
            "2  2013       NH       0.5   4026.000000              2\n",
            "3  2014       NH       0.3   6713.333333              3\n",
            "4  2014       ZH       0.5   4028.000000              4\n"
          ],
          "name": "stdout"
        },
        {
          "output_type": "execute_result",
          "data": {
            "text/html": [
              "<div>\n",
              "<style scoped>\n",
              "    .dataframe tbody tr th:only-of-type {\n",
              "        vertical-align: middle;\n",
              "    }\n",
              "\n",
              "    .dataframe tbody tr th {\n",
              "        vertical-align: top;\n",
              "    }\n",
              "\n",
              "    .dataframe thead th {\n",
              "        text-align: right;\n",
              "    }\n",
              "</style>\n",
              "<table border=\"1\" class=\"dataframe\">\n",
              "  <thead>\n",
              "    <tr style=\"text-align: right;\">\n",
              "      <th></th>\n",
              "      <th>Year</th>\n",
              "      <th>Province</th>\n",
              "      <th>Literacy</th>\n",
              "      <th>nonsense</th>\n",
              "      <th>Serie_aligned</th>\n",
              "      <th>Population</th>\n",
              "    </tr>\n",
              "  </thead>\n",
              "  <tbody>\n",
              "    <tr>\n",
              "      <th>0</th>\n",
              "      <td>2013</td>\n",
              "      <td>FL</td>\n",
              "      <td>0.2</td>\n",
              "      <td>10065.000000</td>\n",
              "      <td>0</td>\n",
              "      <td>100000</td>\n",
              "    </tr>\n",
              "    <tr>\n",
              "      <th>1</th>\n",
              "      <td>2013</td>\n",
              "      <td>FL</td>\n",
              "      <td>0.2</td>\n",
              "      <td>10065.000000</td>\n",
              "      <td>0</td>\n",
              "      <td>50000</td>\n",
              "    </tr>\n",
              "    <tr>\n",
              "      <th>2</th>\n",
              "      <td>2014</td>\n",
              "      <td>FL</td>\n",
              "      <td>0.1</td>\n",
              "      <td>20140.000000</td>\n",
              "      <td>1</td>\n",
              "      <td>100000</td>\n",
              "    </tr>\n",
              "    <tr>\n",
              "      <th>3</th>\n",
              "      <td>2014</td>\n",
              "      <td>FL</td>\n",
              "      <td>0.1</td>\n",
              "      <td>20140.000000</td>\n",
              "      <td>1</td>\n",
              "      <td>50000</td>\n",
              "    </tr>\n",
              "    <tr>\n",
              "      <th>4</th>\n",
              "      <td>2013</td>\n",
              "      <td>NH</td>\n",
              "      <td>0.5</td>\n",
              "      <td>4026.000000</td>\n",
              "      <td>2</td>\n",
              "      <td>200000</td>\n",
              "    </tr>\n",
              "    <tr>\n",
              "      <th>5</th>\n",
              "      <td>2014</td>\n",
              "      <td>NH</td>\n",
              "      <td>0.3</td>\n",
              "      <td>6713.333333</td>\n",
              "      <td>3</td>\n",
              "      <td>200000</td>\n",
              "    </tr>\n",
              "    <tr>\n",
              "      <th>6</th>\n",
              "      <td>2014</td>\n",
              "      <td>ZH</td>\n",
              "      <td>0.5</td>\n",
              "      <td>4028.000000</td>\n",
              "      <td>4</td>\n",
              "      <td>NaN</td>\n",
              "    </tr>\n",
              "  </tbody>\n",
              "</table>\n",
              "</div>"
            ],
            "text/plain": [
              "   Year Province  Literacy      nonsense  Serie_aligned Population\n",
              "0  2013       FL       0.2  10065.000000              0     100000\n",
              "1  2013       FL       0.2  10065.000000              0      50000\n",
              "2  2014       FL       0.1  20140.000000              1     100000\n",
              "3  2014       FL       0.1  20140.000000              1      50000\n",
              "4  2013       NH       0.5   4026.000000              2     200000\n",
              "5  2014       NH       0.3   6713.333333              3     200000\n",
              "6  2014       ZH       0.5   4028.000000              4        NaN"
            ]
          },
          "metadata": {
            "tags": []
          },
          "execution_count": 60
        }
      ]
    },
    {
      "cell_type": "code",
      "metadata": {
        "colab": {
          "base_uri": "https://localhost:8080/"
        },
        "id": "LzRrClP_Irvh",
        "outputId": "e829f02a-566b-4c98-d120-5f946081c3bf"
      },
      "source": [
        "a=pd.Series([np.nan,2.5,1,4,5,np.nan],index=['a','b','c','d','e','f'])\n",
        "b=pd.Series(np.arange(len(a)),index=['a','b','c','d','e','f'])\n",
        "a\n"
      ],
      "execution_count": 61,
      "outputs": [
        {
          "output_type": "execute_result",
          "data": {
            "text/plain": [
              "a    NaN\n",
              "b    2.5\n",
              "c    1.0\n",
              "d    4.0\n",
              "e    5.0\n",
              "f    NaN\n",
              "dtype: float64"
            ]
          },
          "metadata": {
            "tags": []
          },
          "execution_count": 61
        }
      ]
    },
    {
      "cell_type": "code",
      "metadata": {
        "colab": {
          "base_uri": "https://localhost:8080/"
        },
        "id": "yKjKhJJaKVW-",
        "outputId": "0d28a701-a38b-49d6-aafc-98dfb3cc2469"
      },
      "source": [
        "b"
      ],
      "execution_count": 62,
      "outputs": [
        {
          "output_type": "execute_result",
          "data": {
            "text/plain": [
              "a    0\n",
              "b    1\n",
              "c    2\n",
              "d    3\n",
              "e    4\n",
              "f    5\n",
              "dtype: int64"
            ]
          },
          "metadata": {
            "tags": []
          },
          "execution_count": 62
        }
      ]
    },
    {
      "cell_type": "code",
      "metadata": {
        "colab": {
          "base_uri": "https://localhost:8080/"
        },
        "id": "1oDeiy2wKZDn",
        "outputId": "0f780739-f01b-4c44-8a83-28eb1dc0f9d3"
      },
      "source": [
        "pd.Series(np.where(pd.isnull(a), b, a), index=a.index)"
      ],
      "execution_count": 63,
      "outputs": [
        {
          "output_type": "execute_result",
          "data": {
            "text/plain": [
              "a    0.0\n",
              "b    2.5\n",
              "c    1.0\n",
              "d    4.0\n",
              "e    5.0\n",
              "f    5.0\n",
              "dtype: float64"
            ]
          },
          "metadata": {
            "tags": []
          },
          "execution_count": 63
        }
      ]
    },
    {
      "cell_type": "code",
      "metadata": {
        "colab": {
          "base_uri": "https://localhost:8080/"
        },
        "id": "5_B1W7crK3MT",
        "outputId": "e5cd39ed-c993-42d8-908d-c3e402f9cc09"
      },
      "source": [
        "a.combine_first(b)"
      ],
      "execution_count": 64,
      "outputs": [
        {
          "output_type": "execute_result",
          "data": {
            "text/plain": [
              "a    0.0\n",
              "b    2.5\n",
              "c    1.0\n",
              "d    4.0\n",
              "e    5.0\n",
              "f    5.0\n",
              "dtype: float64"
            ]
          },
          "metadata": {
            "tags": []
          },
          "execution_count": 64
        }
      ]
    },
    {
      "cell_type": "code",
      "metadata": {
        "id": "IiKbpdxLK-D8"
      },
      "source": [
        ""
      ],
      "execution_count": 64,
      "outputs": []
    }
  ]
}