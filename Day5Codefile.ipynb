{
  "nbformat": 4,
  "nbformat_minor": 0,
  "metadata": {
    "colab": {
      "name": "Day5Codefile.ipynb",
      "provenance": []
    },
    "kernelspec": {
      "name": "python3",
      "display_name": "Python 3"
    },
    "language_info": {
      "name": "python"
    }
  },
  "cells": [
    {
      "cell_type": "markdown",
      "metadata": {
        "id": "BR0bYGjeGttn"
      },
      "source": [
        "modules and package\n"
      ]
    },
    {
      "cell_type": "code",
      "metadata": {
        "id": "wiUVd0QqGBL-"
      },
      "source": [
        "import math\n"
      ],
      "execution_count": 1,
      "outputs": []
    },
    {
      "cell_type": "code",
      "metadata": {
        "colab": {
          "base_uri": "https://localhost:8080/"
        },
        "id": "6udq8QCAGyR9",
        "outputId": "265554a1-99eb-4e11-deb4-1f297ced3454"
      },
      "source": [
        "math.ceil(2.4)"
      ],
      "execution_count": 2,
      "outputs": [
        {
          "output_type": "execute_result",
          "data": {
            "text/plain": [
              "3"
            ]
          },
          "metadata": {
            "tags": []
          },
          "execution_count": 2
        }
      ]
    },
    {
      "cell_type": "code",
      "metadata": {
        "colab": {
          "base_uri": "https://localhost:8080/"
        },
        "id": "eC63VQPBG0R_",
        "outputId": "45e7321a-38f7-44d6-8b9c-01d6ebc76f08"
      },
      "source": [
        "math.floor(2.4)"
      ],
      "execution_count": 3,
      "outputs": [
        {
          "output_type": "execute_result",
          "data": {
            "text/plain": [
              "2"
            ]
          },
          "metadata": {
            "tags": []
          },
          "execution_count": 3
        }
      ]
    },
    {
      "cell_type": "markdown",
      "metadata": {
        "id": "LnMTeImaG4wm"
      },
      "source": [
        "# built-in modules"
      ]
    },
    {
      "cell_type": "code",
      "metadata": {
        "colab": {
          "base_uri": "https://localhost:8080/"
        },
        "id": "pZrSnzZLG18d",
        "outputId": "2355088b-db4f-4840-a9b4-4fc06a02870e"
      },
      "source": [
        "print(dir(math))"
      ],
      "execution_count": 4,
      "outputs": [
        {
          "output_type": "stream",
          "text": [
            "['__doc__', '__loader__', '__name__', '__package__', '__spec__', 'acos', 'acosh', 'asin', 'asinh', 'atan', 'atan2', 'atanh', 'ceil', 'copysign', 'cos', 'cosh', 'degrees', 'e', 'erf', 'erfc', 'exp', 'expm1', 'fabs', 'factorial', 'floor', 'fmod', 'frexp', 'fsum', 'gamma', 'gcd', 'hypot', 'inf', 'isclose', 'isfinite', 'isinf', 'isnan', 'ldexp', 'lgamma', 'log', 'log10', 'log1p', 'log2', 'modf', 'nan', 'pi', 'pow', 'radians', 'remainder', 'sin', 'sinh', 'sqrt', 'tan', 'tanh', 'tau', 'trunc']\n"
          ],
          "name": "stdout"
        }
      ]
    },
    {
      "cell_type": "code",
      "metadata": {
        "colab": {
          "base_uri": "https://localhost:8080/"
        },
        "id": "0-rvtS20HWAM",
        "outputId": "726e0b13-80d1-4daf-f7d9-ffe351a5836f"
      },
      "source": [
        "help(math.ceil)"
      ],
      "execution_count": 5,
      "outputs": [
        {
          "output_type": "stream",
          "text": [
            "Help on built-in function ceil in module math:\n",
            "\n",
            "ceil(x, /)\n",
            "    Return the ceiling of x as an Integral.\n",
            "    \n",
            "    This is the smallest integer >= x.\n",
            "\n"
          ],
          "name": "stdout"
        }
      ]
    },
    {
      "cell_type": "code",
      "metadata": {
        "colab": {
          "base_uri": "https://localhost:8080/"
        },
        "id": "NOxZ6_4PJunm",
        "outputId": "c98b840c-76de-40e3-8407-dde817b869c8"
      },
      "source": [
        "try:\n",
        "  f=open('testfile','w')\n",
        "  f.write('test write this line')\n",
        "except IOError:\n",
        "  print(\"Error file not found\")\n",
        "else:\n",
        "  print(\"Content written succesfully\")\n",
        "  f.close()"
      ],
      "execution_count": 6,
      "outputs": [
        {
          "output_type": "stream",
          "text": [
            "Content written succesfully\n"
          ],
          "name": "stdout"
        }
      ]
    },
    {
      "cell_type": "code",
      "metadata": {
        "colab": {
          "base_uri": "https://localhost:8080/"
        },
        "id": "Va9xqpVZZBpz",
        "outputId": "10cca2d4-b236-4253-8cc7-8c7d50b4e2e9"
      },
      "source": [
        "try:\n",
        "    f = open('testfile','r')\n",
        "    f.write('Test write this')\n",
        "except IOError:\n",
        "    # This will only check for an IOError exception and then execute this print statement\n",
        "   print(\"Error: Could not find file or read data\")\n",
        "else:\n",
        "   print(\"Content written successfully\")\n",
        "   f.close()"
      ],
      "execution_count": 7,
      "outputs": [
        {
          "output_type": "stream",
          "text": [
            "Error: Could not find file or read data\n"
          ],
          "name": "stdout"
        }
      ]
    },
    {
      "cell_type": "code",
      "metadata": {
        "colab": {
          "base_uri": "https://localhost:8080/"
        },
        "id": "_qTF62Kzfmxg",
        "outputId": "1a17a7dc-c66f-4127-ab06-f6d9ed38aa1d"
      },
      "source": [
        "try:\n",
        "  f=open(\"testfile\",\"w\")\n",
        "  f.write(\"test write the same\")\n",
        "finally:\n",
        "  print(\"always exceute finally exceuted block\")"
      ],
      "execution_count": 8,
      "outputs": [
        {
          "output_type": "stream",
          "text": [
            "always exceute finally exceuted block\n"
          ],
          "name": "stdout"
        }
      ]
    },
    {
      "cell_type": "code",
      "metadata": {
        "id": "xA8SW-bwgH1u"
      },
      "source": [
        "def askint():\n",
        "  try:\n",
        "    value=int(input(\"enter the integer value\"))\n",
        "  except:\n",
        "    print(\"please enter interger value\")\n",
        "  finally:\n",
        "    print(\"finally i exceuted\")\n",
        "    print(value)"
      ],
      "execution_count": 9,
      "outputs": []
    },
    {
      "cell_type": "code",
      "metadata": {
        "colab": {
          "base_uri": "https://localhost:8080/"
        },
        "id": "cfykkYO3l602",
        "outputId": "40788f5f-498b-4a03-8259-6b6f9236c5e4"
      },
      "source": [
        "askint()"
      ],
      "execution_count": 10,
      "outputs": [
        {
          "output_type": "stream",
          "text": [
            "enter the integer value5\n",
            "finally i exceuted\n",
            "5\n"
          ],
          "name": "stdout"
        }
      ]
    },
    {
      "cell_type": "code",
      "metadata": {
        "id": "2LRc4Pxll-3W"
      },
      "source": [
        "def askint():\n",
        "  try:\n",
        "    value=int(input(\"enter the integer value\"))\n",
        "  except:\n",
        "    print(\"please enter interger value\")\n",
        "    value=int(input(\"enter the integer value\"))\n",
        "  finally:\n",
        "    print(\"finally i exceuted\")\n",
        "    print(value)"
      ],
      "execution_count": 11,
      "outputs": []
    },
    {
      "cell_type": "code",
      "metadata": {
        "colab": {
          "base_uri": "https://localhost:8080/"
        },
        "id": "0MPot2_7mgY_",
        "outputId": "9fddcca5-71d6-41b2-c184-1f2b38d836e8"
      },
      "source": [
        "askint()"
      ],
      "execution_count": 12,
      "outputs": [
        {
          "output_type": "stream",
          "text": [
            "enter the integer valuer\n",
            "please enter interger value\n",
            "enter the integer value5\n",
            "finally i exceuted\n",
            "5\n"
          ],
          "name": "stdout"
        }
      ]
    },
    {
      "cell_type": "code",
      "metadata": {
        "colab": {
          "base_uri": "https://localhost:8080/"
        },
        "id": "NyNKzzTLmiGm",
        "outputId": "c1ce810c-31ca-4425-97d9-7808a256152f"
      },
      "source": [
        "askint()"
      ],
      "execution_count": 14,
      "outputs": [
        {
          "output_type": "stream",
          "text": [
            "enter the integer value5\n",
            "finally i exceuted\n",
            "5\n"
          ],
          "name": "stdout"
        }
      ]
    },
    {
      "cell_type": "code",
      "metadata": {
        "id": "f6_nb-Ndmmnr"
      },
      "source": [
        "def askint():\n",
        "  while 1:\n",
        "    try:\n",
        "      value=int(input(\"enter the intger value\"))\n",
        "    except:\n",
        "      print(\"plase enter the integer value\")\n",
        "      continue\n",
        "    else:\n",
        "      print(\"yep thats an integer\")\n",
        "      break\n",
        "    finally:\n",
        "      print(\"finally  I excuted\")\n",
        "    print(value)"
      ],
      "execution_count": 15,
      "outputs": []
    },
    {
      "cell_type": "code",
      "metadata": {
        "colab": {
          "base_uri": "https://localhost:8080/"
        },
        "id": "JBE3ccfDoaYB",
        "outputId": "99f06351-ba2d-46da-a2b8-a95d26cf8a38"
      },
      "source": [
        "askint()"
      ],
      "execution_count": 16,
      "outputs": [
        {
          "output_type": "stream",
          "text": [
            "enter the intger valuesdf\n",
            "plase enter the integer value\n",
            "finally  I excuted\n",
            "enter the intger valuegdg\n",
            "plase enter the integer value\n",
            "finally  I excuted\n",
            "enter the intger valueewrw\n",
            "plase enter the integer value\n",
            "finally  I excuted\n",
            "enter the intger value3\n",
            "yep thats an integer\n",
            "finally  I excuted\n"
          ],
          "name": "stdout"
        }
      ]
    },
    {
      "cell_type": "code",
      "metadata": {
        "id": "G1fhq5DmosCW"
      },
      "source": [
        "#!/bin/bash\n",
        "import sqlite3"
      ],
      "execution_count": 17,
      "outputs": []
    },
    {
      "cell_type": "code",
      "metadata": {
        "id": "3b82iGf7qZIO",
        "colab": {
          "base_uri": "https://localhost:8080/"
        },
        "outputId": "23b2ffff-c9f2-4ac7-b66d-97775e749cb6"
      },
      "source": [
        "db=sqlite3.connect(\"mydatabase1.db\")\n",
        "db.execute(\"drop table if exists grades1\")\n",
        "db.execute(\"create table grades1(id int,name text,score int)\")\n",
        "db.execute(\"insert into grades1(id, name, score) values(101, 'John',99 )\")\n",
        "db.execute(\"insert into grades1(id, name, score) values(102, 'Gary',90 )\")\n",
        "db.execute(\"insert into grades1(id, name, score) values(103, 'James', 80 )\")\n",
        "db.execute(\"insert into grades1(id, name, score) values(104, 'Cathy', 85 )\")\n",
        "db.execute(\"insert into grades1(id, name, score) values(105, 'Kris',95 )\")"
      ],
      "execution_count": 27,
      "outputs": [
        {
          "output_type": "execute_result",
          "data": {
            "text/plain": [
              "<sqlite3.Cursor at 0x7f911398eb90>"
            ]
          },
          "metadata": {
            "tags": []
          },
          "execution_count": 27
        }
      ]
    },
    {
      "cell_type": "code",
      "metadata": {
        "id": "TWRHj8Ib8pKm"
      },
      "source": [
        "db.commit()"
      ],
      "execution_count": 28,
      "outputs": []
    },
    {
      "cell_type": "code",
      "metadata": {
        "colab": {
          "base_uri": "https://localhost:8080/"
        },
        "id": "imormcjJ-4vt",
        "outputId": "e591a69b-627a-4f6f-c1d1-6a9c4cd9f2f1"
      },
      "source": [
        "result=db.execute(\"select * from grades1 order by id\")\n",
        "for row in result:\n",
        "  print(row)\n",
        "print('-'*60)"
      ],
      "execution_count": 31,
      "outputs": [
        {
          "output_type": "stream",
          "text": [
            "(101, 'John', 99)\n",
            "(102, 'Gary', 90)\n",
            "(103, 'James', 80)\n",
            "(104, 'Cathy', 85)\n",
            "(105, 'Kris', 95)\n",
            "------------------------------------------------------------\n"
          ],
          "name": "stdout"
        }
      ]
    },
    {
      "cell_type": "code",
      "metadata": {
        "colab": {
          "base_uri": "https://localhost:8080/"
        },
        "id": "D1bF8sc3_Ojh",
        "outputId": "3afe1f8c-3003-415d-bbb0-34dd95d0a00a"
      },
      "source": [
        "result=db.execute(\"select * from grades1 where score>=90\")\n",
        "for row in result:\n",
        "  print(row)\n",
        "print('-'*60)"
      ],
      "execution_count": 33,
      "outputs": [
        {
          "output_type": "stream",
          "text": [
            "(101, 'John', 99)\n",
            "(102, 'Gary', 90)\n",
            "(105, 'Kris', 95)\n",
            "------------------------------------------------------------\n"
          ],
          "name": "stdout"
        }
      ]
    },
    {
      "cell_type": "code",
      "metadata": {
        "colab": {
          "base_uri": "https://localhost:8080/"
        },
        "id": "g45rxuuS_f7X",
        "outputId": "f97be49e-ab4f-43f0-8e5f-9610513ed1e4"
      },
      "source": [
        "results = db.execute(\"select name, score from grades1 order by score\")\n",
        "for row in results:\n",
        "    print(row)\n",
        "print(\"-\" * 60 )"
      ],
      "execution_count": 34,
      "outputs": [
        {
          "output_type": "stream",
          "text": [
            "('James', 80)\n",
            "('Cathy', 85)\n",
            "('Gary', 90)\n",
            "('Kris', 95)\n",
            "('John', 99)\n",
            "------------------------------------------------------------\n"
          ],
          "name": "stdout"
        }
      ]
    },
    {
      "cell_type": "code",
      "metadata": {
        "colab": {
          "base_uri": "https://localhost:8080/"
        },
        "id": "3Z4661zCAkSy",
        "outputId": "c54116c1-7db1-4670-9d70-fe4502120111"
      },
      "source": [
        "results = db.execute(\"select name, score from grades1 order by score desc \")\n",
        "for row in results:\n",
        "    print(row)\n",
        "print(\"-\" * 60 )"
      ],
      "execution_count": 35,
      "outputs": [
        {
          "output_type": "stream",
          "text": [
            "('John', 99)\n",
            "('Kris', 95)\n",
            "('Gary', 90)\n",
            "('Cathy', 85)\n",
            "('James', 80)\n",
            "------------------------------------------------------------\n"
          ],
          "name": "stdout"
        }
      ]
    },
    {
      "cell_type": "code",
      "metadata": {
        "id": "xujTmCzuAqRy"
      },
      "source": [
        ""
      ],
      "execution_count": null,
      "outputs": []
    }
  ]
}