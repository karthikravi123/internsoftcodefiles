# -*- coding: utf-8 -*-
"""
Created on Sun Aug  1 03:09:16 2021

@author: ravi
"""

#IMPORTING THE LIBRARIES
import numpy as np
import pandas as pd
import matplotlib.pyplot as plt

#READING THE DATA FROM FILE
data=pd.read_csv("advertising.csv")
data.head()

#TO VISUALISE THE DATA
fig , axis =plt.subplots(1,3,sharey=True)
data.plot(kind='scatter',x='TV',y='Sales',ax=axis[0],figsize=(14,7))
data.plot(kind='scatter',x='Radio',y='Sales',ax=axis[1])
data.plot(kind='scatter',x='Newspaper',y='Sales',ax=axis[2])

#CREATING XANDY FOR LINEAR REGRESSION
feature_cols = ['TV'] 
X = data[feature_cols]
y = data.Sales

#IMPORTING LINEAR REGRESSION ALGORITHM
from sklearn.linear_model import LinearRegression
lr = LinearRegression()
lr.fit(X,y) 

print(lr.intercept_)
print(lr.coef_)

result=6.974821488229891+0.05546477*(50)
print(result)

#CREATING A DATA FRAME WITH MIN ,MAX VALUE OF TABLE 
X_new = pd.DataFrame({'TV':[data.TV.min(),data.TV.max()]})
print(X_new)
X_new.head()

preds = lr.predict(X_new) 
print(preds)

data.plot(kind = 'scatter',x='TV',y='Sales')

plt.plot(X_new,preds,color='red',linewidth=3)

import statsmodels.formula.api as smf
lr = smf.ols(formula = 'Sales ~ TV',data = data).fit()
lr.conf_int()

#finding the probability values
lr.pvalues

#finding the R-sqaured value
lr.rsquared

#MULTI-Linear regression
feature_cols = ['TV','Radio','Newspaper'] 
X = data[feature_cols]
y = data.Sales

lm = LinearRegression()
lm.fit(X,y)
print(lm.intercept_)
print(lm.coef_)

lf = smf.ols(formula='Sales ~ TV+Radio+Newspaper',data=data).fit()
lf.conf_int()
lf.summary()
