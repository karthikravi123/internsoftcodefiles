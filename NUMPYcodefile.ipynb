{
  "nbformat": 4,
  "nbformat_minor": 0,
  "metadata": {
    "colab": {
      "name": "NUMPYcodefile.ipynb",
      "provenance": []
    },
    "kernelspec": {
      "display_name": "Python 3",
      "name": "python3"
    },
    "language_info": {
      "name": "python"
    }
  },
  "cells": [
    {
      "cell_type": "markdown",
      "metadata": {
        "id": "OFUQLoQzERxO"
      },
      "source": [
        "Array creation\n"
      ]
    },
    {
      "cell_type": "code",
      "metadata": {
        "id": "VZgYRSW-EQUm"
      },
      "source": [
        "import numpy as np\n"
      ],
      "execution_count": 1,
      "outputs": []
    },
    {
      "cell_type": "code",
      "metadata": {
        "id": "2VbiOdymRaQG"
      },
      "source": [
        "arr=np.arange(15)"
      ],
      "execution_count": 2,
      "outputs": []
    },
    {
      "cell_type": "code",
      "metadata": {
        "colab": {
          "base_uri": "https://localhost:8080/"
        },
        "id": "6cXPSowrEjIG",
        "outputId": "d28a1945-1c09-4241-9c29-bc78ab0346dc"
      },
      "source": [
        "arr"
      ],
      "execution_count": 3,
      "outputs": [
        {
          "output_type": "execute_result",
          "data": {
            "text/plain": [
              "array([ 0,  1,  2,  3,  4,  5,  6,  7,  8,  9, 10, 11, 12, 13, 14])"
            ]
          },
          "metadata": {
            "tags": []
          },
          "execution_count": 3
        }
      ]
    },
    {
      "cell_type": "code",
      "metadata": {
        "id": "bTaF5nwoEjm7"
      },
      "source": [
        "arr_1=np.arange(20)"
      ],
      "execution_count": 4,
      "outputs": []
    },
    {
      "cell_type": "code",
      "metadata": {
        "colab": {
          "base_uri": "https://localhost:8080/"
        },
        "id": "phMna1-DEngo",
        "outputId": "c0d9554b-aadf-4085-a3f1-aa9cbb154a18"
      },
      "source": [
        "arr_1"
      ],
      "execution_count": 5,
      "outputs": [
        {
          "output_type": "execute_result",
          "data": {
            "text/plain": [
              "array([ 0,  1,  2,  3,  4,  5,  6,  7,  8,  9, 10, 11, 12, 13, 14, 15, 16,\n",
              "       17, 18, 19])"
            ]
          },
          "metadata": {
            "tags": []
          },
          "execution_count": 5
        }
      ]
    },
    {
      "cell_type": "code",
      "metadata": {
        "colab": {
          "base_uri": "https://localhost:8080/"
        },
        "id": "o5X_UWfVEoK6",
        "outputId": "6e2be4be-e4ce-4b5b-839b-f008b018fce9"
      },
      "source": [
        "arr\n",
        "arr_1"
      ],
      "execution_count": 6,
      "outputs": [
        {
          "output_type": "execute_result",
          "data": {
            "text/plain": [
              "array([ 0,  1,  2,  3,  4,  5,  6,  7,  8,  9, 10, 11, 12, 13, 14, 15, 16,\n",
              "       17, 18, 19])"
            ]
          },
          "metadata": {
            "tags": []
          },
          "execution_count": 6
        }
      ]
    },
    {
      "cell_type": "code",
      "metadata": {
        "id": "KidFHZ9KEr0z"
      },
      "source": [
        "arr=np.arange(15).reshape(3,5)"
      ],
      "execution_count": 7,
      "outputs": []
    },
    {
      "cell_type": "code",
      "metadata": {
        "colab": {
          "base_uri": "https://localhost:8080/"
        },
        "id": "Xch6Gd4YEzTO",
        "outputId": "86a160e1-7db4-4633-8b47-c18be3c92e18"
      },
      "source": [
        "arr"
      ],
      "execution_count": 8,
      "outputs": [
        {
          "output_type": "execute_result",
          "data": {
            "text/plain": [
              "array([[ 0,  1,  2,  3,  4],\n",
              "       [ 5,  6,  7,  8,  9],\n",
              "       [10, 11, 12, 13, 14]])"
            ]
          },
          "metadata": {
            "tags": []
          },
          "execution_count": 8
        }
      ]
    },
    {
      "cell_type": "code",
      "metadata": {
        "id": "tjWMekVoEz0b"
      },
      "source": [
        "arr_1=np.arange(20).reshape(4,5)"
      ],
      "execution_count": 9,
      "outputs": []
    },
    {
      "cell_type": "code",
      "metadata": {
        "colab": {
          "base_uri": "https://localhost:8080/"
        },
        "id": "72J6qrd3FXQF",
        "outputId": "c40ba7ac-def8-4f15-a7a9-c72287332052"
      },
      "source": [
        "arr_1"
      ],
      "execution_count": 10,
      "outputs": [
        {
          "output_type": "execute_result",
          "data": {
            "text/plain": [
              "array([[ 0,  1,  2,  3,  4],\n",
              "       [ 5,  6,  7,  8,  9],\n",
              "       [10, 11, 12, 13, 14],\n",
              "       [15, 16, 17, 18, 19]])"
            ]
          },
          "metadata": {
            "tags": []
          },
          "execution_count": 10
        }
      ]
    },
    {
      "cell_type": "code",
      "metadata": {
        "colab": {
          "base_uri": "https://localhost:8080/"
        },
        "id": "d7SHjYaiFdh8",
        "outputId": "015752ce-c1f5-441d-cb3d-cb7d7390bb60"
      },
      "source": [
        "print(arr.ndim)"
      ],
      "execution_count": 11,
      "outputs": [
        {
          "output_type": "stream",
          "text": [
            "2\n"
          ],
          "name": "stdout"
        }
      ]
    },
    {
      "cell_type": "code",
      "metadata": {
        "colab": {
          "base_uri": "https://localhost:8080/"
        },
        "id": "03DsRURQFlAG",
        "outputId": "9ec45e1e-cf17-44af-b118-b601c47ad515"
      },
      "source": [
        "print(arr_1.ndim)"
      ],
      "execution_count": 12,
      "outputs": [
        {
          "output_type": "stream",
          "text": [
            "2\n"
          ],
          "name": "stdout"
        }
      ]
    },
    {
      "cell_type": "code",
      "metadata": {
        "colab": {
          "base_uri": "https://localhost:8080/"
        },
        "id": "ydpmnMAXFnsR",
        "outputId": "d23b4e51-f60e-485e-bf90-d70df96b6947"
      },
      "source": [
        "print(arr.shape)"
      ],
      "execution_count": 13,
      "outputs": [
        {
          "output_type": "stream",
          "text": [
            "(3, 5)\n"
          ],
          "name": "stdout"
        }
      ]
    },
    {
      "cell_type": "code",
      "metadata": {
        "colab": {
          "base_uri": "https://localhost:8080/"
        },
        "id": "dSKW9Iu8Ft16",
        "outputId": "b94039e1-8c0c-456a-b7b2-15b4ea013b8d"
      },
      "source": [
        "print(arr_1.shape)"
      ],
      "execution_count": 14,
      "outputs": [
        {
          "output_type": "stream",
          "text": [
            "(4, 5)\n"
          ],
          "name": "stdout"
        }
      ]
    },
    {
      "cell_type": "code",
      "metadata": {
        "colab": {
          "base_uri": "https://localhost:8080/"
        },
        "id": "yrzmTybEFw4S",
        "outputId": "8a269255-36ff-4125-8c64-0d4ec195fb18"
      },
      "source": [
        "print(arr.size)\n",
        "print(arr_1.size)"
      ],
      "execution_count": 15,
      "outputs": [
        {
          "output_type": "stream",
          "text": [
            "15\n",
            "20\n"
          ],
          "name": "stdout"
        }
      ]
    },
    {
      "cell_type": "code",
      "metadata": {
        "colab": {
          "base_uri": "https://localhost:8080/"
        },
        "id": "fWf8Z9XXF4rt",
        "outputId": "a5212ed6-53d2-4a77-c9d7-c8fe43f8ffe2"
      },
      "source": [
        "print(arr.dtype)\n",
        "print(arr_1.dtype)"
      ],
      "execution_count": 16,
      "outputs": [
        {
          "output_type": "stream",
          "text": [
            "int64\n",
            "int64\n"
          ],
          "name": "stdout"
        }
      ]
    },
    {
      "cell_type": "code",
      "metadata": {
        "colab": {
          "base_uri": "https://localhost:8080/"
        },
        "id": "LnLXXWIKGAn6",
        "outputId": "c6dbad5a-8f81-4f08-bab4-93c7990762b5"
      },
      "source": [
        "print(arr.itemsize)"
      ],
      "execution_count": 17,
      "outputs": [
        {
          "output_type": "stream",
          "text": [
            "8\n"
          ],
          "name": "stdout"
        }
      ]
    },
    {
      "cell_type": "code",
      "metadata": {
        "colab": {
          "base_uri": "https://localhost:8080/"
        },
        "id": "3idRQXauGEWS",
        "outputId": "b9225191-0523-4b5f-eec7-e8375f1ff5b2"
      },
      "source": [
        "print(arr_1.itemsize)"
      ],
      "execution_count": 18,
      "outputs": [
        {
          "output_type": "stream",
          "text": [
            "8\n"
          ],
          "name": "stdout"
        }
      ]
    },
    {
      "cell_type": "code",
      "metadata": {
        "colab": {
          "base_uri": "https://localhost:8080/"
        },
        "id": "DeuEbyZ5GGpY",
        "outputId": "4898b4d4-caba-4a2b-e3df-35972972b7e1"
      },
      "source": [
        "print(type(arr))"
      ],
      "execution_count": 19,
      "outputs": [
        {
          "output_type": "stream",
          "text": [
            "<class 'numpy.ndarray'>\n"
          ],
          "name": "stdout"
        }
      ]
    },
    {
      "cell_type": "code",
      "metadata": {
        "colab": {
          "base_uri": "https://localhost:8080/"
        },
        "id": "vEcfkYfgGKTQ",
        "outputId": "a7ac0c20-1548-4db5-a3d1-5fd8999794f7"
      },
      "source": [
        "help(arr)"
      ],
      "execution_count": 20,
      "outputs": [
        {
          "output_type": "stream",
          "text": [
            "Help on ndarray object:\n",
            "\n",
            "class ndarray(builtins.object)\n",
            " |  ndarray(shape, dtype=float, buffer=None, offset=0,\n",
            " |          strides=None, order=None)\n",
            " |  \n",
            " |  An array object represents a multidimensional, homogeneous array\n",
            " |  of fixed-size items.  An associated data-type object describes the\n",
            " |  format of each element in the array (its byte-order, how many bytes it\n",
            " |  occupies in memory, whether it is an integer, a floating point number,\n",
            " |  or something else, etc.)\n",
            " |  \n",
            " |  Arrays should be constructed using `array`, `zeros` or `empty` (refer\n",
            " |  to the See Also section below).  The parameters given here refer to\n",
            " |  a low-level method (`ndarray(...)`) for instantiating an array.\n",
            " |  \n",
            " |  For more information, refer to the `numpy` module and examine the\n",
            " |  methods and attributes of an array.\n",
            " |  \n",
            " |  Parameters\n",
            " |  ----------\n",
            " |  (for the __new__ method; see Notes below)\n",
            " |  \n",
            " |  shape : tuple of ints\n",
            " |      Shape of created array.\n",
            " |  dtype : data-type, optional\n",
            " |      Any object that can be interpreted as a numpy data type.\n",
            " |  buffer : object exposing buffer interface, optional\n",
            " |      Used to fill the array with data.\n",
            " |  offset : int, optional\n",
            " |      Offset of array data in buffer.\n",
            " |  strides : tuple of ints, optional\n",
            " |      Strides of data in memory.\n",
            " |  order : {'C', 'F'}, optional\n",
            " |      Row-major (C-style) or column-major (Fortran-style) order.\n",
            " |  \n",
            " |  Attributes\n",
            " |  ----------\n",
            " |  T : ndarray\n",
            " |      Transpose of the array.\n",
            " |  data : buffer\n",
            " |      The array's elements, in memory.\n",
            " |  dtype : dtype object\n",
            " |      Describes the format of the elements in the array.\n",
            " |  flags : dict\n",
            " |      Dictionary containing information related to memory use, e.g.,\n",
            " |      'C_CONTIGUOUS', 'OWNDATA', 'WRITEABLE', etc.\n",
            " |  flat : numpy.flatiter object\n",
            " |      Flattened version of the array as an iterator.  The iterator\n",
            " |      allows assignments, e.g., ``x.flat = 3`` (See `ndarray.flat` for\n",
            " |      assignment examples; TODO).\n",
            " |  imag : ndarray\n",
            " |      Imaginary part of the array.\n",
            " |  real : ndarray\n",
            " |      Real part of the array.\n",
            " |  size : int\n",
            " |      Number of elements in the array.\n",
            " |  itemsize : int\n",
            " |      The memory use of each array element in bytes.\n",
            " |  nbytes : int\n",
            " |      The total number of bytes required to store the array data,\n",
            " |      i.e., ``itemsize * size``.\n",
            " |  ndim : int\n",
            " |      The array's number of dimensions.\n",
            " |  shape : tuple of ints\n",
            " |      Shape of the array.\n",
            " |  strides : tuple of ints\n",
            " |      The step-size required to move from one element to the next in\n",
            " |      memory. For example, a contiguous ``(3, 4)`` array of type\n",
            " |      ``int16`` in C-order has strides ``(8, 2)``.  This implies that\n",
            " |      to move from element to element in memory requires jumps of 2 bytes.\n",
            " |      To move from row-to-row, one needs to jump 8 bytes at a time\n",
            " |      (``2 * 4``).\n",
            " |  ctypes : ctypes object\n",
            " |      Class containing properties of the array needed for interaction\n",
            " |      with ctypes.\n",
            " |  base : ndarray\n",
            " |      If the array is a view into another array, that array is its `base`\n",
            " |      (unless that array is also a view).  The `base` array is where the\n",
            " |      array data is actually stored.\n",
            " |  \n",
            " |  See Also\n",
            " |  --------\n",
            " |  array : Construct an array.\n",
            " |  zeros : Create an array, each element of which is zero.\n",
            " |  empty : Create an array, but leave its allocated memory unchanged (i.e.,\n",
            " |          it contains \"garbage\").\n",
            " |  dtype : Create a data-type.\n",
            " |  \n",
            " |  Notes\n",
            " |  -----\n",
            " |  There are two modes of creating an array using ``__new__``:\n",
            " |  \n",
            " |  1. If `buffer` is None, then only `shape`, `dtype`, and `order`\n",
            " |     are used.\n",
            " |  2. If `buffer` is an object exposing the buffer interface, then\n",
            " |     all keywords are interpreted.\n",
            " |  \n",
            " |  No ``__init__`` method is needed because the array is fully initialized\n",
            " |  after the ``__new__`` method.\n",
            " |  \n",
            " |  Examples\n",
            " |  --------\n",
            " |  These examples illustrate the low-level `ndarray` constructor.  Refer\n",
            " |  to the `See Also` section above for easier ways of constructing an\n",
            " |  ndarray.\n",
            " |  \n",
            " |  First mode, `buffer` is None:\n",
            " |  \n",
            " |  >>> np.ndarray(shape=(2,2), dtype=float, order='F')\n",
            " |  array([[0.0e+000, 0.0e+000], # random\n",
            " |         [     nan, 2.5e-323]])\n",
            " |  \n",
            " |  Second mode:\n",
            " |  \n",
            " |  >>> np.ndarray((2,), buffer=np.array([1,2,3]),\n",
            " |  ...            offset=np.int_().itemsize,\n",
            " |  ...            dtype=int) # offset = 1*itemsize, i.e. skip first element\n",
            " |  array([2, 3])\n",
            " |  \n",
            " |  Methods defined here:\n",
            " |  \n",
            " |  __abs__(self, /)\n",
            " |      abs(self)\n",
            " |  \n",
            " |  __add__(self, value, /)\n",
            " |      Return self+value.\n",
            " |  \n",
            " |  __and__(self, value, /)\n",
            " |      Return self&value.\n",
            " |  \n",
            " |  __array__(...)\n",
            " |      a.__array__([dtype], /) -> reference if type unchanged, copy otherwise.\n",
            " |      \n",
            " |      Returns either a new reference to self if dtype is not given or a new array\n",
            " |      of provided data type if dtype is different from the current dtype of the\n",
            " |      array.\n",
            " |  \n",
            " |  __array_function__(...)\n",
            " |  \n",
            " |  __array_prepare__(...)\n",
            " |      a.__array_prepare__(obj) -> Object of same type as ndarray object obj.\n",
            " |  \n",
            " |  __array_ufunc__(...)\n",
            " |  \n",
            " |  __array_wrap__(...)\n",
            " |      a.__array_wrap__(obj) -> Object of same type as ndarray object a.\n",
            " |  \n",
            " |  __bool__(self, /)\n",
            " |      self != 0\n",
            " |  \n",
            " |  __complex__(...)\n",
            " |  \n",
            " |  __contains__(self, key, /)\n",
            " |      Return key in self.\n",
            " |  \n",
            " |  __copy__(...)\n",
            " |      a.__copy__()\n",
            " |      \n",
            " |      Used if :func:`copy.copy` is called on an array. Returns a copy of the array.\n",
            " |      \n",
            " |      Equivalent to ``a.copy(order='K')``.\n",
            " |  \n",
            " |  __deepcopy__(...)\n",
            " |      a.__deepcopy__(memo, /) -> Deep copy of array.\n",
            " |      \n",
            " |      Used if :func:`copy.deepcopy` is called on an array.\n",
            " |  \n",
            " |  __delitem__(self, key, /)\n",
            " |      Delete self[key].\n",
            " |  \n",
            " |  __divmod__(self, value, /)\n",
            " |      Return divmod(self, value).\n",
            " |  \n",
            " |  __eq__(self, value, /)\n",
            " |      Return self==value.\n",
            " |  \n",
            " |  __float__(self, /)\n",
            " |      float(self)\n",
            " |  \n",
            " |  __floordiv__(self, value, /)\n",
            " |      Return self//value.\n",
            " |  \n",
            " |  __format__(...)\n",
            " |      Default object formatter.\n",
            " |  \n",
            " |  __ge__(self, value, /)\n",
            " |      Return self>=value.\n",
            " |  \n",
            " |  __getitem__(self, key, /)\n",
            " |      Return self[key].\n",
            " |  \n",
            " |  __gt__(self, value, /)\n",
            " |      Return self>value.\n",
            " |  \n",
            " |  __iadd__(self, value, /)\n",
            " |      Return self+=value.\n",
            " |  \n",
            " |  __iand__(self, value, /)\n",
            " |      Return self&=value.\n",
            " |  \n",
            " |  __ifloordiv__(self, value, /)\n",
            " |      Return self//=value.\n",
            " |  \n",
            " |  __ilshift__(self, value, /)\n",
            " |      Return self<<=value.\n",
            " |  \n",
            " |  __imatmul__(self, value, /)\n",
            " |      Return self@=value.\n",
            " |  \n",
            " |  __imod__(self, value, /)\n",
            " |      Return self%=value.\n",
            " |  \n",
            " |  __imul__(self, value, /)\n",
            " |      Return self*=value.\n",
            " |  \n",
            " |  __index__(self, /)\n",
            " |      Return self converted to an integer, if self is suitable for use as an index into a list.\n",
            " |  \n",
            " |  __int__(self, /)\n",
            " |      int(self)\n",
            " |  \n",
            " |  __invert__(self, /)\n",
            " |      ~self\n",
            " |  \n",
            " |  __ior__(self, value, /)\n",
            " |      Return self|=value.\n",
            " |  \n",
            " |  __ipow__(self, value, /)\n",
            " |      Return self**=value.\n",
            " |  \n",
            " |  __irshift__(self, value, /)\n",
            " |      Return self>>=value.\n",
            " |  \n",
            " |  __isub__(self, value, /)\n",
            " |      Return self-=value.\n",
            " |  \n",
            " |  __iter__(self, /)\n",
            " |      Implement iter(self).\n",
            " |  \n",
            " |  __itruediv__(self, value, /)\n",
            " |      Return self/=value.\n",
            " |  \n",
            " |  __ixor__(self, value, /)\n",
            " |      Return self^=value.\n",
            " |  \n",
            " |  __le__(self, value, /)\n",
            " |      Return self<=value.\n",
            " |  \n",
            " |  __len__(self, /)\n",
            " |      Return len(self).\n",
            " |  \n",
            " |  __lshift__(self, value, /)\n",
            " |      Return self<<value.\n",
            " |  \n",
            " |  __lt__(self, value, /)\n",
            " |      Return self<value.\n",
            " |  \n",
            " |  __matmul__(self, value, /)\n",
            " |      Return self@value.\n",
            " |  \n",
            " |  __mod__(self, value, /)\n",
            " |      Return self%value.\n",
            " |  \n",
            " |  __mul__(self, value, /)\n",
            " |      Return self*value.\n",
            " |  \n",
            " |  __ne__(self, value, /)\n",
            " |      Return self!=value.\n",
            " |  \n",
            " |  __neg__(self, /)\n",
            " |      -self\n",
            " |  \n",
            " |  __or__(self, value, /)\n",
            " |      Return self|value.\n",
            " |  \n",
            " |  __pos__(self, /)\n",
            " |      +self\n",
            " |  \n",
            " |  __pow__(self, value, mod=None, /)\n",
            " |      Return pow(self, value, mod).\n",
            " |  \n",
            " |  __radd__(self, value, /)\n",
            " |      Return value+self.\n",
            " |  \n",
            " |  __rand__(self, value, /)\n",
            " |      Return value&self.\n",
            " |  \n",
            " |  __rdivmod__(self, value, /)\n",
            " |      Return divmod(value, self).\n",
            " |  \n",
            " |  __reduce__(...)\n",
            " |      a.__reduce__()\n",
            " |      \n",
            " |      For pickling.\n",
            " |  \n",
            " |  __reduce_ex__(...)\n",
            " |      Helper for pickle.\n",
            " |  \n",
            " |  __repr__(self, /)\n",
            " |      Return repr(self).\n",
            " |  \n",
            " |  __rfloordiv__(self, value, /)\n",
            " |      Return value//self.\n",
            " |  \n",
            " |  __rlshift__(self, value, /)\n",
            " |      Return value<<self.\n",
            " |  \n",
            " |  __rmatmul__(self, value, /)\n",
            " |      Return value@self.\n",
            " |  \n",
            " |  __rmod__(self, value, /)\n",
            " |      Return value%self.\n",
            " |  \n",
            " |  __rmul__(self, value, /)\n",
            " |      Return value*self.\n",
            " |  \n",
            " |  __ror__(self, value, /)\n",
            " |      Return value|self.\n",
            " |  \n",
            " |  __rpow__(self, value, mod=None, /)\n",
            " |      Return pow(value, self, mod).\n",
            " |  \n",
            " |  __rrshift__(self, value, /)\n",
            " |      Return value>>self.\n",
            " |  \n",
            " |  __rshift__(self, value, /)\n",
            " |      Return self>>value.\n",
            " |  \n",
            " |  __rsub__(self, value, /)\n",
            " |      Return value-self.\n",
            " |  \n",
            " |  __rtruediv__(self, value, /)\n",
            " |      Return value/self.\n",
            " |  \n",
            " |  __rxor__(self, value, /)\n",
            " |      Return value^self.\n",
            " |  \n",
            " |  __setitem__(self, key, value, /)\n",
            " |      Set self[key] to value.\n",
            " |  \n",
            " |  __setstate__(...)\n",
            " |      a.__setstate__(state, /)\n",
            " |      \n",
            " |      For unpickling.\n",
            " |      \n",
            " |      The `state` argument must be a sequence that contains the following\n",
            " |      elements:\n",
            " |      \n",
            " |      Parameters\n",
            " |      ----------\n",
            " |      version : int\n",
            " |          optional pickle version. If omitted defaults to 0.\n",
            " |      shape : tuple\n",
            " |      dtype : data-type\n",
            " |      isFortran : bool\n",
            " |      rawdata : string or list\n",
            " |          a binary string with the data (or a list if 'a' is an object array)\n",
            " |  \n",
            " |  __sizeof__(...)\n",
            " |      Size of object in memory, in bytes.\n",
            " |  \n",
            " |  __str__(self, /)\n",
            " |      Return str(self).\n",
            " |  \n",
            " |  __sub__(self, value, /)\n",
            " |      Return self-value.\n",
            " |  \n",
            " |  __truediv__(self, value, /)\n",
            " |      Return self/value.\n",
            " |  \n",
            " |  __xor__(self, value, /)\n",
            " |      Return self^value.\n",
            " |  \n",
            " |  all(...)\n",
            " |      a.all(axis=None, out=None, keepdims=False)\n",
            " |      \n",
            " |      Returns True if all elements evaluate to True.\n",
            " |      \n",
            " |      Refer to `numpy.all` for full documentation.\n",
            " |      \n",
            " |      See Also\n",
            " |      --------\n",
            " |      numpy.all : equivalent function\n",
            " |  \n",
            " |  any(...)\n",
            " |      a.any(axis=None, out=None, keepdims=False)\n",
            " |      \n",
            " |      Returns True if any of the elements of `a` evaluate to True.\n",
            " |      \n",
            " |      Refer to `numpy.any` for full documentation.\n",
            " |      \n",
            " |      See Also\n",
            " |      --------\n",
            " |      numpy.any : equivalent function\n",
            " |  \n",
            " |  argmax(...)\n",
            " |      a.argmax(axis=None, out=None)\n",
            " |      \n",
            " |      Return indices of the maximum values along the given axis.\n",
            " |      \n",
            " |      Refer to `numpy.argmax` for full documentation.\n",
            " |      \n",
            " |      See Also\n",
            " |      --------\n",
            " |      numpy.argmax : equivalent function\n",
            " |  \n",
            " |  argmin(...)\n",
            " |      a.argmin(axis=None, out=None)\n",
            " |      \n",
            " |      Return indices of the minimum values along the given axis of `a`.\n",
            " |      \n",
            " |      Refer to `numpy.argmin` for detailed documentation.\n",
            " |      \n",
            " |      See Also\n",
            " |      --------\n",
            " |      numpy.argmin : equivalent function\n",
            " |  \n",
            " |  argpartition(...)\n",
            " |      a.argpartition(kth, axis=-1, kind='introselect', order=None)\n",
            " |      \n",
            " |      Returns the indices that would partition this array.\n",
            " |      \n",
            " |      Refer to `numpy.argpartition` for full documentation.\n",
            " |      \n",
            " |      .. versionadded:: 1.8.0\n",
            " |      \n",
            " |      See Also\n",
            " |      --------\n",
            " |      numpy.argpartition : equivalent function\n",
            " |  \n",
            " |  argsort(...)\n",
            " |      a.argsort(axis=-1, kind=None, order=None)\n",
            " |      \n",
            " |      Returns the indices that would sort this array.\n",
            " |      \n",
            " |      Refer to `numpy.argsort` for full documentation.\n",
            " |      \n",
            " |      See Also\n",
            " |      --------\n",
            " |      numpy.argsort : equivalent function\n",
            " |  \n",
            " |  astype(...)\n",
            " |      a.astype(dtype, order='K', casting='unsafe', subok=True, copy=True)\n",
            " |      \n",
            " |      Copy of the array, cast to a specified type.\n",
            " |      \n",
            " |      Parameters\n",
            " |      ----------\n",
            " |      dtype : str or dtype\n",
            " |          Typecode or data-type to which the array is cast.\n",
            " |      order : {'C', 'F', 'A', 'K'}, optional\n",
            " |          Controls the memory layout order of the result.\n",
            " |          'C' means C order, 'F' means Fortran order, 'A'\n",
            " |          means 'F' order if all the arrays are Fortran contiguous,\n",
            " |          'C' order otherwise, and 'K' means as close to the\n",
            " |          order the array elements appear in memory as possible.\n",
            " |          Default is 'K'.\n",
            " |      casting : {'no', 'equiv', 'safe', 'same_kind', 'unsafe'}, optional\n",
            " |          Controls what kind of data casting may occur. Defaults to 'unsafe'\n",
            " |          for backwards compatibility.\n",
            " |      \n",
            " |            * 'no' means the data types should not be cast at all.\n",
            " |            * 'equiv' means only byte-order changes are allowed.\n",
            " |            * 'safe' means only casts which can preserve values are allowed.\n",
            " |            * 'same_kind' means only safe casts or casts within a kind,\n",
            " |              like float64 to float32, are allowed.\n",
            " |            * 'unsafe' means any data conversions may be done.\n",
            " |      subok : bool, optional\n",
            " |          If True, then sub-classes will be passed-through (default), otherwise\n",
            " |          the returned array will be forced to be a base-class array.\n",
            " |      copy : bool, optional\n",
            " |          By default, astype always returns a newly allocated array. If this\n",
            " |          is set to false, and the `dtype`, `order`, and `subok`\n",
            " |          requirements are satisfied, the input array is returned instead\n",
            " |          of a copy.\n",
            " |      \n",
            " |      Returns\n",
            " |      -------\n",
            " |      arr_t : ndarray\n",
            " |          Unless `copy` is False and the other conditions for returning the input\n",
            " |          array are satisfied (see description for `copy` input parameter), `arr_t`\n",
            " |          is a new array of the same shape as the input array, with dtype, order\n",
            " |          given by `dtype`, `order`.\n",
            " |      \n",
            " |      Notes\n",
            " |      -----\n",
            " |      .. versionchanged:: 1.17.0\n",
            " |         Casting between a simple data type and a structured one is possible only\n",
            " |         for \"unsafe\" casting.  Casting to multiple fields is allowed, but\n",
            " |         casting from multiple fields is not.\n",
            " |      \n",
            " |      .. versionchanged:: 1.9.0\n",
            " |         Casting from numeric to string types in 'safe' casting mode requires\n",
            " |         that the string dtype length is long enough to store the max\n",
            " |         integer/float value converted.\n",
            " |      \n",
            " |      Raises\n",
            " |      ------\n",
            " |      ComplexWarning\n",
            " |          When casting from complex to float or int. To avoid this,\n",
            " |          one should use ``a.real.astype(t)``.\n",
            " |      \n",
            " |      Examples\n",
            " |      --------\n",
            " |      >>> x = np.array([1, 2, 2.5])\n",
            " |      >>> x\n",
            " |      array([1. ,  2. ,  2.5])\n",
            " |      \n",
            " |      >>> x.astype(int)\n",
            " |      array([1, 2, 2])\n",
            " |  \n",
            " |  byteswap(...)\n",
            " |      a.byteswap(inplace=False)\n",
            " |      \n",
            " |      Swap the bytes of the array elements\n",
            " |      \n",
            " |      Toggle between low-endian and big-endian data representation by\n",
            " |      returning a byteswapped array, optionally swapped in-place.\n",
            " |      Arrays of byte-strings are not swapped. The real and imaginary\n",
            " |      parts of a complex number are swapped individually.\n",
            " |      \n",
            " |      Parameters\n",
            " |      ----------\n",
            " |      inplace : bool, optional\n",
            " |          If ``True``, swap bytes in-place, default is ``False``.\n",
            " |      \n",
            " |      Returns\n",
            " |      -------\n",
            " |      out : ndarray\n",
            " |          The byteswapped array. If `inplace` is ``True``, this is\n",
            " |          a view to self.\n",
            " |      \n",
            " |      Examples\n",
            " |      --------\n",
            " |      >>> A = np.array([1, 256, 8755], dtype=np.int16)\n",
            " |      >>> list(map(hex, A))\n",
            " |      ['0x1', '0x100', '0x2233']\n",
            " |      >>> A.byteswap(inplace=True)\n",
            " |      array([  256,     1, 13090], dtype=int16)\n",
            " |      >>> list(map(hex, A))\n",
            " |      ['0x100', '0x1', '0x3322']\n",
            " |      \n",
            " |      Arrays of byte-strings are not swapped\n",
            " |      \n",
            " |      >>> A = np.array([b'ceg', b'fac'])\n",
            " |      >>> A.byteswap()\n",
            " |      array([b'ceg', b'fac'], dtype='|S3')\n",
            " |      \n",
            " |      ``A.newbyteorder().byteswap()`` produces an array with the same values\n",
            " |        but different representation in memory\n",
            " |      \n",
            " |      >>> A = np.array([1, 2, 3])\n",
            " |      >>> A.view(np.uint8)\n",
            " |      array([1, 0, 0, 0, 0, 0, 0, 0, 2, 0, 0, 0, 0, 0, 0, 0, 3, 0, 0, 0, 0, 0,\n",
            " |             0, 0], dtype=uint8)\n",
            " |      >>> A.newbyteorder().byteswap(inplace=True)\n",
            " |      array([1, 2, 3])\n",
            " |      >>> A.view(np.uint8)\n",
            " |      array([0, 0, 0, 0, 0, 0, 0, 1, 0, 0, 0, 0, 0, 0, 0, 2, 0, 0, 0, 0, 0, 0,\n",
            " |             0, 3], dtype=uint8)\n",
            " |  \n",
            " |  choose(...)\n",
            " |      a.choose(choices, out=None, mode='raise')\n",
            " |      \n",
            " |      Use an index array to construct a new array from a set of choices.\n",
            " |      \n",
            " |      Refer to `numpy.choose` for full documentation.\n",
            " |      \n",
            " |      See Also\n",
            " |      --------\n",
            " |      numpy.choose : equivalent function\n",
            " |  \n",
            " |  clip(...)\n",
            " |      a.clip(min=None, max=None, out=None, **kwargs)\n",
            " |      \n",
            " |      Return an array whose values are limited to ``[min, max]``.\n",
            " |      One of max or min must be given.\n",
            " |      \n",
            " |      Refer to `numpy.clip` for full documentation.\n",
            " |      \n",
            " |      See Also\n",
            " |      --------\n",
            " |      numpy.clip : equivalent function\n",
            " |  \n",
            " |  compress(...)\n",
            " |      a.compress(condition, axis=None, out=None)\n",
            " |      \n",
            " |      Return selected slices of this array along given axis.\n",
            " |      \n",
            " |      Refer to `numpy.compress` for full documentation.\n",
            " |      \n",
            " |      See Also\n",
            " |      --------\n",
            " |      numpy.compress : equivalent function\n",
            " |  \n",
            " |  conj(...)\n",
            " |      a.conj()\n",
            " |      \n",
            " |      Complex-conjugate all elements.\n",
            " |      \n",
            " |      Refer to `numpy.conjugate` for full documentation.\n",
            " |      \n",
            " |      See Also\n",
            " |      --------\n",
            " |      numpy.conjugate : equivalent function\n",
            " |  \n",
            " |  conjugate(...)\n",
            " |      a.conjugate()\n",
            " |      \n",
            " |      Return the complex conjugate, element-wise.\n",
            " |      \n",
            " |      Refer to `numpy.conjugate` for full documentation.\n",
            " |      \n",
            " |      See Also\n",
            " |      --------\n",
            " |      numpy.conjugate : equivalent function\n",
            " |  \n",
            " |  copy(...)\n",
            " |      a.copy(order='C')\n",
            " |      \n",
            " |      Return a copy of the array.\n",
            " |      \n",
            " |      Parameters\n",
            " |      ----------\n",
            " |      order : {'C', 'F', 'A', 'K'}, optional\n",
            " |          Controls the memory layout of the copy. 'C' means C-order,\n",
            " |          'F' means F-order, 'A' means 'F' if `a` is Fortran contiguous,\n",
            " |          'C' otherwise. 'K' means match the layout of `a` as closely\n",
            " |          as possible. (Note that this function and :func:`numpy.copy` are very\n",
            " |          similar, but have different default values for their order=\n",
            " |          arguments.)\n",
            " |      \n",
            " |      See also\n",
            " |      --------\n",
            " |      numpy.copy\n",
            " |      numpy.copyto\n",
            " |      \n",
            " |      Examples\n",
            " |      --------\n",
            " |      >>> x = np.array([[1,2,3],[4,5,6]], order='F')\n",
            " |      \n",
            " |      >>> y = x.copy()\n",
            " |      \n",
            " |      >>> x.fill(0)\n",
            " |      \n",
            " |      >>> x\n",
            " |      array([[0, 0, 0],\n",
            " |             [0, 0, 0]])\n",
            " |      \n",
            " |      >>> y\n",
            " |      array([[1, 2, 3],\n",
            " |             [4, 5, 6]])\n",
            " |      \n",
            " |      >>> y.flags['C_CONTIGUOUS']\n",
            " |      True\n",
            " |  \n",
            " |  cumprod(...)\n",
            " |      a.cumprod(axis=None, dtype=None, out=None)\n",
            " |      \n",
            " |      Return the cumulative product of the elements along the given axis.\n",
            " |      \n",
            " |      Refer to `numpy.cumprod` for full documentation.\n",
            " |      \n",
            " |      See Also\n",
            " |      --------\n",
            " |      numpy.cumprod : equivalent function\n",
            " |  \n",
            " |  cumsum(...)\n",
            " |      a.cumsum(axis=None, dtype=None, out=None)\n",
            " |      \n",
            " |      Return the cumulative sum of the elements along the given axis.\n",
            " |      \n",
            " |      Refer to `numpy.cumsum` for full documentation.\n",
            " |      \n",
            " |      See Also\n",
            " |      --------\n",
            " |      numpy.cumsum : equivalent function\n",
            " |  \n",
            " |  diagonal(...)\n",
            " |      a.diagonal(offset=0, axis1=0, axis2=1)\n",
            " |      \n",
            " |      Return specified diagonals. In NumPy 1.9 the returned array is a\n",
            " |      read-only view instead of a copy as in previous NumPy versions.  In\n",
            " |      a future version the read-only restriction will be removed.\n",
            " |      \n",
            " |      Refer to :func:`numpy.diagonal` for full documentation.\n",
            " |      \n",
            " |      See Also\n",
            " |      --------\n",
            " |      numpy.diagonal : equivalent function\n",
            " |  \n",
            " |  dot(...)\n",
            " |      a.dot(b, out=None)\n",
            " |      \n",
            " |      Dot product of two arrays.\n",
            " |      \n",
            " |      Refer to `numpy.dot` for full documentation.\n",
            " |      \n",
            " |      See Also\n",
            " |      --------\n",
            " |      numpy.dot : equivalent function\n",
            " |      \n",
            " |      Examples\n",
            " |      --------\n",
            " |      >>> a = np.eye(2)\n",
            " |      >>> b = np.ones((2, 2)) * 2\n",
            " |      >>> a.dot(b)\n",
            " |      array([[2.,  2.],\n",
            " |             [2.,  2.]])\n",
            " |      \n",
            " |      This array method can be conveniently chained:\n",
            " |      \n",
            " |      >>> a.dot(b).dot(b)\n",
            " |      array([[8.,  8.],\n",
            " |             [8.,  8.]])\n",
            " |  \n",
            " |  dump(...)\n",
            " |      a.dump(file)\n",
            " |      \n",
            " |      Dump a pickle of the array to the specified file.\n",
            " |      The array can be read back with pickle.load or numpy.load.\n",
            " |      \n",
            " |      Parameters\n",
            " |      ----------\n",
            " |      file : str or Path\n",
            " |          A string naming the dump file.\n",
            " |      \n",
            " |          .. versionchanged:: 1.17.0\n",
            " |              `pathlib.Path` objects are now accepted.\n",
            " |  \n",
            " |  dumps(...)\n",
            " |      a.dumps()\n",
            " |      \n",
            " |      Returns the pickle of the array as a string.\n",
            " |      pickle.loads or numpy.loads will convert the string back to an array.\n",
            " |      \n",
            " |      Parameters\n",
            " |      ----------\n",
            " |      None\n",
            " |  \n",
            " |  fill(...)\n",
            " |      a.fill(value)\n",
            " |      \n",
            " |      Fill the array with a scalar value.\n",
            " |      \n",
            " |      Parameters\n",
            " |      ----------\n",
            " |      value : scalar\n",
            " |          All elements of `a` will be assigned this value.\n",
            " |      \n",
            " |      Examples\n",
            " |      --------\n",
            " |      >>> a = np.array([1, 2])\n",
            " |      >>> a.fill(0)\n",
            " |      >>> a\n",
            " |      array([0, 0])\n",
            " |      >>> a = np.empty(2)\n",
            " |      >>> a.fill(1)\n",
            " |      >>> a\n",
            " |      array([1.,  1.])\n",
            " |  \n",
            " |  flatten(...)\n",
            " |      a.flatten(order='C')\n",
            " |      \n",
            " |      Return a copy of the array collapsed into one dimension.\n",
            " |      \n",
            " |      Parameters\n",
            " |      ----------\n",
            " |      order : {'C', 'F', 'A', 'K'}, optional\n",
            " |          'C' means to flatten in row-major (C-style) order.\n",
            " |          'F' means to flatten in column-major (Fortran-\n",
            " |          style) order. 'A' means to flatten in column-major\n",
            " |          order if `a` is Fortran *contiguous* in memory,\n",
            " |          row-major order otherwise. 'K' means to flatten\n",
            " |          `a` in the order the elements occur in memory.\n",
            " |          The default is 'C'.\n",
            " |      \n",
            " |      Returns\n",
            " |      -------\n",
            " |      y : ndarray\n",
            " |          A copy of the input array, flattened to one dimension.\n",
            " |      \n",
            " |      See Also\n",
            " |      --------\n",
            " |      ravel : Return a flattened array.\n",
            " |      flat : A 1-D flat iterator over the array.\n",
            " |      \n",
            " |      Examples\n",
            " |      --------\n",
            " |      >>> a = np.array([[1,2], [3,4]])\n",
            " |      >>> a.flatten()\n",
            " |      array([1, 2, 3, 4])\n",
            " |      >>> a.flatten('F')\n",
            " |      array([1, 3, 2, 4])\n",
            " |  \n",
            " |  getfield(...)\n",
            " |      a.getfield(dtype, offset=0)\n",
            " |      \n",
            " |      Returns a field of the given array as a certain type.\n",
            " |      \n",
            " |      A field is a view of the array data with a given data-type. The values in\n",
            " |      the view are determined by the given type and the offset into the current\n",
            " |      array in bytes. The offset needs to be such that the view dtype fits in the\n",
            " |      array dtype; for example an array of dtype complex128 has 16-byte elements.\n",
            " |      If taking a view with a 32-bit integer (4 bytes), the offset needs to be\n",
            " |      between 0 and 12 bytes.\n",
            " |      \n",
            " |      Parameters\n",
            " |      ----------\n",
            " |      dtype : str or dtype\n",
            " |          The data type of the view. The dtype size of the view can not be larger\n",
            " |          than that of the array itself.\n",
            " |      offset : int\n",
            " |          Number of bytes to skip before beginning the element view.\n",
            " |      \n",
            " |      Examples\n",
            " |      --------\n",
            " |      >>> x = np.diag([1.+1.j]*2)\n",
            " |      >>> x[1, 1] = 2 + 4.j\n",
            " |      >>> x\n",
            " |      array([[1.+1.j,  0.+0.j],\n",
            " |             [0.+0.j,  2.+4.j]])\n",
            " |      >>> x.getfield(np.float64)\n",
            " |      array([[1.,  0.],\n",
            " |             [0.,  2.]])\n",
            " |      \n",
            " |      By choosing an offset of 8 bytes we can select the complex part of the\n",
            " |      array for our view:\n",
            " |      \n",
            " |      >>> x.getfield(np.float64, offset=8)\n",
            " |      array([[1.,  0.],\n",
            " |             [0.,  4.]])\n",
            " |  \n",
            " |  item(...)\n",
            " |      a.item(*args)\n",
            " |      \n",
            " |      Copy an element of an array to a standard Python scalar and return it.\n",
            " |      \n",
            " |      Parameters\n",
            " |      ----------\n",
            " |      \\*args : Arguments (variable number and type)\n",
            " |      \n",
            " |          * none: in this case, the method only works for arrays\n",
            " |            with one element (`a.size == 1`), which element is\n",
            " |            copied into a standard Python scalar object and returned.\n",
            " |      \n",
            " |          * int_type: this argument is interpreted as a flat index into\n",
            " |            the array, specifying which element to copy and return.\n",
            " |      \n",
            " |          * tuple of int_types: functions as does a single int_type argument,\n",
            " |            except that the argument is interpreted as an nd-index into the\n",
            " |            array.\n",
            " |      \n",
            " |      Returns\n",
            " |      -------\n",
            " |      z : Standard Python scalar object\n",
            " |          A copy of the specified element of the array as a suitable\n",
            " |          Python scalar\n",
            " |      \n",
            " |      Notes\n",
            " |      -----\n",
            " |      When the data type of `a` is longdouble or clongdouble, item() returns\n",
            " |      a scalar array object because there is no available Python scalar that\n",
            " |      would not lose information. Void arrays return a buffer object for item(),\n",
            " |      unless fields are defined, in which case a tuple is returned.\n",
            " |      \n",
            " |      `item` is very similar to a[args], except, instead of an array scalar,\n",
            " |      a standard Python scalar is returned. This can be useful for speeding up\n",
            " |      access to elements of the array and doing arithmetic on elements of the\n",
            " |      array using Python's optimized math.\n",
            " |      \n",
            " |      Examples\n",
            " |      --------\n",
            " |      >>> np.random.seed(123)\n",
            " |      >>> x = np.random.randint(9, size=(3, 3))\n",
            " |      >>> x\n",
            " |      array([[2, 2, 6],\n",
            " |             [1, 3, 6],\n",
            " |             [1, 0, 1]])\n",
            " |      >>> x.item(3)\n",
            " |      1\n",
            " |      >>> x.item(7)\n",
            " |      0\n",
            " |      >>> x.item((0, 1))\n",
            " |      2\n",
            " |      >>> x.item((2, 2))\n",
            " |      1\n",
            " |  \n",
            " |  itemset(...)\n",
            " |      a.itemset(*args)\n",
            " |      \n",
            " |      Insert scalar into an array (scalar is cast to array's dtype, if possible)\n",
            " |      \n",
            " |      There must be at least 1 argument, and define the last argument\n",
            " |      as *item*.  Then, ``a.itemset(*args)`` is equivalent to but faster\n",
            " |      than ``a[args] = item``.  The item should be a scalar value and `args`\n",
            " |      must select a single item in the array `a`.\n",
            " |      \n",
            " |      Parameters\n",
            " |      ----------\n",
            " |      \\*args : Arguments\n",
            " |          If one argument: a scalar, only used in case `a` is of size 1.\n",
            " |          If two arguments: the last argument is the value to be set\n",
            " |          and must be a scalar, the first argument specifies a single array\n",
            " |          element location. It is either an int or a tuple.\n",
            " |      \n",
            " |      Notes\n",
            " |      -----\n",
            " |      Compared to indexing syntax, `itemset` provides some speed increase\n",
            " |      for placing a scalar into a particular location in an `ndarray`,\n",
            " |      if you must do this.  However, generally this is discouraged:\n",
            " |      among other problems, it complicates the appearance of the code.\n",
            " |      Also, when using `itemset` (and `item`) inside a loop, be sure\n",
            " |      to assign the methods to a local variable to avoid the attribute\n",
            " |      look-up at each loop iteration.\n",
            " |      \n",
            " |      Examples\n",
            " |      --------\n",
            " |      >>> np.random.seed(123)\n",
            " |      >>> x = np.random.randint(9, size=(3, 3))\n",
            " |      >>> x\n",
            " |      array([[2, 2, 6],\n",
            " |             [1, 3, 6],\n",
            " |             [1, 0, 1]])\n",
            " |      >>> x.itemset(4, 0)\n",
            " |      >>> x.itemset((2, 2), 9)\n",
            " |      >>> x\n",
            " |      array([[2, 2, 6],\n",
            " |             [1, 0, 6],\n",
            " |             [1, 0, 9]])\n",
            " |  \n",
            " |  max(...)\n",
            " |      a.max(axis=None, out=None, keepdims=False, initial=<no value>, where=True)\n",
            " |      \n",
            " |      Return the maximum along a given axis.\n",
            " |      \n",
            " |      Refer to `numpy.amax` for full documentation.\n",
            " |      \n",
            " |      See Also\n",
            " |      --------\n",
            " |      numpy.amax : equivalent function\n",
            " |  \n",
            " |  mean(...)\n",
            " |      a.mean(axis=None, dtype=None, out=None, keepdims=False)\n",
            " |      \n",
            " |      Returns the average of the array elements along given axis.\n",
            " |      \n",
            " |      Refer to `numpy.mean` for full documentation.\n",
            " |      \n",
            " |      See Also\n",
            " |      --------\n",
            " |      numpy.mean : equivalent function\n",
            " |  \n",
            " |  min(...)\n",
            " |      a.min(axis=None, out=None, keepdims=False, initial=<no value>, where=True)\n",
            " |      \n",
            " |      Return the minimum along a given axis.\n",
            " |      \n",
            " |      Refer to `numpy.amin` for full documentation.\n",
            " |      \n",
            " |      See Also\n",
            " |      --------\n",
            " |      numpy.amin : equivalent function\n",
            " |  \n",
            " |  newbyteorder(...)\n",
            " |      arr.newbyteorder(new_order='S')\n",
            " |      \n",
            " |      Return the array with the same data viewed with a different byte order.\n",
            " |      \n",
            " |      Equivalent to::\n",
            " |      \n",
            " |          arr.view(arr.dtype.newbytorder(new_order))\n",
            " |      \n",
            " |      Changes are also made in all fields and sub-arrays of the array data\n",
            " |      type.\n",
            " |      \n",
            " |      \n",
            " |      \n",
            " |      Parameters\n",
            " |      ----------\n",
            " |      new_order : string, optional\n",
            " |          Byte order to force; a value from the byte order specifications\n",
            " |          below. `new_order` codes can be any of:\n",
            " |      \n",
            " |          * 'S' - swap dtype from current to opposite endian\n",
            " |          * {'<', 'L'} - little endian\n",
            " |          * {'>', 'B'} - big endian\n",
            " |          * {'=', 'N'} - native order\n",
            " |          * {'|', 'I'} - ignore (no change to byte order)\n",
            " |      \n",
            " |          The default value ('S') results in swapping the current\n",
            " |          byte order. The code does a case-insensitive check on the first\n",
            " |          letter of `new_order` for the alternatives above.  For example,\n",
            " |          any of 'B' or 'b' or 'biggish' are valid to specify big-endian.\n",
            " |      \n",
            " |      \n",
            " |      Returns\n",
            " |      -------\n",
            " |      new_arr : array\n",
            " |          New array object with the dtype reflecting given change to the\n",
            " |          byte order.\n",
            " |  \n",
            " |  nonzero(...)\n",
            " |      a.nonzero()\n",
            " |      \n",
            " |      Return the indices of the elements that are non-zero.\n",
            " |      \n",
            " |      Refer to `numpy.nonzero` for full documentation.\n",
            " |      \n",
            " |      See Also\n",
            " |      --------\n",
            " |      numpy.nonzero : equivalent function\n",
            " |  \n",
            " |  partition(...)\n",
            " |      a.partition(kth, axis=-1, kind='introselect', order=None)\n",
            " |      \n",
            " |      Rearranges the elements in the array in such a way that the value of the\n",
            " |      element in kth position is in the position it would be in a sorted array.\n",
            " |      All elements smaller than the kth element are moved before this element and\n",
            " |      all equal or greater are moved behind it. The ordering of the elements in\n",
            " |      the two partitions is undefined.\n",
            " |      \n",
            " |      .. versionadded:: 1.8.0\n",
            " |      \n",
            " |      Parameters\n",
            " |      ----------\n",
            " |      kth : int or sequence of ints\n",
            " |          Element index to partition by. The kth element value will be in its\n",
            " |          final sorted position and all smaller elements will be moved before it\n",
            " |          and all equal or greater elements behind it.\n",
            " |          The order of all elements in the partitions is undefined.\n",
            " |          If provided with a sequence of kth it will partition all elements\n",
            " |          indexed by kth of them into their sorted position at once.\n",
            " |      axis : int, optional\n",
            " |          Axis along which to sort. Default is -1, which means sort along the\n",
            " |          last axis.\n",
            " |      kind : {'introselect'}, optional\n",
            " |          Selection algorithm. Default is 'introselect'.\n",
            " |      order : str or list of str, optional\n",
            " |          When `a` is an array with fields defined, this argument specifies\n",
            " |          which fields to compare first, second, etc. A single field can\n",
            " |          be specified as a string, and not all fields need to be specified,\n",
            " |          but unspecified fields will still be used, in the order in which\n",
            " |          they come up in the dtype, to break ties.\n",
            " |      \n",
            " |      See Also\n",
            " |      --------\n",
            " |      numpy.partition : Return a parititioned copy of an array.\n",
            " |      argpartition : Indirect partition.\n",
            " |      sort : Full sort.\n",
            " |      \n",
            " |      Notes\n",
            " |      -----\n",
            " |      See ``np.partition`` for notes on the different algorithms.\n",
            " |      \n",
            " |      Examples\n",
            " |      --------\n",
            " |      >>> a = np.array([3, 4, 2, 1])\n",
            " |      >>> a.partition(3)\n",
            " |      >>> a\n",
            " |      array([2, 1, 3, 4])\n",
            " |      \n",
            " |      >>> a.partition((1, 3))\n",
            " |      >>> a\n",
            " |      array([1, 2, 3, 4])\n",
            " |  \n",
            " |  prod(...)\n",
            " |      a.prod(axis=None, dtype=None, out=None, keepdims=False, initial=1, where=True)\n",
            " |      \n",
            " |      Return the product of the array elements over the given axis\n",
            " |      \n",
            " |      Refer to `numpy.prod` for full documentation.\n",
            " |      \n",
            " |      See Also\n",
            " |      --------\n",
            " |      numpy.prod : equivalent function\n",
            " |  \n",
            " |  ptp(...)\n",
            " |      a.ptp(axis=None, out=None, keepdims=False)\n",
            " |      \n",
            " |      Peak to peak (maximum - minimum) value along a given axis.\n",
            " |      \n",
            " |      Refer to `numpy.ptp` for full documentation.\n",
            " |      \n",
            " |      See Also\n",
            " |      --------\n",
            " |      numpy.ptp : equivalent function\n",
            " |  \n",
            " |  put(...)\n",
            " |      a.put(indices, values, mode='raise')\n",
            " |      \n",
            " |      Set ``a.flat[n] = values[n]`` for all `n` in indices.\n",
            " |      \n",
            " |      Refer to `numpy.put` for full documentation.\n",
            " |      \n",
            " |      See Also\n",
            " |      --------\n",
            " |      numpy.put : equivalent function\n",
            " |  \n",
            " |  ravel(...)\n",
            " |      a.ravel([order])\n",
            " |      \n",
            " |      Return a flattened array.\n",
            " |      \n",
            " |      Refer to `numpy.ravel` for full documentation.\n",
            " |      \n",
            " |      See Also\n",
            " |      --------\n",
            " |      numpy.ravel : equivalent function\n",
            " |      \n",
            " |      ndarray.flat : a flat iterator on the array.\n",
            " |  \n",
            " |  repeat(...)\n",
            " |      a.repeat(repeats, axis=None)\n",
            " |      \n",
            " |      Repeat elements of an array.\n",
            " |      \n",
            " |      Refer to `numpy.repeat` for full documentation.\n",
            " |      \n",
            " |      See Also\n",
            " |      --------\n",
            " |      numpy.repeat : equivalent function\n",
            " |  \n",
            " |  reshape(...)\n",
            " |      a.reshape(shape, order='C')\n",
            " |      \n",
            " |      Returns an array containing the same data with a new shape.\n",
            " |      \n",
            " |      Refer to `numpy.reshape` for full documentation.\n",
            " |      \n",
            " |      See Also\n",
            " |      --------\n",
            " |      numpy.reshape : equivalent function\n",
            " |      \n",
            " |      Notes\n",
            " |      -----\n",
            " |      Unlike the free function `numpy.reshape`, this method on `ndarray` allows\n",
            " |      the elements of the shape parameter to be passed in as separate arguments.\n",
            " |      For example, ``a.reshape(10, 11)`` is equivalent to\n",
            " |      ``a.reshape((10, 11))``.\n",
            " |  \n",
            " |  resize(...)\n",
            " |      a.resize(new_shape, refcheck=True)\n",
            " |      \n",
            " |      Change shape and size of array in-place.\n",
            " |      \n",
            " |      Parameters\n",
            " |      ----------\n",
            " |      new_shape : tuple of ints, or `n` ints\n",
            " |          Shape of resized array.\n",
            " |      refcheck : bool, optional\n",
            " |          If False, reference count will not be checked. Default is True.\n",
            " |      \n",
            " |      Returns\n",
            " |      -------\n",
            " |      None\n",
            " |      \n",
            " |      Raises\n",
            " |      ------\n",
            " |      ValueError\n",
            " |          If `a` does not own its own data or references or views to it exist,\n",
            " |          and the data memory must be changed.\n",
            " |          PyPy only: will always raise if the data memory must be changed, since\n",
            " |          there is no reliable way to determine if references or views to it\n",
            " |          exist.\n",
            " |      \n",
            " |      SystemError\n",
            " |          If the `order` keyword argument is specified. This behaviour is a\n",
            " |          bug in NumPy.\n",
            " |      \n",
            " |      See Also\n",
            " |      --------\n",
            " |      resize : Return a new array with the specified shape.\n",
            " |      \n",
            " |      Notes\n",
            " |      -----\n",
            " |      This reallocates space for the data area if necessary.\n",
            " |      \n",
            " |      Only contiguous arrays (data elements consecutive in memory) can be\n",
            " |      resized.\n",
            " |      \n",
            " |      The purpose of the reference count check is to make sure you\n",
            " |      do not use this array as a buffer for another Python object and then\n",
            " |      reallocate the memory. However, reference counts can increase in\n",
            " |      other ways so if you are sure that you have not shared the memory\n",
            " |      for this array with another Python object, then you may safely set\n",
            " |      `refcheck` to False.\n",
            " |      \n",
            " |      Examples\n",
            " |      --------\n",
            " |      Shrinking an array: array is flattened (in the order that the data are\n",
            " |      stored in memory), resized, and reshaped:\n",
            " |      \n",
            " |      >>> a = np.array([[0, 1], [2, 3]], order='C')\n",
            " |      >>> a.resize((2, 1))\n",
            " |      >>> a\n",
            " |      array([[0],\n",
            " |             [1]])\n",
            " |      \n",
            " |      >>> a = np.array([[0, 1], [2, 3]], order='F')\n",
            " |      >>> a.resize((2, 1))\n",
            " |      >>> a\n",
            " |      array([[0],\n",
            " |             [2]])\n",
            " |      \n",
            " |      Enlarging an array: as above, but missing entries are filled with zeros:\n",
            " |      \n",
            " |      >>> b = np.array([[0, 1], [2, 3]])\n",
            " |      >>> b.resize(2, 3) # new_shape parameter doesn't have to be a tuple\n",
            " |      >>> b\n",
            " |      array([[0, 1, 2],\n",
            " |             [3, 0, 0]])\n",
            " |      \n",
            " |      Referencing an array prevents resizing...\n",
            " |      \n",
            " |      >>> c = a\n",
            " |      >>> a.resize((1, 1))\n",
            " |      Traceback (most recent call last):\n",
            " |      ...\n",
            " |      ValueError: cannot resize an array that references or is referenced ...\n",
            " |      \n",
            " |      Unless `refcheck` is False:\n",
            " |      \n",
            " |      >>> a.resize((1, 1), refcheck=False)\n",
            " |      >>> a\n",
            " |      array([[0]])\n",
            " |      >>> c\n",
            " |      array([[0]])\n",
            " |  \n",
            " |  round(...)\n",
            " |      a.round(decimals=0, out=None)\n",
            " |      \n",
            " |      Return `a` with each element rounded to the given number of decimals.\n",
            " |      \n",
            " |      Refer to `numpy.around` for full documentation.\n",
            " |      \n",
            " |      See Also\n",
            " |      --------\n",
            " |      numpy.around : equivalent function\n",
            " |  \n",
            " |  searchsorted(...)\n",
            " |      a.searchsorted(v, side='left', sorter=None)\n",
            " |      \n",
            " |      Find indices where elements of v should be inserted in a to maintain order.\n",
            " |      \n",
            " |      For full documentation, see `numpy.searchsorted`\n",
            " |      \n",
            " |      See Also\n",
            " |      --------\n",
            " |      numpy.searchsorted : equivalent function\n",
            " |  \n",
            " |  setfield(...)\n",
            " |      a.setfield(val, dtype, offset=0)\n",
            " |      \n",
            " |      Put a value into a specified place in a field defined by a data-type.\n",
            " |      \n",
            " |      Place `val` into `a`'s field defined by `dtype` and beginning `offset`\n",
            " |      bytes into the field.\n",
            " |      \n",
            " |      Parameters\n",
            " |      ----------\n",
            " |      val : object\n",
            " |          Value to be placed in field.\n",
            " |      dtype : dtype object\n",
            " |          Data-type of the field in which to place `val`.\n",
            " |      offset : int, optional\n",
            " |          The number of bytes into the field at which to place `val`.\n",
            " |      \n",
            " |      Returns\n",
            " |      -------\n",
            " |      None\n",
            " |      \n",
            " |      See Also\n",
            " |      --------\n",
            " |      getfield\n",
            " |      \n",
            " |      Examples\n",
            " |      --------\n",
            " |      >>> x = np.eye(3)\n",
            " |      >>> x.getfield(np.float64)\n",
            " |      array([[1.,  0.,  0.],\n",
            " |             [0.,  1.,  0.],\n",
            " |             [0.,  0.,  1.]])\n",
            " |      >>> x.setfield(3, np.int32)\n",
            " |      >>> x.getfield(np.int32)\n",
            " |      array([[3, 3, 3],\n",
            " |             [3, 3, 3],\n",
            " |             [3, 3, 3]], dtype=int32)\n",
            " |      >>> x\n",
            " |      array([[1.0e+000, 1.5e-323, 1.5e-323],\n",
            " |             [1.5e-323, 1.0e+000, 1.5e-323],\n",
            " |             [1.5e-323, 1.5e-323, 1.0e+000]])\n",
            " |      >>> x.setfield(np.eye(3), np.int32)\n",
            " |      >>> x\n",
            " |      array([[1.,  0.,  0.],\n",
            " |             [0.,  1.,  0.],\n",
            " |             [0.,  0.,  1.]])\n",
            " |  \n",
            " |  setflags(...)\n",
            " |      a.setflags(write=None, align=None, uic=None)\n",
            " |      \n",
            " |      Set array flags WRITEABLE, ALIGNED, (WRITEBACKIFCOPY and UPDATEIFCOPY),\n",
            " |      respectively.\n",
            " |      \n",
            " |      These Boolean-valued flags affect how numpy interprets the memory\n",
            " |      area used by `a` (see Notes below). The ALIGNED flag can only\n",
            " |      be set to True if the data is actually aligned according to the type.\n",
            " |      The WRITEBACKIFCOPY and (deprecated) UPDATEIFCOPY flags can never be set\n",
            " |      to True. The flag WRITEABLE can only be set to True if the array owns its\n",
            " |      own memory, or the ultimate owner of the memory exposes a writeable buffer\n",
            " |      interface, or is a string. (The exception for string is made so that\n",
            " |      unpickling can be done without copying memory.)\n",
            " |      \n",
            " |      Parameters\n",
            " |      ----------\n",
            " |      write : bool, optional\n",
            " |          Describes whether or not `a` can be written to.\n",
            " |      align : bool, optional\n",
            " |          Describes whether or not `a` is aligned properly for its type.\n",
            " |      uic : bool, optional\n",
            " |          Describes whether or not `a` is a copy of another \"base\" array.\n",
            " |      \n",
            " |      Notes\n",
            " |      -----\n",
            " |      Array flags provide information about how the memory area used\n",
            " |      for the array is to be interpreted. There are 7 Boolean flags\n",
            " |      in use, only four of which can be changed by the user:\n",
            " |      WRITEBACKIFCOPY, UPDATEIFCOPY, WRITEABLE, and ALIGNED.\n",
            " |      \n",
            " |      WRITEABLE (W) the data area can be written to;\n",
            " |      \n",
            " |      ALIGNED (A) the data and strides are aligned appropriately for the hardware\n",
            " |      (as determined by the compiler);\n",
            " |      \n",
            " |      UPDATEIFCOPY (U) (deprecated), replaced by WRITEBACKIFCOPY;\n",
            " |      \n",
            " |      WRITEBACKIFCOPY (X) this array is a copy of some other array (referenced\n",
            " |      by .base). When the C-API function PyArray_ResolveWritebackIfCopy is\n",
            " |      called, the base array will be updated with the contents of this array.\n",
            " |      \n",
            " |      All flags can be accessed using the single (upper case) letter as well\n",
            " |      as the full name.\n",
            " |      \n",
            " |      Examples\n",
            " |      --------\n",
            " |      >>> y = np.array([[3, 1, 7],\n",
            " |      ...               [2, 0, 0],\n",
            " |      ...               [8, 5, 9]])\n",
            " |      >>> y\n",
            " |      array([[3, 1, 7],\n",
            " |             [2, 0, 0],\n",
            " |             [8, 5, 9]])\n",
            " |      >>> y.flags\n",
            " |        C_CONTIGUOUS : True\n",
            " |        F_CONTIGUOUS : False\n",
            " |        OWNDATA : True\n",
            " |        WRITEABLE : True\n",
            " |        ALIGNED : True\n",
            " |        WRITEBACKIFCOPY : False\n",
            " |        UPDATEIFCOPY : False\n",
            " |      >>> y.setflags(write=0, align=0)\n",
            " |      >>> y.flags\n",
            " |        C_CONTIGUOUS : True\n",
            " |        F_CONTIGUOUS : False\n",
            " |        OWNDATA : True\n",
            " |        WRITEABLE : False\n",
            " |        ALIGNED : False\n",
            " |        WRITEBACKIFCOPY : False\n",
            " |        UPDATEIFCOPY : False\n",
            " |      >>> y.setflags(uic=1)\n",
            " |      Traceback (most recent call last):\n",
            " |        File \"<stdin>\", line 1, in <module>\n",
            " |      ValueError: cannot set WRITEBACKIFCOPY flag to True\n",
            " |  \n",
            " |  sort(...)\n",
            " |      a.sort(axis=-1, kind=None, order=None)\n",
            " |      \n",
            " |      Sort an array in-place. Refer to `numpy.sort` for full documentation.\n",
            " |      \n",
            " |      Parameters\n",
            " |      ----------\n",
            " |      axis : int, optional\n",
            " |          Axis along which to sort. Default is -1, which means sort along the\n",
            " |          last axis.\n",
            " |      kind : {'quicksort', 'mergesort', 'heapsort', 'stable'}, optional\n",
            " |          Sorting algorithm. The default is 'quicksort'. Note that both 'stable'\n",
            " |          and 'mergesort' use timsort under the covers and, in general, the\n",
            " |          actual implementation will vary with datatype. The 'mergesort' option\n",
            " |          is retained for backwards compatibility.\n",
            " |      \n",
            " |          .. versionchanged:: 1.15.0.\n",
            " |             The 'stable' option was added.\n",
            " |      \n",
            " |      order : str or list of str, optional\n",
            " |          When `a` is an array with fields defined, this argument specifies\n",
            " |          which fields to compare first, second, etc.  A single field can\n",
            " |          be specified as a string, and not all fields need be specified,\n",
            " |          but unspecified fields will still be used, in the order in which\n",
            " |          they come up in the dtype, to break ties.\n",
            " |      \n",
            " |      See Also\n",
            " |      --------\n",
            " |      numpy.sort : Return a sorted copy of an array.\n",
            " |      numpy.argsort : Indirect sort.\n",
            " |      numpy.lexsort : Indirect stable sort on multiple keys.\n",
            " |      numpy.searchsorted : Find elements in sorted array.\n",
            " |      numpy.partition: Partial sort.\n",
            " |      \n",
            " |      Notes\n",
            " |      -----\n",
            " |      See `numpy.sort` for notes on the different sorting algorithms.\n",
            " |      \n",
            " |      Examples\n",
            " |      --------\n",
            " |      >>> a = np.array([[1,4], [3,1]])\n",
            " |      >>> a.sort(axis=1)\n",
            " |      >>> a\n",
            " |      array([[1, 4],\n",
            " |             [1, 3]])\n",
            " |      >>> a.sort(axis=0)\n",
            " |      >>> a\n",
            " |      array([[1, 3],\n",
            " |             [1, 4]])\n",
            " |      \n",
            " |      Use the `order` keyword to specify a field to use when sorting a\n",
            " |      structured array:\n",
            " |      \n",
            " |      >>> a = np.array([('a', 2), ('c', 1)], dtype=[('x', 'S1'), ('y', int)])\n",
            " |      >>> a.sort(order='y')\n",
            " |      >>> a\n",
            " |      array([(b'c', 1), (b'a', 2)],\n",
            " |            dtype=[('x', 'S1'), ('y', '<i8')])\n",
            " |  \n",
            " |  squeeze(...)\n",
            " |      a.squeeze(axis=None)\n",
            " |      \n",
            " |      Remove single-dimensional entries from the shape of `a`.\n",
            " |      \n",
            " |      Refer to `numpy.squeeze` for full documentation.\n",
            " |      \n",
            " |      See Also\n",
            " |      --------\n",
            " |      numpy.squeeze : equivalent function\n",
            " |  \n",
            " |  std(...)\n",
            " |      a.std(axis=None, dtype=None, out=None, ddof=0, keepdims=False)\n",
            " |      \n",
            " |      Returns the standard deviation of the array elements along given axis.\n",
            " |      \n",
            " |      Refer to `numpy.std` for full documentation.\n",
            " |      \n",
            " |      See Also\n",
            " |      --------\n",
            " |      numpy.std : equivalent function\n",
            " |  \n",
            " |  sum(...)\n",
            " |      a.sum(axis=None, dtype=None, out=None, keepdims=False, initial=0, where=True)\n",
            " |      \n",
            " |      Return the sum of the array elements over the given axis.\n",
            " |      \n",
            " |      Refer to `numpy.sum` for full documentation.\n",
            " |      \n",
            " |      See Also\n",
            " |      --------\n",
            " |      numpy.sum : equivalent function\n",
            " |  \n",
            " |  swapaxes(...)\n",
            " |      a.swapaxes(axis1, axis2)\n",
            " |      \n",
            " |      Return a view of the array with `axis1` and `axis2` interchanged.\n",
            " |      \n",
            " |      Refer to `numpy.swapaxes` for full documentation.\n",
            " |      \n",
            " |      See Also\n",
            " |      --------\n",
            " |      numpy.swapaxes : equivalent function\n",
            " |  \n",
            " |  take(...)\n",
            " |      a.take(indices, axis=None, out=None, mode='raise')\n",
            " |      \n",
            " |      Return an array formed from the elements of `a` at the given indices.\n",
            " |      \n",
            " |      Refer to `numpy.take` for full documentation.\n",
            " |      \n",
            " |      See Also\n",
            " |      --------\n",
            " |      numpy.take : equivalent function\n",
            " |  \n",
            " |  tobytes(...)\n",
            " |      a.tobytes(order='C')\n",
            " |      \n",
            " |      Construct Python bytes containing the raw data bytes in the array.\n",
            " |      \n",
            " |      Constructs Python bytes showing a copy of the raw contents of\n",
            " |      data memory. The bytes object can be produced in either 'C' or 'Fortran',\n",
            " |      or 'Any' order (the default is 'C'-order). 'Any' order means C-order\n",
            " |      unless the F_CONTIGUOUS flag in the array is set, in which case it\n",
            " |      means 'Fortran' order.\n",
            " |      \n",
            " |      .. versionadded:: 1.9.0\n",
            " |      \n",
            " |      Parameters\n",
            " |      ----------\n",
            " |      order : {'C', 'F', None}, optional\n",
            " |          Order of the data for multidimensional arrays:\n",
            " |          C, Fortran, or the same as for the original array.\n",
            " |      \n",
            " |      Returns\n",
            " |      -------\n",
            " |      s : bytes\n",
            " |          Python bytes exhibiting a copy of `a`'s raw data.\n",
            " |      \n",
            " |      Examples\n",
            " |      --------\n",
            " |      >>> x = np.array([[0, 1], [2, 3]], dtype='<u2')\n",
            " |      >>> x.tobytes()\n",
            " |      b'\\x00\\x00\\x01\\x00\\x02\\x00\\x03\\x00'\n",
            " |      >>> x.tobytes('C') == x.tobytes()\n",
            " |      True\n",
            " |      >>> x.tobytes('F')\n",
            " |      b'\\x00\\x00\\x02\\x00\\x01\\x00\\x03\\x00'\n",
            " |  \n",
            " |  tofile(...)\n",
            " |      a.tofile(fid, sep=\"\", format=\"%s\")\n",
            " |      \n",
            " |      Write array to a file as text or binary (default).\n",
            " |      \n",
            " |      Data is always written in 'C' order, independent of the order of `a`.\n",
            " |      The data produced by this method can be recovered using the function\n",
            " |      fromfile().\n",
            " |      \n",
            " |      Parameters\n",
            " |      ----------\n",
            " |      fid : file or str or Path\n",
            " |          An open file object, or a string containing a filename.\n",
            " |      \n",
            " |          .. versionchanged:: 1.17.0\n",
            " |              `pathlib.Path` objects are now accepted.\n",
            " |      \n",
            " |      sep : str\n",
            " |          Separator between array items for text output.\n",
            " |          If \"\" (empty), a binary file is written, equivalent to\n",
            " |          ``file.write(a.tobytes())``.\n",
            " |      format : str\n",
            " |          Format string for text file output.\n",
            " |          Each entry in the array is formatted to text by first converting\n",
            " |          it to the closest Python type, and then using \"format\" % item.\n",
            " |      \n",
            " |      Notes\n",
            " |      -----\n",
            " |      This is a convenience function for quick storage of array data.\n",
            " |      Information on endianness and precision is lost, so this method is not a\n",
            " |      good choice for files intended to archive data or transport data between\n",
            " |      machines with different endianness. Some of these problems can be overcome\n",
            " |      by outputting the data as text files, at the expense of speed and file\n",
            " |      size.\n",
            " |      \n",
            " |      When fid is a file object, array contents are directly written to the\n",
            " |      file, bypassing the file object's ``write`` method. As a result, tofile\n",
            " |      cannot be used with files objects supporting compression (e.g., GzipFile)\n",
            " |      or file-like objects that do not support ``fileno()`` (e.g., BytesIO).\n",
            " |  \n",
            " |  tolist(...)\n",
            " |      a.tolist()\n",
            " |      \n",
            " |      Return the array as an ``a.ndim``-levels deep nested list of Python scalars.\n",
            " |      \n",
            " |      Return a copy of the array data as a (nested) Python list.\n",
            " |      Data items are converted to the nearest compatible builtin Python type, via\n",
            " |      the `~numpy.ndarray.item` function.\n",
            " |      \n",
            " |      If ``a.ndim`` is 0, then since the depth of the nested list is 0, it will\n",
            " |      not be a list at all, but a simple Python scalar.\n",
            " |      \n",
            " |      Parameters\n",
            " |      ----------\n",
            " |      none\n",
            " |      \n",
            " |      Returns\n",
            " |      -------\n",
            " |      y : object, or list of object, or list of list of object, or ...\n",
            " |          The possibly nested list of array elements.\n",
            " |      \n",
            " |      Notes\n",
            " |      -----\n",
            " |      The array may be recreated via ``a = np.array(a.tolist())``, although this\n",
            " |      may sometimes lose precision.\n",
            " |      \n",
            " |      Examples\n",
            " |      --------\n",
            " |      For a 1D array, ``a.tolist()`` is almost the same as ``list(a)``,\n",
            " |      except that ``tolist`` changes numpy scalars to Python scalars:\n",
            " |      \n",
            " |      >>> a = np.uint32([1, 2])\n",
            " |      >>> a_list = list(a)\n",
            " |      >>> a_list\n",
            " |      [1, 2]\n",
            " |      >>> type(a_list[0])\n",
            " |      <class 'numpy.uint32'>\n",
            " |      >>> a_tolist = a.tolist()\n",
            " |      >>> a_tolist\n",
            " |      [1, 2]\n",
            " |      >>> type(a_tolist[0])\n",
            " |      <class 'int'>\n",
            " |      \n",
            " |      Additionally, for a 2D array, ``tolist`` applies recursively:\n",
            " |      \n",
            " |      >>> a = np.array([[1, 2], [3, 4]])\n",
            " |      >>> list(a)\n",
            " |      [array([1, 2]), array([3, 4])]\n",
            " |      >>> a.tolist()\n",
            " |      [[1, 2], [3, 4]]\n",
            " |      \n",
            " |      The base case for this recursion is a 0D array:\n",
            " |      \n",
            " |      >>> a = np.array(1)\n",
            " |      >>> list(a)\n",
            " |      Traceback (most recent call last):\n",
            " |        ...\n",
            " |      TypeError: iteration over a 0-d array\n",
            " |      >>> a.tolist()\n",
            " |      1\n",
            " |  \n",
            " |  tostring(...)\n",
            " |      a.tostring(order='C')\n",
            " |      \n",
            " |      A compatibility alias for `tobytes`, with exactly the same behavior.\n",
            " |      \n",
            " |      Despite its name, it returns `bytes` not `str`\\ s.\n",
            " |      \n",
            " |      .. deprecated:: 1.19.0\n",
            " |  \n",
            " |  trace(...)\n",
            " |      a.trace(offset=0, axis1=0, axis2=1, dtype=None, out=None)\n",
            " |      \n",
            " |      Return the sum along diagonals of the array.\n",
            " |      \n",
            " |      Refer to `numpy.trace` for full documentation.\n",
            " |      \n",
            " |      See Also\n",
            " |      --------\n",
            " |      numpy.trace : equivalent function\n",
            " |  \n",
            " |  transpose(...)\n",
            " |      a.transpose(*axes)\n",
            " |      \n",
            " |      Returns a view of the array with axes transposed.\n",
            " |      \n",
            " |      For a 1-D array this has no effect, as a transposed vector is simply the\n",
            " |      same vector. To convert a 1-D array into a 2D column vector, an additional\n",
            " |      dimension must be added. `np.atleast2d(a).T` achieves this, as does\n",
            " |      `a[:, np.newaxis]`.\n",
            " |      For a 2-D array, this is a standard matrix transpose.\n",
            " |      For an n-D array, if axes are given, their order indicates how the\n",
            " |      axes are permuted (see Examples). If axes are not provided and\n",
            " |      ``a.shape = (i[0], i[1], ... i[n-2], i[n-1])``, then\n",
            " |      ``a.transpose().shape = (i[n-1], i[n-2], ... i[1], i[0])``.\n",
            " |      \n",
            " |      Parameters\n",
            " |      ----------\n",
            " |      axes : None, tuple of ints, or `n` ints\n",
            " |      \n",
            " |       * None or no argument: reverses the order of the axes.\n",
            " |      \n",
            " |       * tuple of ints: `i` in the `j`-th place in the tuple means `a`'s\n",
            " |         `i`-th axis becomes `a.transpose()`'s `j`-th axis.\n",
            " |      \n",
            " |       * `n` ints: same as an n-tuple of the same ints (this form is\n",
            " |         intended simply as a \"convenience\" alternative to the tuple form)\n",
            " |      \n",
            " |      Returns\n",
            " |      -------\n",
            " |      out : ndarray\n",
            " |          View of `a`, with axes suitably permuted.\n",
            " |      \n",
            " |      See Also\n",
            " |      --------\n",
            " |      ndarray.T : Array property returning the array transposed.\n",
            " |      ndarray.reshape : Give a new shape to an array without changing its data.\n",
            " |      \n",
            " |      Examples\n",
            " |      --------\n",
            " |      >>> a = np.array([[1, 2], [3, 4]])\n",
            " |      >>> a\n",
            " |      array([[1, 2],\n",
            " |             [3, 4]])\n",
            " |      >>> a.transpose()\n",
            " |      array([[1, 3],\n",
            " |             [2, 4]])\n",
            " |      >>> a.transpose((1, 0))\n",
            " |      array([[1, 3],\n",
            " |             [2, 4]])\n",
            " |      >>> a.transpose(1, 0)\n",
            " |      array([[1, 3],\n",
            " |             [2, 4]])\n",
            " |  \n",
            " |  var(...)\n",
            " |      a.var(axis=None, dtype=None, out=None, ddof=0, keepdims=False)\n",
            " |      \n",
            " |      Returns the variance of the array elements, along given axis.\n",
            " |      \n",
            " |      Refer to `numpy.var` for full documentation.\n",
            " |      \n",
            " |      See Also\n",
            " |      --------\n",
            " |      numpy.var : equivalent function\n",
            " |  \n",
            " |  view(...)\n",
            " |      a.view([dtype][, type])\n",
            " |      \n",
            " |      New view of array with the same data.\n",
            " |      \n",
            " |      .. note::\n",
            " |          Passing None for ``dtype`` is different from omitting the parameter,\n",
            " |          since the former invokes ``dtype(None)`` which is an alias for\n",
            " |          ``dtype('float_')``.\n",
            " |      \n",
            " |      Parameters\n",
            " |      ----------\n",
            " |      dtype : data-type or ndarray sub-class, optional\n",
            " |          Data-type descriptor of the returned view, e.g., float32 or int16.\n",
            " |          Omitting it results in the view having the same data-type as `a`.\n",
            " |          This argument can also be specified as an ndarray sub-class, which\n",
            " |          then specifies the type of the returned object (this is equivalent to\n",
            " |          setting the ``type`` parameter).\n",
            " |      type : Python type, optional\n",
            " |          Type of the returned view, e.g., ndarray or matrix.  Again, omission\n",
            " |          of the parameter results in type preservation.\n",
            " |      \n",
            " |      Notes\n",
            " |      -----\n",
            " |      ``a.view()`` is used two different ways:\n",
            " |      \n",
            " |      ``a.view(some_dtype)`` or ``a.view(dtype=some_dtype)`` constructs a view\n",
            " |      of the array's memory with a different data-type.  This can cause a\n",
            " |      reinterpretation of the bytes of memory.\n",
            " |      \n",
            " |      ``a.view(ndarray_subclass)`` or ``a.view(type=ndarray_subclass)`` just\n",
            " |      returns an instance of `ndarray_subclass` that looks at the same array\n",
            " |      (same shape, dtype, etc.)  This does not cause a reinterpretation of the\n",
            " |      memory.\n",
            " |      \n",
            " |      For ``a.view(some_dtype)``, if ``some_dtype`` has a different number of\n",
            " |      bytes per entry than the previous dtype (for example, converting a\n",
            " |      regular array to a structured array), then the behavior of the view\n",
            " |      cannot be predicted just from the superficial appearance of ``a`` (shown\n",
            " |      by ``print(a)``). It also depends on exactly how ``a`` is stored in\n",
            " |      memory. Therefore if ``a`` is C-ordered versus fortran-ordered, versus\n",
            " |      defined as a slice or transpose, etc., the view may give different\n",
            " |      results.\n",
            " |      \n",
            " |      \n",
            " |      Examples\n",
            " |      --------\n",
            " |      >>> x = np.array([(1, 2)], dtype=[('a', np.int8), ('b', np.int8)])\n",
            " |      \n",
            " |      Viewing array data using a different type and dtype:\n",
            " |      \n",
            " |      >>> y = x.view(dtype=np.int16, type=np.matrix)\n",
            " |      >>> y\n",
            " |      matrix([[513]], dtype=int16)\n",
            " |      >>> print(type(y))\n",
            " |      <class 'numpy.matrix'>\n",
            " |      \n",
            " |      Creating a view on a structured array so it can be used in calculations\n",
            " |      \n",
            " |      >>> x = np.array([(1, 2),(3,4)], dtype=[('a', np.int8), ('b', np.int8)])\n",
            " |      >>> xv = x.view(dtype=np.int8).reshape(-1,2)\n",
            " |      >>> xv\n",
            " |      array([[1, 2],\n",
            " |             [3, 4]], dtype=int8)\n",
            " |      >>> xv.mean(0)\n",
            " |      array([2.,  3.])\n",
            " |      \n",
            " |      Making changes to the view changes the underlying array\n",
            " |      \n",
            " |      >>> xv[0,1] = 20\n",
            " |      >>> x\n",
            " |      array([(1, 20), (3,  4)], dtype=[('a', 'i1'), ('b', 'i1')])\n",
            " |      \n",
            " |      Using a view to convert an array to a recarray:\n",
            " |      \n",
            " |      >>> z = x.view(np.recarray)\n",
            " |      >>> z.a\n",
            " |      array([1, 3], dtype=int8)\n",
            " |      \n",
            " |      Views share data:\n",
            " |      \n",
            " |      >>> x[0] = (9, 10)\n",
            " |      >>> z[0]\n",
            " |      (9, 10)\n",
            " |      \n",
            " |      Views that change the dtype size (bytes per entry) should normally be\n",
            " |      avoided on arrays defined by slices, transposes, fortran-ordering, etc.:\n",
            " |      \n",
            " |      >>> x = np.array([[1,2,3],[4,5,6]], dtype=np.int16)\n",
            " |      >>> y = x[:, 0:2]\n",
            " |      >>> y\n",
            " |      array([[1, 2],\n",
            " |             [4, 5]], dtype=int16)\n",
            " |      >>> y.view(dtype=[('width', np.int16), ('length', np.int16)])\n",
            " |      Traceback (most recent call last):\n",
            " |          ...\n",
            " |      ValueError: To change to a dtype of a different size, the array must be C-contiguous\n",
            " |      >>> z = y.copy()\n",
            " |      >>> z.view(dtype=[('width', np.int16), ('length', np.int16)])\n",
            " |      array([[(1, 2)],\n",
            " |             [(4, 5)]], dtype=[('width', '<i2'), ('length', '<i2')])\n",
            " |  \n",
            " |  ----------------------------------------------------------------------\n",
            " |  Static methods defined here:\n",
            " |  \n",
            " |  __new__(*args, **kwargs) from builtins.type\n",
            " |      Create and return a new object.  See help(type) for accurate signature.\n",
            " |  \n",
            " |  ----------------------------------------------------------------------\n",
            " |  Data descriptors defined here:\n",
            " |  \n",
            " |  T\n",
            " |      The transposed array.\n",
            " |      \n",
            " |      Same as ``self.transpose()``.\n",
            " |      \n",
            " |      Examples\n",
            " |      --------\n",
            " |      >>> x = np.array([[1.,2.],[3.,4.]])\n",
            " |      >>> x\n",
            " |      array([[ 1.,  2.],\n",
            " |             [ 3.,  4.]])\n",
            " |      >>> x.T\n",
            " |      array([[ 1.,  3.],\n",
            " |             [ 2.,  4.]])\n",
            " |      >>> x = np.array([1.,2.,3.,4.])\n",
            " |      >>> x\n",
            " |      array([ 1.,  2.,  3.,  4.])\n",
            " |      >>> x.T\n",
            " |      array([ 1.,  2.,  3.,  4.])\n",
            " |      \n",
            " |      See Also\n",
            " |      --------\n",
            " |      transpose\n",
            " |  \n",
            " |  __array_finalize__\n",
            " |      None.\n",
            " |  \n",
            " |  __array_interface__\n",
            " |      Array protocol: Python side.\n",
            " |  \n",
            " |  __array_priority__\n",
            " |      Array priority.\n",
            " |  \n",
            " |  __array_struct__\n",
            " |      Array protocol: C-struct side.\n",
            " |  \n",
            " |  base\n",
            " |      Base object if memory is from some other object.\n",
            " |      \n",
            " |      Examples\n",
            " |      --------\n",
            " |      The base of an array that owns its memory is None:\n",
            " |      \n",
            " |      >>> x = np.array([1,2,3,4])\n",
            " |      >>> x.base is None\n",
            " |      True\n",
            " |      \n",
            " |      Slicing creates a view, whose memory is shared with x:\n",
            " |      \n",
            " |      >>> y = x[2:]\n",
            " |      >>> y.base is x\n",
            " |      True\n",
            " |  \n",
            " |  ctypes\n",
            " |      An object to simplify the interaction of the array with the ctypes\n",
            " |      module.\n",
            " |      \n",
            " |      This attribute creates an object that makes it easier to use arrays\n",
            " |      when calling shared libraries with the ctypes module. The returned\n",
            " |      object has, among others, data, shape, and strides attributes (see\n",
            " |      Notes below) which themselves return ctypes objects that can be used\n",
            " |      as arguments to a shared library.\n",
            " |      \n",
            " |      Parameters\n",
            " |      ----------\n",
            " |      None\n",
            " |      \n",
            " |      Returns\n",
            " |      -------\n",
            " |      c : Python object\n",
            " |          Possessing attributes data, shape, strides, etc.\n",
            " |      \n",
            " |      See Also\n",
            " |      --------\n",
            " |      numpy.ctypeslib\n",
            " |      \n",
            " |      Notes\n",
            " |      -----\n",
            " |      Below are the public attributes of this object which were documented\n",
            " |      in \"Guide to NumPy\" (we have omitted undocumented public attributes,\n",
            " |      as well as documented private attributes):\n",
            " |      \n",
            " |      .. autoattribute:: numpy.core._internal._ctypes.data\n",
            " |          :noindex:\n",
            " |      \n",
            " |      .. autoattribute:: numpy.core._internal._ctypes.shape\n",
            " |          :noindex:\n",
            " |      \n",
            " |      .. autoattribute:: numpy.core._internal._ctypes.strides\n",
            " |          :noindex:\n",
            " |      \n",
            " |      .. automethod:: numpy.core._internal._ctypes.data_as\n",
            " |          :noindex:\n",
            " |      \n",
            " |      .. automethod:: numpy.core._internal._ctypes.shape_as\n",
            " |          :noindex:\n",
            " |      \n",
            " |      .. automethod:: numpy.core._internal._ctypes.strides_as\n",
            " |          :noindex:\n",
            " |      \n",
            " |      If the ctypes module is not available, then the ctypes attribute\n",
            " |      of array objects still returns something useful, but ctypes objects\n",
            " |      are not returned and errors may be raised instead. In particular,\n",
            " |      the object will still have the ``as_parameter`` attribute which will\n",
            " |      return an integer equal to the data attribute.\n",
            " |      \n",
            " |      Examples\n",
            " |      --------\n",
            " |      >>> import ctypes\n",
            " |      >>> x = np.array([[0, 1], [2, 3]], dtype=np.int32)\n",
            " |      >>> x\n",
            " |      array([[0, 1],\n",
            " |             [2, 3]], dtype=int32)\n",
            " |      >>> x.ctypes.data\n",
            " |      31962608 # may vary\n",
            " |      >>> x.ctypes.data_as(ctypes.POINTER(ctypes.c_uint32))\n",
            " |      <__main__.LP_c_uint object at 0x7ff2fc1fc200> # may vary\n",
            " |      >>> x.ctypes.data_as(ctypes.POINTER(ctypes.c_uint32)).contents\n",
            " |      c_uint(0)\n",
            " |      >>> x.ctypes.data_as(ctypes.POINTER(ctypes.c_uint64)).contents\n",
            " |      c_ulong(4294967296)\n",
            " |      >>> x.ctypes.shape\n",
            " |      <numpy.core._internal.c_long_Array_2 object at 0x7ff2fc1fce60> # may vary\n",
            " |      >>> x.ctypes.strides\n",
            " |      <numpy.core._internal.c_long_Array_2 object at 0x7ff2fc1ff320> # may vary\n",
            " |  \n",
            " |  data\n",
            " |      Python buffer object pointing to the start of the array's data.\n",
            " |  \n",
            " |  dtype\n",
            " |      Data-type of the array's elements.\n",
            " |      \n",
            " |      Parameters\n",
            " |      ----------\n",
            " |      None\n",
            " |      \n",
            " |      Returns\n",
            " |      -------\n",
            " |      d : numpy dtype object\n",
            " |      \n",
            " |      See Also\n",
            " |      --------\n",
            " |      numpy.dtype\n",
            " |      \n",
            " |      Examples\n",
            " |      --------\n",
            " |      >>> x\n",
            " |      array([[0, 1],\n",
            " |             [2, 3]])\n",
            " |      >>> x.dtype\n",
            " |      dtype('int32')\n",
            " |      >>> type(x.dtype)\n",
            " |      <type 'numpy.dtype'>\n",
            " |  \n",
            " |  flags\n",
            " |      Information about the memory layout of the array.\n",
            " |      \n",
            " |      Attributes\n",
            " |      ----------\n",
            " |      C_CONTIGUOUS (C)\n",
            " |          The data is in a single, C-style contiguous segment.\n",
            " |      F_CONTIGUOUS (F)\n",
            " |          The data is in a single, Fortran-style contiguous segment.\n",
            " |      OWNDATA (O)\n",
            " |          The array owns the memory it uses or borrows it from another object.\n",
            " |      WRITEABLE (W)\n",
            " |          The data area can be written to.  Setting this to False locks\n",
            " |          the data, making it read-only.  A view (slice, etc.) inherits WRITEABLE\n",
            " |          from its base array at creation time, but a view of a writeable\n",
            " |          array may be subsequently locked while the base array remains writeable.\n",
            " |          (The opposite is not true, in that a view of a locked array may not\n",
            " |          be made writeable.  However, currently, locking a base object does not\n",
            " |          lock any views that already reference it, so under that circumstance it\n",
            " |          is possible to alter the contents of a locked array via a previously\n",
            " |          created writeable view onto it.)  Attempting to change a non-writeable\n",
            " |          array raises a RuntimeError exception.\n",
            " |      ALIGNED (A)\n",
            " |          The data and all elements are aligned appropriately for the hardware.\n",
            " |      WRITEBACKIFCOPY (X)\n",
            " |          This array is a copy of some other array. The C-API function\n",
            " |          PyArray_ResolveWritebackIfCopy must be called before deallocating\n",
            " |          to the base array will be updated with the contents of this array.\n",
            " |      UPDATEIFCOPY (U)\n",
            " |          (Deprecated, use WRITEBACKIFCOPY) This array is a copy of some other array.\n",
            " |          When this array is\n",
            " |          deallocated, the base array will be updated with the contents of\n",
            " |          this array.\n",
            " |      FNC\n",
            " |          F_CONTIGUOUS and not C_CONTIGUOUS.\n",
            " |      FORC\n",
            " |          F_CONTIGUOUS or C_CONTIGUOUS (one-segment test).\n",
            " |      BEHAVED (B)\n",
            " |          ALIGNED and WRITEABLE.\n",
            " |      CARRAY (CA)\n",
            " |          BEHAVED and C_CONTIGUOUS.\n",
            " |      FARRAY (FA)\n",
            " |          BEHAVED and F_CONTIGUOUS and not C_CONTIGUOUS.\n",
            " |      \n",
            " |      Notes\n",
            " |      -----\n",
            " |      The `flags` object can be accessed dictionary-like (as in ``a.flags['WRITEABLE']``),\n",
            " |      or by using lowercased attribute names (as in ``a.flags.writeable``). Short flag\n",
            " |      names are only supported in dictionary access.\n",
            " |      \n",
            " |      Only the WRITEBACKIFCOPY, UPDATEIFCOPY, WRITEABLE, and ALIGNED flags can be\n",
            " |      changed by the user, via direct assignment to the attribute or dictionary\n",
            " |      entry, or by calling `ndarray.setflags`.\n",
            " |      \n",
            " |      The array flags cannot be set arbitrarily:\n",
            " |      \n",
            " |      - UPDATEIFCOPY can only be set ``False``.\n",
            " |      - WRITEBACKIFCOPY can only be set ``False``.\n",
            " |      - ALIGNED can only be set ``True`` if the data is truly aligned.\n",
            " |      - WRITEABLE can only be set ``True`` if the array owns its own memory\n",
            " |        or the ultimate owner of the memory exposes a writeable buffer\n",
            " |        interface or is a string.\n",
            " |      \n",
            " |      Arrays can be both C-style and Fortran-style contiguous simultaneously.\n",
            " |      This is clear for 1-dimensional arrays, but can also be true for higher\n",
            " |      dimensional arrays.\n",
            " |      \n",
            " |      Even for contiguous arrays a stride for a given dimension\n",
            " |      ``arr.strides[dim]`` may be *arbitrary* if ``arr.shape[dim] == 1``\n",
            " |      or the array has no elements.\n",
            " |      It does *not* generally hold that ``self.strides[-1] == self.itemsize``\n",
            " |      for C-style contiguous arrays or ``self.strides[0] == self.itemsize`` for\n",
            " |      Fortran-style contiguous arrays is true.\n",
            " |  \n",
            " |  flat\n",
            " |      A 1-D iterator over the array.\n",
            " |      \n",
            " |      This is a `numpy.flatiter` instance, which acts similarly to, but is not\n",
            " |      a subclass of, Python's built-in iterator object.\n",
            " |      \n",
            " |      See Also\n",
            " |      --------\n",
            " |      flatten : Return a copy of the array collapsed into one dimension.\n",
            " |      \n",
            " |      flatiter\n",
            " |      \n",
            " |      Examples\n",
            " |      --------\n",
            " |      >>> x = np.arange(1, 7).reshape(2, 3)\n",
            " |      >>> x\n",
            " |      array([[1, 2, 3],\n",
            " |             [4, 5, 6]])\n",
            " |      >>> x.flat[3]\n",
            " |      4\n",
            " |      >>> x.T\n",
            " |      array([[1, 4],\n",
            " |             [2, 5],\n",
            " |             [3, 6]])\n",
            " |      >>> x.T.flat[3]\n",
            " |      5\n",
            " |      >>> type(x.flat)\n",
            " |      <class 'numpy.flatiter'>\n",
            " |      \n",
            " |      An assignment example:\n",
            " |      \n",
            " |      >>> x.flat = 3; x\n",
            " |      array([[3, 3, 3],\n",
            " |             [3, 3, 3]])\n",
            " |      >>> x.flat[[1,4]] = 1; x\n",
            " |      array([[3, 1, 3],\n",
            " |             [3, 1, 3]])\n",
            " |  \n",
            " |  imag\n",
            " |      The imaginary part of the array.\n",
            " |      \n",
            " |      Examples\n",
            " |      --------\n",
            " |      >>> x = np.sqrt([1+0j, 0+1j])\n",
            " |      >>> x.imag\n",
            " |      array([ 0.        ,  0.70710678])\n",
            " |      >>> x.imag.dtype\n",
            " |      dtype('float64')\n",
            " |  \n",
            " |  itemsize\n",
            " |      Length of one array element in bytes.\n",
            " |      \n",
            " |      Examples\n",
            " |      --------\n",
            " |      >>> x = np.array([1,2,3], dtype=np.float64)\n",
            " |      >>> x.itemsize\n",
            " |      8\n",
            " |      >>> x = np.array([1,2,3], dtype=np.complex128)\n",
            " |      >>> x.itemsize\n",
            " |      16\n",
            " |  \n",
            " |  nbytes\n",
            " |      Total bytes consumed by the elements of the array.\n",
            " |      \n",
            " |      Notes\n",
            " |      -----\n",
            " |      Does not include memory consumed by non-element attributes of the\n",
            " |      array object.\n",
            " |      \n",
            " |      Examples\n",
            " |      --------\n",
            " |      >>> x = np.zeros((3,5,2), dtype=np.complex128)\n",
            " |      >>> x.nbytes\n",
            " |      480\n",
            " |      >>> np.prod(x.shape) * x.itemsize\n",
            " |      480\n",
            " |  \n",
            " |  ndim\n",
            " |      Number of array dimensions.\n",
            " |      \n",
            " |      Examples\n",
            " |      --------\n",
            " |      >>> x = np.array([1, 2, 3])\n",
            " |      >>> x.ndim\n",
            " |      1\n",
            " |      >>> y = np.zeros((2, 3, 4))\n",
            " |      >>> y.ndim\n",
            " |      3\n",
            " |  \n",
            " |  real\n",
            " |      The real part of the array.\n",
            " |      \n",
            " |      Examples\n",
            " |      --------\n",
            " |      >>> x = np.sqrt([1+0j, 0+1j])\n",
            " |      >>> x.real\n",
            " |      array([ 1.        ,  0.70710678])\n",
            " |      >>> x.real.dtype\n",
            " |      dtype('float64')\n",
            " |      \n",
            " |      See Also\n",
            " |      --------\n",
            " |      numpy.real : equivalent function\n",
            " |  \n",
            " |  shape\n",
            " |      Tuple of array dimensions.\n",
            " |      \n",
            " |      The shape property is usually used to get the current shape of an array,\n",
            " |      but may also be used to reshape the array in-place by assigning a tuple of\n",
            " |      array dimensions to it.  As with `numpy.reshape`, one of the new shape\n",
            " |      dimensions can be -1, in which case its value is inferred from the size of\n",
            " |      the array and the remaining dimensions. Reshaping an array in-place will\n",
            " |      fail if a copy is required.\n",
            " |      \n",
            " |      Examples\n",
            " |      --------\n",
            " |      >>> x = np.array([1, 2, 3, 4])\n",
            " |      >>> x.shape\n",
            " |      (4,)\n",
            " |      >>> y = np.zeros((2, 3, 4))\n",
            " |      >>> y.shape\n",
            " |      (2, 3, 4)\n",
            " |      >>> y.shape = (3, 8)\n",
            " |      >>> y\n",
            " |      array([[ 0.,  0.,  0.,  0.,  0.,  0.,  0.,  0.],\n",
            " |             [ 0.,  0.,  0.,  0.,  0.,  0.,  0.,  0.],\n",
            " |             [ 0.,  0.,  0.,  0.,  0.,  0.,  0.,  0.]])\n",
            " |      >>> y.shape = (3, 6)\n",
            " |      Traceback (most recent call last):\n",
            " |        File \"<stdin>\", line 1, in <module>\n",
            " |      ValueError: total size of new array must be unchanged\n",
            " |      >>> np.zeros((4,2))[::2].shape = (-1,)\n",
            " |      Traceback (most recent call last):\n",
            " |        File \"<stdin>\", line 1, in <module>\n",
            " |      AttributeError: Incompatible shape for in-place modification. Use\n",
            " |      `.reshape()` to make a copy with the desired shape.\n",
            " |      \n",
            " |      See Also\n",
            " |      --------\n",
            " |      numpy.reshape : similar function\n",
            " |      ndarray.reshape : similar method\n",
            " |  \n",
            " |  size\n",
            " |      Number of elements in the array.\n",
            " |      \n",
            " |      Equal to ``np.prod(a.shape)``, i.e., the product of the array's\n",
            " |      dimensions.\n",
            " |      \n",
            " |      Notes\n",
            " |      -----\n",
            " |      `a.size` returns a standard arbitrary precision Python integer. This\n",
            " |      may not be the case with other methods of obtaining the same value\n",
            " |      (like the suggested ``np.prod(a.shape)``, which returns an instance\n",
            " |      of ``np.int_``), and may be relevant if the value is used further in\n",
            " |      calculations that may overflow a fixed size integer type.\n",
            " |      \n",
            " |      Examples\n",
            " |      --------\n",
            " |      >>> x = np.zeros((3, 5, 2), dtype=np.complex128)\n",
            " |      >>> x.size\n",
            " |      30\n",
            " |      >>> np.prod(x.shape)\n",
            " |      30\n",
            " |  \n",
            " |  strides\n",
            " |      Tuple of bytes to step in each dimension when traversing an array.\n",
            " |      \n",
            " |      The byte offset of element ``(i[0], i[1], ..., i[n])`` in an array `a`\n",
            " |      is::\n",
            " |      \n",
            " |          offset = sum(np.array(i) * a.strides)\n",
            " |      \n",
            " |      A more detailed explanation of strides can be found in the\n",
            " |      \"ndarray.rst\" file in the NumPy reference guide.\n",
            " |      \n",
            " |      Notes\n",
            " |      -----\n",
            " |      Imagine an array of 32-bit integers (each 4 bytes)::\n",
            " |      \n",
            " |        x = np.array([[0, 1, 2, 3, 4],\n",
            " |                      [5, 6, 7, 8, 9]], dtype=np.int32)\n",
            " |      \n",
            " |      This array is stored in memory as 40 bytes, one after the other\n",
            " |      (known as a contiguous block of memory).  The strides of an array tell\n",
            " |      us how many bytes we have to skip in memory to move to the next position\n",
            " |      along a certain axis.  For example, we have to skip 4 bytes (1 value) to\n",
            " |      move to the next column, but 20 bytes (5 values) to get to the same\n",
            " |      position in the next row.  As such, the strides for the array `x` will be\n",
            " |      ``(20, 4)``.\n",
            " |      \n",
            " |      See Also\n",
            " |      --------\n",
            " |      numpy.lib.stride_tricks.as_strided\n",
            " |      \n",
            " |      Examples\n",
            " |      --------\n",
            " |      >>> y = np.reshape(np.arange(2*3*4), (2,3,4))\n",
            " |      >>> y\n",
            " |      array([[[ 0,  1,  2,  3],\n",
            " |              [ 4,  5,  6,  7],\n",
            " |              [ 8,  9, 10, 11]],\n",
            " |             [[12, 13, 14, 15],\n",
            " |              [16, 17, 18, 19],\n",
            " |              [20, 21, 22, 23]]])\n",
            " |      >>> y.strides\n",
            " |      (48, 16, 4)\n",
            " |      >>> y[1,1,1]\n",
            " |      17\n",
            " |      >>> offset=sum(y.strides * np.array((1,1,1)))\n",
            " |      >>> offset/y.itemsize\n",
            " |      17\n",
            " |      \n",
            " |      >>> x = np.reshape(np.arange(5*6*7*8), (5,6,7,8)).transpose(2,3,1,0)\n",
            " |      >>> x.strides\n",
            " |      (32, 4, 224, 1344)\n",
            " |      >>> i = np.array([3,5,2,2])\n",
            " |      >>> offset = sum(i * x.strides)\n",
            " |      >>> x[3,5,2,2]\n",
            " |      813\n",
            " |      >>> offset / x.itemsize\n",
            " |      813\n",
            " |  \n",
            " |  ----------------------------------------------------------------------\n",
            " |  Data and other attributes defined here:\n",
            " |  \n",
            " |  __hash__ = None\n",
            "\n"
          ],
          "name": "stdout"
        }
      ]
    },
    {
      "cell_type": "code",
      "metadata": {
        "id": "asvuwF0EGQDe"
      },
      "source": [
        "arr=np.array([5,6,7,8])"
      ],
      "execution_count": 21,
      "outputs": []
    },
    {
      "cell_type": "code",
      "metadata": {
        "colab": {
          "base_uri": "https://localhost:8080/"
        },
        "id": "9GmDFEmrG5UT",
        "outputId": "b96d24d0-8318-4579-badb-a5ab428af37d"
      },
      "source": [
        "arr"
      ],
      "execution_count": 22,
      "outputs": [
        {
          "output_type": "execute_result",
          "data": {
            "text/plain": [
              "array([5, 6, 7, 8])"
            ]
          },
          "metadata": {
            "tags": []
          },
          "execution_count": 22
        }
      ]
    },
    {
      "cell_type": "code",
      "metadata": {
        "colab": {
          "base_uri": "https://localhost:8080/"
        },
        "id": "SDPMXaFQG53I",
        "outputId": "4af6fd78-4912-480d-bdc5-b01afdd2c81f"
      },
      "source": [
        "print(arr.dtype)"
      ],
      "execution_count": 23,
      "outputs": [
        {
          "output_type": "stream",
          "text": [
            "int64\n"
          ],
          "name": "stdout"
        }
      ]
    },
    {
      "cell_type": "code",
      "metadata": {
        "colab": {
          "base_uri": "https://localhost:8080/"
        },
        "id": "6GGBanIrG9Fm",
        "outputId": "aaed32e3-a988-486e-aecb-3f622952bb63"
      },
      "source": [
        "print(type(arr))"
      ],
      "execution_count": 24,
      "outputs": [
        {
          "output_type": "stream",
          "text": [
            "<class 'numpy.ndarray'>\n"
          ],
          "name": "stdout"
        }
      ]
    },
    {
      "cell_type": "code",
      "metadata": {
        "colab": {
          "base_uri": "https://localhost:8080/"
        },
        "id": "tUuUrxZ9G_LQ",
        "outputId": "46406f2d-2b55-4e38-d4d8-9f3df7535d76"
      },
      "source": [
        "arr=np.eye(10)\n",
        "dtype=np.float(64)\n",
        "print(arr)\n",
        "print(dtype)"
      ],
      "execution_count": 25,
      "outputs": [
        {
          "output_type": "stream",
          "text": [
            "[[1. 0. 0. 0. 0. 0. 0. 0. 0. 0.]\n",
            " [0. 1. 0. 0. 0. 0. 0. 0. 0. 0.]\n",
            " [0. 0. 1. 0. 0. 0. 0. 0. 0. 0.]\n",
            " [0. 0. 0. 1. 0. 0. 0. 0. 0. 0.]\n",
            " [0. 0. 0. 0. 1. 0. 0. 0. 0. 0.]\n",
            " [0. 0. 0. 0. 0. 1. 0. 0. 0. 0.]\n",
            " [0. 0. 0. 0. 0. 0. 1. 0. 0. 0.]\n",
            " [0. 0. 0. 0. 0. 0. 0. 1. 0. 0.]\n",
            " [0. 0. 0. 0. 0. 0. 0. 0. 1. 0.]\n",
            " [0. 0. 0. 0. 0. 0. 0. 0. 0. 1.]]\n",
            "64.0\n"
          ],
          "name": "stdout"
        }
      ]
    },
    {
      "cell_type": "code",
      "metadata": {
        "colab": {
          "base_uri": "https://localhost:8080/"
        },
        "id": "5JsCGu5UInQS",
        "outputId": "0171beac-0a8e-4709-8d67-cd923bdade85"
      },
      "source": [
        "a=np.linspace(-1,2,10,endpoint=True)\n",
        "a"
      ],
      "execution_count": 26,
      "outputs": [
        {
          "output_type": "execute_result",
          "data": {
            "text/plain": [
              "array([-1.        , -0.66666667, -0.33333333,  0.        ,  0.33333333,\n",
              "        0.66666667,  1.        ,  1.33333333,  1.66666667,  2.        ])"
            ]
          },
          "metadata": {
            "tags": []
          },
          "execution_count": 26
        }
      ]
    },
    {
      "cell_type": "code",
      "metadata": {
        "colab": {
          "base_uri": "https://localhost:8080/"
        },
        "id": "9SJnccFEJ6wy",
        "outputId": "b84ac367-531b-451a-87b7-85dbd65b17eb"
      },
      "source": [
        "a=np.linspace(-1,2,10,endpoint=False)\n",
        "a"
      ],
      "execution_count": 27,
      "outputs": [
        {
          "output_type": "execute_result",
          "data": {
            "text/plain": [
              "array([-1. , -0.7, -0.4, -0.1,  0.2,  0.5,  0.8,  1.1,  1.4,  1.7])"
            ]
          },
          "metadata": {
            "tags": []
          },
          "execution_count": 27
        }
      ]
    },
    {
      "cell_type": "code",
      "metadata": {
        "colab": {
          "base_uri": "https://localhost:8080/"
        },
        "id": "QAIzrwrHKkfI",
        "outputId": "d11e1db6-d85e-44d8-868e-259c7ca092a6"
      },
      "source": [
        "a=np.logspace(-1,2,10,endpoint=False)\n",
        "a"
      ],
      "execution_count": 28,
      "outputs": [
        {
          "output_type": "execute_result",
          "data": {
            "text/plain": [
              "array([ 0.1       ,  0.19952623,  0.39810717,  0.79432823,  1.58489319,\n",
              "        3.16227766,  6.30957344, 12.58925412, 25.11886432, 50.11872336])"
            ]
          },
          "metadata": {
            "tags": []
          },
          "execution_count": 28
        }
      ]
    },
    {
      "cell_type": "code",
      "metadata": {
        "colab": {
          "base_uri": "https://localhost:8080/"
        },
        "id": "M67EhyPLK8qx",
        "outputId": "2c8239f6-94be-4979-b09f-e483ee455a55"
      },
      "source": [
        "a=np.logspace(-1,2,10,endpoint=True)\n",
        "a"
      ],
      "execution_count": 29,
      "outputs": [
        {
          "output_type": "execute_result",
          "data": {
            "text/plain": [
              "array([  0.1       ,   0.21544347,   0.46415888,   1.        ,\n",
              "         2.15443469,   4.64158883,  10.        ,  21.5443469 ,\n",
              "        46.41588834, 100.        ])"
            ]
          },
          "metadata": {
            "tags": []
          },
          "execution_count": 29
        }
      ]
    },
    {
      "cell_type": "code",
      "metadata": {
        "colab": {
          "base_uri": "https://localhost:8080/"
        },
        "id": "XBLVSLONK-wW",
        "outputId": "b71f89ed-5855-46fb-cff2-e31dc6db555f"
      },
      "source": [
        "a = np.fromfunction(lambda i, j: i == j, (3, 3), dtype=int)\n",
        "a"
      ],
      "execution_count": 30,
      "outputs": [
        {
          "output_type": "execute_result",
          "data": {
            "text/plain": [
              "array([[ True, False, False],\n",
              "       [False,  True, False],\n",
              "       [False, False,  True]])"
            ]
          },
          "metadata": {
            "tags": []
          },
          "execution_count": 30
        }
      ]
    },
    {
      "cell_type": "code",
      "metadata": {
        "colab": {
          "base_uri": "https://localhost:8080/"
        },
        "id": "j4VvTxlbLjKN",
        "outputId": "b4a3532b-80bd-4195-ff4d-18156c27f181"
      },
      "source": [
        "f = np.fromfunction(lambda i, j: i == j, (2, 2), dtype=int)\n",
        "f"
      ],
      "execution_count": 31,
      "outputs": [
        {
          "output_type": "execute_result",
          "data": {
            "text/plain": [
              "array([[ True, False],\n",
              "       [False,  True]])"
            ]
          },
          "metadata": {
            "tags": []
          },
          "execution_count": 31
        }
      ]
    },
    {
      "cell_type": "markdown",
      "metadata": {
        "id": "V55ltvOiL8r9"
      },
      "source": [
        "Array_operation"
      ]
    },
    {
      "cell_type": "code",
      "metadata": {
        "colab": {
          "base_uri": "https://localhost:8080/"
        },
        "id": "OlcoHGYqLlfr",
        "outputId": "cc2561db-c405-487d-80c8-1a23016cde55"
      },
      "source": [
        "arr=np.arange(20).reshape(4,5)\n",
        "arr"
      ],
      "execution_count": 32,
      "outputs": [
        {
          "output_type": "execute_result",
          "data": {
            "text/plain": [
              "array([[ 0,  1,  2,  3,  4],\n",
              "       [ 5,  6,  7,  8,  9],\n",
              "       [10, 11, 12, 13, 14],\n",
              "       [15, 16, 17, 18, 19]])"
            ]
          },
          "metadata": {
            "tags": []
          },
          "execution_count": 32
        }
      ]
    },
    {
      "cell_type": "code",
      "metadata": {
        "colab": {
          "base_uri": "https://localhost:8080/"
        },
        "id": "rjXF-3uYMHMx",
        "outputId": "4f9caabe-0afb-460b-abec-c3c647e450a7"
      },
      "source": [
        "arr*2\n"
      ],
      "execution_count": 33,
      "outputs": [
        {
          "output_type": "execute_result",
          "data": {
            "text/plain": [
              "array([[ 0,  2,  4,  6,  8],\n",
              "       [10, 12, 14, 16, 18],\n",
              "       [20, 22, 24, 26, 28],\n",
              "       [30, 32, 34, 36, 38]])"
            ]
          },
          "metadata": {
            "tags": []
          },
          "execution_count": 33
        }
      ]
    },
    {
      "cell_type": "code",
      "metadata": {
        "colab": {
          "base_uri": "https://localhost:8080/"
        },
        "id": "6VHNPqvfMNXX",
        "outputId": "16f027d6-6636-496d-ff0c-632be3710269"
      },
      "source": [
        "arr+arr"
      ],
      "execution_count": 34,
      "outputs": [
        {
          "output_type": "execute_result",
          "data": {
            "text/plain": [
              "array([[ 0,  2,  4,  6,  8],\n",
              "       [10, 12, 14, 16, 18],\n",
              "       [20, 22, 24, 26, 28],\n",
              "       [30, 32, 34, 36, 38]])"
            ]
          },
          "metadata": {
            "tags": []
          },
          "execution_count": 34
        }
      ]
    },
    {
      "cell_type": "code",
      "metadata": {
        "colab": {
          "base_uri": "https://localhost:8080/"
        },
        "id": "kjWG_RReN4kq",
        "outputId": "c79ab176-afae-4676-d6da-f91b9e45b327"
      },
      "source": [
        "arr_1=arr.transpose()\n",
        "arr_1"
      ],
      "execution_count": 35,
      "outputs": [
        {
          "output_type": "execute_result",
          "data": {
            "text/plain": [
              "array([[ 0,  5, 10, 15],\n",
              "       [ 1,  6, 11, 16],\n",
              "       [ 2,  7, 12, 17],\n",
              "       [ 3,  8, 13, 18],\n",
              "       [ 4,  9, 14, 19]])"
            ]
          },
          "metadata": {
            "tags": []
          },
          "execution_count": 35
        }
      ]
    },
    {
      "cell_type": "code",
      "metadata": {
        "colab": {
          "base_uri": "https://localhost:8080/"
        },
        "id": "jWepXZEbOD00",
        "outputId": "4d0a42a5-cb38-494d-fd2f-5fa65b864b06"
      },
      "source": [
        "arr@arr_1"
      ],
      "execution_count": 36,
      "outputs": [
        {
          "output_type": "execute_result",
          "data": {
            "text/plain": [
              "array([[  30,   80,  130,  180],\n",
              "       [  80,  255,  430,  605],\n",
              "       [ 130,  430,  730, 1030],\n",
              "       [ 180,  605, 1030, 1455]])"
            ]
          },
          "metadata": {
            "tags": []
          },
          "execution_count": 36
        }
      ]
    },
    {
      "cell_type": "code",
      "metadata": {
        "colab": {
          "base_uri": "https://localhost:8080/"
        },
        "id": "NtG0jXUtOKxJ",
        "outputId": "5669f4c1-723c-4f43-c12d-683194c1ec62"
      },
      "source": [
        "print(arr)\n",
        "arr.sum(axis=1)"
      ],
      "execution_count": 37,
      "outputs": [
        {
          "output_type": "stream",
          "text": [
            "[[ 0  1  2  3  4]\n",
            " [ 5  6  7  8  9]\n",
            " [10 11 12 13 14]\n",
            " [15 16 17 18 19]]\n"
          ],
          "name": "stdout"
        },
        {
          "output_type": "execute_result",
          "data": {
            "text/plain": [
              "array([10, 35, 60, 85])"
            ]
          },
          "metadata": {
            "tags": []
          },
          "execution_count": 37
        }
      ]
    },
    {
      "cell_type": "code",
      "metadata": {
        "colab": {
          "base_uri": "https://localhost:8080/"
        },
        "id": "fqa8vMOXOzv9",
        "outputId": "1e335a36-e39a-421a-f51e-58109f4bcef1"
      },
      "source": [
        "print(arr)\n",
        "arr.sum(axis=0)\n"
      ],
      "execution_count": 38,
      "outputs": [
        {
          "output_type": "stream",
          "text": [
            "[[ 0  1  2  3  4]\n",
            " [ 5  6  7  8  9]\n",
            " [10 11 12 13 14]\n",
            " [15 16 17 18 19]]\n"
          ],
          "name": "stdout"
        },
        {
          "output_type": "execute_result",
          "data": {
            "text/plain": [
              "array([30, 34, 38, 42, 46])"
            ]
          },
          "metadata": {
            "tags": []
          },
          "execution_count": 38
        }
      ]
    },
    {
      "cell_type": "code",
      "metadata": {
        "colab": {
          "base_uri": "https://localhost:8080/"
        },
        "id": "VSFE5pu_O5EW",
        "outputId": "a9a7ae59-13d0-46ef-ba4c-5b2467806e2c"
      },
      "source": [
        "arr.sum()"
      ],
      "execution_count": 39,
      "outputs": [
        {
          "output_type": "execute_result",
          "data": {
            "text/plain": [
              "190"
            ]
          },
          "metadata": {
            "tags": []
          },
          "execution_count": 39
        }
      ]
    },
    {
      "cell_type": "code",
      "metadata": {
        "colab": {
          "base_uri": "https://localhost:8080/"
        },
        "id": "CbYbWodXPLDw",
        "outputId": "9e440840-e694-48e9-9a1c-84e2cd9f693e"
      },
      "source": [
        "print(arr.max())"
      ],
      "execution_count": 40,
      "outputs": [
        {
          "output_type": "stream",
          "text": [
            "19\n"
          ],
          "name": "stdout"
        }
      ]
    },
    {
      "cell_type": "code",
      "metadata": {
        "colab": {
          "base_uri": "https://localhost:8080/"
        },
        "id": "Amc3XULNPB0S",
        "outputId": "e5245ee3-9314-4bee-dd78-9082826fe48f"
      },
      "source": [
        "print(arr.max(),arr.min())"
      ],
      "execution_count": 41,
      "outputs": [
        {
          "output_type": "stream",
          "text": [
            "19 0\n"
          ],
          "name": "stdout"
        }
      ]
    },
    {
      "cell_type": "markdown",
      "metadata": {
        "id": "W2puNJvwPbed"
      },
      "source": [
        "universal function"
      ]
    },
    {
      "cell_type": "code",
      "metadata": {
        "colab": {
          "base_uri": "https://localhost:8080/"
        },
        "id": "8Fx50XMHPF8H",
        "outputId": "9dbb706d-59d2-43ff-cfe7-8f7749100662"
      },
      "source": [
        "b=arr*np.pi/20\n",
        "b"
      ],
      "execution_count": 42,
      "outputs": [
        {
          "output_type": "execute_result",
          "data": {
            "text/plain": [
              "array([[0.        , 0.15707963, 0.31415927, 0.4712389 , 0.62831853],\n",
              "       [0.78539816, 0.9424778 , 1.09955743, 1.25663706, 1.41371669],\n",
              "       [1.57079633, 1.72787596, 1.88495559, 2.04203522, 2.19911486],\n",
              "       [2.35619449, 2.51327412, 2.67035376, 2.82743339, 2.98451302]])"
            ]
          },
          "metadata": {
            "tags": []
          },
          "execution_count": 42
        }
      ]
    },
    {
      "cell_type": "code",
      "metadata": {
        "id": "AHmMJb123GFE"
      },
      "source": [
        "c=np.cos(b)"
      ],
      "execution_count": 43,
      "outputs": []
    },
    {
      "cell_type": "code",
      "metadata": {
        "colab": {
          "base_uri": "https://localhost:8080/"
        },
        "id": "g15gEL-l3RFy",
        "outputId": "10c410c5-87ad-4b54-f794-38e919cef86c"
      },
      "source": [
        "c"
      ],
      "execution_count": 44,
      "outputs": [
        {
          "output_type": "execute_result",
          "data": {
            "text/plain": [
              "array([[ 1.00000000e+00,  9.87688341e-01,  9.51056516e-01,\n",
              "         8.91006524e-01,  8.09016994e-01],\n",
              "       [ 7.07106781e-01,  5.87785252e-01,  4.53990500e-01,\n",
              "         3.09016994e-01,  1.56434465e-01],\n",
              "       [ 6.12323400e-17, -1.56434465e-01, -3.09016994e-01,\n",
              "        -4.53990500e-01, -5.87785252e-01],\n",
              "       [-7.07106781e-01, -8.09016994e-01, -8.91006524e-01,\n",
              "        -9.51056516e-01, -9.87688341e-01]])"
            ]
          },
          "metadata": {
            "tags": []
          },
          "execution_count": 44
        }
      ]
    },
    {
      "cell_type": "code",
      "metadata": {
        "colab": {
          "base_uri": "https://localhost:8080/"
        },
        "id": "lUkuG2WS3Uox",
        "outputId": "ddd34768-4aec-4d86-e342-a558c7d3cf42"
      },
      "source": [
        "c=np.sin(b)\n",
        "c"
      ],
      "execution_count": 45,
      "outputs": [
        {
          "output_type": "execute_result",
          "data": {
            "text/plain": [
              "array([[0.        , 0.15643447, 0.30901699, 0.4539905 , 0.58778525],\n",
              "       [0.70710678, 0.80901699, 0.89100652, 0.95105652, 0.98768834],\n",
              "       [1.        , 0.98768834, 0.95105652, 0.89100652, 0.80901699],\n",
              "       [0.70710678, 0.58778525, 0.4539905 , 0.30901699, 0.15643447]])"
            ]
          },
          "metadata": {
            "tags": []
          },
          "execution_count": 45
        }
      ]
    },
    {
      "cell_type": "code",
      "metadata": {
        "id": "bH0DSsQq3YGP"
      },
      "source": [
        "dd=b+c"
      ],
      "execution_count": 46,
      "outputs": []
    },
    {
      "cell_type": "code",
      "metadata": {
        "colab": {
          "base_uri": "https://localhost:8080/"
        },
        "id": "_xibRPt63bOB",
        "outputId": "8a696e13-0d5c-4f4b-d26d-6b34ebd5ac23"
      },
      "source": [
        "dd"
      ],
      "execution_count": 47,
      "outputs": [
        {
          "output_type": "execute_result",
          "data": {
            "text/plain": [
              "array([[0.        , 0.3135141 , 0.62317626, 0.9252294 , 1.21610378],\n",
              "       [1.49250494, 1.75149479, 1.99056395, 2.20769358, 2.40140503],\n",
              "       [2.57079633, 2.7155643 , 2.83601211, 2.93304175, 3.00813185],\n",
              "       [3.06330127, 3.10105938, 3.12434426, 3.13645038, 3.14094749]])"
            ]
          },
          "metadata": {
            "tags": []
          },
          "execution_count": 47
        }
      ]
    },
    {
      "cell_type": "markdown",
      "metadata": {
        "id": "rx4IHlJY3e2d"
      },
      "source": [
        "Array Slicing"
      ]
    },
    {
      "cell_type": "code",
      "metadata": {
        "colab": {
          "base_uri": "https://localhost:8080/"
        },
        "id": "7QjO2aXW3bnL",
        "outputId": "b442acc4-5c4d-4a78-b4dc-c290513e5e6f"
      },
      "source": [
        "arr=np.arange(10)\n",
        "arr"
      ],
      "execution_count": 49,
      "outputs": [
        {
          "output_type": "execute_result",
          "data": {
            "text/plain": [
              "array([0, 1, 2, 3, 4, 5, 6, 7, 8, 9])"
            ]
          },
          "metadata": {
            "tags": []
          },
          "execution_count": 49
        }
      ]
    },
    {
      "cell_type": "code",
      "metadata": {
        "colab": {
          "base_uri": "https://localhost:8080/"
        },
        "id": "HzufEKCEAmkB",
        "outputId": "707be767-b487-474d-9eb4-d15671b201ff"
      },
      "source": [
        "arr[1]"
      ],
      "execution_count": 51,
      "outputs": [
        {
          "output_type": "execute_result",
          "data": {
            "text/plain": [
              "1"
            ]
          },
          "metadata": {
            "tags": []
          },
          "execution_count": 51
        }
      ]
    },
    {
      "cell_type": "code",
      "metadata": {
        "colab": {
          "base_uri": "https://localhost:8080/"
        },
        "id": "k6IfUD6SAqUg",
        "outputId": "e2f173e3-10d8-475e-89ef-2efebb7b062d"
      },
      "source": [
        "arr[7]"
      ],
      "execution_count": 52,
      "outputs": [
        {
          "output_type": "execute_result",
          "data": {
            "text/plain": [
              "7"
            ]
          },
          "metadata": {
            "tags": []
          },
          "execution_count": 52
        }
      ]
    },
    {
      "cell_type": "code",
      "metadata": {
        "colab": {
          "base_uri": "https://localhost:8080/"
        },
        "id": "MYEKnF2yAtYq",
        "outputId": "bc30fe34-f439-4ed8-9649-9644eebc3256"
      },
      "source": [
        "arr[2:6]"
      ],
      "execution_count": 54,
      "outputs": [
        {
          "output_type": "execute_result",
          "data": {
            "text/plain": [
              "array([2, 3, 4, 5])"
            ]
          },
          "metadata": {
            "tags": []
          },
          "execution_count": 54
        }
      ]
    },
    {
      "cell_type": "code",
      "metadata": {
        "colab": {
          "base_uri": "https://localhost:8080/"
        },
        "id": "qbAqOpqXAvxq",
        "outputId": "7e0e232a-ed79-4558-9df1-1daef00cf242"
      },
      "source": [
        "arr[:]"
      ],
      "execution_count": 56,
      "outputs": [
        {
          "output_type": "execute_result",
          "data": {
            "text/plain": [
              "array([0, 1, 2, 3, 4, 5, 6, 7, 8, 9])"
            ]
          },
          "metadata": {
            "tags": []
          },
          "execution_count": 56
        }
      ]
    },
    {
      "cell_type": "code",
      "metadata": {
        "colab": {
          "base_uri": "https://localhost:8080/"
        },
        "id": "1kj45aP6A3Br",
        "outputId": "b36165a5-ccbc-404b-c1f9-2b712e0d3943"
      },
      "source": [
        "arr[1:10:3]"
      ],
      "execution_count": 58,
      "outputs": [
        {
          "output_type": "execute_result",
          "data": {
            "text/plain": [
              "array([1, 4, 7])"
            ]
          },
          "metadata": {
            "tags": []
          },
          "execution_count": 58
        }
      ]
    },
    {
      "cell_type": "code",
      "metadata": {
        "colab": {
          "base_uri": "https://localhost:8080/"
        },
        "id": "3tN2I5rzB71-",
        "outputId": "7baee5fc-a58a-4845-9e53-4a430d0f2a22"
      },
      "source": [
        "num=np.arange(1000)\n",
        "print(num)\n",
        "even=num[0:100:2]\n",
        "print(even)\n"
      ],
      "execution_count": 69,
      "outputs": [
        {
          "output_type": "stream",
          "text": [
            "[  0   1   2   3   4   5   6   7   8   9  10  11  12  13  14  15  16  17\n",
            "  18  19  20  21  22  23  24  25  26  27  28  29  30  31  32  33  34  35\n",
            "  36  37  38  39  40  41  42  43  44  45  46  47  48  49  50  51  52  53\n",
            "  54  55  56  57  58  59  60  61  62  63  64  65  66  67  68  69  70  71\n",
            "  72  73  74  75  76  77  78  79  80  81  82  83  84  85  86  87  88  89\n",
            "  90  91  92  93  94  95  96  97  98  99 100 101 102 103 104 105 106 107\n",
            " 108 109 110 111 112 113 114 115 116 117 118 119 120 121 122 123 124 125\n",
            " 126 127 128 129 130 131 132 133 134 135 136 137 138 139 140 141 142 143\n",
            " 144 145 146 147 148 149 150 151 152 153 154 155 156 157 158 159 160 161\n",
            " 162 163 164 165 166 167 168 169 170 171 172 173 174 175 176 177 178 179\n",
            " 180 181 182 183 184 185 186 187 188 189 190 191 192 193 194 195 196 197\n",
            " 198 199 200 201 202 203 204 205 206 207 208 209 210 211 212 213 214 215\n",
            " 216 217 218 219 220 221 222 223 224 225 226 227 228 229 230 231 232 233\n",
            " 234 235 236 237 238 239 240 241 242 243 244 245 246 247 248 249 250 251\n",
            " 252 253 254 255 256 257 258 259 260 261 262 263 264 265 266 267 268 269\n",
            " 270 271 272 273 274 275 276 277 278 279 280 281 282 283 284 285 286 287\n",
            " 288 289 290 291 292 293 294 295 296 297 298 299 300 301 302 303 304 305\n",
            " 306 307 308 309 310 311 312 313 314 315 316 317 318 319 320 321 322 323\n",
            " 324 325 326 327 328 329 330 331 332 333 334 335 336 337 338 339 340 341\n",
            " 342 343 344 345 346 347 348 349 350 351 352 353 354 355 356 357 358 359\n",
            " 360 361 362 363 364 365 366 367 368 369 370 371 372 373 374 375 376 377\n",
            " 378 379 380 381 382 383 384 385 386 387 388 389 390 391 392 393 394 395\n",
            " 396 397 398 399 400 401 402 403 404 405 406 407 408 409 410 411 412 413\n",
            " 414 415 416 417 418 419 420 421 422 423 424 425 426 427 428 429 430 431\n",
            " 432 433 434 435 436 437 438 439 440 441 442 443 444 445 446 447 448 449\n",
            " 450 451 452 453 454 455 456 457 458 459 460 461 462 463 464 465 466 467\n",
            " 468 469 470 471 472 473 474 475 476 477 478 479 480 481 482 483 484 485\n",
            " 486 487 488 489 490 491 492 493 494 495 496 497 498 499 500 501 502 503\n",
            " 504 505 506 507 508 509 510 511 512 513 514 515 516 517 518 519 520 521\n",
            " 522 523 524 525 526 527 528 529 530 531 532 533 534 535 536 537 538 539\n",
            " 540 541 542 543 544 545 546 547 548 549 550 551 552 553 554 555 556 557\n",
            " 558 559 560 561 562 563 564 565 566 567 568 569 570 571 572 573 574 575\n",
            " 576 577 578 579 580 581 582 583 584 585 586 587 588 589 590 591 592 593\n",
            " 594 595 596 597 598 599 600 601 602 603 604 605 606 607 608 609 610 611\n",
            " 612 613 614 615 616 617 618 619 620 621 622 623 624 625 626 627 628 629\n",
            " 630 631 632 633 634 635 636 637 638 639 640 641 642 643 644 645 646 647\n",
            " 648 649 650 651 652 653 654 655 656 657 658 659 660 661 662 663 664 665\n",
            " 666 667 668 669 670 671 672 673 674 675 676 677 678 679 680 681 682 683\n",
            " 684 685 686 687 688 689 690 691 692 693 694 695 696 697 698 699 700 701\n",
            " 702 703 704 705 706 707 708 709 710 711 712 713 714 715 716 717 718 719\n",
            " 720 721 722 723 724 725 726 727 728 729 730 731 732 733 734 735 736 737\n",
            " 738 739 740 741 742 743 744 745 746 747 748 749 750 751 752 753 754 755\n",
            " 756 757 758 759 760 761 762 763 764 765 766 767 768 769 770 771 772 773\n",
            " 774 775 776 777 778 779 780 781 782 783 784 785 786 787 788 789 790 791\n",
            " 792 793 794 795 796 797 798 799 800 801 802 803 804 805 806 807 808 809\n",
            " 810 811 812 813 814 815 816 817 818 819 820 821 822 823 824 825 826 827\n",
            " 828 829 830 831 832 833 834 835 836 837 838 839 840 841 842 843 844 845\n",
            " 846 847 848 849 850 851 852 853 854 855 856 857 858 859 860 861 862 863\n",
            " 864 865 866 867 868 869 870 871 872 873 874 875 876 877 878 879 880 881\n",
            " 882 883 884 885 886 887 888 889 890 891 892 893 894 895 896 897 898 899\n",
            " 900 901 902 903 904 905 906 907 908 909 910 911 912 913 914 915 916 917\n",
            " 918 919 920 921 922 923 924 925 926 927 928 929 930 931 932 933 934 935\n",
            " 936 937 938 939 940 941 942 943 944 945 946 947 948 949 950 951 952 953\n",
            " 954 955 956 957 958 959 960 961 962 963 964 965 966 967 968 969 970 971\n",
            " 972 973 974 975 976 977 978 979 980 981 982 983 984 985 986 987 988 989\n",
            " 990 991 992 993 994 995 996 997 998 999]\n",
            "[ 0  2  4  6  8 10 12 14 16 18 20 22 24 26 28 30 32 34 36 38 40 42 44 46\n",
            " 48 50 52 54 56 58 60 62 64 66 68 70 72 74 76 78 80 82 84 86 88 90 92 94\n",
            " 96 98]\n"
          ],
          "name": "stdout"
        }
      ]
    },
    {
      "cell_type": "markdown",
      "metadata": {
        "id": "HfJgwTJbBU1v"
      },
      "source": [
        "Multidimension\n"
      ]
    },
    {
      "cell_type": "code",
      "metadata": {
        "id": "oYaECeU7A6sP"
      },
      "source": [
        "arr=np.arange(20).reshape(4,5)"
      ],
      "execution_count": 59,
      "outputs": []
    },
    {
      "cell_type": "code",
      "metadata": {
        "colab": {
          "base_uri": "https://localhost:8080/"
        },
        "id": "DFlAFouzBbcn",
        "outputId": "191a4433-eee5-4237-fdde-3f9db51456ec"
      },
      "source": [
        "arr"
      ],
      "execution_count": 60,
      "outputs": [
        {
          "output_type": "execute_result",
          "data": {
            "text/plain": [
              "array([[ 0,  1,  2,  3,  4],\n",
              "       [ 5,  6,  7,  8,  9],\n",
              "       [10, 11, 12, 13, 14],\n",
              "       [15, 16, 17, 18, 19]])"
            ]
          },
          "metadata": {
            "tags": []
          },
          "execution_count": 60
        }
      ]
    },
    {
      "cell_type": "code",
      "metadata": {
        "colab": {
          "base_uri": "https://localhost:8080/"
        },
        "id": "M-A3V1_6Bcxv",
        "outputId": "b627b26f-aefb-47f1-9d37-42894cea2411"
      },
      "source": [
        "a[1,2]"
      ],
      "execution_count": 61,
      "outputs": [
        {
          "output_type": "execute_result",
          "data": {
            "text/plain": [
              "False"
            ]
          },
          "metadata": {
            "tags": []
          },
          "execution_count": 61
        }
      ]
    },
    {
      "cell_type": "code",
      "metadata": {
        "colab": {
          "base_uri": "https://localhost:8080/"
        },
        "id": "ikoIW2UfBlUN",
        "outputId": "f25858e7-5bfb-42ce-b7a5-94b50d226cc5"
      },
      "source": [
        "arr=np.arange(15).reshape(3,5)\n",
        "arr"
      ],
      "execution_count": 70,
      "outputs": [
        {
          "output_type": "execute_result",
          "data": {
            "text/plain": [
              "array([[ 0,  1,  2,  3,  4],\n",
              "       [ 5,  6,  7,  8,  9],\n",
              "       [10, 11, 12, 13, 14]])"
            ]
          },
          "metadata": {
            "tags": []
          },
          "execution_count": 70
        }
      ]
    },
    {
      "cell_type": "code",
      "metadata": {
        "colab": {
          "base_uri": "https://localhost:8080/"
        },
        "id": "lgfPNd8xBmpD",
        "outputId": "3cb9b9f6-3a08-455b-d2ce-111843972d46"
      },
      "source": [
        "arr[1,2]"
      ],
      "execution_count": 72,
      "outputs": [
        {
          "output_type": "execute_result",
          "data": {
            "text/plain": [
              "7"
            ]
          },
          "metadata": {
            "tags": []
          },
          "execution_count": 72
        }
      ]
    },
    {
      "cell_type": "code",
      "metadata": {
        "colab": {
          "base_uri": "https://localhost:8080/"
        },
        "id": "RgAE_DSAKB2S",
        "outputId": "f8480b53-6a4c-445e-9464-44a8f12adaa1"
      },
      "source": [
        "arr[1,4]"
      ],
      "execution_count": 81,
      "outputs": [
        {
          "output_type": "execute_result",
          "data": {
            "text/plain": [
              "9"
            ]
          },
          "metadata": {
            "tags": []
          },
          "execution_count": 81
        }
      ]
    },
    {
      "cell_type": "code",
      "metadata": {
        "colab": {
          "base_uri": "https://localhost:8080/"
        },
        "id": "MppsC3ilJb-E",
        "outputId": "9124e6cf-b1c1-49f0-f0ba-ebe3d189ba5f"
      },
      "source": [
        "arr[2,2]"
      ],
      "execution_count": 76,
      "outputs": [
        {
          "output_type": "execute_result",
          "data": {
            "text/plain": [
              "12"
            ]
          },
          "metadata": {
            "tags": []
          },
          "execution_count": 76
        }
      ]
    },
    {
      "cell_type": "code",
      "metadata": {
        "colab": {
          "base_uri": "https://localhost:8080/"
        },
        "id": "dt_bTH8bJhcp",
        "outputId": "f132261e-6194-4ac8-d7f6-812cd34abe64"
      },
      "source": [
        "arr[0:2,0:2]"
      ],
      "execution_count": 78,
      "outputs": [
        {
          "output_type": "execute_result",
          "data": {
            "text/plain": [
              "array([[0, 1],\n",
              "       [5, 6]])"
            ]
          },
          "metadata": {
            "tags": []
          },
          "execution_count": 78
        }
      ]
    },
    {
      "cell_type": "code",
      "metadata": {
        "colab": {
          "base_uri": "https://localhost:8080/"
        },
        "id": "7g-AlHPXJuqR",
        "outputId": "5fa5dd5c-b244-4341-cd55-175719f9adfb"
      },
      "source": [
        "arr[0:4,0:4]"
      ],
      "execution_count": 82,
      "outputs": [
        {
          "output_type": "execute_result",
          "data": {
            "text/plain": [
              "array([[ 0,  1,  2,  3],\n",
              "       [ 5,  6,  7,  8],\n",
              "       [10, 11, 12, 13]])"
            ]
          },
          "metadata": {
            "tags": []
          },
          "execution_count": 82
        }
      ]
    },
    {
      "cell_type": "code",
      "metadata": {
        "colab": {
          "base_uri": "https://localhost:8080/"
        },
        "id": "2Wfa7ar5KROK",
        "outputId": "27824855-305a-42ad-fa70-434080a11396"
      },
      "source": [
        "arr[:]"
      ],
      "execution_count": 83,
      "outputs": [
        {
          "output_type": "execute_result",
          "data": {
            "text/plain": [
              "array([[ 0,  1,  2,  3,  4],\n",
              "       [ 5,  6,  7,  8,  9],\n",
              "       [10, 11, 12, 13, 14]])"
            ]
          },
          "metadata": {
            "tags": []
          },
          "execution_count": 83
        }
      ]
    },
    {
      "cell_type": "code",
      "metadata": {
        "colab": {
          "base_uri": "https://localhost:8080/"
        },
        "id": "B55C9pDnKU-0",
        "outputId": "7355d0cc-9707-4463-ef7c-92d8e8a03cda"
      },
      "source": [
        "arr[:,1]"
      ],
      "execution_count": 84,
      "outputs": [
        {
          "output_type": "execute_result",
          "data": {
            "text/plain": [
              "array([ 1,  6, 11])"
            ]
          },
          "metadata": {
            "tags": []
          },
          "execution_count": 84
        }
      ]
    },
    {
      "cell_type": "code",
      "metadata": {
        "colab": {
          "base_uri": "https://localhost:8080/"
        },
        "id": "fI0vyklUKXoP",
        "outputId": "d9a6e1ba-8d14-4dfb-ba90-bdeada2bd4e1"
      },
      "source": [
        "arr[1,:]"
      ],
      "execution_count": 85,
      "outputs": [
        {
          "output_type": "execute_result",
          "data": {
            "text/plain": [
              "array([5, 6, 7, 8, 9])"
            ]
          },
          "metadata": {
            "tags": []
          },
          "execution_count": 85
        }
      ]
    },
    {
      "cell_type": "code",
      "metadata": {
        "colab": {
          "base_uri": "https://localhost:8080/"
        },
        "id": "S2Ya44sHKcPh",
        "outputId": "9d4feed5-0da5-4179-a243-1fb5e114d066"
      },
      "source": [
        "arr[2,:]"
      ],
      "execution_count": 86,
      "outputs": [
        {
          "output_type": "execute_result",
          "data": {
            "text/plain": [
              "array([10, 11, 12, 13, 14])"
            ]
          },
          "metadata": {
            "tags": []
          },
          "execution_count": 86
        }
      ]
    },
    {
      "cell_type": "code",
      "metadata": {
        "colab": {
          "base_uri": "https://localhost:8080/"
        },
        "id": "rvMIwtAkKk96",
        "outputId": "c7df01ed-a80b-4f84-d96f-7c989a23523f"
      },
      "source": [
        "arr=arr.flatten()\n",
        "arr"
      ],
      "execution_count": 88,
      "outputs": [
        {
          "output_type": "execute_result",
          "data": {
            "text/plain": [
              "array([ 0,  1,  2,  3,  4,  5,  6,  7,  8,  9, 10, 11, 12, 13, 14])"
            ]
          },
          "metadata": {
            "tags": []
          },
          "execution_count": 88
        }
      ]
    },
    {
      "cell_type": "code",
      "metadata": {
        "colab": {
          "base_uri": "https://localhost:8080/"
        },
        "id": "H--CNDxPNkd3",
        "outputId": "0bab2e57-1572-4225-efc5-a0f79563d003"
      },
      "source": [
        "for i in arr:\n",
        "  print(i)\n",
        "\n",
        "arr=np.arange(15).reshape(3,5)\n",
        "arr"
      ],
      "execution_count": 90,
      "outputs": [
        {
          "output_type": "stream",
          "text": [
            "0\n",
            "1\n",
            "2\n",
            "3\n",
            "4\n",
            "5\n",
            "6\n",
            "7\n",
            "8\n",
            "9\n",
            "10\n",
            "11\n",
            "12\n",
            "13\n",
            "14\n"
          ],
          "name": "stdout"
        },
        {
          "output_type": "execute_result",
          "data": {
            "text/plain": [
              "array([[ 0,  1,  2,  3,  4],\n",
              "       [ 5,  6,  7,  8,  9],\n",
              "       [10, 11, 12, 13, 14]])"
            ]
          },
          "metadata": {
            "tags": []
          },
          "execution_count": 90
        }
      ]
    },
    {
      "cell_type": "markdown",
      "metadata": {
        "id": "qiiDqtOzOd8-"
      },
      "source": [
        "copying array"
      ]
    },
    {
      "cell_type": "code",
      "metadata": {
        "colab": {
          "base_uri": "https://localhost:8080/"
        },
        "id": "sLdOAwmDOHG9",
        "outputId": "2c12bdb7-7bb6-4965-ead5-89f8ba01b289"
      },
      "source": [
        "arr=np.arange(10)\n",
        "print(arr)"
      ],
      "execution_count": 92,
      "outputs": [
        {
          "output_type": "stream",
          "text": [
            "[0 1 2 3 4 5 6 7 8 9]\n"
          ],
          "name": "stdout"
        }
      ]
    },
    {
      "cell_type": "code",
      "metadata": {
        "colab": {
          "base_uri": "https://localhost:8080/"
        },
        "id": "GuUdIp0APJcX",
        "outputId": "81e2c6e8-7946-4ce1-dc06-a3775d484481"
      },
      "source": [
        "arr1=arr\n",
        "arr1 is arr"
      ],
      "execution_count": 94,
      "outputs": [
        {
          "output_type": "execute_result",
          "data": {
            "text/plain": [
              "True"
            ]
          },
          "metadata": {
            "tags": []
          },
          "execution_count": 94
        }
      ]
    },
    {
      "cell_type": "code",
      "metadata": {
        "colab": {
          "base_uri": "https://localhost:8080/"
        },
        "id": "6SSiBvCgPWh6",
        "outputId": "668a5502-1d32-4fc9-aba8-42464ac8c734"
      },
      "source": [
        "arr1.shape=(2,5)\n",
        "print(arr1)\n",
        "arr.shape\n"
      ],
      "execution_count": 96,
      "outputs": [
        {
          "output_type": "stream",
          "text": [
            "[[0 1 2 3 4]\n",
            " [5 6 7 8 9]]\n"
          ],
          "name": "stdout"
        },
        {
          "output_type": "execute_result",
          "data": {
            "text/plain": [
              "(2, 5)"
            ]
          },
          "metadata": {
            "tags": []
          },
          "execution_count": 96
        }
      ]
    },
    {
      "cell_type": "code",
      "metadata": {
        "colab": {
          "base_uri": "https://localhost:8080/"
        },
        "id": "Sum3wrl_Pqko",
        "outputId": "11a376ea-dc4d-457e-f3de-166074d7f1c5"
      },
      "source": [
        "arr1 is arr"
      ],
      "execution_count": 97,
      "outputs": [
        {
          "output_type": "execute_result",
          "data": {
            "text/plain": [
              "True"
            ]
          },
          "metadata": {
            "tags": []
          },
          "execution_count": 97
        }
      ]
    },
    {
      "cell_type": "code",
      "metadata": {
        "colab": {
          "base_uri": "https://localhost:8080/"
        },
        "id": "spOE-GAEP9o5",
        "outputId": "aab1286a-2fef-4cd7-cf3f-3484b8297308"
      },
      "source": [
        "print(arr)"
      ],
      "execution_count": 98,
      "outputs": [
        {
          "output_type": "stream",
          "text": [
            "[[0 1 2 3 4]\n",
            " [5 6 7 8 9]]\n"
          ],
          "name": "stdout"
        }
      ]
    },
    {
      "cell_type": "code",
      "metadata": {
        "colab": {
          "base_uri": "https://localhost:8080/"
        },
        "id": "rymLQXKiQC4C",
        "outputId": "b28117a1-581f-4a64-f475-82f1d3c2d4ab"
      },
      "source": [
        "arr=np.arange(15)\n",
        "arr_1=arr[:]\n",
        "arr.shape=(3,5)\n",
        "print(arr)\n",
        "print(arr_1)"
      ],
      "execution_count": 106,
      "outputs": [
        {
          "output_type": "stream",
          "text": [
            "[[ 0  1  2  3  4]\n",
            " [ 5  6  7  8  9]\n",
            " [10 11 12 13 14]]\n",
            "[ 0  1  2  3  4  5  6  7  8  9 10 11 12 13 14]\n"
          ],
          "name": "stdout"
        }
      ]
    },
    {
      "cell_type": "code",
      "metadata": {
        "colab": {
          "base_uri": "https://localhost:8080/"
        },
        "id": "lF_YVMyAQYW1",
        "outputId": "42468257-9abe-4227-c6a3-5bba1d2421f6"
      },
      "source": [
        "arr_1[2]=-1\n",
        "print(arr)\n",
        "print(arr_1)"
      ],
      "execution_count": 107,
      "outputs": [
        {
          "output_type": "stream",
          "text": [
            "[[ 0  1 -1  3  4]\n",
            " [ 5  6  7  8  9]\n",
            " [10 11 12 13 14]]\n",
            "[ 0  1 -1  3  4  5  6  7  8  9 10 11 12 13 14]\n"
          ],
          "name": "stdout"
        }
      ]
    },
    {
      "cell_type": "code",
      "metadata": {
        "id": "jliGa9v3RWjl"
      },
      "source": [
        "arr_2=arr_1[2:9]"
      ],
      "execution_count": 108,
      "outputs": []
    },
    {
      "cell_type": "code",
      "metadata": {
        "colab": {
          "base_uri": "https://localhost:8080/"
        },
        "id": "15thDV5fRl_r",
        "outputId": "739d744f-4f31-4e11-ffbe-0a4e8eab0926"
      },
      "source": [
        "arr_2"
      ],
      "execution_count": 109,
      "outputs": [
        {
          "output_type": "execute_result",
          "data": {
            "text/plain": [
              "array([-1,  3,  4,  5,  6,  7,  8])"
            ]
          },
          "metadata": {
            "tags": []
          },
          "execution_count": 109
        }
      ]
    },
    {
      "cell_type": "code",
      "metadata": {
        "colab": {
          "base_uri": "https://localhost:8080/"
        },
        "id": "F-PnUQs7RnJe",
        "outputId": "3c66148d-3c10-4e60-8470-e7756f7ca92b"
      },
      "source": [
        "arr_2[:]"
      ],
      "execution_count": 111,
      "outputs": [
        {
          "output_type": "execute_result",
          "data": {
            "text/plain": [
              "array([-1,  3,  4,  5,  6,  7,  8])"
            ]
          },
          "metadata": {
            "tags": []
          },
          "execution_count": 111
        }
      ]
    },
    {
      "cell_type": "code",
      "metadata": {
        "colab": {
          "base_uri": "https://localhost:8080/"
        },
        "id": "z-0WWeCbRp87",
        "outputId": "6739f61f-8ae8-4a23-80b5-1df8079a5b35"
      },
      "source": [
        "print(arr)\n",
        "print(arr_1)\n",
        "print(arr_2)"
      ],
      "execution_count": 112,
      "outputs": [
        {
          "output_type": "stream",
          "text": [
            "[[ 0  1 -1  3  4]\n",
            " [ 5  6  7  8  9]\n",
            " [10 11 12 13 14]]\n",
            "[ 0  1 -1  3  4  5  6  7  8  9 10 11 12 13 14]\n",
            "[-1  3  4  5  6  7  8]\n"
          ],
          "name": "stdout"
        }
      ]
    },
    {
      "cell_type": "code",
      "metadata": {
        "colab": {
          "base_uri": "https://localhost:8080/"
        },
        "id": "CR-lgZn4RxgL",
        "outputId": "88829e97-3b38-4b2a-d3fe-90e72d8d02ab"
      },
      "source": [
        "print(arr_2 is arr)\n",
        "print(arr_2.base is arr)\n",
        "print(arr_2.flags.owndata)\n",
        "print(arr.flags.owndata)"
      ],
      "execution_count": 113,
      "outputs": [
        {
          "output_type": "stream",
          "text": [
            "False\n",
            "True\n",
            "False\n",
            "True\n"
          ],
          "name": "stdout"
        }
      ]
    },
    {
      "cell_type": "code",
      "metadata": {
        "colab": {
          "base_uri": "https://localhost:8080/"
        },
        "id": "2Edt9nilSbig",
        "outputId": "07a06797-3dbf-49f1-d6dd-7f85b13304f6"
      },
      "source": [
        "d=arr.copy()\n",
        "d[:,:]=1.1\n",
        "print(arr)\n",
        "print(d)"
      ],
      "execution_count": 116,
      "outputs": [
        {
          "output_type": "stream",
          "text": [
            "[[ 0  1 -1  3  4]\n",
            " [ 5  6  7  8  9]\n",
            " [10 11 12 13 14]]\n",
            "[[1 1 1 1 1]\n",
            " [1 1 1 1 1]\n",
            " [1 1 1 1 1]]\n"
          ],
          "name": "stdout"
        }
      ]
    },
    {
      "cell_type": "markdown",
      "metadata": {
        "id": "gqjPBiy4WF5C"
      },
      "source": [
        "Boolean indexing"
      ]
    },
    {
      "cell_type": "code",
      "metadata": {
        "colab": {
          "base_uri": "https://localhost:8080/"
        },
        "id": "38TIwFU-Sxn9",
        "outputId": "1c7ef3e1-724a-4b74-aa04-217420d28791"
      },
      "source": [
        "arr=np.arange(12).reshape(3,4)\n",
        "arr"
      ],
      "execution_count": 117,
      "outputs": [
        {
          "output_type": "execute_result",
          "data": {
            "text/plain": [
              "array([[ 0,  1,  2,  3],\n",
              "       [ 4,  5,  6,  7],\n",
              "       [ 8,  9, 10, 11]])"
            ]
          },
          "metadata": {
            "tags": []
          },
          "execution_count": 117
        }
      ]
    },
    {
      "cell_type": "code",
      "metadata": {
        "colab": {
          "base_uri": "https://localhost:8080/"
        },
        "id": "7APs6_JhlTr0",
        "outputId": "1f8cc896-877f-4385-ef20-cf26cf1d79e7"
      },
      "source": [
        "arr[arr>4]=0\n",
        "arr"
      ],
      "execution_count": 119,
      "outputs": [
        {
          "output_type": "execute_result",
          "data": {
            "text/plain": [
              "array([[0, 1, 2, 3],\n",
              "       [4, 0, 0, 0],\n",
              "       [0, 0, 0, 0]])"
            ]
          },
          "metadata": {
            "tags": []
          },
          "execution_count": 119
        }
      ]
    },
    {
      "cell_type": "code",
      "metadata": {
        "colab": {
          "base_uri": "https://localhost:8080/"
        },
        "id": "GXY__FAdlXvx",
        "outputId": "e52949de-00cf-4859-b720-0aeec61d3719"
      },
      "source": [
        "arr[arr==0]=-1\n",
        "arr"
      ],
      "execution_count": 121,
      "outputs": [
        {
          "output_type": "execute_result",
          "data": {
            "text/plain": [
              "array([[-1,  1,  2,  3],\n",
              "       [ 4, -1, -1, -1],\n",
              "       [-1, -1, -1, -1]])"
            ]
          },
          "metadata": {
            "tags": []
          },
          "execution_count": 121
        }
      ]
    },
    {
      "cell_type": "code",
      "metadata": {
        "colab": {
          "base_uri": "https://localhost:8080/"
        },
        "id": "mjYyOHNglfRY",
        "outputId": "5817da4e-6e91-4327-c560-7042d7557f4d"
      },
      "source": [
        "arr=np.arange(12).reshape(3,4)\n",
        "print(arr)\n",
        "arr[np.logical_and(arr>3,arr<=9)]=0\n",
        "arr"
      ],
      "execution_count": 124,
      "outputs": [
        {
          "output_type": "stream",
          "text": [
            "[[ 0  1  2  3]\n",
            " [ 4  5  6  7]\n",
            " [ 8  9 10 11]]\n"
          ],
          "name": "stdout"
        },
        {
          "output_type": "execute_result",
          "data": {
            "text/plain": [
              "array([[ 0,  1,  2,  3],\n",
              "       [ 0,  0,  0,  0],\n",
              "       [ 0,  0, 10, 11]])"
            ]
          },
          "metadata": {
            "tags": []
          },
          "execution_count": 124
        }
      ]
    },
    {
      "cell_type": "code",
      "metadata": {
        "colab": {
          "base_uri": "https://localhost:8080/"
        },
        "id": "5Q09_i6ql2Wd",
        "outputId": "e8b62d27-083e-4d5d-bdca-d6ed5cf905ba"
      },
      "source": [
        "arr>4"
      ],
      "execution_count": 125,
      "outputs": [
        {
          "output_type": "execute_result",
          "data": {
            "text/plain": [
              "array([[False, False, False, False],\n",
              "       [False, False, False, False],\n",
              "       [False, False,  True,  True]])"
            ]
          },
          "metadata": {
            "tags": []
          },
          "execution_count": 125
        }
      ]
    },
    {
      "cell_type": "code",
      "metadata": {
        "colab": {
          "base_uri": "https://localhost:8080/"
        },
        "id": "53rc6G6juAfn",
        "outputId": "d6951c11-a79d-4a5c-f058-c6fe4f85b223"
      },
      "source": [
        "A=30\n",
        "B=50\n",
        "xmin=ymin=0\n",
        "xmax=ymax=1\n",
        "x=np.linspace(xmin,xmax,A,endpoint=False)\n",
        "y=np.linspace(xmin,xmax,B,endpoint=False)\n",
        "print(x.shape)\n",
        "print(y.shape)\n",
        "y"
      ],
      "execution_count": 127,
      "outputs": [
        {
          "output_type": "stream",
          "text": [
            "(30,)\n",
            "(50,)\n"
          ],
          "name": "stdout"
        },
        {
          "output_type": "execute_result",
          "data": {
            "text/plain": [
              "array([0.  , 0.02, 0.04, 0.06, 0.08, 0.1 , 0.12, 0.14, 0.16, 0.18, 0.2 ,\n",
              "       0.22, 0.24, 0.26, 0.28, 0.3 , 0.32, 0.34, 0.36, 0.38, 0.4 , 0.42,\n",
              "       0.44, 0.46, 0.48, 0.5 , 0.52, 0.54, 0.56, 0.58, 0.6 , 0.62, 0.64,\n",
              "       0.66, 0.68, 0.7 , 0.72, 0.74, 0.76, 0.78, 0.8 , 0.82, 0.84, 0.86,\n",
              "       0.88, 0.9 , 0.92, 0.94, 0.96, 0.98])"
            ]
          },
          "metadata": {
            "tags": []
          },
          "execution_count": 127
        }
      ]
    },
    {
      "cell_type": "code",
      "metadata": {
        "id": "KQiKM3_2xT-0"
      },
      "source": [
        "import time\n",
        "import numpy as np\n",
        "M=32\n",
        "N=64\n",
        "x=np.linspace(0,1,M,endpoint=False)\n",
        "y=np.linspace(0,1,N,endpoint=False)\n"
      ],
      "execution_count": 128,
      "outputs": []
    },
    {
      "cell_type": "code",
      "metadata": {
        "colab": {
          "base_uri": "https://localhost:8080/"
        },
        "id": "lLEeBkeoywDu",
        "outputId": "39b4f6d4-9a27-4e64-870b-01ec5b7a8a72"
      },
      "source": [
        "t0=time.time()\n",
        "g=np.zeros((M,N))\n",
        "print(g)\n",
        "for i in range(M):\n",
        "  for j in range(N):\n",
        "    g[i,j]=np.sin(2*np.pi*x[i]*y[j])\n",
        "  \n",
        "t1=time.time()\n",
        "print(\"time elapsed {} s\".format(t1-t0))\n"
      ],
      "execution_count": 131,
      "outputs": [
        {
          "output_type": "stream",
          "text": [
            "[[0. 0. 0. ... 0. 0. 0.]\n",
            " [0. 0. 0. ... 0. 0. 0.]\n",
            " [0. 0. 0. ... 0. 0. 0.]\n",
            " ...\n",
            " [0. 0. 0. ... 0. 0. 0.]\n",
            " [0. 0. 0. ... 0. 0. 0.]\n",
            " [0. 0. 0. ... 0. 0. 0.]]\n",
            "time elapsed 0.01165008544921875 s\n"
          ],
          "name": "stdout"
        }
      ]
    },
    {
      "cell_type": "code",
      "metadata": {
        "colab": {
          "base_uri": "https://localhost:8080/"
        },
        "id": "__aeAZwZzTA7",
        "outputId": "cb8cc31a-fb25-4be5-9456-c376c98a114c"
      },
      "source": [
        "x2d, y2d = np.meshgrid(x, y, indexing=\"ij\")\n",
        "\n",
        "print(x2d[:,0])\n",
        "print(x2d[0,:])\n",
        "\n",
        "print(y2d[:,0])\n",
        "print(y2d[0,:])"
      ],
      "execution_count": 132,
      "outputs": [
        {
          "output_type": "stream",
          "text": [
            "[0.      0.03125 0.0625  0.09375 0.125   0.15625 0.1875  0.21875 0.25\n",
            " 0.28125 0.3125  0.34375 0.375   0.40625 0.4375  0.46875 0.5     0.53125\n",
            " 0.5625  0.59375 0.625   0.65625 0.6875  0.71875 0.75    0.78125 0.8125\n",
            " 0.84375 0.875   0.90625 0.9375  0.96875]\n",
            "[0. 0. 0. 0. 0. 0. 0. 0. 0. 0. 0. 0. 0. 0. 0. 0. 0. 0. 0. 0. 0. 0. 0. 0.\n",
            " 0. 0. 0. 0. 0. 0. 0. 0. 0. 0. 0. 0. 0. 0. 0. 0. 0. 0. 0. 0. 0. 0. 0. 0.\n",
            " 0. 0. 0. 0. 0. 0. 0. 0. 0. 0. 0. 0. 0. 0. 0. 0.]\n",
            "[0. 0. 0. 0. 0. 0. 0. 0. 0. 0. 0. 0. 0. 0. 0. 0. 0. 0. 0. 0. 0. 0. 0. 0.\n",
            " 0. 0. 0. 0. 0. 0. 0. 0.]\n",
            "[0.       0.015625 0.03125  0.046875 0.0625   0.078125 0.09375  0.109375\n",
            " 0.125    0.140625 0.15625  0.171875 0.1875   0.203125 0.21875  0.234375\n",
            " 0.25     0.265625 0.28125  0.296875 0.3125   0.328125 0.34375  0.359375\n",
            " 0.375    0.390625 0.40625  0.421875 0.4375   0.453125 0.46875  0.484375\n",
            " 0.5      0.515625 0.53125  0.546875 0.5625   0.578125 0.59375  0.609375\n",
            " 0.625    0.640625 0.65625  0.671875 0.6875   0.703125 0.71875  0.734375\n",
            " 0.75     0.765625 0.78125  0.796875 0.8125   0.828125 0.84375  0.859375\n",
            " 0.875    0.890625 0.90625  0.921875 0.9375   0.953125 0.96875  0.984375]\n"
          ],
          "name": "stdout"
        }
      ]
    },
    {
      "cell_type": "code",
      "metadata": {
        "colab": {
          "base_uri": "https://localhost:8080/"
        },
        "id": "iFdU5_cx1E4G",
        "outputId": "2e7fd933-fd8e-4dee-f0b5-9d3f5dbfd999"
      },
      "source": [
        "t0 = time.time()\n",
        "g2 = np.sin(2.0*np.pi*x2d*y2d)\n",
        "t1 = time.time()\n",
        "print(\"time elapsed: {} s\".format(t1-t0))"
      ],
      "execution_count": 133,
      "outputs": [
        {
          "output_type": "stream",
          "text": [
            "time elapsed: 0.00025010108947753906 s\n"
          ],
          "name": "stdout"
        }
      ]
    },
    {
      "cell_type": "markdown",
      "metadata": {
        "id": "OR3O5iUo11ut"
      },
      "source": [
        "NumPy Standard Data Types"
      ]
    },
    {
      "cell_type": "code",
      "metadata": {
        "colab": {
          "base_uri": "https://localhost:8080/"
        },
        "id": "R3tSVIAS1k7z",
        "outputId": "af16b113-c928-4a03-e8f9-cf652992e083"
      },
      "source": [
        "a=np.array([2,3,4,5])\n",
        "b=np.array([6,7,8,9])\n",
        "np.concatenate([a,b])"
      ],
      "execution_count": 135,
      "outputs": [
        {
          "output_type": "execute_result",
          "data": {
            "text/plain": [
              "array([2, 3, 4, 5, 6, 7, 8, 9])"
            ]
          },
          "metadata": {
            "tags": []
          },
          "execution_count": 135
        }
      ]
    },
    {
      "cell_type": "code",
      "metadata": {
        "colab": {
          "base_uri": "https://localhost:8080/"
        },
        "id": "BHB_zp9p_GiK",
        "outputId": "570c3e76-015e-49cb-e020-106b311cfbef"
      },
      "source": [
        "c=[11,13,14,15]\n",
        "np.concatenate([a,b,c])"
      ],
      "execution_count": 136,
      "outputs": [
        {
          "output_type": "execute_result",
          "data": {
            "text/plain": [
              "array([ 2,  3,  4,  5,  6,  7,  8,  9, 11, 13, 14, 15])"
            ]
          },
          "metadata": {
            "tags": []
          },
          "execution_count": 136
        }
      ]
    },
    {
      "cell_type": "code",
      "metadata": {
        "id": "aYthWoFo_U4_"
      },
      "source": [
        "a= np.array([[10, 20, 30],[40, 50, 60]])"
      ],
      "execution_count": 138,
      "outputs": []
    },
    {
      "cell_type": "code",
      "metadata": {
        "colab": {
          "base_uri": "https://localhost:8080/"
        },
        "id": "i_as8iFj_onS",
        "outputId": "c06a4382-b5ea-4ba0-9fdc-78e6b6890486"
      },
      "source": [
        "np.concatenate([a,a],axis=1)"
      ],
      "execution_count": 140,
      "outputs": [
        {
          "output_type": "execute_result",
          "data": {
            "text/plain": [
              "array([[10, 20, 30, 10, 20, 30],\n",
              "       [40, 50, 60, 40, 50, 60]])"
            ]
          },
          "metadata": {
            "tags": []
          },
          "execution_count": 140
        }
      ]
    },
    {
      "cell_type": "code",
      "metadata": {
        "colab": {
          "base_uri": "https://localhost:8080/"
        },
        "id": "DOxUOQPa_ucN",
        "outputId": "bf90176a-e4aa-460d-ab7c-35d3972fc3c1"
      },
      "source": [
        "np.concatenate([a,a],axis=0)"
      ],
      "execution_count": 142,
      "outputs": [
        {
          "output_type": "execute_result",
          "data": {
            "text/plain": [
              "array([[10, 20, 30],\n",
              "       [40, 50, 60],\n",
              "       [10, 20, 30],\n",
              "       [40, 50, 60]])"
            ]
          },
          "metadata": {
            "tags": []
          },
          "execution_count": 142
        }
      ]
    },
    {
      "cell_type": "markdown",
      "metadata": {
        "id": "wNPGtRl8_-J7"
      },
      "source": [
        "splitting of array"
      ]
    },
    {
      "cell_type": "code",
      "metadata": {
        "colab": {
          "base_uri": "https://localhost:8080/"
        },
        "id": "rNcccAS5_yYv",
        "outputId": "189658ca-dcc5-4e4c-a1d9-b6b9db890009"
      },
      "source": [
        "x = [1, 2, 3, 4, 4, 3 ,2, 1, 9, 4 ,6,9,12,15]\n",
        "x1, x2, x3,x4,x5 = np.split(x, [2,6,8,10])\n",
        "print(x1, x2, x3, x4,x5)"
      ],
      "execution_count": 146,
      "outputs": [
        {
          "output_type": "stream",
          "text": [
            "[1 2] [3 4 4 3] [2 1] [9 4] [ 6  9 12 15]\n"
          ],
          "name": "stdout"
        }
      ]
    },
    {
      "cell_type": "code",
      "metadata": {
        "colab": {
          "base_uri": "https://localhost:8080/"
        },
        "id": "4ziNeem1Anus",
        "outputId": "eb04f554-04bd-4c8b-e460-4d89e21c5aa3"
      },
      "source": [
        "g=np.arange(30).reshape((6,5))\n",
        "g"
      ],
      "execution_count": 149,
      "outputs": [
        {
          "output_type": "execute_result",
          "data": {
            "text/plain": [
              "array([[ 0,  1,  2,  3,  4],\n",
              "       [ 5,  6,  7,  8,  9],\n",
              "       [10, 11, 12, 13, 14],\n",
              "       [15, 16, 17, 18, 19],\n",
              "       [20, 21, 22, 23, 24],\n",
              "       [25, 26, 27, 28, 29]])"
            ]
          },
          "metadata": {
            "tags": []
          },
          "execution_count": 149
        }
      ]
    },
    {
      "cell_type": "code",
      "metadata": {
        "colab": {
          "base_uri": "https://localhost:8080/"
        },
        "id": "o9gOmhyaBWkU",
        "outputId": "5e7ad4bd-1049-4f12-fcaf-223df18268e5"
      },
      "source": [
        "left,right=np.hsplit(g,[2])\n",
        "print(left)\n",
        "print(right)"
      ],
      "execution_count": 150,
      "outputs": [
        {
          "output_type": "stream",
          "text": [
            "[[ 0  1]\n",
            " [ 5  6]\n",
            " [10 11]\n",
            " [15 16]\n",
            " [20 21]\n",
            " [25 26]]\n",
            "[[ 2  3  4]\n",
            " [ 7  8  9]\n",
            " [12 13 14]\n",
            " [17 18 19]\n",
            " [22 23 24]\n",
            " [27 28 29]]\n"
          ],
          "name": "stdout"
        }
      ]
    },
    {
      "cell_type": "code",
      "metadata": {
        "colab": {
          "base_uri": "https://localhost:8080/"
        },
        "id": "ZHIochjgBtYf",
        "outputId": "34c1ba71-b7bf-4c7f-a891-0ef38b466b85"
      },
      "source": [
        "  left,right=np.hsplit(g,[3])\n",
        "print(left)\n",
        "print(right)"
      ],
      "execution_count": 151,
      "outputs": [
        {
          "output_type": "stream",
          "text": [
            "[[ 0  1  2]\n",
            " [ 5  6  7]\n",
            " [10 11 12]\n",
            " [15 16 17]\n",
            " [20 21 22]\n",
            " [25 26 27]]\n",
            "[[ 3  4]\n",
            " [ 8  9]\n",
            " [13 14]\n",
            " [18 19]\n",
            " [23 24]\n",
            " [28 29]]\n"
          ],
          "name": "stdout"
        }
      ]
    },
    {
      "cell_type": "markdown",
      "metadata": {
        "id": "synqIG8MB74o"
      },
      "source": [
        "Aggregates"
      ]
    },
    {
      "cell_type": "code",
      "metadata": {
        "colab": {
          "base_uri": "https://localhost:8080/"
        },
        "id": "VzvP6Gx3Bxtt",
        "outputId": "c6405eaf-ba77-4b57-a567-89dd9e090a1f"
      },
      "source": [
        "a=np.arange(1,9)\n",
        "print(a)\n",
        "np.add.reduce(a)"
      ],
      "execution_count": 152,
      "outputs": [
        {
          "output_type": "stream",
          "text": [
            "[1 2 3 4 5 6 7 8]\n"
          ],
          "name": "stdout"
        },
        {
          "output_type": "execute_result",
          "data": {
            "text/plain": [
              "36"
            ]
          },
          "metadata": {
            "tags": []
          },
          "execution_count": 152
        }
      ]
    },
    {
      "cell_type": "code",
      "metadata": {
        "colab": {
          "base_uri": "https://localhost:8080/"
        },
        "id": "mr0Z_wSXCOMa",
        "outputId": "8ea5bcc3-b764-49c1-d5cb-deebf0f102d3"
      },
      "source": [
        "np.multiply.reduce(a)"
      ],
      "execution_count": 153,
      "outputs": [
        {
          "output_type": "execute_result",
          "data": {
            "text/plain": [
              "40320"
            ]
          },
          "metadata": {
            "tags": []
          },
          "execution_count": 153
        }
      ]
    },
    {
      "cell_type": "code",
      "metadata": {
        "colab": {
          "base_uri": "https://localhost:8080/"
        },
        "id": "Hzi68CizCeeb",
        "outputId": "78873a4f-ae4b-4e86-c363-804127ff1cbf"
      },
      "source": [
        "np.add.accumulate(a)"
      ],
      "execution_count": 154,
      "outputs": [
        {
          "output_type": "execute_result",
          "data": {
            "text/plain": [
              "array([ 1,  3,  6, 10, 15, 21, 28, 36])"
            ]
          },
          "metadata": {
            "tags": []
          },
          "execution_count": 154
        }
      ]
    },
    {
      "cell_type": "code",
      "metadata": {
        "colab": {
          "base_uri": "https://localhost:8080/"
        },
        "id": "e5Z4Nxt8Cx4Z",
        "outputId": "96a19c68-1a2a-48a5-c8d7-b569ceb85e9c"
      },
      "source": [
        "np.multiply.accumulate(a)"
      ],
      "execution_count": 155,
      "outputs": [
        {
          "output_type": "execute_result",
          "data": {
            "text/plain": [
              "array([    1,     2,     6,    24,   120,   720,  5040, 40320])"
            ]
          },
          "metadata": {
            "tags": []
          },
          "execution_count": 155
        }
      ]
    },
    {
      "cell_type": "code",
      "metadata": {
        "id": "RR-gm8-bCzgL"
      },
      "source": [
        ""
      ],
      "execution_count": null,
      "outputs": []
    }
  ]
}