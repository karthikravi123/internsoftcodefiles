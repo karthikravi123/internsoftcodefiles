{
  "nbformat": 4,
  "nbformat_minor": 0,
  "metadata": {
    "colab": {
      "name": "Day1Codefile.ipynb",
      "provenance": [],
      "collapsed_sections": []
    },
    "kernelspec": {
      "name": "python3",
      "display_name": "Python 3"
    },
    "language_info": {
      "name": "python"
    }
  },
  "cells": [
    {
      "cell_type": "code",
      "metadata": {
        "colab": {
          "base_uri": "https://localhost:8080/"
        },
        "id": "01Z3md_itDfn",
        "outputId": "6fdde3d0-6755-431d-e9b5-d11e08d460ba"
      },
      "source": [
        "#integers\n",
        "\n",
        "x = 6\n",
        "type(x)"
      ],
      "execution_count": 2,
      "outputs": [
        {
          "output_type": "execute_result",
          "data": {
            "text/plain": [
              "int"
            ]
          },
          "metadata": {
            "tags": []
          },
          "execution_count": 2
        }
      ]
    },
    {
      "cell_type": "code",
      "metadata": {
        "colab": {
          "base_uri": "https://localhost:8080/"
        },
        "id": "ydot2j4mtRBj",
        "outputId": "e6191b1e-1ef5-4c97-95af-5cdfecdb9c3e"
      },
      "source": [
        "# float\n",
        "\n",
        "x = 6.23\n",
        "type(x)"
      ],
      "execution_count": 3,
      "outputs": [
        {
          "output_type": "execute_result",
          "data": {
            "text/plain": [
              "float"
            ]
          },
          "metadata": {
            "tags": []
          },
          "execution_count": 3
        }
      ]
    },
    {
      "cell_type": "code",
      "metadata": {
        "colab": {
          "base_uri": "https://localhost:8080/"
        },
        "id": "F-p7kkk-tWRD",
        "outputId": "f925aad9-ea64-421a-adef-2d939fba50f3"
      },
      "source": [
        "#boolean\n",
        "\n",
        "b1 = True\n",
        "b2 = False\n",
        "print(type(b1))\n",
        "print(type(b2))"
      ],
      "execution_count": 4,
      "outputs": [
        {
          "output_type": "stream",
          "text": [
            "<class 'bool'>\n",
            "<class 'bool'>\n"
          ],
          "name": "stdout"
        }
      ]
    },
    {
      "cell_type": "code",
      "metadata": {
        "colab": {
          "base_uri": "https://localhost:8080/",
          "height": 52
        },
        "id": "iVAdZ0uEtgH9",
        "outputId": "3f88b79a-fca8-40af-848d-12462339eb1a"
      },
      "source": [
        "# string\n",
        "name1 = '''karthik'''\n",
        "print(type(name1))\n",
        "name1"
      ],
      "execution_count": 5,
      "outputs": [
        {
          "output_type": "stream",
          "text": [
            "<class 'str'>\n"
          ],
          "name": "stdout"
        },
        {
          "output_type": "execute_result",
          "data": {
            "application/vnd.google.colaboratory.intrinsic+json": {
              "type": "string"
            },
            "text/plain": [
              "'karthik'"
            ]
          },
          "metadata": {
            "tags": []
          },
          "execution_count": 5
        }
      ]
    },
    {
      "cell_type": "code",
      "metadata": {
        "colab": {
          "base_uri": "https://localhost:8080/"
        },
        "id": "bvCGvm54tmFM",
        "outputId": "8eb20e99-2e0c-461e-d0aa-d3eacf42c335"
      },
      "source": [
        "# complex numbers: note the use of `j` to specify the imaginary part\n",
        "x = 1+2j\n",
        "print(type(x))\n",
        "print(x)"
      ],
      "execution_count": 6,
      "outputs": [
        {
          "output_type": "stream",
          "text": [
            "<class 'complex'>\n",
            "(1+2j)\n"
          ],
          "name": "stdout"
        }
      ]
    },
    {
      "cell_type": "code",
      "metadata": {
        "colab": {
          "base_uri": "https://localhost:8080/"
        },
        "id": "BHOt4KZAtpNK",
        "outputId": "3b1abd06-8c4f-4a9b-bd17-5fef25dcb695"
      },
      "source": [
        "#variables\n",
        "tenth = 10\n",
        "two = 2\n",
        "print(tenth)\n",
        "print(two)"
      ],
      "execution_count": 7,
      "outputs": [
        {
          "output_type": "stream",
          "text": [
            "10\n",
            "2\n"
          ],
          "name": "stdout"
        }
      ]
    },
    {
      "cell_type": "code",
      "metadata": {
        "colab": {
          "base_uri": "https://localhost:8080/"
        },
        "id": "xWrc9gOet1EX",
        "outputId": "d46fea2f-3550-4fe0-ba91-9b942915ca6a"
      },
      "source": [
        "a,b = 10,2\n",
        "\n",
        "print(a,'\\n',b)\n"
      ],
      "execution_count": 8,
      "outputs": [
        {
          "output_type": "stream",
          "text": [
            "10 \n",
            " 2\n"
          ],
          "name": "stdout"
        }
      ]
    },
    {
      "cell_type": "code",
      "metadata": {
        "colab": {
          "base_uri": "https://localhost:8080/",
          "height": 35
        },
        "id": "fgKvVxOgt9Ii",
        "outputId": "7dd8bcbd-9894-4007-d46c-746184a3f8a8"
      },
      "source": [
        "#dynamic typing\n",
        "\n",
        "ten='table'\n",
        "ten\n"
      ],
      "execution_count": 9,
      "outputs": [
        {
          "output_type": "execute_result",
          "data": {
            "application/vnd.google.colaboratory.intrinsic+json": {
              "type": "string"
            },
            "text/plain": [
              "'table'"
            ]
          },
          "metadata": {
            "tags": []
          },
          "execution_count": 9
        }
      ]
    },
    {
      "cell_type": "code",
      "metadata": {
        "colab": {
          "base_uri": "https://localhost:8080/",
          "height": 35
        },
        "id": "I55HfkMYuScM",
        "outputId": "3328eb27-54f0-4238-97e8-4c03edbc3623"
      },
      "source": [
        "'Day ' + str(12)"
      ],
      "execution_count": 10,
      "outputs": [
        {
          "output_type": "execute_result",
          "data": {
            "application/vnd.google.colaboratory.intrinsic+json": {
              "type": "string"
            },
            "text/plain": [
              "'Day 12'"
            ]
          },
          "metadata": {
            "tags": []
          },
          "execution_count": 10
        }
      ]
    },
    {
      "cell_type": "code",
      "metadata": {
        "colab": {
          "base_uri": "https://localhost:8080/",
          "height": 35
        },
        "id": "IsmF44PluXap",
        "outputId": "3e5fc36a-6456-439c-d7b7-ecb9c60adcbd"
      },
      "source": [
        "'Day ' +str(5)"
      ],
      "execution_count": 11,
      "outputs": [
        {
          "output_type": "execute_result",
          "data": {
            "application/vnd.google.colaboratory.intrinsic+json": {
              "type": "string"
            },
            "text/plain": [
              "'Day 5'"
            ]
          },
          "metadata": {
            "tags": []
          },
          "execution_count": 11
        }
      ]
    },
    {
      "cell_type": "code",
      "metadata": {
        "colab": {
          "base_uri": "https://localhost:8080/"
        },
        "id": "yzbYLA4iuZeZ",
        "outputId": "f45769fc-fe91-480a-e8da-e9baa7e3c661"
      },
      "source": [
        "True and True"
      ],
      "execution_count": 12,
      "outputs": [
        {
          "output_type": "execute_result",
          "data": {
            "text/plain": [
              "True"
            ]
          },
          "metadata": {
            "tags": []
          },
          "execution_count": 12
        }
      ]
    },
    {
      "cell_type": "code",
      "metadata": {
        "colab": {
          "base_uri": "https://localhost:8080/"
        },
        "id": "ugi9K-Thuote",
        "outputId": "bf944066-5bf3-40b8-8324-715df2655763"
      },
      "source": [
        "'c' is 'c'"
      ],
      "execution_count": 13,
      "outputs": [
        {
          "output_type": "execute_result",
          "data": {
            "text/plain": [
              "True"
            ]
          },
          "metadata": {
            "tags": []
          },
          "execution_count": 13
        }
      ]
    },
    {
      "cell_type": "code",
      "metadata": {
        "colab": {
          "base_uri": "https://localhost:8080/"
        },
        "id": "Kl3zbKORuiRR",
        "outputId": "4aa2c4a6-81e5-4fdd-ac4a-4fbffa508558"
      },
      "source": [
        "a is b"
      ],
      "execution_count": 14,
      "outputs": [
        {
          "output_type": "execute_result",
          "data": {
            "text/plain": [
              "False"
            ]
          },
          "metadata": {
            "tags": []
          },
          "execution_count": 14
        }
      ]
    },
    {
      "cell_type": "code",
      "metadata": {
        "colab": {
          "base_uri": "https://localhost:8080/"
        },
        "id": "bEaoQtbJujmp",
        "outputId": "5d14c34d-450d-42bd-eaaa-46317331d574"
      },
      "source": [
        "True or False"
      ],
      "execution_count": 15,
      "outputs": [
        {
          "output_type": "execute_result",
          "data": {
            "text/plain": [
              "True"
            ]
          },
          "metadata": {
            "tags": []
          },
          "execution_count": 15
        }
      ]
    },
    {
      "cell_type": "code",
      "metadata": {
        "colab": {
          "base_uri": "https://localhost:8080/"
        },
        "id": "ubSXRHTzu8oT",
        "outputId": "aa66d87f-14bf-466b-c428-48df9f52794a"
      },
      "source": [
        "not False"
      ],
      "execution_count": 16,
      "outputs": [
        {
          "output_type": "execute_result",
          "data": {
            "text/plain": [
              "True"
            ]
          },
          "metadata": {
            "tags": []
          },
          "execution_count": 16
        }
      ]
    },
    {
      "cell_type": "code",
      "metadata": {
        "colab": {
          "base_uri": "https://localhost:8080/"
        },
        "id": "UEWV4SKAu9jz",
        "outputId": "b4f3f12d-c6d0-40ce-a14d-8ae594c632f8"
      },
      "source": [
        "#list\n",
        "l=[]\n",
        "l"
      ],
      "execution_count": 17,
      "outputs": [
        {
          "output_type": "execute_result",
          "data": {
            "text/plain": [
              "[]"
            ]
          },
          "metadata": {
            "tags": []
          },
          "execution_count": 17
        }
      ]
    },
    {
      "cell_type": "code",
      "metadata": {
        "colab": {
          "base_uri": "https://localhost:8080/"
        },
        "id": "WPGjXUBWvOCO",
        "outputId": "8286b6b7-7781-46f2-baf3-ae5d1fd046ea"
      },
      "source": [
        "list()"
      ],
      "execution_count": 18,
      "outputs": [
        {
          "output_type": "execute_result",
          "data": {
            "text/plain": [
              "[]"
            ]
          },
          "metadata": {
            "tags": []
          },
          "execution_count": 18
        }
      ]
    },
    {
      "cell_type": "code",
      "metadata": {
        "colab": {
          "base_uri": "https://localhost:8080/"
        },
        "id": "FSTVC1h6vPkD",
        "outputId": "78c18c00-b581-4e4b-b5a0-1bccae64ed8b"
      },
      "source": [
        "l = ['c', 'b', 'e']\n",
        "print(l)\n",
        "type(l)"
      ],
      "execution_count": 19,
      "outputs": [
        {
          "output_type": "stream",
          "text": [
            "['c', 'b', 'e']\n"
          ],
          "name": "stdout"
        },
        {
          "output_type": "execute_result",
          "data": {
            "text/plain": [
              "list"
            ]
          },
          "metadata": {
            "tags": []
          },
          "execution_count": 19
        }
      ]
    },
    {
      "cell_type": "code",
      "metadata": {
        "colab": {
          "base_uri": "https://localhost:8080/"
        },
        "id": "WggglXKevbS0",
        "outputId": "eaad88d4-0a72-42b6-e5fd-ceca0e48d900"
      },
      "source": [
        "l2 = list(l)\n",
        "l2"
      ],
      "execution_count": 20,
      "outputs": [
        {
          "output_type": "execute_result",
          "data": {
            "text/plain": [
              "['c', 'b', 'e']"
            ]
          },
          "metadata": {
            "tags": []
          },
          "execution_count": 20
        }
      ]
    },
    {
      "cell_type": "code",
      "metadata": {
        "colab": {
          "base_uri": "https://localhost:8080/"
        },
        "id": "xnG7GZrIvWF5",
        "outputId": "1bf68d39-1cba-43c9-e925-63febf69aa31"
      },
      "source": [
        " list('defjd')"
      ],
      "execution_count": 21,
      "outputs": [
        {
          "output_type": "execute_result",
          "data": {
            "text/plain": [
              "['d', 'e', 'f', 'j', 'd']"
            ]
          },
          "metadata": {
            "tags": []
          },
          "execution_count": 21
        }
      ]
    },
    {
      "cell_type": "code",
      "metadata": {
        "colab": {
          "base_uri": "https://localhost:8080/"
        },
        "id": "XQ_xIRb_vCab",
        "outputId": "81806bbf-e61f-4027-aa9c-6756925dff42"
      },
      "source": [
        "l = [1,2,4,5]\n",
        "print(l)\n",
        "l.append('b')\n",
        "print(l)\n",
        "l.append('c')\n",
        "print(l)\n",
        "l.insert(4,56)\n",
        "l"
      ],
      "execution_count": 30,
      "outputs": [
        {
          "output_type": "stream",
          "text": [
            "[1, 2, 4, 5]\n",
            "[1, 2, 4, 5, 'b']\n",
            "[1, 2, 4, 5, 'b', 'c']\n"
          ],
          "name": "stdout"
        },
        {
          "output_type": "execute_result",
          "data": {
            "text/plain": [
              "[1, 2, 4, 5, 56, 'b', 'c']"
            ]
          },
          "metadata": {
            "tags": []
          },
          "execution_count": 30
        }
      ]
    },
    {
      "cell_type": "markdown",
      "metadata": {
        "id": "eJcjNU1Kvlkw"
      },
      "source": [
        "for loop"
      ]
    },
    {
      "cell_type": "code",
      "metadata": {
        "colab": {
          "base_uri": "https://localhost:8080/"
        },
        "id": "Bw9CMNb8vNA7",
        "outputId": "98d3fa0f-b60c-4ed9-fe08-85fcbdb5ea6b"
      },
      "source": [
        "for i in l:\n",
        "    print(i)"
      ],
      "execution_count": 31,
      "outputs": [
        {
          "output_type": "stream",
          "text": [
            "1\n",
            "2\n",
            "4\n",
            "5\n",
            "56\n",
            "b\n",
            "c\n"
          ],
          "name": "stdout"
        }
      ]
    },
    {
      "cell_type": "code",
      "metadata": {
        "colab": {
          "base_uri": "https://localhost:8080/"
        },
        "id": "Jk3zTgxSvkXM",
        "outputId": "95eb323f-5ec9-4218-fb7e-298a883fb432"
      },
      "source": [
        "# Program to find the sum of all numbers stored in a list\n",
        "\n",
        "\n",
        "numbers = [6,5,3,8,4,2,5,9]\n",
        "sum = 0\n",
        "for i in numbers:\n",
        "    sum = i + sum\n",
        "print(\"The sum is\", sum)\n",
        "sum\n"
      ],
      "execution_count": 34,
      "outputs": [
        {
          "output_type": "stream",
          "text": [
            "The sum is 42\n"
          ],
          "name": "stdout"
        },
        {
          "output_type": "execute_result",
          "data": {
            "text/plain": [
              "42"
            ]
          },
          "metadata": {
            "tags": []
          },
          "execution_count": 34
        }
      ]
    },
    {
      "cell_type": "code",
      "metadata": {
        "colab": {
          "base_uri": "https://localhost:8080/"
        },
        "id": "q-oNxhKLvycH",
        "outputId": "36bf0f1e-d146-46df-d9bf-7e5b94caa964"
      },
      "source": [
        "# Program to add natural\n",
        "\n",
        "\n",
        "n = int(input(\"Enter n: \"))\n",
        "sum = 0\n",
        "i = 1\n",
        "while i <= n:\n",
        "    sum = sum + i\n",
        "    i = i+1    \n",
        "print(\"The sum is\", sum)"
      ],
      "execution_count": 35,
      "outputs": [
        {
          "output_type": "stream",
          "text": [
            "Enter n: 5\n",
            "The sum is 15\n"
          ],
          "name": "stdout"
        }
      ]
    },
    {
      "cell_type": "code",
      "metadata": {
        "colab": {
          "base_uri": "https://localhost:8080/"
        },
        "id": "tALEu0o_wFyX",
        "outputId": "23d0baa6-dbe7-45bc-a389-6a5e8fa73bf1"
      },
      "source": [
        "print(range(10))\n"
      ],
      "execution_count": 36,
      "outputs": [
        {
          "output_type": "stream",
          "text": [
            "range(0, 10)\n"
          ],
          "name": "stdout"
        }
      ]
    },
    {
      "cell_type": "code",
      "metadata": {
        "colab": {
          "base_uri": "https://localhost:8080/"
        },
        "id": "ce4TnTB3wTAQ",
        "outputId": "db828d9e-833b-4938-b486-f17197f2467f"
      },
      "source": [
        "print(list(range(2,10)))\n"
      ],
      "execution_count": 39,
      "outputs": [
        {
          "output_type": "stream",
          "text": [
            "[2, 3, 4, 5, 6, 7, 8, 9]\n"
          ],
          "name": "stdout"
        }
      ]
    },
    {
      "cell_type": "code",
      "metadata": {
        "colab": {
          "base_uri": "https://localhost:8080/"
        },
        "id": "5JP_ElHrwVHC",
        "outputId": "78942164-e93b-45de-e97d-55f9113d7641"
      },
      "source": [
        "print(list(range(2,10,3)))\n"
      ],
      "execution_count": 40,
      "outputs": [
        {
          "output_type": "stream",
          "text": [
            "[2, 5, 8]\n"
          ],
          "name": "stdout"
        }
      ]
    },
    {
      "cell_type": "code",
      "metadata": {
        "colab": {
          "base_uri": "https://localhost:8080/"
        },
        "id": "5WjnUfkAwfyH",
        "outputId": "836af55e-98d0-4d63-ad66-9427c6911551"
      },
      "source": [
        "# Program to iterate through a list using indexing\n",
        "\n",
        "genre = ['pop', 'rock', 'jazz','sapna']\n",
        "for i in range(len(genre)):\n",
        "    print(\"I like\", genre[i])"
      ],
      "execution_count": 41,
      "outputs": [
        {
          "output_type": "stream",
          "text": [
            "I like pop\n",
            "I like rock\n",
            "I like jazz\n",
            "I like sapna\n"
          ],
          "name": "stdout"
        }
      ]
    },
    {
      "cell_type": "code",
      "metadata": {
        "colab": {
          "base_uri": "https://localhost:8080/"
        },
        "id": "ITBwYAAFwkiH",
        "outputId": "0f734264-3ace-4ddf-b0dd-4b735776fea5"
      },
      "source": [
        "# Use of break statement inside loop\n",
        "\n",
        "for val in \"HARSHITHA\":\n",
        "    if val == \"I\":\n",
        "        break\n",
        "    print(val)\n",
        "print(\"The end\")"
      ],
      "execution_count": 42,
      "outputs": [
        {
          "output_type": "stream",
          "text": [
            "H\n",
            "A\n",
            "R\n",
            "S\n",
            "H\n",
            "The end\n"
          ],
          "name": "stdout"
        }
      ]
    },
    {
      "cell_type": "code",
      "metadata": {
        "colab": {
          "base_uri": "https://localhost:8080/"
        },
        "id": "2y1n8CCtwsHy",
        "outputId": "dbd6ffbe-4aa8-4d23-cb9a-d5367b8c5899"
      },
      "source": [
        "# Use of continue statement inside loop\n",
        "\n",
        "for val in \"HARSHITHA\":\n",
        "    if val == \"I\":\n",
        "        continue\n",
        "    print(val)\n",
        "print(\"The end\")"
      ],
      "execution_count": 44,
      "outputs": [
        {
          "output_type": "stream",
          "text": [
            "H\n",
            "A\n",
            "R\n",
            "S\n",
            "H\n",
            "T\n",
            "H\n",
            "A\n",
            "The end\n"
          ],
          "name": "stdout"
        }
      ]
    },
    {
      "cell_type": "code",
      "metadata": {
        "colab": {
          "base_uri": "https://localhost:8080/"
        },
        "id": "2Pb7DVeiwxsd",
        "outputId": "e64a33a4-ba72-4671-f67c-62656eebcb80"
      },
      "source": [
        "name = input(\"What is your name?\\n \")\n",
        "type(name)"
      ],
      "execution_count": 45,
      "outputs": [
        {
          "output_type": "stream",
          "text": [
            "What is your name?\n",
            " karthik\n"
          ],
          "name": "stdout"
        },
        {
          "output_type": "execute_result",
          "data": {
            "text/plain": [
              "str"
            ]
          },
          "metadata": {
            "tags": []
          },
          "execution_count": 45
        }
      ]
    },
    {
      "cell_type": "code",
      "metadata": {
        "colab": {
          "base_uri": "https://localhost:8080/"
        },
        "id": "q7PtUUsTw3sn",
        "outputId": "2d1e9217-85ff-41a8-a5f2-8ee676fdcd86"
      },
      "source": [
        "name = input(\"What is your name? \")\n",
        "print (\" It was nice talking you \" + name + \"!\")\n",
        "age = input(\"Enter your age? \")\n",
        "print(\"Hey, you are already \" + age + \" years old, \" + name + \"!\")\n"
      ],
      "execution_count": 46,
      "outputs": [
        {
          "output_type": "stream",
          "text": [
            "What is your name? karthik\n",
            " It was nice talking you karthik!\n",
            "Enter your age? 23\n",
            "Hey, you are already 23 years old, karthik!\n"
          ],
          "name": "stdout"
        }
      ]
    },
    {
      "cell_type": "code",
      "metadata": {
        "id": "RoJN4vVYxTsi"
      },
      "source": [
        ""
      ],
      "execution_count": null,
      "outputs": []
    }
  ]
}