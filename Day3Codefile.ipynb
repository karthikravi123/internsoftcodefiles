{
  "nbformat": 4,
  "nbformat_minor": 0,
  "metadata": {
    "colab": {
      "name": "Day3Codefile.ipynb",
      "provenance": []
    },
    "kernelspec": {
      "name": "python3",
      "display_name": "Python 3"
    },
    "language_info": {
      "name": "python"
    }
  },
  "cells": [
    {
      "cell_type": "markdown",
      "metadata": {
        "id": "s5sY2uv6IGSt"
      },
      "source": [
        "tuples\n"
      ]
    },
    {
      "cell_type": "code",
      "metadata": {
        "colab": {
          "base_uri": "https://localhost:8080/"
        },
        "id": "8pEH9GWyGaqE",
        "outputId": "4eed8a3c-cfd0-4d79-8f9b-bed964285628"
      },
      "source": [
        "t=(1,2,3)\n",
        "t"
      ],
      "execution_count": 2,
      "outputs": [
        {
          "output_type": "execute_result",
          "data": {
            "text/plain": [
              "(1, 2, 3)"
            ]
          },
          "metadata": {
            "tags": []
          },
          "execution_count": 2
        }
      ]
    },
    {
      "cell_type": "code",
      "metadata": {
        "colab": {
          "base_uri": "https://localhost:8080/"
        },
        "id": "qXImLn8FIL6f",
        "outputId": "858b4d63-5ff4-4796-ed98-44fd84621ebd"
      },
      "source": [
        "len(t)"
      ],
      "execution_count": 3,
      "outputs": [
        {
          "output_type": "execute_result",
          "data": {
            "text/plain": [
              "3"
            ]
          },
          "metadata": {
            "tags": []
          },
          "execution_count": 3
        }
      ]
    },
    {
      "cell_type": "code",
      "metadata": {
        "colab": {
          "base_uri": "https://localhost:8080/"
        },
        "id": "uY0MHOWfIOiZ",
        "outputId": "8615aa17-4dbf-4614-feeb-66c5007ce9be"
      },
      "source": [
        "t=(\"one\",2,3)\n",
        "t"
      ],
      "execution_count": 4,
      "outputs": [
        {
          "output_type": "execute_result",
          "data": {
            "text/plain": [
              "('one', 2, 3)"
            ]
          },
          "metadata": {
            "tags": []
          },
          "execution_count": 4
        }
      ]
    },
    {
      "cell_type": "code",
      "metadata": {
        "colab": {
          "base_uri": "https://localhost:8080/",
          "height": 35
        },
        "id": "7iuKezgwIUao",
        "outputId": "24223569-e8b2-4352-ecfa-1ce58da48b9d"
      },
      "source": [
        "t[0]"
      ],
      "execution_count": 5,
      "outputs": [
        {
          "output_type": "execute_result",
          "data": {
            "application/vnd.google.colaboratory.intrinsic+json": {
              "type": "string"
            },
            "text/plain": [
              "'one'"
            ]
          },
          "metadata": {
            "tags": []
          },
          "execution_count": 5
        }
      ]
    },
    {
      "cell_type": "code",
      "metadata": {
        "colab": {
          "base_uri": "https://localhost:8080/"
        },
        "id": "MGTKeic4IX8Y",
        "outputId": "340f144a-c92b-438a-8ad8-dcdbe55002fe"
      },
      "source": [
        "t[-1]"
      ],
      "execution_count": 6,
      "outputs": [
        {
          "output_type": "execute_result",
          "data": {
            "text/plain": [
              "3"
            ]
          },
          "metadata": {
            "tags": []
          },
          "execution_count": 6
        }
      ]
    },
    {
      "cell_type": "code",
      "metadata": {
        "colab": {
          "base_uri": "https://localhost:8080/"
        },
        "id": "diq42J0SIZxE",
        "outputId": "098d55e9-a7a5-458a-c465-3701297e241d"
      },
      "source": [
        "t.index('one')"
      ],
      "execution_count": 7,
      "outputs": [
        {
          "output_type": "execute_result",
          "data": {
            "text/plain": [
              "0"
            ]
          },
          "metadata": {
            "tags": []
          },
          "execution_count": 7
        }
      ]
    },
    {
      "cell_type": "code",
      "metadata": {
        "colab": {
          "base_uri": "https://localhost:8080/"
        },
        "id": "ddvLnuobIkin",
        "outputId": "98362477-e281-4a34-ffc5-9dc4c23d7297"
      },
      "source": [
        "t.index(3)"
      ],
      "execution_count": 8,
      "outputs": [
        {
          "output_type": "execute_result",
          "data": {
            "text/plain": [
              "2"
            ]
          },
          "metadata": {
            "tags": []
          },
          "execution_count": 8
        }
      ]
    },
    {
      "cell_type": "code",
      "metadata": {
        "colab": {
          "base_uri": "https://localhost:8080/"
        },
        "id": "UXZ2x65kIoXO",
        "outputId": "d86f2953-0799-4b19-fae8-77e7e2b457a0"
      },
      "source": [
        "t.count(3)"
      ],
      "execution_count": 9,
      "outputs": [
        {
          "output_type": "execute_result",
          "data": {
            "text/plain": [
              "1"
            ]
          },
          "metadata": {
            "tags": []
          },
          "execution_count": 9
        }
      ]
    },
    {
      "cell_type": "code",
      "metadata": {
        "colab": {
          "base_uri": "https://localhost:8080/"
        },
        "id": "3S1ZSy4vIrBI",
        "outputId": "5c3df0ba-f820-4643-843f-4a190deda746"
      },
      "source": [
        "t.count(\"one\")"
      ],
      "execution_count": 10,
      "outputs": [
        {
          "output_type": "execute_result",
          "data": {
            "text/plain": [
              "1"
            ]
          },
          "metadata": {
            "tags": []
          },
          "execution_count": 10
        }
      ]
    },
    {
      "cell_type": "markdown",
      "metadata": {
        "id": "vCFGpaiUJHjm"
      },
      "source": [
        "sets"
      ]
    },
    {
      "cell_type": "code",
      "metadata": {
        "id": "lp5ABcvaItsC"
      },
      "source": [
        "x=set()"
      ],
      "execution_count": 11,
      "outputs": []
    },
    {
      "cell_type": "code",
      "metadata": {
        "id": "kJmpfdX3JJaA"
      },
      "source": [
        "x.add(1)"
      ],
      "execution_count": 12,
      "outputs": []
    },
    {
      "cell_type": "code",
      "metadata": {
        "colab": {
          "base_uri": "https://localhost:8080/"
        },
        "id": "fQcBujq7JPmK",
        "outputId": "1e34137f-5e13-495a-f83b-3b2f175a97be"
      },
      "source": [
        "x"
      ],
      "execution_count": 13,
      "outputs": [
        {
          "output_type": "execute_result",
          "data": {
            "text/plain": [
              "{1}"
            ]
          },
          "metadata": {
            "tags": []
          },
          "execution_count": 13
        }
      ]
    },
    {
      "cell_type": "code",
      "metadata": {
        "id": "Ue1pPnm4JQfQ"
      },
      "source": [
        "x.add(2)"
      ],
      "execution_count": 14,
      "outputs": []
    },
    {
      "cell_type": "code",
      "metadata": {
        "colab": {
          "base_uri": "https://localhost:8080/"
        },
        "id": "B0fWeXj5JYZb",
        "outputId": "f1f37014-0f9d-43df-871a-b8664f4deeaf"
      },
      "source": [
        "x"
      ],
      "execution_count": 15,
      "outputs": [
        {
          "output_type": "execute_result",
          "data": {
            "text/plain": [
              "{1, 2}"
            ]
          },
          "metadata": {
            "tags": []
          },
          "execution_count": 15
        }
      ]
    },
    {
      "cell_type": "code",
      "metadata": {
        "id": "zjAfsnhTJZfs"
      },
      "source": [
        "x.add(1)"
      ],
      "execution_count": 16,
      "outputs": []
    },
    {
      "cell_type": "code",
      "metadata": {
        "colab": {
          "base_uri": "https://localhost:8080/"
        },
        "id": "zlNWSmLsJbKQ",
        "outputId": "2f848d7f-0cf8-4765-e3ce-a5365af123c7"
      },
      "source": [
        "x"
      ],
      "execution_count": 17,
      "outputs": [
        {
          "output_type": "execute_result",
          "data": {
            "text/plain": [
              "{1, 2}"
            ]
          },
          "metadata": {
            "tags": []
          },
          "execution_count": 17
        }
      ]
    },
    {
      "cell_type": "code",
      "metadata": {
        "colab": {
          "base_uri": "https://localhost:8080/"
        },
        "id": "H6-_zaimJdZo",
        "outputId": "2b7a3091-12a2-43f4-8ab9-a9c2ba40c77e"
      },
      "source": [
        "l={1,1,1,2,2,2,3,3,4,4,5,6,7,8,8,6,1,2,9}\n",
        "l"
      ],
      "execution_count": 18,
      "outputs": [
        {
          "output_type": "execute_result",
          "data": {
            "text/plain": [
              "{1, 2, 3, 4, 5, 6, 7, 8, 9}"
            ]
          },
          "metadata": {
            "tags": []
          },
          "execution_count": 18
        }
      ]
    },
    {
      "cell_type": "markdown",
      "metadata": {
        "id": "vSIE5G4kKF-u"
      },
      "source": [
        "Dictionaries"
      ]
    },
    {
      "cell_type": "code",
      "metadata": {
        "colab": {
          "base_uri": "https://localhost:8080/"
        },
        "id": "3yFEHXLJJozn",
        "outputId": "5d181f4c-a97e-4d50-cc16-f6cd4319902e"
      },
      "source": [
        "my_dict={'key1':'value1','key2':'value2'}\n",
        "my_dict"
      ],
      "execution_count": 19,
      "outputs": [
        {
          "output_type": "execute_result",
          "data": {
            "text/plain": [
              "{'key1': 'value1', 'key2': 'value2'}"
            ]
          },
          "metadata": {
            "tags": []
          },
          "execution_count": 19
        }
      ]
    },
    {
      "cell_type": "code",
      "metadata": {
        "colab": {
          "base_uri": "https://localhost:8080/",
          "height": 35
        },
        "id": "9bu8ZaARKS5J",
        "outputId": "dc0c6a19-d16b-4363-f628-4e6dd626cb6d"
      },
      "source": [
        "my_dict['key2']"
      ],
      "execution_count": 20,
      "outputs": [
        {
          "output_type": "execute_result",
          "data": {
            "application/vnd.google.colaboratory.intrinsic+json": {
              "type": "string"
            },
            "text/plain": [
              "'value2'"
            ]
          },
          "metadata": {
            "tags": []
          },
          "execution_count": 20
        }
      ]
    },
    {
      "cell_type": "code",
      "metadata": {
        "id": "NYRT6E5iKWU9"
      },
      "source": [
        "my_dict={'key1':123,'key2':[12,22,34],'key3':['item1','item2',\"item3\"]}"
      ],
      "execution_count": 21,
      "outputs": []
    },
    {
      "cell_type": "code",
      "metadata": {
        "colab": {
          "base_uri": "https://localhost:8080/"
        },
        "id": "XvQt0jCENOKq",
        "outputId": "35e81fbe-02ea-4de7-cb75-3eff696fae06"
      },
      "source": [
        "my_dict['key3']"
      ],
      "execution_count": 22,
      "outputs": [
        {
          "output_type": "execute_result",
          "data": {
            "text/plain": [
              "['item1', 'item2', 'item3']"
            ]
          },
          "metadata": {
            "tags": []
          },
          "execution_count": 22
        }
      ]
    },
    {
      "cell_type": "code",
      "metadata": {
        "colab": {
          "base_uri": "https://localhost:8080/",
          "height": 35
        },
        "id": "Im7UUcetNSTd",
        "outputId": "b6bc45ed-fa2d-45a8-d3d8-23c7aca37ce6"
      },
      "source": [
        "my_dict['key3'][0]"
      ],
      "execution_count": 23,
      "outputs": [
        {
          "output_type": "execute_result",
          "data": {
            "application/vnd.google.colaboratory.intrinsic+json": {
              "type": "string"
            },
            "text/plain": [
              "'item1'"
            ]
          },
          "metadata": {
            "tags": []
          },
          "execution_count": 23
        }
      ]
    },
    {
      "cell_type": "code",
      "metadata": {
        "colab": {
          "base_uri": "https://localhost:8080/",
          "height": 35
        },
        "id": "i8sq8COANZ08",
        "outputId": "6a0f978d-c97f-4e86-cd3b-895cc79b1717"
      },
      "source": [
        "my_dict['key3'][2]"
      ],
      "execution_count": 24,
      "outputs": [
        {
          "output_type": "execute_result",
          "data": {
            "application/vnd.google.colaboratory.intrinsic+json": {
              "type": "string"
            },
            "text/plain": [
              "'item3'"
            ]
          },
          "metadata": {
            "tags": []
          },
          "execution_count": 24
        }
      ]
    },
    {
      "cell_type": "code",
      "metadata": {
        "colab": {
          "base_uri": "https://localhost:8080/",
          "height": 35
        },
        "id": "fCPFMoJQNdyP",
        "outputId": "310be34e-3261-4077-be23-58f860ba3077"
      },
      "source": [
        "my_dict['key3'][0].upper()"
      ],
      "execution_count": 25,
      "outputs": [
        {
          "output_type": "execute_result",
          "data": {
            "application/vnd.google.colaboratory.intrinsic+json": {
              "type": "string"
            },
            "text/plain": [
              "'ITEM1'"
            ]
          },
          "metadata": {
            "tags": []
          },
          "execution_count": 25
        }
      ]
    },
    {
      "cell_type": "code",
      "metadata": {
        "colab": {
          "base_uri": "https://localhost:8080/"
        },
        "id": "u-k0dvmkNtvg",
        "outputId": "6ed23ced-1c1d-474d-8959-fb15a29484f4"
      },
      "source": [
        "my_dict['key1']"
      ],
      "execution_count": 26,
      "outputs": [
        {
          "output_type": "execute_result",
          "data": {
            "text/plain": [
              "123"
            ]
          },
          "metadata": {
            "tags": []
          },
          "execution_count": 26
        }
      ]
    },
    {
      "cell_type": "code",
      "metadata": {
        "id": "gmKrYODON4L_"
      },
      "source": [
        "my_dict['key1']=my_dict['key1']-123"
      ],
      "execution_count": 27,
      "outputs": []
    },
    {
      "cell_type": "code",
      "metadata": {
        "colab": {
          "base_uri": "https://localhost:8080/"
        },
        "id": "UTqP5ualN-3A",
        "outputId": "4e66f111-3614-4e89-f551-f5dd6841e7d7"
      },
      "source": [
        "my_dict"
      ],
      "execution_count": 28,
      "outputs": [
        {
          "output_type": "execute_result",
          "data": {
            "text/plain": [
              "{'key1': 0, 'key2': [12, 22, 34], 'key3': ['item1', 'item2', 'item3']}"
            ]
          },
          "metadata": {
            "tags": []
          },
          "execution_count": 28
        }
      ]
    },
    {
      "cell_type": "code",
      "metadata": {
        "colab": {
          "base_uri": "https://localhost:8080/"
        },
        "id": "mK_gsEELOArS",
        "outputId": "ad5245f8-60a1-4fbc-eb21-8488bad24e9d"
      },
      "source": [
        "my_dict['key1']"
      ],
      "execution_count": 29,
      "outputs": [
        {
          "output_type": "execute_result",
          "data": {
            "text/plain": [
              "0"
            ]
          },
          "metadata": {
            "tags": []
          },
          "execution_count": 29
        }
      ]
    },
    {
      "cell_type": "code",
      "metadata": {
        "id": "FLFWJii5OFiY"
      },
      "source": [
        "my_dict['key1']=123"
      ],
      "execution_count": 30,
      "outputs": []
    },
    {
      "cell_type": "code",
      "metadata": {
        "colab": {
          "base_uri": "https://localhost:8080/"
        },
        "id": "R-eJuJr0OLUg",
        "outputId": "70ae09ac-a80d-472e-9189-fb00c74687c8"
      },
      "source": [
        "my_dict"
      ],
      "execution_count": 31,
      "outputs": [
        {
          "output_type": "execute_result",
          "data": {
            "text/plain": [
              "{'key1': 123, 'key2': [12, 22, 34], 'key3': ['item1', 'item2', 'item3']}"
            ]
          },
          "metadata": {
            "tags": []
          },
          "execution_count": 31
        }
      ]
    },
    {
      "cell_type": "code",
      "metadata": {
        "id": "onUo_obrOMes"
      },
      "source": [
        "my_dict['key1'] -=123"
      ],
      "execution_count": 32,
      "outputs": []
    },
    {
      "cell_type": "code",
      "metadata": {
        "colab": {
          "base_uri": "https://localhost:8080/"
        },
        "id": "T2NI3PdjORbP",
        "outputId": "04337769-972c-4cf2-bcc7-14d5d4b25033"
      },
      "source": [
        "my_dict"
      ],
      "execution_count": 33,
      "outputs": [
        {
          "output_type": "execute_result",
          "data": {
            "text/plain": [
              "{'key1': 0, 'key2': [12, 22, 34], 'key3': ['item1', 'item2', 'item3']}"
            ]
          },
          "metadata": {
            "tags": []
          },
          "execution_count": 33
        }
      ]
    },
    {
      "cell_type": "code",
      "metadata": {
        "id": "7N040ioNOS84"
      },
      "source": [
        "d={}"
      ],
      "execution_count": 34,
      "outputs": []
    },
    {
      "cell_type": "code",
      "metadata": {
        "id": "_fc-PAXIOXa2"
      },
      "source": [
        "d['animal']='dog'"
      ],
      "execution_count": 35,
      "outputs": []
    },
    {
      "cell_type": "code",
      "metadata": {
        "colab": {
          "base_uri": "https://localhost:8080/"
        },
        "id": "fgTFoBbyOcZ9",
        "outputId": "b34eed9d-a3c7-43b9-c7d2-47d4994c35b6"
      },
      "source": [
        "d"
      ],
      "execution_count": 36,
      "outputs": [
        {
          "output_type": "execute_result",
          "data": {
            "text/plain": [
              "{'animal': 'dog'}"
            ]
          },
          "metadata": {
            "tags": []
          },
          "execution_count": 36
        }
      ]
    },
    {
      "cell_type": "code",
      "metadata": {
        "id": "fivnSeOmOdFJ"
      },
      "source": [
        "d['answer']=50"
      ],
      "execution_count": 37,
      "outputs": []
    },
    {
      "cell_type": "code",
      "metadata": {
        "colab": {
          "base_uri": "https://localhost:8080/"
        },
        "id": "tA5BGHroOnWT",
        "outputId": "d35283ec-f856-47ec-f657-ac683bda8f07"
      },
      "source": [
        "d"
      ],
      "execution_count": 38,
      "outputs": [
        {
          "output_type": "execute_result",
          "data": {
            "text/plain": [
              "{'animal': 'dog', 'answer': 50}"
            ]
          },
          "metadata": {
            "tags": []
          },
          "execution_count": 38
        }
      ]
    },
    {
      "cell_type": "markdown",
      "metadata": {
        "id": "F7FHH0J0OsEH"
      },
      "source": [
        "Nesting with dictionaries"
      ]
    },
    {
      "cell_type": "code",
      "metadata": {
        "id": "U93QIkAXOnsW"
      },
      "source": [
        "d={'key1':{'nestkey':{'subnestkey':'value'}}}"
      ],
      "execution_count": 39,
      "outputs": []
    },
    {
      "cell_type": "code",
      "metadata": {
        "colab": {
          "base_uri": "https://localhost:8080/"
        },
        "id": "M2dlmrcvO6T-",
        "outputId": "72518f75-f524-41c7-ab55-84c60ef08658"
      },
      "source": [
        "d"
      ],
      "execution_count": 40,
      "outputs": [
        {
          "output_type": "execute_result",
          "data": {
            "text/plain": [
              "{'key1': {'nestkey': {'subnestkey': 'value'}}}"
            ]
          },
          "metadata": {
            "tags": []
          },
          "execution_count": 40
        }
      ]
    },
    {
      "cell_type": "code",
      "metadata": {
        "colab": {
          "base_uri": "https://localhost:8080/",
          "height": 35
        },
        "id": "4w3mFWrkO7KA",
        "outputId": "caa2bfa8-67d4-42c2-d6d4-894679b3cdcf"
      },
      "source": [
        "d['key1']['nestkey']['subnestkey']"
      ],
      "execution_count": 41,
      "outputs": [
        {
          "output_type": "execute_result",
          "data": {
            "application/vnd.google.colaboratory.intrinsic+json": {
              "type": "string"
            },
            "text/plain": [
              "'value'"
            ]
          },
          "metadata": {
            "tags": []
          },
          "execution_count": 41
        }
      ]
    },
    {
      "cell_type": "code",
      "metadata": {
        "colab": {
          "base_uri": "https://localhost:8080/"
        },
        "id": "sa7BNTFxPEmq",
        "outputId": "41b1c6dc-4202-41c9-96c6-c6e2b205ce01"
      },
      "source": [
        "d={'key1':1,'key2':2,\"key3\":3}\n",
        "d"
      ],
      "execution_count": 42,
      "outputs": [
        {
          "output_type": "execute_result",
          "data": {
            "text/plain": [
              "{'key1': 1, 'key2': 2, 'key3': 3}"
            ]
          },
          "metadata": {
            "tags": []
          },
          "execution_count": 42
        }
      ]
    },
    {
      "cell_type": "code",
      "metadata": {
        "colab": {
          "base_uri": "https://localhost:8080/"
        },
        "id": "N59eb_HkPUQ3",
        "outputId": "ef06448d-9d88-468b-be0d-77ec17ff93b9"
      },
      "source": [
        "d.keys()"
      ],
      "execution_count": 43,
      "outputs": [
        {
          "output_type": "execute_result",
          "data": {
            "text/plain": [
              "dict_keys(['key1', 'key2', 'key3'])"
            ]
          },
          "metadata": {
            "tags": []
          },
          "execution_count": 43
        }
      ]
    },
    {
      "cell_type": "code",
      "metadata": {
        "colab": {
          "base_uri": "https://localhost:8080/"
        },
        "id": "Ww0Vny6rPXC0",
        "outputId": "b3601ecb-d557-4012-9b0a-8f63e66b4ee3"
      },
      "source": [
        "d.values()"
      ],
      "execution_count": 44,
      "outputs": [
        {
          "output_type": "execute_result",
          "data": {
            "text/plain": [
              "dict_values([1, 2, 3])"
            ]
          },
          "metadata": {
            "tags": []
          },
          "execution_count": 44
        }
      ]
    },
    {
      "cell_type": "code",
      "metadata": {
        "colab": {
          "base_uri": "https://localhost:8080/"
        },
        "id": "eGLFbVWCPgYv",
        "outputId": "0428cf2e-1e11-40ca-f335-515f01f320cf"
      },
      "source": [
        "d.items()"
      ],
      "execution_count": 45,
      "outputs": [
        {
          "output_type": "execute_result",
          "data": {
            "text/plain": [
              "dict_items([('key1', 1), ('key2', 2), ('key3', 3)])"
            ]
          },
          "metadata": {
            "tags": []
          },
          "execution_count": 45
        }
      ]
    },
    {
      "cell_type": "code",
      "metadata": {
        "colab": {
          "base_uri": "https://localhost:8080/"
        },
        "id": "qdueUF2gPjJn",
        "outputId": "2bf8b146-daa7-4d86-8034-b7b448358a18"
      },
      "source": [
        "print(list(range(10)))"
      ],
      "execution_count": 46,
      "outputs": [
        {
          "output_type": "stream",
          "text": [
            "[0, 1, 2, 3, 4, 5, 6, 7, 8, 9]\n"
          ],
          "name": "stdout"
        }
      ]
    },
    {
      "cell_type": "code",
      "metadata": {
        "colab": {
          "base_uri": "https://localhost:8080/"
        },
        "id": "lCVt4SBnPu6U",
        "outputId": "b8bbde4e-792e-4d5d-c722-4d2b968785ae"
      },
      "source": [
        "{x:x*2 for x in range(10)}"
      ],
      "execution_count": 47,
      "outputs": [
        {
          "output_type": "execute_result",
          "data": {
            "text/plain": [
              "{0: 0, 1: 2, 2: 4, 3: 6, 4: 8, 5: 10, 6: 12, 7: 14, 8: 16, 9: 18}"
            ]
          },
          "metadata": {
            "tags": []
          },
          "execution_count": 47
        }
      ]
    },
    {
      "cell_type": "code",
      "metadata": {
        "id": "T9gagqFYP1p5"
      },
      "source": [
        "def say_hello():\n",
        "  print('hello')"
      ],
      "execution_count": 48,
      "outputs": []
    },
    {
      "cell_type": "code",
      "metadata": {
        "colab": {
          "base_uri": "https://localhost:8080/"
        },
        "id": "TP33BJaMTy3q",
        "outputId": "1a02102e-3146-4285-c078-58fbfffa2e57"
      },
      "source": [
        "say_hello()"
      ],
      "execution_count": 49,
      "outputs": [
        {
          "output_type": "stream",
          "text": [
            "hello\n"
          ],
          "name": "stdout"
        }
      ]
    },
    {
      "cell_type": "code",
      "metadata": {
        "colab": {
          "base_uri": "https://localhost:8080/"
        },
        "id": "DzGg22uhT1Yl",
        "outputId": "4fe11c93-55fe-46d1-a564-3a103ff7405f"
      },
      "source": [
        "def greeting(name):\n",
        "  print(\"hello %s\" %name)\n",
        "  print(\"how are you doing %s\"%name)\n",
        "\n",
        "greeting('karthik')"
      ],
      "execution_count": 50,
      "outputs": [
        {
          "output_type": "stream",
          "text": [
            "hello karthik\n",
            "how are you doing karthik\n"
          ],
          "name": "stdout"
        }
      ]
    },
    {
      "cell_type": "code",
      "metadata": {
        "colab": {
          "base_uri": "https://localhost:8080/"
        },
        "id": "hG4280vxULLr",
        "outputId": "b8ccfadf-d5c8-43e1-b81f-5932ae9af0b1"
      },
      "source": [
        "def add(n1,n2):\n",
        "  return n1+n2\n",
        "\n",
        "add(1,4)"
      ],
      "execution_count": 51,
      "outputs": [
        {
          "output_type": "execute_result",
          "data": {
            "text/plain": [
              "5"
            ]
          },
          "metadata": {
            "tags": []
          },
          "execution_count": 51
        }
      ]
    },
    {
      "cell_type": "code",
      "metadata": {
        "colab": {
          "base_uri": "https://localhost:8080/"
        },
        "id": "EeWKKHHuUZPY",
        "outputId": "c71d14e8-1ac0-4ca6-d8c7-8ddd748991c5"
      },
      "source": [
        "result=add(5,5)\n",
        "result"
      ],
      "execution_count": 52,
      "outputs": [
        {
          "output_type": "execute_result",
          "data": {
            "text/plain": [
              "10"
            ]
          },
          "metadata": {
            "tags": []
          },
          "execution_count": 52
        }
      ]
    },
    {
      "cell_type": "code",
      "metadata": {
        "colab": {
          "base_uri": "https://localhost:8080/"
        },
        "id": "81fMuaUrUhAb",
        "outputId": "a9f439c5-2a86-4e76-85f9-512ba768dd7b"
      },
      "source": [
        "print(add('one\\t','two'))"
      ],
      "execution_count": 53,
      "outputs": [
        {
          "output_type": "stream",
          "text": [
            "one\ttwo\n"
          ],
          "name": "stdout"
        }
      ]
    },
    {
      "cell_type": "markdown",
      "metadata": {
        "id": "RKut0TsgJSVd"
      },
      "source": [
        "#prime numbers\n",
        "\n"
      ]
    },
    {
      "cell_type": "code",
      "metadata": {
        "colab": {
          "base_uri": "https://localhost:8080/"
        },
        "id": "8MH6XbS6JZjv",
        "outputId": "fe6069e2-00b5-47a8-8dc4-95e7215f6625"
      },
      "source": [
        "n=int(input(\"enter the number\\n\"))\n",
        "for i in range(2,n):\n",
        "  if(n%i==0):\n",
        "    print(\"not prime\")\n",
        "    break\n",
        "else:\n",
        "  print(\"prime\")"
      ],
      "execution_count": 54,
      "outputs": [
        {
          "output_type": "stream",
          "text": [
            "enter the number\n",
            "5\n",
            "prime\n"
          ],
          "name": "stdout"
        }
      ]
    },
    {
      "cell_type": "code",
      "metadata": {
        "id": "siLe8iyUUxr2"
      },
      "source": [
        "def is_prime(num):\n",
        "    for n in range(2,num):\n",
        "        if num % n == 0:\n",
        "            print('not prime')\n",
        "            break\n",
        "    else:\n",
        "        print('prime')"
      ],
      "execution_count": 55,
      "outputs": []
    },
    {
      "cell_type": "code",
      "metadata": {
        "colab": {
          "base_uri": "https://localhost:8080/"
        },
        "id": "GRAtJiq7YdqX",
        "outputId": "30f4aa17-022c-4a8e-a458-195d0e128b04"
      },
      "source": [
        "is_prime(9)"
      ],
      "execution_count": 56,
      "outputs": [
        {
          "output_type": "stream",
          "text": [
            "not prime\n"
          ],
          "name": "stdout"
        }
      ]
    },
    {
      "cell_type": "code",
      "metadata": {
        "id": "DvXSsLvmdtYs",
        "colab": {
          "base_uri": "https://localhost:8080/"
        },
        "outputId": "f2caea0e-ef21-48a1-9dde-6cea328e1351"
      },
      "source": [
        "is_prime(11)"
      ],
      "execution_count": 57,
      "outputs": [
        {
          "output_type": "stream",
          "text": [
            "prime\n"
          ],
          "name": "stdout"
        }
      ]
    },
    {
      "cell_type": "code",
      "metadata": {
        "id": "h-us4bzSbcMw"
      },
      "source": [
        "import math\n",
        "\n",
        "def prime(n):\n",
        "  if n%2 ==0 and n>2:\n",
        "    return False\n",
        "  for i  in range(3,int(math.sqrt(n))+1,2):\n",
        "    if n%i==0:\n",
        "      return False\n",
        "  return True"
      ],
      "execution_count": 58,
      "outputs": []
    },
    {
      "cell_type": "code",
      "metadata": {
        "colab": {
          "base_uri": "https://localhost:8080/"
        },
        "id": "cv-kHCH2fh7b",
        "outputId": "9af5b520-81b5-45d1-cbdf-9f552a2f6573"
      },
      "source": [
        "prime(3)"
      ],
      "execution_count": 59,
      "outputs": [
        {
          "output_type": "execute_result",
          "data": {
            "text/plain": [
              "True"
            ]
          },
          "metadata": {
            "tags": []
          },
          "execution_count": 59
        }
      ]
    },
    {
      "cell_type": "code",
      "metadata": {
        "colab": {
          "base_uri": "https://localhost:8080/"
        },
        "id": "ck3solyOfos1",
        "outputId": "36df5fb1-0f8f-4165-9fb4-67874a1bd41a"
      },
      "source": [
        "prime(11)"
      ],
      "execution_count": 60,
      "outputs": [
        {
          "output_type": "execute_result",
          "data": {
            "text/plain": [
              "True"
            ]
          },
          "metadata": {
            "tags": []
          },
          "execution_count": 60
        }
      ]
    },
    {
      "cell_type": "code",
      "metadata": {
        "colab": {
          "base_uri": "https://localhost:8080/"
        },
        "id": "uRwsy6nvfqNZ",
        "outputId": "d95b4c7b-3cf3-4d48-de4f-5f2f632b1473"
      },
      "source": [
        "prime(9)"
      ],
      "execution_count": 61,
      "outputs": [
        {
          "output_type": "execute_result",
          "data": {
            "text/plain": [
              "False"
            ]
          },
          "metadata": {
            "tags": []
          },
          "execution_count": 61
        }
      ]
    },
    {
      "cell_type": "markdown",
      "metadata": {
        "id": "of4yETJChvqZ"
      },
      "source": [
        "iterators and generators"
      ]
    },
    {
      "cell_type": "code",
      "metadata": {
        "colab": {
          "base_uri": "https://localhost:8080/"
        },
        "id": "-3XNNbv4hvOb",
        "outputId": "39cd40b8-6c59-4f80-826b-ea0cccc976d4"
      },
      "source": [
        "def gencubes(n):\n",
        "    for num in range(n):\n",
        "        yield num**3\n",
        "      \n",
        "for x in gencubes(6):\n",
        "    print(x)"
      ],
      "execution_count": 62,
      "outputs": [
        {
          "output_type": "stream",
          "text": [
            "0\n",
            "1\n",
            "8\n",
            "27\n",
            "64\n",
            "125\n"
          ],
          "name": "stdout"
        }
      ]
    },
    {
      "cell_type": "code",
      "metadata": {
        "id": "K0irKQAUoubx",
        "colab": {
          "base_uri": "https://localhost:8080/"
        },
        "outputId": "6b12d13f-214a-4917-b37b-bed00716ab92"
      },
      "source": [
        "def genfib(n):\n",
        "  a=1\n",
        "  b=1\n",
        "  for i in range(n):\n",
        "    yield a\n",
        "    a,b=b,a+b\n",
        "\n",
        "for num in genfib(10):\n",
        "  print(num)"
      ],
      "execution_count": 63,
      "outputs": [
        {
          "output_type": "stream",
          "text": [
            "1\n",
            "1\n",
            "2\n",
            "3\n",
            "5\n",
            "8\n",
            "13\n",
            "21\n",
            "34\n",
            "55\n"
          ],
          "name": "stdout"
        }
      ]
    },
    {
      "cell_type": "code",
      "metadata": {
        "id": "hUNl5TULKdEK",
        "colab": {
          "base_uri": "https://localhost:8080/"
        },
        "outputId": "65057a50-6cfe-46ce-d943-61095130f9f2"
      },
      "source": [
        "def fib(n):\n",
        "  a=1\n",
        "  b=1\n",
        "  output=[]\n",
        "  for i in range(n):\n",
        "    output.append(a)\n",
        "    a,b=b,a+b\n",
        "  return output\n",
        "\n",
        "fib(11)\n",
        "  "
      ],
      "execution_count": 65,
      "outputs": [
        {
          "output_type": "execute_result",
          "data": {
            "text/plain": [
              "[1, 1, 2, 3, 5, 8, 13, 21, 34, 55, 89]"
            ]
          },
          "metadata": {
            "tags": []
          },
          "execution_count": 65
        }
      ]
    },
    {
      "cell_type": "markdown",
      "metadata": {
        "id": "cZogsI8Q_zH8"
      },
      "source": [
        "next and iter"
      ]
    },
    {
      "cell_type": "code",
      "metadata": {
        "colab": {
          "base_uri": "https://localhost:8080/"
        },
        "id": "CFZ5pV8-_iGE",
        "outputId": "e12608c0-8f5f-4ce8-b6ba-fa8ce57be7c2"
      },
      "source": [
        "print(list(range(2)))"
      ],
      "execution_count": 66,
      "outputs": [
        {
          "output_type": "stream",
          "text": [
            "[0, 1]\n"
          ],
          "name": "stdout"
        }
      ]
    },
    {
      "cell_type": "code",
      "metadata": {
        "id": "tI0CG3FMAcp_"
      },
      "source": [
        "def simple_gen():\n",
        "  for x in range(3):\n",
        "    yield x\n",
        "\n",
        "g=simple_gen()"
      ],
      "execution_count": 68,
      "outputs": []
    },
    {
      "cell_type": "code",
      "metadata": {
        "colab": {
          "base_uri": "https://localhost:8080/"
        },
        "id": "Tl9Z6zWFAxV-",
        "outputId": "98652eeb-5401-48ce-894d-e8ef42c86788"
      },
      "source": [
        "print(next(g))"
      ],
      "execution_count": 69,
      "outputs": [
        {
          "output_type": "stream",
          "text": [
            "0\n"
          ],
          "name": "stdout"
        }
      ]
    },
    {
      "cell_type": "code",
      "metadata": {
        "colab": {
          "base_uri": "https://localhost:8080/"
        },
        "id": "Psa9sCR5BBZo",
        "outputId": "c7dd1254-b3d4-471c-b20b-75ab8d116331"
      },
      "source": [
        "print(next(g))"
      ],
      "execution_count": 70,
      "outputs": [
        {
          "output_type": "stream",
          "text": [
            "1\n"
          ],
          "name": "stdout"
        }
      ]
    },
    {
      "cell_type": "code",
      "metadata": {
        "colab": {
          "base_uri": "https://localhost:8080/"
        },
        "id": "oueXQME5BCu7",
        "outputId": "7ff7e5ad-5ad7-44a8-ee21-dde707232fc3"
      },
      "source": [
        "print(next(g))"
      ],
      "execution_count": 71,
      "outputs": [
        {
          "output_type": "stream",
          "text": [
            "2\n"
          ],
          "name": "stdout"
        }
      ]
    },
    {
      "cell_type": "code",
      "metadata": {
        "colab": {
          "base_uri": "https://localhost:8080/"
        },
        "id": "kAasmScwBD06",
        "outputId": "f6bdf171-19e6-4661-ae18-5b58b1a58288"
      },
      "source": [
        "s='hello'\n",
        "for i in s:\n",
        "  print(i)"
      ],
      "execution_count": 73,
      "outputs": [
        {
          "output_type": "stream",
          "text": [
            "h\n",
            "e\n",
            "l\n",
            "l\n",
            "o\n"
          ],
          "name": "stdout"
        }
      ]
    },
    {
      "cell_type": "code",
      "metadata": {
        "id": "cPptvgkSBO7Y"
      },
      "source": [
        "s_iter=iter(s)"
      ],
      "execution_count": 75,
      "outputs": []
    },
    {
      "cell_type": "code",
      "metadata": {
        "colab": {
          "base_uri": "https://localhost:8080/",
          "height": 35
        },
        "id": "SmzCdFkOBVaT",
        "outputId": "920edac3-83a1-4ff4-93a9-4139d5b60c0c"
      },
      "source": [
        "next(s_iter)"
      ],
      "execution_count": 76,
      "outputs": [
        {
          "output_type": "execute_result",
          "data": {
            "application/vnd.google.colaboratory.intrinsic+json": {
              "type": "string"
            },
            "text/plain": [
              "'h'"
            ]
          },
          "metadata": {
            "tags": []
          },
          "execution_count": 76
        }
      ]
    },
    {
      "cell_type": "code",
      "metadata": {
        "colab": {
          "base_uri": "https://localhost:8080/",
          "height": 35
        },
        "id": "D9x9qUtnBgNS",
        "outputId": "067b5f75-4ced-438d-eb1f-152c87d29910"
      },
      "source": [
        "next(s_iter)"
      ],
      "execution_count": 77,
      "outputs": [
        {
          "output_type": "execute_result",
          "data": {
            "application/vnd.google.colaboratory.intrinsic+json": {
              "type": "string"
            },
            "text/plain": [
              "'e'"
            ]
          },
          "metadata": {
            "tags": []
          },
          "execution_count": 77
        }
      ]
    },
    {
      "cell_type": "code",
      "metadata": {
        "colab": {
          "base_uri": "https://localhost:8080/",
          "height": 35
        },
        "id": "Dm6yoiopBjxD",
        "outputId": "f233876f-3383-480f-ff4b-5fb52d087ae9"
      },
      "source": [
        "next(s_iter)"
      ],
      "execution_count": 78,
      "outputs": [
        {
          "output_type": "execute_result",
          "data": {
            "application/vnd.google.colaboratory.intrinsic+json": {
              "type": "string"
            },
            "text/plain": [
              "'l'"
            ]
          },
          "metadata": {
            "tags": []
          },
          "execution_count": 78
        }
      ]
    },
    {
      "cell_type": "markdown",
      "metadata": {
        "id": "mNMK-kpFBq27"
      },
      "source": [
        "map"
      ]
    },
    {
      "cell_type": "code",
      "metadata": {
        "id": "A1K5P2RnBlW0"
      },
      "source": [
        "def fahrenheit(T):\n",
        "  return ((float(9)/5)*T+32)\n",
        "def celsius(T):\n",
        "  return ((float(5)/9)*T-32)\n"
      ],
      "execution_count": 80,
      "outputs": []
    },
    {
      "cell_type": "code",
      "metadata": {
        "id": "DFcuO7YRB9tP"
      },
      "source": [
        "temp = [0, 22.5, 40,100]"
      ],
      "execution_count": 81,
      "outputs": []
    },
    {
      "cell_type": "code",
      "metadata": {
        "colab": {
          "base_uri": "https://localhost:8080/"
        },
        "id": "W5Ee-6DGD-cB",
        "outputId": "cb0ef83b-5035-4fdf-cefc-2105410aed92"
      },
      "source": [
        "F_temps = list(map(fahrenheit, temp))\n",
        "F_temps"
      ],
      "execution_count": 82,
      "outputs": [
        {
          "output_type": "execute_result",
          "data": {
            "text/plain": [
              "[32.0, 72.5, 104.0, 212.0]"
            ]
          },
          "metadata": {
            "tags": []
          },
          "execution_count": 82
        }
      ]
    },
    {
      "cell_type": "code",
      "metadata": {
        "colab": {
          "base_uri": "https://localhost:8080/"
        },
        "id": "C1EUhx6wEDVe",
        "outputId": "87f35a8e-3df0-445a-d61e-1341eeb72dd8"
      },
      "source": [
        "list(map(celsius, F_temps))"
      ],
      "execution_count": 83,
      "outputs": [
        {
          "output_type": "execute_result",
          "data": {
            "text/plain": [
              "[-14.222222222222221, 8.277777777777779, 25.77777777777778, 85.77777777777779]"
            ]
          },
          "metadata": {
            "tags": []
          },
          "execution_count": 83
        }
      ]
    },
    {
      "cell_type": "code",
      "metadata": {
        "colab": {
          "base_uri": "https://localhost:8080/"
        },
        "id": "m5hTXhmCEE8g",
        "outputId": "60416f71-2165-4235-9816-6f09aa3a64d1"
      },
      "source": [
        "list(map(lambda x: (5.0/9)*(x - 32), F_temps))"
      ],
      "execution_count": 84,
      "outputs": [
        {
          "output_type": "execute_result",
          "data": {
            "text/plain": [
              "[0.0, 22.5, 40.0, 100.0]"
            ]
          },
          "metadata": {
            "tags": []
          },
          "execution_count": 84
        }
      ]
    },
    {
      "cell_type": "code",
      "metadata": {
        "colab": {
          "base_uri": "https://localhost:8080/"
        },
        "id": "xIPl2UbYEHWf",
        "outputId": "8a31840c-6a02-46b1-fabe-9de50ff571a3"
      },
      "source": [
        "a = [1,2,3,4]\n",
        "b = [5,6,7,8]\n",
        "c = [9,10,11,12]\n",
        "\n",
        "list(map(lambda x,y:x+y, a,b))"
      ],
      "execution_count": 85,
      "outputs": [
        {
          "output_type": "execute_result",
          "data": {
            "text/plain": [
              "[6, 8, 10, 12]"
            ]
          },
          "metadata": {
            "tags": []
          },
          "execution_count": 85
        }
      ]
    },
    {
      "cell_type": "code",
      "metadata": {
        "colab": {
          "base_uri": "https://localhost:8080/"
        },
        "id": "Lg6Kl8KSEJ8k",
        "outputId": "7dadd6ef-91de-4c27-85b7-541d0f03e898"
      },
      "source": [
        "list(map(lambda x,y,z:x+y+z, a,b,c))"
      ],
      "execution_count": 86,
      "outputs": [
        {
          "output_type": "execute_result",
          "data": {
            "text/plain": [
              "[15, 18, 21, 24]"
            ]
          },
          "metadata": {
            "tags": []
          },
          "execution_count": 86
        }
      ]
    },
    {
      "cell_type": "code",
      "metadata": {
        "colab": {
          "base_uri": "https://localhost:8080/"
        },
        "id": "sRI_gP9nELkD",
        "outputId": "7956b701-0df2-4a83-d584-3377df3ee473"
      },
      "source": [
        "from functools import reduce\n",
        "lst =[47,11,42,13]\n",
        "reduce(lambda x,y: x+y,lst)"
      ],
      "execution_count": 87,
      "outputs": [
        {
          "output_type": "execute_result",
          "data": {
            "text/plain": [
              "113"
            ]
          },
          "metadata": {
            "tags": []
          },
          "execution_count": 87
        }
      ]
    },
    {
      "cell_type": "code",
      "metadata": {
        "colab": {
          "base_uri": "https://localhost:8080/",
          "height": 223
        },
        "id": "hgQA-S73EVCs",
        "outputId": "2da68f69-6814-4639-fd46-12e5080abc79"
      },
      "source": [
        "from IPython.display import Image\n",
        "Image('http://www.python-course.eu/images/reduce_diagram.png')"
      ],
      "execution_count": 88,
      "outputs": [
        {
          "output_type": "execute_result",
          "data": {
            "image/png": "[encoded data removed]",
            "text/plain": [
              "<IPython.core.display.Image object>"
            ]
          },
          "metadata": {
            "tags": []
          },
          "execution_count": 88
        }
      ]
    },
    {
      "cell_type": "code",
      "metadata": {
        "id": "eduJFDUNEWwd"
      },
      "source": [
        "max_find = lambda a,b: a if (a > b) else b"
      ],
      "execution_count": 90,
      "outputs": []
    },
    {
      "cell_type": "code",
      "metadata": {
        "colab": {
          "base_uri": "https://localhost:8080/"
        },
        "id": "Qqq8p5PFEYzw",
        "outputId": "343ef18e-49c3-403c-e890-5acf1ab48f9e"
      },
      "source": [
        "print(lst)\n",
        "reduce(lambda a,b: a if (a > b) else b,lst)"
      ],
      "execution_count": 91,
      "outputs": [
        {
          "output_type": "stream",
          "text": [
            "[47, 11, 42, 13]\n"
          ],
          "name": "stdout"
        },
        {
          "output_type": "execute_result",
          "data": {
            "text/plain": [
              "47"
            ]
          },
          "metadata": {
            "tags": []
          },
          "execution_count": 91
        }
      ]
    },
    {
      "cell_type": "code",
      "metadata": {
        "id": "f4qBfiZ8Ec0s"
      },
      "source": [
        "def even_check(num):\n",
        "    if num%2 ==0:\n",
        "        return True"
      ],
      "execution_count": 92,
      "outputs": []
    },
    {
      "cell_type": "code",
      "metadata": {
        "colab": {
          "base_uri": "https://localhost:8080/"
        },
        "id": "I76giHQPEiKU",
        "outputId": "9bacea4e-c735-4789-ecdd-a0ac04c98c36"
      },
      "source": [
        "lst =range(20)\n",
        "print(list(lst))\n",
        "\n",
        "list(filter(even_check,lst))"
      ],
      "execution_count": 93,
      "outputs": [
        {
          "output_type": "stream",
          "text": [
            "[0, 1, 2, 3, 4, 5, 6, 7, 8, 9, 10, 11, 12, 13, 14, 15, 16, 17, 18, 19]\n"
          ],
          "name": "stdout"
        },
        {
          "output_type": "execute_result",
          "data": {
            "text/plain": [
              "[0, 2, 4, 6, 8, 10, 12, 14, 16, 18]"
            ]
          },
          "metadata": {
            "tags": []
          },
          "execution_count": 93
        }
      ]
    },
    {
      "cell_type": "code",
      "metadata": {
        "colab": {
          "base_uri": "https://localhost:8080/"
        },
        "id": "1I8KFKtCEkaI",
        "outputId": "c74a6769-f378-4ebf-f59b-423a68b0a3af"
      },
      "source": [
        "list(filter(lambda x: x%2==0,lst))"
      ],
      "execution_count": 94,
      "outputs": [
        {
          "output_type": "execute_result",
          "data": {
            "text/plain": [
              "[0, 2, 4, 6, 8, 10, 12, 14, 16, 18]"
            ]
          },
          "metadata": {
            "tags": []
          },
          "execution_count": 94
        }
      ]
    },
    {
      "cell_type": "code",
      "metadata": {
        "id": "8JXKRFCsEmrq"
      },
      "source": [
        ""
      ],
      "execution_count": null,
      "outputs": []
    }
  ]
}